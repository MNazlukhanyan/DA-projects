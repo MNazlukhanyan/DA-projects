{
 "cells": [
  {
   "cell_type": "markdown",
   "id": "c4093976-5314-48b0-84e9-bf959f3b9366",
   "metadata": {},
   "source": [
    "# Анализ сервиса аренды самокатов "
   ]
  },
  {
   "cell_type": "markdown",
   "id": "633e3e88-64b0-4369-8fa1-8994a85b0e39",
   "metadata": {},
   "source": [
    "# Общая информация о проектной работе"
   ]
  },
  {
   "cell_type": "markdown",
   "id": "8edd8046-2a8d-4f7d-8bfe-2fce91339879",
   "metadata": {},
   "source": [
    "Мы анализируем популярный сервис аренды самокатов **GoFast**. Имеются данные о некоторых пользователях из нескольких городов, а также об их поездках. Проанализируем данные и проверим  гипотезы, которые могут помочь бизнесу вырасти.\n",
    "\n",
    "Чтобы совершать поездки по городу, пользователи сервиса **GoFast** пользуются мобильным приложением. Сервисом можно пользоваться:\n",
    "\n",
    "- без подписки\n",
    "  - абонентская плата отсутствует;\n",
    "  - стоимость одной минуты поездки — **8** рублей;\n",
    "  - стоимость старта (начала поездки) — **50** рублей;\n",
    "- с подпиской **Ultra**\n",
    "  - абонентская плата — **199** рублей в месяц;\n",
    "  - стоимость одной минуты поездки — **6** рублей;\n",
    "  - стоимость старта — бесплатно."
   ]
  },
  {
   "cell_type": "markdown",
   "id": "d5db34b3-1ba0-4f4a-b638-0445f12fa32f",
   "metadata": {
    "jp-MarkdownHeadingCollapsed": true
   },
   "source": [
    "**Шаг 1. Загрузка данных**\n",
    "\n",
    "1.1 Загружаем CSV-файлы с данными с помощью библиотеки pandas и сохраняем их в датафреймы. Пути к файлам:\n",
    "\n",
    "/datasets/users_go.csv\n",
    "/datasets/rides_go.csv\n",
    "/datasets/subscriptions_go.csv\n",
    "1.2 Выводим первые строки каждого набора данных и изучаем общую информацию о каждом датафрейме.\n",
    "\n",
    "**Шаг 2. Предобработка данных**\n",
    "\n",
    "2.1 Приводим столбец date к типу даты в pandas.\n",
    "\n",
    "2.2 Добавляем новый столбец с номером месяца на основе столбца date.\n",
    "\n",
    "2.3 Проверяем датафреймы на наличие пропущенных значений и дубликатов и обрабатываем их при необходимости.\n",
    "\n",
    "**Шаг 3. Исследовательский анализ данных**\n",
    "\n",
    "Описываем и визуализируем информацию о пользователях и поездках:\n",
    "\n",
    "3.1 Частота встречаемости городов.\n",
    "\n",
    "3.2 Соотношение пользователей с подпиской и без подписки.\n",
    "\n",
    "3.3 Возраст пользователей.\n",
    "\n",
    "3.4 Расстояние, которое пользователи преодолевают за одну поездку.\n",
    "\n",
    "3.5 Продолжительность поездок.\n",
    "\n",
    "**Шаг 4. Объединение данных**\n",
    "\n",
    "4.1 Объединяем данные о пользователях, поездках и подписках в один датафрейм с помощью метода merge().\n",
    "\n",
    "4.2 Создаем два новых датафрейма из объединенного датафрейма:\n",
    "\n",
    "данные о пользователях без подписки;\n",
    "данные о пользователях с подпиской.\n",
    "4.3 Визуализируем информацию о расстоянии и времени поездок для пользователей обеих категорий.\n",
    "\n",
    "**Шаг 5. Подсчёт выручки**\n",
    "\n",
    "5.1 Создаем датафрейм с агрегированными данными о поездках, подсчитывая суммарное расстояние, количество поездок и суммарное время для каждого пользователя по месяцам.\n",
    "\n",
    "5.2 Добавляем в этот датафрейм столбец с помесячной выручкой от каждого пользователя, используя информацию об условиях оплаты для подписчиков и пользователей без подписки. Округляем продолжительность каждой поездки до следующего целого числа для расчета стоимости (например, 25.3, 25.5 и 26.0 округляем до 26).\n",
    "\n",
    "**Шаг 6. Проверка гипотез**\n",
    "\n",
    "Продакт-менеджеры хотят увеличить количество пользователей с подпиской. Для этого нужно исследовать следующие моменты:\n",
    "\n",
    "6.1 Тратят ли пользователи с подпиской больше времени на поездки? Проверим эту гипотезу, используя данные о продолжительности каждой сессии для подписчиков и пользователей без подписки.\n",
    "\n",
    "6.2 Является ли среднее расстояние, которое проезжают пользователи с подпиской за одну поездку, менее 3130 метров? Проверим эту гипотезу и сделаем выводы.\n",
    "\n",
    "6.3 Сравним помесячную выручку от пользователей с подпиской и без подписки, чтобы выяснить, выше ли доход от подписчиков.\n",
    "\n",
    "6.4 Представим, что после обновления серверов компании количество обращений в техподдержку снизилось. Определим, какой тест нужен для проверки этой гипотезы.\n",
    "\n",
    "**Шаг 7 (необязательное задание). Распределения**\n",
    "\n",
    "7.1 Определим минимальное количество промокодов для рассылки, чтобы с вероятностью 5% или ниже достичь цели в 100 продленных подписок после пробного периода (при условии, что 10% пользователей продлевают подписку). Подберем параметры распределения, построим график и ответим на вопрос о количестве промокодов.\n",
    "\n",
    "7.2 Отдел маркетинга планирует рассылку 1 млн push-уведомлений, из которых открывают около 40%. Построим график распределения с помощью аппроксимации и оценим вероятность того, что уведомление откроют не более 399,5 тыс. пользователей.\n",
    "\n"
   ]
  },
  {
   "cell_type": "code",
   "execution_count": 1,
   "id": "d1075b19-68b4-40b4-ad65-29de91a1aef8",
   "metadata": {},
   "outputs": [],
   "source": [
    "# Загрузка библиотек\n",
    "import pandas as pd\n",
    "import matplotlib.pyplot as plt\n",
    "import seaborn as sns\n",
    "import numpy as np\n",
    "import math\n",
    "from scipy import stats as st\n",
    "from scipy.stats import binom, poisson, norm"
   ]
  },
  {
   "cell_type": "markdown",
   "id": "c2d47215-075f-4442-a266-da4d6ea2f5db",
   "metadata": {},
   "source": [
    "# 1. Загрузка данных"
   ]
  },
  {
   "cell_type": "code",
   "execution_count": 2,
   "id": "df36315c-9554-42d4-a9c1-28d48290a757",
   "metadata": {},
   "outputs": [],
   "source": [
    "# Загрузка датасет\n",
    "try:\n",
    "    users_go = pd.read_csv('/datasets/users_go.csv') \n",
    "    rides_go = pd.read_csv('/datasets/rides_go.csv') \n",
    "    subscriptions_go = pd.read_csv('/datasets/subscriptions_go.csv') \n",
    "except:\n",
    "    users_go = pd.read_csv('datasets/users_go.csv') \n",
    "    rides_go = pd.read_csv('datasets/rides_go.csv') \n",
    "    subscriptions_go = pd.read_csv('datasets/subscriptions_go.csv') "
   ]
  },
  {
   "cell_type": "code",
   "execution_count": 3,
   "id": "cd53ddb7-943f-4a4b-95a9-fac1b93e0a22",
   "metadata": {},
   "outputs": [],
   "source": [
    "# Функция выдачи информации о датаседе\n",
    "def dataset_information(dataset):\n",
    "    print()\n",
    "    print(dataset.info())\n",
    "    print()\n",
    "    display(dataset.hist(color='orange',edgecolor='Black',alpha=0.7));\n",
    "    print()\n",
    "    display(dataset.head(10))\n",
    "    print()\n",
    "    display(dataset.describe())\n",
    "    print('\\033[1m' + 'Проверка датафрейма на наличие явных дубликатов. Их количество:' + '\\033[0m')\n",
    "    display(dataset.duplicated().sum())\n",
    "    print()\n",
    "    print('\\033[1m' + 'Доля пропущенных значений среди всех данных:' + '\\033[0m')\n",
    "    display(dataset.isna().mean())\n",
    "    print()\n",
    "    print('\\033[1m' + 'Проверка датафрейма на наличие  null. Результат в виде True/False:' + '\\033[0m')\n",
    "    display(dataset.isnull().values.any())\n",
    "    "
   ]
  },
  {
   "cell_type": "markdown",
   "id": "4fd08c94-7f21-4a18-9192-e16cbb4a9bb4",
   "metadata": {},
   "source": [
    "## Датафрейм 'Пользователи' (users_go)"
   ]
  },
  {
   "cell_type": "code",
   "execution_count": 4,
   "id": "627e35c9-e977-4053-b454-5cc5eb131e86",
   "metadata": {},
   "outputs": [
    {
     "name": "stdout",
     "output_type": "stream",
     "text": [
      "\n",
      "<class 'pandas.core.frame.DataFrame'>\n",
      "RangeIndex: 1565 entries, 0 to 1564\n",
      "Data columns (total 5 columns):\n",
      " #   Column             Non-Null Count  Dtype \n",
      "---  ------             --------------  ----- \n",
      " 0   user_id            1565 non-null   int64 \n",
      " 1   name               1565 non-null   object\n",
      " 2   age                1565 non-null   int64 \n",
      " 3   city               1565 non-null   object\n",
      " 4   subscription_type  1565 non-null   object\n",
      "dtypes: int64(2), object(3)\n",
      "memory usage: 61.3+ KB\n",
      "None\n",
      "\n"
     ]
    },
    {
     "data": {
      "text/plain": [
       "array([[<AxesSubplot:title={'center':'user_id'}>,\n",
       "        <AxesSubplot:title={'center':'age'}>]], dtype=object)"
      ]
     },
     "metadata": {},
     "output_type": "display_data"
    },
    {
     "name": "stdout",
     "output_type": "stream",
     "text": [
      "\n"
     ]
    },
    {
     "data": {
      "text/html": [
       "<div>\n",
       "<style scoped>\n",
       "    .dataframe tbody tr th:only-of-type {\n",
       "        vertical-align: middle;\n",
       "    }\n",
       "\n",
       "    .dataframe tbody tr th {\n",
       "        vertical-align: top;\n",
       "    }\n",
       "\n",
       "    .dataframe thead th {\n",
       "        text-align: right;\n",
       "    }\n",
       "</style>\n",
       "<table border=\"1\" class=\"dataframe\">\n",
       "  <thead>\n",
       "    <tr style=\"text-align: right;\">\n",
       "      <th></th>\n",
       "      <th>user_id</th>\n",
       "      <th>name</th>\n",
       "      <th>age</th>\n",
       "      <th>city</th>\n",
       "      <th>subscription_type</th>\n",
       "    </tr>\n",
       "  </thead>\n",
       "  <tbody>\n",
       "    <tr>\n",
       "      <th>0</th>\n",
       "      <td>1</td>\n",
       "      <td>Кира</td>\n",
       "      <td>22</td>\n",
       "      <td>Тюмень</td>\n",
       "      <td>ultra</td>\n",
       "    </tr>\n",
       "    <tr>\n",
       "      <th>1</th>\n",
       "      <td>2</td>\n",
       "      <td>Станислав</td>\n",
       "      <td>31</td>\n",
       "      <td>Омск</td>\n",
       "      <td>ultra</td>\n",
       "    </tr>\n",
       "    <tr>\n",
       "      <th>2</th>\n",
       "      <td>3</td>\n",
       "      <td>Алексей</td>\n",
       "      <td>20</td>\n",
       "      <td>Москва</td>\n",
       "      <td>ultra</td>\n",
       "    </tr>\n",
       "    <tr>\n",
       "      <th>3</th>\n",
       "      <td>4</td>\n",
       "      <td>Константин</td>\n",
       "      <td>26</td>\n",
       "      <td>Ростов-на-Дону</td>\n",
       "      <td>ultra</td>\n",
       "    </tr>\n",
       "    <tr>\n",
       "      <th>4</th>\n",
       "      <td>5</td>\n",
       "      <td>Адель</td>\n",
       "      <td>28</td>\n",
       "      <td>Омск</td>\n",
       "      <td>ultra</td>\n",
       "    </tr>\n",
       "    <tr>\n",
       "      <th>5</th>\n",
       "      <td>6</td>\n",
       "      <td>Регина</td>\n",
       "      <td>25</td>\n",
       "      <td>Краснодар</td>\n",
       "      <td>ultra</td>\n",
       "    </tr>\n",
       "    <tr>\n",
       "      <th>6</th>\n",
       "      <td>7</td>\n",
       "      <td>Игорь</td>\n",
       "      <td>23</td>\n",
       "      <td>Омск</td>\n",
       "      <td>ultra</td>\n",
       "    </tr>\n",
       "    <tr>\n",
       "      <th>7</th>\n",
       "      <td>8</td>\n",
       "      <td>Юрий</td>\n",
       "      <td>23</td>\n",
       "      <td>Краснодар</td>\n",
       "      <td>ultra</td>\n",
       "    </tr>\n",
       "    <tr>\n",
       "      <th>8</th>\n",
       "      <td>9</td>\n",
       "      <td>Ян</td>\n",
       "      <td>21</td>\n",
       "      <td>Пятигорск</td>\n",
       "      <td>ultra</td>\n",
       "    </tr>\n",
       "    <tr>\n",
       "      <th>9</th>\n",
       "      <td>10</td>\n",
       "      <td>Валерий</td>\n",
       "      <td>18</td>\n",
       "      <td>Екатеринбург</td>\n",
       "      <td>ultra</td>\n",
       "    </tr>\n",
       "  </tbody>\n",
       "</table>\n",
       "</div>"
      ],
      "text/plain": [
       "   user_id        name  age            city subscription_type\n",
       "0        1        Кира   22          Тюмень             ultra\n",
       "1        2   Станислав   31            Омск             ultra\n",
       "2        3     Алексей   20          Москва             ultra\n",
       "3        4  Константин   26  Ростов-на-Дону             ultra\n",
       "4        5       Адель   28            Омск             ultra\n",
       "5        6      Регина   25       Краснодар             ultra\n",
       "6        7       Игорь   23            Омск             ultra\n",
       "7        8        Юрий   23       Краснодар             ultra\n",
       "8        9          Ян   21       Пятигорск             ultra\n",
       "9       10     Валерий   18    Екатеринбург             ultra"
      ]
     },
     "metadata": {},
     "output_type": "display_data"
    },
    {
     "name": "stdout",
     "output_type": "stream",
     "text": [
      "\n"
     ]
    },
    {
     "data": {
      "text/html": [
       "<div>\n",
       "<style scoped>\n",
       "    .dataframe tbody tr th:only-of-type {\n",
       "        vertical-align: middle;\n",
       "    }\n",
       "\n",
       "    .dataframe tbody tr th {\n",
       "        vertical-align: top;\n",
       "    }\n",
       "\n",
       "    .dataframe thead th {\n",
       "        text-align: right;\n",
       "    }\n",
       "</style>\n",
       "<table border=\"1\" class=\"dataframe\">\n",
       "  <thead>\n",
       "    <tr style=\"text-align: right;\">\n",
       "      <th></th>\n",
       "      <th>user_id</th>\n",
       "      <th>age</th>\n",
       "    </tr>\n",
       "  </thead>\n",
       "  <tbody>\n",
       "    <tr>\n",
       "      <th>count</th>\n",
       "      <td>1565.000000</td>\n",
       "      <td>1565.000000</td>\n",
       "    </tr>\n",
       "    <tr>\n",
       "      <th>mean</th>\n",
       "      <td>762.633866</td>\n",
       "      <td>24.922045</td>\n",
       "    </tr>\n",
       "    <tr>\n",
       "      <th>std</th>\n",
       "      <td>443.260155</td>\n",
       "      <td>4.553496</td>\n",
       "    </tr>\n",
       "    <tr>\n",
       "      <th>min</th>\n",
       "      <td>1.000000</td>\n",
       "      <td>12.000000</td>\n",
       "    </tr>\n",
       "    <tr>\n",
       "      <th>25%</th>\n",
       "      <td>378.000000</td>\n",
       "      <td>22.000000</td>\n",
       "    </tr>\n",
       "    <tr>\n",
       "      <th>50%</th>\n",
       "      <td>762.000000</td>\n",
       "      <td>25.000000</td>\n",
       "    </tr>\n",
       "    <tr>\n",
       "      <th>75%</th>\n",
       "      <td>1146.000000</td>\n",
       "      <td>28.000000</td>\n",
       "    </tr>\n",
       "    <tr>\n",
       "      <th>max</th>\n",
       "      <td>1534.000000</td>\n",
       "      <td>43.000000</td>\n",
       "    </tr>\n",
       "  </tbody>\n",
       "</table>\n",
       "</div>"
      ],
      "text/plain": [
       "           user_id          age\n",
       "count  1565.000000  1565.000000\n",
       "mean    762.633866    24.922045\n",
       "std     443.260155     4.553496\n",
       "min       1.000000    12.000000\n",
       "25%     378.000000    22.000000\n",
       "50%     762.000000    25.000000\n",
       "75%    1146.000000    28.000000\n",
       "max    1534.000000    43.000000"
      ]
     },
     "metadata": {},
     "output_type": "display_data"
    },
    {
     "name": "stdout",
     "output_type": "stream",
     "text": [
      "\u001b[1mПроверка датафрейма на наличие явных дубликатов. Их количество:\u001b[0m\n"
     ]
    },
    {
     "data": {
      "text/plain": [
       "31"
      ]
     },
     "metadata": {},
     "output_type": "display_data"
    },
    {
     "name": "stdout",
     "output_type": "stream",
     "text": [
      "\n",
      "\u001b[1mДоля пропущенных значений среди всех данных:\u001b[0m\n"
     ]
    },
    {
     "data": {
      "text/plain": [
       "user_id              0.0\n",
       "name                 0.0\n",
       "age                  0.0\n",
       "city                 0.0\n",
       "subscription_type    0.0\n",
       "dtype: float64"
      ]
     },
     "metadata": {},
     "output_type": "display_data"
    },
    {
     "name": "stdout",
     "output_type": "stream",
     "text": [
      "\n",
      "\u001b[1mПроверка датафрейма на наличие  null. Результат в виде True/False:\u001b[0m\n"
     ]
    },
    {
     "data": {
      "text/plain": [
       "False"
      ]
     },
     "metadata": {},
     "output_type": "display_data"
    },
    {
     "data": {
      "image/png": "[encoded data removed]",
      "text/plain": [
       "<Figure size 640x480 with 2 Axes>"
      ]
     },
     "metadata": {},
     "output_type": "display_data"
    }
   ],
   "source": [
    "dataset_information(users_go)"
   ]
  },
  {
   "cell_type": "markdown",
   "id": "4e07e686-3f49-45a5-95b8-be534f8dbeb6",
   "metadata": {},
   "source": [
    "## Датафрейм 'Поездки' (rides_go)"
   ]
  },
  {
   "cell_type": "code",
   "execution_count": 5,
   "id": "51526fa3-6e75-4721-a9ee-fbc30725019a",
   "metadata": {},
   "outputs": [
    {
     "name": "stdout",
     "output_type": "stream",
     "text": [
      "\n",
      "<class 'pandas.core.frame.DataFrame'>\n",
      "RangeIndex: 18068 entries, 0 to 18067\n",
      "Data columns (total 4 columns):\n",
      " #   Column    Non-Null Count  Dtype  \n",
      "---  ------    --------------  -----  \n",
      " 0   user_id   18068 non-null  int64  \n",
      " 1   distance  18068 non-null  float64\n",
      " 2   duration  18068 non-null  float64\n",
      " 3   date      18068 non-null  object \n",
      "dtypes: float64(2), int64(1), object(1)\n",
      "memory usage: 564.8+ KB\n",
      "None\n",
      "\n"
     ]
    },
    {
     "data": {
      "text/plain": [
       "array([[<AxesSubplot:title={'center':'user_id'}>,\n",
       "        <AxesSubplot:title={'center':'distance'}>],\n",
       "       [<AxesSubplot:title={'center':'duration'}>, <AxesSubplot:>]],\n",
       "      dtype=object)"
      ]
     },
     "metadata": {},
     "output_type": "display_data"
    },
    {
     "name": "stdout",
     "output_type": "stream",
     "text": [
      "\n"
     ]
    },
    {
     "data": {
      "text/html": [
       "<div>\n",
       "<style scoped>\n",
       "    .dataframe tbody tr th:only-of-type {\n",
       "        vertical-align: middle;\n",
       "    }\n",
       "\n",
       "    .dataframe tbody tr th {\n",
       "        vertical-align: top;\n",
       "    }\n",
       "\n",
       "    .dataframe thead th {\n",
       "        text-align: right;\n",
       "    }\n",
       "</style>\n",
       "<table border=\"1\" class=\"dataframe\">\n",
       "  <thead>\n",
       "    <tr style=\"text-align: right;\">\n",
       "      <th></th>\n",
       "      <th>user_id</th>\n",
       "      <th>distance</th>\n",
       "      <th>duration</th>\n",
       "      <th>date</th>\n",
       "    </tr>\n",
       "  </thead>\n",
       "  <tbody>\n",
       "    <tr>\n",
       "      <th>0</th>\n",
       "      <td>1</td>\n",
       "      <td>4409.919140</td>\n",
       "      <td>25.599769</td>\n",
       "      <td>2021-01-01</td>\n",
       "    </tr>\n",
       "    <tr>\n",
       "      <th>1</th>\n",
       "      <td>1</td>\n",
       "      <td>2617.592153</td>\n",
       "      <td>15.816871</td>\n",
       "      <td>2021-01-18</td>\n",
       "    </tr>\n",
       "    <tr>\n",
       "      <th>2</th>\n",
       "      <td>1</td>\n",
       "      <td>754.159807</td>\n",
       "      <td>6.232113</td>\n",
       "      <td>2021-04-20</td>\n",
       "    </tr>\n",
       "    <tr>\n",
       "      <th>3</th>\n",
       "      <td>1</td>\n",
       "      <td>2694.783254</td>\n",
       "      <td>18.511000</td>\n",
       "      <td>2021-08-11</td>\n",
       "    </tr>\n",
       "    <tr>\n",
       "      <th>4</th>\n",
       "      <td>1</td>\n",
       "      <td>4028.687306</td>\n",
       "      <td>26.265803</td>\n",
       "      <td>2021-08-28</td>\n",
       "    </tr>\n",
       "    <tr>\n",
       "      <th>5</th>\n",
       "      <td>1</td>\n",
       "      <td>2770.890808</td>\n",
       "      <td>16.650138</td>\n",
       "      <td>2021-10-09</td>\n",
       "    </tr>\n",
       "    <tr>\n",
       "      <th>6</th>\n",
       "      <td>1</td>\n",
       "      <td>3039.020292</td>\n",
       "      <td>14.927879</td>\n",
       "      <td>2021-10-19</td>\n",
       "    </tr>\n",
       "    <tr>\n",
       "      <th>7</th>\n",
       "      <td>1</td>\n",
       "      <td>2842.118050</td>\n",
       "      <td>23.117468</td>\n",
       "      <td>2021-11-06</td>\n",
       "    </tr>\n",
       "    <tr>\n",
       "      <th>8</th>\n",
       "      <td>1</td>\n",
       "      <td>3412.690668</td>\n",
       "      <td>15.238072</td>\n",
       "      <td>2021-11-14</td>\n",
       "    </tr>\n",
       "    <tr>\n",
       "      <th>9</th>\n",
       "      <td>1</td>\n",
       "      <td>748.690645</td>\n",
       "      <td>15.041884</td>\n",
       "      <td>2021-11-22</td>\n",
       "    </tr>\n",
       "  </tbody>\n",
       "</table>\n",
       "</div>"
      ],
      "text/plain": [
       "   user_id     distance   duration        date\n",
       "0        1  4409.919140  25.599769  2021-01-01\n",
       "1        1  2617.592153  15.816871  2021-01-18\n",
       "2        1   754.159807   6.232113  2021-04-20\n",
       "3        1  2694.783254  18.511000  2021-08-11\n",
       "4        1  4028.687306  26.265803  2021-08-28\n",
       "5        1  2770.890808  16.650138  2021-10-09\n",
       "6        1  3039.020292  14.927879  2021-10-19\n",
       "7        1  2842.118050  23.117468  2021-11-06\n",
       "8        1  3412.690668  15.238072  2021-11-14\n",
       "9        1   748.690645  15.041884  2021-11-22"
      ]
     },
     "metadata": {},
     "output_type": "display_data"
    },
    {
     "name": "stdout",
     "output_type": "stream",
     "text": [
      "\n"
     ]
    },
    {
     "data": {
      "text/html": [
       "<div>\n",
       "<style scoped>\n",
       "    .dataframe tbody tr th:only-of-type {\n",
       "        vertical-align: middle;\n",
       "    }\n",
       "\n",
       "    .dataframe tbody tr th {\n",
       "        vertical-align: top;\n",
       "    }\n",
       "\n",
       "    .dataframe thead th {\n",
       "        text-align: right;\n",
       "    }\n",
       "</style>\n",
       "<table border=\"1\" class=\"dataframe\">\n",
       "  <thead>\n",
       "    <tr style=\"text-align: right;\">\n",
       "      <th></th>\n",
       "      <th>user_id</th>\n",
       "      <th>distance</th>\n",
       "      <th>duration</th>\n",
       "    </tr>\n",
       "  </thead>\n",
       "  <tbody>\n",
       "    <tr>\n",
       "      <th>count</th>\n",
       "      <td>18068.000000</td>\n",
       "      <td>18068.000000</td>\n",
       "      <td>18068.000000</td>\n",
       "    </tr>\n",
       "    <tr>\n",
       "      <th>mean</th>\n",
       "      <td>842.869936</td>\n",
       "      <td>3070.659976</td>\n",
       "      <td>17.805011</td>\n",
       "    </tr>\n",
       "    <tr>\n",
       "      <th>std</th>\n",
       "      <td>434.734317</td>\n",
       "      <td>1116.831209</td>\n",
       "      <td>6.091051</td>\n",
       "    </tr>\n",
       "    <tr>\n",
       "      <th>min</th>\n",
       "      <td>1.000000</td>\n",
       "      <td>0.855683</td>\n",
       "      <td>0.500000</td>\n",
       "    </tr>\n",
       "    <tr>\n",
       "      <th>25%</th>\n",
       "      <td>487.000000</td>\n",
       "      <td>2543.226360</td>\n",
       "      <td>13.597563</td>\n",
       "    </tr>\n",
       "    <tr>\n",
       "      <th>50%</th>\n",
       "      <td>889.000000</td>\n",
       "      <td>3133.609994</td>\n",
       "      <td>17.678395</td>\n",
       "    </tr>\n",
       "    <tr>\n",
       "      <th>75%</th>\n",
       "      <td>1213.250000</td>\n",
       "      <td>3776.222735</td>\n",
       "      <td>21.724800</td>\n",
       "    </tr>\n",
       "    <tr>\n",
       "      <th>max</th>\n",
       "      <td>1534.000000</td>\n",
       "      <td>7211.007745</td>\n",
       "      <td>40.823963</td>\n",
       "    </tr>\n",
       "  </tbody>\n",
       "</table>\n",
       "</div>"
      ],
      "text/plain": [
       "            user_id      distance      duration\n",
       "count  18068.000000  18068.000000  18068.000000\n",
       "mean     842.869936   3070.659976     17.805011\n",
       "std      434.734317   1116.831209      6.091051\n",
       "min        1.000000      0.855683      0.500000\n",
       "25%      487.000000   2543.226360     13.597563\n",
       "50%      889.000000   3133.609994     17.678395\n",
       "75%     1213.250000   3776.222735     21.724800\n",
       "max     1534.000000   7211.007745     40.823963"
      ]
     },
     "metadata": {},
     "output_type": "display_data"
    },
    {
     "name": "stdout",
     "output_type": "stream",
     "text": [
      "\u001b[1mПроверка датафрейма на наличие явных дубликатов. Их количество:\u001b[0m\n"
     ]
    },
    {
     "data": {
      "text/plain": [
       "0"
      ]
     },
     "metadata": {},
     "output_type": "display_data"
    },
    {
     "name": "stdout",
     "output_type": "stream",
     "text": [
      "\n",
      "\u001b[1mДоля пропущенных значений среди всех данных:\u001b[0m\n"
     ]
    },
    {
     "data": {
      "text/plain": [
       "user_id     0.0\n",
       "distance    0.0\n",
       "duration    0.0\n",
       "date        0.0\n",
       "dtype: float64"
      ]
     },
     "metadata": {},
     "output_type": "display_data"
    },
    {
     "name": "stdout",
     "output_type": "stream",
     "text": [
      "\n",
      "\u001b[1mПроверка датафрейма на наличие  null. Результат в виде True/False:\u001b[0m\n"
     ]
    },
    {
     "data": {
      "text/plain": [
       "False"
      ]
     },
     "metadata": {},
     "output_type": "display_data"
    },
    {
     "data": {
      "image/png": "[encoded data removed]",
      "text/plain": [
       "<Figure size 640x480 with 4 Axes>"
      ]
     },
     "metadata": {},
     "output_type": "display_data"
    }
   ],
   "source": [
    "dataset_information(rides_go)"
   ]
  },
  {
   "cell_type": "markdown",
   "id": "504d7787-a3b2-4b98-94d0-4665c47debd2",
   "metadata": {},
   "source": [
    "## Датафрейм 'Подписки' (subscriptions_go)"
   ]
  },
  {
   "cell_type": "code",
   "execution_count": 6,
   "id": "2833b5af-f846-4379-8704-d42fbf620a2b",
   "metadata": {},
   "outputs": [
    {
     "name": "stdout",
     "output_type": "stream",
     "text": [
      "\n",
      "<class 'pandas.core.frame.DataFrame'>\n",
      "RangeIndex: 2 entries, 0 to 1\n",
      "Data columns (total 4 columns):\n",
      " #   Column             Non-Null Count  Dtype \n",
      "---  ------             --------------  ----- \n",
      " 0   subscription_type  2 non-null      object\n",
      " 1   minute_price       2 non-null      int64 \n",
      " 2   start_ride_price   2 non-null      int64 \n",
      " 3   subscription_fee   2 non-null      int64 \n",
      "dtypes: int64(3), object(1)\n",
      "memory usage: 192.0+ bytes\n",
      "None\n",
      "\n"
     ]
    },
    {
     "data": {
      "text/plain": [
       "array([[<AxesSubplot:title={'center':'minute_price'}>,\n",
       "        <AxesSubplot:title={'center':'start_ride_price'}>],\n",
       "       [<AxesSubplot:title={'center':'subscription_fee'}>,\n",
       "        <AxesSubplot:>]], dtype=object)"
      ]
     },
     "metadata": {},
     "output_type": "display_data"
    },
    {
     "name": "stdout",
     "output_type": "stream",
     "text": [
      "\n"
     ]
    },
    {
     "data": {
      "text/html": [
       "<div>\n",
       "<style scoped>\n",
       "    .dataframe tbody tr th:only-of-type {\n",
       "        vertical-align: middle;\n",
       "    }\n",
       "\n",
       "    .dataframe tbody tr th {\n",
       "        vertical-align: top;\n",
       "    }\n",
       "\n",
       "    .dataframe thead th {\n",
       "        text-align: right;\n",
       "    }\n",
       "</style>\n",
       "<table border=\"1\" class=\"dataframe\">\n",
       "  <thead>\n",
       "    <tr style=\"text-align: right;\">\n",
       "      <th></th>\n",
       "      <th>subscription_type</th>\n",
       "      <th>minute_price</th>\n",
       "      <th>start_ride_price</th>\n",
       "      <th>subscription_fee</th>\n",
       "    </tr>\n",
       "  </thead>\n",
       "  <tbody>\n",
       "    <tr>\n",
       "      <th>0</th>\n",
       "      <td>free</td>\n",
       "      <td>8</td>\n",
       "      <td>50</td>\n",
       "      <td>0</td>\n",
       "    </tr>\n",
       "    <tr>\n",
       "      <th>1</th>\n",
       "      <td>ultra</td>\n",
       "      <td>6</td>\n",
       "      <td>0</td>\n",
       "      <td>199</td>\n",
       "    </tr>\n",
       "  </tbody>\n",
       "</table>\n",
       "</div>"
      ],
      "text/plain": [
       "  subscription_type  minute_price  start_ride_price  subscription_fee\n",
       "0              free             8                50                 0\n",
       "1             ultra             6                 0               199"
      ]
     },
     "metadata": {},
     "output_type": "display_data"
    },
    {
     "name": "stdout",
     "output_type": "stream",
     "text": [
      "\n"
     ]
    },
    {
     "data": {
      "text/html": [
       "<div>\n",
       "<style scoped>\n",
       "    .dataframe tbody tr th:only-of-type {\n",
       "        vertical-align: middle;\n",
       "    }\n",
       "\n",
       "    .dataframe tbody tr th {\n",
       "        vertical-align: top;\n",
       "    }\n",
       "\n",
       "    .dataframe thead th {\n",
       "        text-align: right;\n",
       "    }\n",
       "</style>\n",
       "<table border=\"1\" class=\"dataframe\">\n",
       "  <thead>\n",
       "    <tr style=\"text-align: right;\">\n",
       "      <th></th>\n",
       "      <th>minute_price</th>\n",
       "      <th>start_ride_price</th>\n",
       "      <th>subscription_fee</th>\n",
       "    </tr>\n",
       "  </thead>\n",
       "  <tbody>\n",
       "    <tr>\n",
       "      <th>count</th>\n",
       "      <td>2.000000</td>\n",
       "      <td>2.000000</td>\n",
       "      <td>2.000000</td>\n",
       "    </tr>\n",
       "    <tr>\n",
       "      <th>mean</th>\n",
       "      <td>7.000000</td>\n",
       "      <td>25.000000</td>\n",
       "      <td>99.500000</td>\n",
       "    </tr>\n",
       "    <tr>\n",
       "      <th>std</th>\n",
       "      <td>1.414214</td>\n",
       "      <td>35.355339</td>\n",
       "      <td>140.714249</td>\n",
       "    </tr>\n",
       "    <tr>\n",
       "      <th>min</th>\n",
       "      <td>6.000000</td>\n",
       "      <td>0.000000</td>\n",
       "      <td>0.000000</td>\n",
       "    </tr>\n",
       "    <tr>\n",
       "      <th>25%</th>\n",
       "      <td>6.500000</td>\n",
       "      <td>12.500000</td>\n",
       "      <td>49.750000</td>\n",
       "    </tr>\n",
       "    <tr>\n",
       "      <th>50%</th>\n",
       "      <td>7.000000</td>\n",
       "      <td>25.000000</td>\n",
       "      <td>99.500000</td>\n",
       "    </tr>\n",
       "    <tr>\n",
       "      <th>75%</th>\n",
       "      <td>7.500000</td>\n",
       "      <td>37.500000</td>\n",
       "      <td>149.250000</td>\n",
       "    </tr>\n",
       "    <tr>\n",
       "      <th>max</th>\n",
       "      <td>8.000000</td>\n",
       "      <td>50.000000</td>\n",
       "      <td>199.000000</td>\n",
       "    </tr>\n",
       "  </tbody>\n",
       "</table>\n",
       "</div>"
      ],
      "text/plain": [
       "       minute_price  start_ride_price  subscription_fee\n",
       "count      2.000000          2.000000          2.000000\n",
       "mean       7.000000         25.000000         99.500000\n",
       "std        1.414214         35.355339        140.714249\n",
       "min        6.000000          0.000000          0.000000\n",
       "25%        6.500000         12.500000         49.750000\n",
       "50%        7.000000         25.000000         99.500000\n",
       "75%        7.500000         37.500000        149.250000\n",
       "max        8.000000         50.000000        199.000000"
      ]
     },
     "metadata": {},
     "output_type": "display_data"
    },
    {
     "name": "stdout",
     "output_type": "stream",
     "text": [
      "\u001b[1mПроверка датафрейма на наличие явных дубликатов. Их количество:\u001b[0m\n"
     ]
    },
    {
     "data": {
      "text/plain": [
       "0"
      ]
     },
     "metadata": {},
     "output_type": "display_data"
    },
    {
     "name": "stdout",
     "output_type": "stream",
     "text": [
      "\n",
      "\u001b[1mДоля пропущенных значений среди всех данных:\u001b[0m\n"
     ]
    },
    {
     "data": {
      "text/plain": [
       "subscription_type    0.0\n",
       "minute_price         0.0\n",
       "start_ride_price     0.0\n",
       "subscription_fee     0.0\n",
       "dtype: float64"
      ]
     },
     "metadata": {},
     "output_type": "display_data"
    },
    {
     "name": "stdout",
     "output_type": "stream",
     "text": [
      "\n",
      "\u001b[1mПроверка датафрейма на наличие  null. Результат в виде True/False:\u001b[0m\n"
     ]
    },
    {
     "data": {
      "text/plain": [
       "False"
      ]
     },
     "metadata": {},
     "output_type": "display_data"
    },
    {
     "data": {
      "image/png": "[encoded data removed]",
      "text/plain": [
       "<Figure size 640x480 with 4 Axes>"
      ]
     },
     "metadata": {},
     "output_type": "display_data"
    }
   ],
   "source": [
    "dataset_information(subscriptions_go)"
   ]
  },
  {
   "cell_type": "markdown",
   "id": "8a9f04c7-2e46-4a68-80f2-b7d5782693dd",
   "metadata": {},
   "source": [
    "## Вывод:\n",
    "\n",
    "1. `users_go`:\n",
    "   - В датафрейме находится **1565** строк.\n",
    "   - Столбцы названы корректно.\n",
    "   - Типы данных в столбце `user_id` можно изменить на облегченный.\n",
    "   - В датафрейме обнаружен **31** дубликат строк. Пропущенных и `null` значений не найдено.\n",
    "2. `rides_go`:\n",
    "   - В датафрейме находится **18068** строк.\n",
    "   - Столбцы названы корректно\n",
    "   - Столбец `date` формата `object`, вместо необходимого `datetime`\n",
    "   - Числовые столбцы можно изменить на более облегченные.\n",
    "   - В датафрейме не обнаруженны дубликаты строк, пропущенные и `null` значения.\n",
    "3. `subscriptions_go`:\n",
    "   - В датафрейме находится **2** строки.\n",
    "   - Столбцы названы корректно.\n",
    "   - Числовые столбцы можно изменить на более облегченные.\n",
    "   - В датафрейме не обнаруженны дубликаты строк, пропущенные и `null` значения.\n",
    "   "
   ]
  },
  {
   "cell_type": "markdown",
   "id": "e958c47d-b482-49c4-b6b9-9da851835d6e",
   "metadata": {},
   "source": [
    "# 2. Предобработка данных"
   ]
  },
  {
   "cell_type": "markdown",
   "id": "b075be47-f332-4715-b3f3-cc1fd8da74e7",
   "metadata": {},
   "source": [
    "## Предобработка датафрейма 'Пользователи'"
   ]
  },
  {
   "cell_type": "code",
   "execution_count": 7,
   "id": "7a9d995d-430c-4925-b64b-c4817d3266eb",
   "metadata": {
    "scrolled": true
   },
   "outputs": [
    {
     "data": {
      "text/html": [
       "<div>\n",
       "<style scoped>\n",
       "    .dataframe tbody tr th:only-of-type {\n",
       "        vertical-align: middle;\n",
       "    }\n",
       "\n",
       "    .dataframe tbody tr th {\n",
       "        vertical-align: top;\n",
       "    }\n",
       "\n",
       "    .dataframe thead th {\n",
       "        text-align: right;\n",
       "    }\n",
       "</style>\n",
       "<table border=\"1\" class=\"dataframe\">\n",
       "  <thead>\n",
       "    <tr style=\"text-align: right;\">\n",
       "      <th></th>\n",
       "      <th>user_id</th>\n",
       "      <th>name</th>\n",
       "      <th>age</th>\n",
       "      <th>city</th>\n",
       "      <th>subscription_type</th>\n",
       "    </tr>\n",
       "  </thead>\n",
       "  <tbody>\n",
       "    <tr>\n",
       "      <th>0</th>\n",
       "      <td>16</td>\n",
       "      <td>Амалия</td>\n",
       "      <td>27</td>\n",
       "      <td>Краснодар</td>\n",
       "      <td>ultra</td>\n",
       "    </tr>\n",
       "    <tr>\n",
       "      <th>1</th>\n",
       "      <td>43</td>\n",
       "      <td>Стефания</td>\n",
       "      <td>22</td>\n",
       "      <td>Омск</td>\n",
       "      <td>ultra</td>\n",
       "    </tr>\n",
       "    <tr>\n",
       "      <th>2</th>\n",
       "      <td>47</td>\n",
       "      <td>Юрий</td>\n",
       "      <td>28</td>\n",
       "      <td>Тюмень</td>\n",
       "      <td>ultra</td>\n",
       "    </tr>\n",
       "    <tr>\n",
       "      <th>3</th>\n",
       "      <td>72</td>\n",
       "      <td>Никита</td>\n",
       "      <td>25</td>\n",
       "      <td>Москва</td>\n",
       "      <td>ultra</td>\n",
       "    </tr>\n",
       "    <tr>\n",
       "      <th>4</th>\n",
       "      <td>108</td>\n",
       "      <td>Влада</td>\n",
       "      <td>29</td>\n",
       "      <td>Тюмень</td>\n",
       "      <td>ultra</td>\n",
       "    </tr>\n",
       "    <tr>\n",
       "      <th>5</th>\n",
       "      <td>121</td>\n",
       "      <td>Алина</td>\n",
       "      <td>25</td>\n",
       "      <td>Пятигорск</td>\n",
       "      <td>ultra</td>\n",
       "    </tr>\n",
       "    <tr>\n",
       "      <th>6</th>\n",
       "      <td>127</td>\n",
       "      <td>Павел</td>\n",
       "      <td>25</td>\n",
       "      <td>Пятигорск</td>\n",
       "      <td>ultra</td>\n",
       "    </tr>\n",
       "    <tr>\n",
       "      <th>7</th>\n",
       "      <td>136</td>\n",
       "      <td>Марсель</td>\n",
       "      <td>25</td>\n",
       "      <td>Тюмень</td>\n",
       "      <td>ultra</td>\n",
       "    </tr>\n",
       "    <tr>\n",
       "      <th>8</th>\n",
       "      <td>153</td>\n",
       "      <td>Герман</td>\n",
       "      <td>23</td>\n",
       "      <td>Москва</td>\n",
       "      <td>ultra</td>\n",
       "    </tr>\n",
       "    <tr>\n",
       "      <th>9</th>\n",
       "      <td>204</td>\n",
       "      <td>Руслан</td>\n",
       "      <td>30</td>\n",
       "      <td>Пятигорск</td>\n",
       "      <td>ultra</td>\n",
       "    </tr>\n",
       "    <tr>\n",
       "      <th>10</th>\n",
       "      <td>209</td>\n",
       "      <td>Андрей</td>\n",
       "      <td>23</td>\n",
       "      <td>Омск</td>\n",
       "      <td>ultra</td>\n",
       "    </tr>\n",
       "    <tr>\n",
       "      <th>11</th>\n",
       "      <td>293</td>\n",
       "      <td>Агата</td>\n",
       "      <td>26</td>\n",
       "      <td>Краснодар</td>\n",
       "      <td>ultra</td>\n",
       "    </tr>\n",
       "    <tr>\n",
       "      <th>12</th>\n",
       "      <td>297</td>\n",
       "      <td>Егор</td>\n",
       "      <td>33</td>\n",
       "      <td>Пятигорск</td>\n",
       "      <td>ultra</td>\n",
       "    </tr>\n",
       "    <tr>\n",
       "      <th>13</th>\n",
       "      <td>307</td>\n",
       "      <td>Ясмина</td>\n",
       "      <td>19</td>\n",
       "      <td>Краснодар</td>\n",
       "      <td>ultra</td>\n",
       "    </tr>\n",
       "    <tr>\n",
       "      <th>14</th>\n",
       "      <td>403</td>\n",
       "      <td>Полина</td>\n",
       "      <td>19</td>\n",
       "      <td>Сочи</td>\n",
       "      <td>ultra</td>\n",
       "    </tr>\n",
       "    <tr>\n",
       "      <th>15</th>\n",
       "      <td>422</td>\n",
       "      <td>Кирилл</td>\n",
       "      <td>27</td>\n",
       "      <td>Сочи</td>\n",
       "      <td>ultra</td>\n",
       "    </tr>\n",
       "    <tr>\n",
       "      <th>16</th>\n",
       "      <td>611</td>\n",
       "      <td>Владимир</td>\n",
       "      <td>28</td>\n",
       "      <td>Омск</td>\n",
       "      <td>ultra</td>\n",
       "    </tr>\n",
       "    <tr>\n",
       "      <th>17</th>\n",
       "      <td>635</td>\n",
       "      <td>Герман</td>\n",
       "      <td>21</td>\n",
       "      <td>Москва</td>\n",
       "      <td>ultra</td>\n",
       "    </tr>\n",
       "    <tr>\n",
       "      <th>18</th>\n",
       "      <td>659</td>\n",
       "      <td>Злата</td>\n",
       "      <td>27</td>\n",
       "      <td>Ростов-на-Дону</td>\n",
       "      <td>ultra</td>\n",
       "    </tr>\n",
       "    <tr>\n",
       "      <th>19</th>\n",
       "      <td>666</td>\n",
       "      <td>Зарина</td>\n",
       "      <td>29</td>\n",
       "      <td>Москва</td>\n",
       "      <td>ultra</td>\n",
       "    </tr>\n",
       "    <tr>\n",
       "      <th>20</th>\n",
       "      <td>737</td>\n",
       "      <td>Мелания</td>\n",
       "      <td>27</td>\n",
       "      <td>Ростов-на-Дону</td>\n",
       "      <td>free</td>\n",
       "    </tr>\n",
       "    <tr>\n",
       "      <th>21</th>\n",
       "      <td>807</td>\n",
       "      <td>Александр</td>\n",
       "      <td>28</td>\n",
       "      <td>Екатеринбург</td>\n",
       "      <td>free</td>\n",
       "    </tr>\n",
       "    <tr>\n",
       "      <th>22</th>\n",
       "      <td>809</td>\n",
       "      <td>Юрий</td>\n",
       "      <td>26</td>\n",
       "      <td>Сочи</td>\n",
       "      <td>free</td>\n",
       "    </tr>\n",
       "    <tr>\n",
       "      <th>23</th>\n",
       "      <td>829</td>\n",
       "      <td>Федор</td>\n",
       "      <td>29</td>\n",
       "      <td>Пятигорск</td>\n",
       "      <td>free</td>\n",
       "    </tr>\n",
       "    <tr>\n",
       "      <th>24</th>\n",
       "      <td>908</td>\n",
       "      <td>Рустам</td>\n",
       "      <td>30</td>\n",
       "      <td>Тюмень</td>\n",
       "      <td>free</td>\n",
       "    </tr>\n",
       "    <tr>\n",
       "      <th>25</th>\n",
       "      <td>909</td>\n",
       "      <td>Константин</td>\n",
       "      <td>20</td>\n",
       "      <td>Екатеринбург</td>\n",
       "      <td>free</td>\n",
       "    </tr>\n",
       "    <tr>\n",
       "      <th>26</th>\n",
       "      <td>924</td>\n",
       "      <td>Мария</td>\n",
       "      <td>23</td>\n",
       "      <td>Пятигорск</td>\n",
       "      <td>free</td>\n",
       "    </tr>\n",
       "    <tr>\n",
       "      <th>27</th>\n",
       "      <td>1045</td>\n",
       "      <td>Артемий</td>\n",
       "      <td>28</td>\n",
       "      <td>Ростов-на-Дону</td>\n",
       "      <td>free</td>\n",
       "    </tr>\n",
       "    <tr>\n",
       "      <th>28</th>\n",
       "      <td>1198</td>\n",
       "      <td>Демид</td>\n",
       "      <td>29</td>\n",
       "      <td>Ростов-на-Дону</td>\n",
       "      <td>free</td>\n",
       "    </tr>\n",
       "    <tr>\n",
       "      <th>29</th>\n",
       "      <td>1237</td>\n",
       "      <td>Евгения</td>\n",
       "      <td>23</td>\n",
       "      <td>Тюмень</td>\n",
       "      <td>free</td>\n",
       "    </tr>\n",
       "    <tr>\n",
       "      <th>30</th>\n",
       "      <td>1245</td>\n",
       "      <td>Регина</td>\n",
       "      <td>27</td>\n",
       "      <td>Пятигорск</td>\n",
       "      <td>free</td>\n",
       "    </tr>\n",
       "  </tbody>\n",
       "</table>\n",
       "</div>"
      ],
      "text/plain": [
       "    user_id        name  age            city subscription_type\n",
       "0        16      Амалия   27       Краснодар             ultra\n",
       "1        43    Стефания   22            Омск             ultra\n",
       "2        47        Юрий   28          Тюмень             ultra\n",
       "3        72      Никита   25          Москва             ultra\n",
       "4       108       Влада   29          Тюмень             ultra\n",
       "5       121       Алина   25       Пятигорск             ultra\n",
       "6       127       Павел   25       Пятигорск             ultra\n",
       "7       136     Марсель   25          Тюмень             ultra\n",
       "8       153      Герман   23          Москва             ultra\n",
       "9       204      Руслан   30       Пятигорск             ultra\n",
       "10      209      Андрей   23            Омск             ultra\n",
       "11      293       Агата   26       Краснодар             ultra\n",
       "12      297        Егор   33       Пятигорск             ultra\n",
       "13      307      Ясмина   19       Краснодар             ultra\n",
       "14      403      Полина   19            Сочи             ultra\n",
       "15      422      Кирилл   27            Сочи             ultra\n",
       "16      611    Владимир   28            Омск             ultra\n",
       "17      635      Герман   21          Москва             ultra\n",
       "18      659       Злата   27  Ростов-на-Дону             ultra\n",
       "19      666      Зарина   29          Москва             ultra\n",
       "20      737     Мелания   27  Ростов-на-Дону              free\n",
       "21      807   Александр   28    Екатеринбург              free\n",
       "22      809        Юрий   26            Сочи              free\n",
       "23      829       Федор   29       Пятигорск              free\n",
       "24      908      Рустам   30          Тюмень              free\n",
       "25      909  Константин   20    Екатеринбург              free\n",
       "26      924       Мария   23       Пятигорск              free\n",
       "27     1045     Артемий   28  Ростов-на-Дону              free\n",
       "28     1198       Демид   29  Ростов-на-Дону              free\n",
       "29     1237     Евгения   23          Тюмень              free\n",
       "30     1245      Регина   27       Пятигорск              free"
      ]
     },
     "execution_count": 7,
     "metadata": {},
     "output_type": "execute_result"
    }
   ],
   "source": [
    "# В датафрейме обнаружены 31 дубликаты - изучим их\n",
    "users_go['user_id'].duplicated().sum()\n",
    "\n",
    "# Найдем дубликаты\n",
    "duplicate_rows = users_go[users_go.duplicated ()]\n",
    "\n",
    "# Просмотрим дубликаты\n",
    "duplicate_rows.sort_values(by='user_id').reset_index(drop=True)"
   ]
  },
  {
   "cell_type": "code",
   "execution_count": 8,
   "id": "5f7dcf3f-5fbf-44ac-a071-047423dcec3a",
   "metadata": {},
   "outputs": [
    {
     "data": {
      "text/plain": [
       "0"
      ]
     },
     "execution_count": 8,
     "metadata": {},
     "output_type": "execute_result"
    }
   ],
   "source": [
    "# Удалим дубликаты\n",
    "users_go.drop_duplicates(subset=['user_id'], inplace=True)\n",
    "\n",
    "# Проверим повторно на наличие дубликатов\n",
    "users_go['user_id'].duplicated().sum()"
   ]
  },
  {
   "cell_type": "code",
   "execution_count": 9,
   "id": "53349a8e-ba41-4dcd-8381-bfc4ff70df5e",
   "metadata": {},
   "outputs": [
    {
     "name": "stdout",
     "output_type": "stream",
     "text": [
      "<class 'pandas.core.frame.DataFrame'>\n",
      "RangeIndex: 18068 entries, 0 to 18067\n",
      "Data columns (total 4 columns):\n",
      " #   Column    Non-Null Count  Dtype  \n",
      "---  ------    --------------  -----  \n",
      " 0   user_id   18068 non-null  int64  \n",
      " 1   distance  18068 non-null  float64\n",
      " 2   duration  18068 non-null  float64\n",
      " 3   date      18068 non-null  object \n",
      "dtypes: float64(2), int64(1), object(1)\n",
      "memory usage: 564.8+ KB\n"
     ]
    },
    {
     "data": {
      "text/html": [
       "<div>\n",
       "<style scoped>\n",
       "    .dataframe tbody tr th:only-of-type {\n",
       "        vertical-align: middle;\n",
       "    }\n",
       "\n",
       "    .dataframe tbody tr th {\n",
       "        vertical-align: top;\n",
       "    }\n",
       "\n",
       "    .dataframe thead th {\n",
       "        text-align: right;\n",
       "    }\n",
       "</style>\n",
       "<table border=\"1\" class=\"dataframe\">\n",
       "  <thead>\n",
       "    <tr style=\"text-align: right;\">\n",
       "      <th></th>\n",
       "      <th>user_id</th>\n",
       "      <th>distance</th>\n",
       "      <th>duration</th>\n",
       "      <th>date</th>\n",
       "    </tr>\n",
       "  </thead>\n",
       "  <tbody>\n",
       "    <tr>\n",
       "      <th>0</th>\n",
       "      <td>1</td>\n",
       "      <td>4409.919140</td>\n",
       "      <td>25.599769</td>\n",
       "      <td>2021-01-01</td>\n",
       "    </tr>\n",
       "    <tr>\n",
       "      <th>1</th>\n",
       "      <td>1</td>\n",
       "      <td>2617.592153</td>\n",
       "      <td>15.816871</td>\n",
       "      <td>2021-01-18</td>\n",
       "    </tr>\n",
       "    <tr>\n",
       "      <th>2</th>\n",
       "      <td>1</td>\n",
       "      <td>754.159807</td>\n",
       "      <td>6.232113</td>\n",
       "      <td>2021-04-20</td>\n",
       "    </tr>\n",
       "    <tr>\n",
       "      <th>3</th>\n",
       "      <td>1</td>\n",
       "      <td>2694.783254</td>\n",
       "      <td>18.511000</td>\n",
       "      <td>2021-08-11</td>\n",
       "    </tr>\n",
       "    <tr>\n",
       "      <th>4</th>\n",
       "      <td>1</td>\n",
       "      <td>4028.687306</td>\n",
       "      <td>26.265803</td>\n",
       "      <td>2021-08-28</td>\n",
       "    </tr>\n",
       "    <tr>\n",
       "      <th>5</th>\n",
       "      <td>1</td>\n",
       "      <td>2770.890808</td>\n",
       "      <td>16.650138</td>\n",
       "      <td>2021-10-09</td>\n",
       "    </tr>\n",
       "    <tr>\n",
       "      <th>6</th>\n",
       "      <td>1</td>\n",
       "      <td>3039.020292</td>\n",
       "      <td>14.927879</td>\n",
       "      <td>2021-10-19</td>\n",
       "    </tr>\n",
       "    <tr>\n",
       "      <th>7</th>\n",
       "      <td>1</td>\n",
       "      <td>2842.118050</td>\n",
       "      <td>23.117468</td>\n",
       "      <td>2021-11-06</td>\n",
       "    </tr>\n",
       "    <tr>\n",
       "      <th>8</th>\n",
       "      <td>1</td>\n",
       "      <td>3412.690668</td>\n",
       "      <td>15.238072</td>\n",
       "      <td>2021-11-14</td>\n",
       "    </tr>\n",
       "    <tr>\n",
       "      <th>9</th>\n",
       "      <td>1</td>\n",
       "      <td>748.690645</td>\n",
       "      <td>15.041884</td>\n",
       "      <td>2021-11-22</td>\n",
       "    </tr>\n",
       "  </tbody>\n",
       "</table>\n",
       "</div>"
      ],
      "text/plain": [
       "   user_id     distance   duration        date\n",
       "0        1  4409.919140  25.599769  2021-01-01\n",
       "1        1  2617.592153  15.816871  2021-01-18\n",
       "2        1   754.159807   6.232113  2021-04-20\n",
       "3        1  2694.783254  18.511000  2021-08-11\n",
       "4        1  4028.687306  26.265803  2021-08-28\n",
       "5        1  2770.890808  16.650138  2021-10-09\n",
       "6        1  3039.020292  14.927879  2021-10-19\n",
       "7        1  2842.118050  23.117468  2021-11-06\n",
       "8        1  3412.690668  15.238072  2021-11-14\n",
       "9        1   748.690645  15.041884  2021-11-22"
      ]
     },
     "execution_count": 9,
     "metadata": {},
     "output_type": "execute_result"
    }
   ],
   "source": [
    "# приведем формат столбцотв 'user_id' и 'age' в более легкий, учитывая размах числовых значений\n",
    "\n",
    "users_go['user_id'] = users_go['user_id'].astype('uint16')\n",
    "users_go['age'] = users_go['age'].astype('uint8')\n",
    "\n",
    "# Проверим датафрейм учитывая изменения\n",
    "\n",
    "rides_go.info()\n",
    "rides_go.head(10)"
   ]
  },
  {
   "cell_type": "code",
   "execution_count": 10,
   "id": "836e9547-6702-4fdd-a659-1d4514bb2924",
   "metadata": {},
   "outputs": [
    {
     "name": "stdout",
     "output_type": "stream",
     "text": [
      "Пятигорск         219\n",
      "Екатеринбург      204\n",
      "Ростов-на-Дону    198\n",
      "Краснодар         193\n",
      "Сочи              189\n",
      "Омск              183\n",
      "Тюмень            180\n",
      "Москва            168\n",
      "Name: city, dtype: int64\n"
     ]
    },
    {
     "data": {
      "text/html": [
       "<div>\n",
       "<style scoped>\n",
       "    .dataframe tbody tr th:only-of-type {\n",
       "        vertical-align: middle;\n",
       "    }\n",
       "\n",
       "    .dataframe tbody tr th {\n",
       "        vertical-align: top;\n",
       "    }\n",
       "\n",
       "    .dataframe thead th {\n",
       "        text-align: right;\n",
       "    }\n",
       "</style>\n",
       "<table border=\"1\" class=\"dataframe\">\n",
       "  <thead>\n",
       "    <tr style=\"text-align: right;\">\n",
       "      <th></th>\n",
       "      <th>amount</th>\n",
       "    </tr>\n",
       "    <tr>\n",
       "      <th>city</th>\n",
       "      <th></th>\n",
       "    </tr>\n",
       "  </thead>\n",
       "  <tbody>\n",
       "    <tr>\n",
       "      <th>Пятигорск</th>\n",
       "      <td>219</td>\n",
       "    </tr>\n",
       "    <tr>\n",
       "      <th>Екатеринбург</th>\n",
       "      <td>204</td>\n",
       "    </tr>\n",
       "    <tr>\n",
       "      <th>Ростов-на-Дону</th>\n",
       "      <td>198</td>\n",
       "    </tr>\n",
       "    <tr>\n",
       "      <th>Краснодар</th>\n",
       "      <td>193</td>\n",
       "    </tr>\n",
       "    <tr>\n",
       "      <th>Сочи</th>\n",
       "      <td>189</td>\n",
       "    </tr>\n",
       "    <tr>\n",
       "      <th>Омск</th>\n",
       "      <td>183</td>\n",
       "    </tr>\n",
       "    <tr>\n",
       "      <th>Тюмень</th>\n",
       "      <td>180</td>\n",
       "    </tr>\n",
       "    <tr>\n",
       "      <th>Москва</th>\n",
       "      <td>168</td>\n",
       "    </tr>\n",
       "  </tbody>\n",
       "</table>\n",
       "</div>"
      ],
      "text/plain": [
       "                amount\n",
       "city                  \n",
       "Пятигорск          219\n",
       "Екатеринбург       204\n",
       "Ростов-на-Дону     198\n",
       "Краснодар          193\n",
       "Сочи               189\n",
       "Омск               183\n",
       "Тюмень             180\n",
       "Москва             168"
      ]
     },
     "execution_count": 10,
     "metadata": {},
     "output_type": "execute_result"
    }
   ],
   "source": [
    "# Изучим список городов\n",
    "print(users_go['city'].value_counts())\n",
    "\n",
    "# На будущее можно создать сводную таблицу состоящую из списка городов и количества строк с ними\n",
    "users_city = users_go.pivot_table(values='user_id', index='city', aggfunc={'user_id': 'count'}).sort_values(by='user_id', ascending=False)\n",
    "users_city.columns = ['amount']\n",
    "users_city"
   ]
  },
  {
   "cell_type": "markdown",
   "id": "07961145-307b-477f-b525-bf65102e1203",
   "metadata": {},
   "source": [
    "## Предобработка датафрейма 'Поездки'"
   ]
  },
  {
   "cell_type": "code",
   "execution_count": 11,
   "id": "5488cd5f-8dc0-4799-acd6-755eda823294",
   "metadata": {},
   "outputs": [],
   "source": [
    "# Округлим данные в столбце distance до дробных с двумя знаками после запятой\n",
    "rides_go['distance'] = rides_go['distance'].round(2)\n",
    "\n",
    "# Округлим данные в столбце duration вверх до целых чисел\n",
    "rides_go['duration'] = np.ceil(rides_go['duration']).astype('int')\n",
    "\n",
    "# приведем дату в правильный формат\n",
    "rides_go['date'] = pd.to_datetime(rides_go['date'], format='%Y-%m-%d')\n",
    "\n",
    "# создадим столбец `month` на основе столбца `date`\n",
    "rides_go['month'] = rides_go['date'].dt.month.astype('uint8')"
   ]
  },
  {
   "cell_type": "code",
   "execution_count": 12,
   "id": "72113ec9-ad91-46ec-be4a-47453ec3a92d",
   "metadata": {},
   "outputs": [],
   "source": [
    "# приведем формат столбцов 'user_id' и 'duration' в более легкий, учитывая размах числовых значений\n",
    "rides_go['user_id'] = rides_go['user_id'].astype('uint16')\n",
    "rides_go['duration'] = rides_go['duration'].astype('uint16')"
   ]
  },
  {
   "cell_type": "code",
   "execution_count": 13,
   "id": "430172e7-40f8-4428-a95c-cfe5f7af8698",
   "metadata": {},
   "outputs": [
    {
     "name": "stdout",
     "output_type": "stream",
     "text": [
      "<class 'pandas.core.frame.DataFrame'>\n",
      "RangeIndex: 18068 entries, 0 to 18067\n",
      "Data columns (total 5 columns):\n",
      " #   Column    Non-Null Count  Dtype         \n",
      "---  ------    --------------  -----         \n",
      " 0   user_id   18068 non-null  uint16        \n",
      " 1   distance  18068 non-null  float64       \n",
      " 2   duration  18068 non-null  uint16        \n",
      " 3   date      18068 non-null  datetime64[ns]\n",
      " 4   month     18068 non-null  uint8         \n",
      "dtypes: datetime64[ns](1), float64(1), uint16(2), uint8(1)\n",
      "memory usage: 370.7 KB\n"
     ]
    },
    {
     "data": {
      "text/html": [
       "<div>\n",
       "<style scoped>\n",
       "    .dataframe tbody tr th:only-of-type {\n",
       "        vertical-align: middle;\n",
       "    }\n",
       "\n",
       "    .dataframe tbody tr th {\n",
       "        vertical-align: top;\n",
       "    }\n",
       "\n",
       "    .dataframe thead th {\n",
       "        text-align: right;\n",
       "    }\n",
       "</style>\n",
       "<table border=\"1\" class=\"dataframe\">\n",
       "  <thead>\n",
       "    <tr style=\"text-align: right;\">\n",
       "      <th></th>\n",
       "      <th>user_id</th>\n",
       "      <th>distance</th>\n",
       "      <th>duration</th>\n",
       "      <th>date</th>\n",
       "      <th>month</th>\n",
       "    </tr>\n",
       "  </thead>\n",
       "  <tbody>\n",
       "    <tr>\n",
       "      <th>0</th>\n",
       "      <td>1</td>\n",
       "      <td>4409.92</td>\n",
       "      <td>26</td>\n",
       "      <td>2021-01-01</td>\n",
       "      <td>1</td>\n",
       "    </tr>\n",
       "    <tr>\n",
       "      <th>1</th>\n",
       "      <td>1</td>\n",
       "      <td>2617.59</td>\n",
       "      <td>16</td>\n",
       "      <td>2021-01-18</td>\n",
       "      <td>1</td>\n",
       "    </tr>\n",
       "    <tr>\n",
       "      <th>2</th>\n",
       "      <td>1</td>\n",
       "      <td>754.16</td>\n",
       "      <td>7</td>\n",
       "      <td>2021-04-20</td>\n",
       "      <td>4</td>\n",
       "    </tr>\n",
       "    <tr>\n",
       "      <th>3</th>\n",
       "      <td>1</td>\n",
       "      <td>2694.78</td>\n",
       "      <td>19</td>\n",
       "      <td>2021-08-11</td>\n",
       "      <td>8</td>\n",
       "    </tr>\n",
       "    <tr>\n",
       "      <th>4</th>\n",
       "      <td>1</td>\n",
       "      <td>4028.69</td>\n",
       "      <td>27</td>\n",
       "      <td>2021-08-28</td>\n",
       "      <td>8</td>\n",
       "    </tr>\n",
       "    <tr>\n",
       "      <th>5</th>\n",
       "      <td>1</td>\n",
       "      <td>2770.89</td>\n",
       "      <td>17</td>\n",
       "      <td>2021-10-09</td>\n",
       "      <td>10</td>\n",
       "    </tr>\n",
       "    <tr>\n",
       "      <th>6</th>\n",
       "      <td>1</td>\n",
       "      <td>3039.02</td>\n",
       "      <td>15</td>\n",
       "      <td>2021-10-19</td>\n",
       "      <td>10</td>\n",
       "    </tr>\n",
       "    <tr>\n",
       "      <th>7</th>\n",
       "      <td>1</td>\n",
       "      <td>2842.12</td>\n",
       "      <td>24</td>\n",
       "      <td>2021-11-06</td>\n",
       "      <td>11</td>\n",
       "    </tr>\n",
       "    <tr>\n",
       "      <th>8</th>\n",
       "      <td>1</td>\n",
       "      <td>3412.69</td>\n",
       "      <td>16</td>\n",
       "      <td>2021-11-14</td>\n",
       "      <td>11</td>\n",
       "    </tr>\n",
       "    <tr>\n",
       "      <th>9</th>\n",
       "      <td>1</td>\n",
       "      <td>748.69</td>\n",
       "      <td>16</td>\n",
       "      <td>2021-11-22</td>\n",
       "      <td>11</td>\n",
       "    </tr>\n",
       "  </tbody>\n",
       "</table>\n",
       "</div>"
      ],
      "text/plain": [
       "   user_id  distance  duration       date  month\n",
       "0        1   4409.92        26 2021-01-01      1\n",
       "1        1   2617.59        16 2021-01-18      1\n",
       "2        1    754.16         7 2021-04-20      4\n",
       "3        1   2694.78        19 2021-08-11      8\n",
       "4        1   4028.69        27 2021-08-28      8\n",
       "5        1   2770.89        17 2021-10-09     10\n",
       "6        1   3039.02        15 2021-10-19     10\n",
       "7        1   2842.12        24 2021-11-06     11\n",
       "8        1   3412.69        16 2021-11-14     11\n",
       "9        1    748.69        16 2021-11-22     11"
      ]
     },
     "execution_count": 13,
     "metadata": {},
     "output_type": "execute_result"
    }
   ],
   "source": [
    "# Проверим датафрейм учитывая изменения\n",
    "\n",
    "rides_go.info()\n",
    "rides_go.head(10)"
   ]
  },
  {
   "cell_type": "markdown",
   "id": "c00b88ba-08f6-4f42-993c-dca42fc4e3da",
   "metadata": {},
   "source": [
    "## Предобработка датафрейма 'Подписки'"
   ]
  },
  {
   "cell_type": "code",
   "execution_count": 14,
   "id": "f4cc6a9b-c36b-4c90-b7ab-74b17f2c713c",
   "metadata": {},
   "outputs": [
    {
     "name": "stdout",
     "output_type": "stream",
     "text": [
      "<class 'pandas.core.frame.DataFrame'>\n",
      "RangeIndex: 2 entries, 0 to 1\n",
      "Data columns (total 4 columns):\n",
      " #   Column             Non-Null Count  Dtype \n",
      "---  ------             --------------  ----- \n",
      " 0   subscription_type  2 non-null      object\n",
      " 1   minute_price       2 non-null      uint8 \n",
      " 2   start_ride_price   2 non-null      uint8 \n",
      " 3   subscription_fee   2 non-null      uint16\n",
      "dtypes: object(1), uint16(1), uint8(2)\n",
      "memory usage: 152.0+ bytes\n"
     ]
    },
    {
     "data": {
      "text/html": [
       "<div>\n",
       "<style scoped>\n",
       "    .dataframe tbody tr th:only-of-type {\n",
       "        vertical-align: middle;\n",
       "    }\n",
       "\n",
       "    .dataframe tbody tr th {\n",
       "        vertical-align: top;\n",
       "    }\n",
       "\n",
       "    .dataframe thead th {\n",
       "        text-align: right;\n",
       "    }\n",
       "</style>\n",
       "<table border=\"1\" class=\"dataframe\">\n",
       "  <thead>\n",
       "    <tr style=\"text-align: right;\">\n",
       "      <th></th>\n",
       "      <th>subscription_type</th>\n",
       "      <th>minute_price</th>\n",
       "      <th>start_ride_price</th>\n",
       "      <th>subscription_fee</th>\n",
       "    </tr>\n",
       "  </thead>\n",
       "  <tbody>\n",
       "    <tr>\n",
       "      <th>0</th>\n",
       "      <td>free</td>\n",
       "      <td>8</td>\n",
       "      <td>50</td>\n",
       "      <td>0</td>\n",
       "    </tr>\n",
       "    <tr>\n",
       "      <th>1</th>\n",
       "      <td>ultra</td>\n",
       "      <td>6</td>\n",
       "      <td>0</td>\n",
       "      <td>199</td>\n",
       "    </tr>\n",
       "  </tbody>\n",
       "</table>\n",
       "</div>"
      ],
      "text/plain": [
       "  subscription_type  minute_price  start_ride_price  subscription_fee\n",
       "0              free             8                50                 0\n",
       "1             ultra             6                 0               199"
      ]
     },
     "execution_count": 14,
     "metadata": {},
     "output_type": "execute_result"
    }
   ],
   "source": [
    "# приведем формат столбцов 'minute_price', 'start_ride_price', 'subscription_fee' в более легкий\n",
    "# учитывая размах числовых значений\n",
    "\n",
    "subscriptions_go['minute_price'] = subscriptions_go['minute_price'].astype('uint8')\n",
    "subscriptions_go['start_ride_price'] = subscriptions_go['start_ride_price'].astype('uint8')\n",
    "subscriptions_go['subscription_fee'] = subscriptions_go['subscription_fee'].astype('uint16')\n",
    "\n",
    "# Проверим датафрейм учитывая изменения\n",
    "\n",
    "subscriptions_go.info()\n",
    "subscriptions_go.head()"
   ]
  },
  {
   "cell_type": "markdown",
   "id": "3067f02e-8f3e-4888-81a4-c80f2827a8bb",
   "metadata": {},
   "source": [
    "## Вывод:\n",
    "1. По датафрейму `users_go`:\n",
    "    - удалены дубликаты\n",
    "    - формат столбца `user_id` переведен в формат `uint16`\n",
    "    - формат столбца `age` переведен в формат `uint8`\n",
    "    - создана сводная таблица `users_city` с данными о городах и количестве их использований\n",
    "2. По датафрейму `rides_go`:\n",
    "    - округлены данные по столбцу `distance` до двух знаков после запятой\n",
    "    - округлены данные по столбцу `duration` до целых вверх и переведен в формат `uint16`\n",
    "    - столбец `duration` переведен в формат `int` и переведен в формат `uint16`\n",
    "    - создан столбец `month` с номерами месяцев в формате `uint8`\n",
    "    - столбец `date` переведен в корректный формат `datetime`\n",
    "3. По датафрейму `subscriptions`:\n",
    "    - столбец `minute_price` переведен в формат `uint8`\n",
    "    - столбец `start_ride_price` переведен в формат `uint8`\n",
    "    - столбец `subscription_fee` переведен в формат `uint16`"
   ]
  },
  {
   "cell_type": "markdown",
   "id": "6f05d8b8-826c-4620-82f3-ebeb644d2ae7",
   "metadata": {},
   "source": [
    "# 3. Исследовательский анализ данных"
   ]
  },
  {
   "cell_type": "markdown",
   "id": "2ab042d6-504d-4da2-bb88-aa364f4f7588",
   "metadata": {},
   "source": [
    "## Исследование по списку параметров каждого датафрейма\n",
    "\n",
    "1. `users_go`:\n",
    "   - Возраст пользователей\n",
    "   - Частота встречаемости городов\n",
    "   - Соотношение пользователей с подпиской и без подписки\n",
    "2. `rides_go`:\n",
    "   - Расстояние за одну поездку\n",
    "   - Длительность поездки"
   ]
  },
  {
   "cell_type": "markdown",
   "id": "110b4473-34a5-4594-bf60-3888f2599a55",
   "metadata": {},
   "source": [
    "## 3.1 Датафрейм 'Пользователи' - Возраст пользователей"
   ]
  },
  {
   "cell_type": "code",
   "execution_count": 15,
   "id": "31e3e255-c6be-4f2a-972a-28c35b3dc385",
   "metadata": {
    "scrolled": true
   },
   "outputs": [
    {
     "data": {
      "text/plain": [
       "age\n",
       "12      4\n",
       "13      8\n",
       "14      9\n",
       "15     13\n",
       "16     19\n",
       "17     26\n",
       "18     46\n",
       "19     47\n",
       "20     71\n",
       "21     93\n",
       "22    119\n",
       "23    129\n",
       "24    132\n",
       "25    145\n",
       "26    131\n",
       "27    119\n",
       "28    112\n",
       "29     68\n",
       "30     68\n",
       "31     48\n",
       "32     41\n",
       "33     39\n",
       "34     19\n",
       "35     15\n",
       "36      6\n",
       "37      2\n",
       "38      3\n",
       "39      1\n",
       "43      1\n",
       "Name: user_id, dtype: int64"
      ]
     },
     "execution_count": 15,
     "metadata": {},
     "output_type": "execute_result"
    }
   ],
   "source": [
    "# Рассмотрим столбец возраста пользователей\n",
    "users_go.groupby('age')['user_id'].count()"
   ]
  },
  {
   "cell_type": "code",
   "execution_count": 16,
   "id": "9e913dfe-c742-429b-b2fb-6a312a1e2a15",
   "metadata": {},
   "outputs": [
    {
     "data": {
      "text/plain": [
       "count    1534.000000\n",
       "mean       24.903520\n",
       "std         4.572367\n",
       "min        12.000000\n",
       "25%        22.000000\n",
       "50%        25.000000\n",
       "75%        28.000000\n",
       "max        43.000000\n",
       "Name: age, dtype: float64"
      ]
     },
     "execution_count": 16,
     "metadata": {},
     "output_type": "execute_result"
    }
   ],
   "source": [
    "users_go['age'].describe()"
   ]
  },
  {
   "cell_type": "markdown",
   "id": "f26672fd-42af-4ed5-bf6c-62bedcd5ba40",
   "metadata": {},
   "source": [
    "Текущая описательная статистика для столбца возраста выглядит хорошо, выбросы отсутствуют.\n",
    "\n",
    "- Средний возраст и медианное значение пользователей 25 лет. Эта информация говорит о том, что распределение пользователей близко к нормальному, или, по крайней мере, не сильно смещено в одну из сторон. Также это подтверждает отсутствие значительных выбросов в данных.\n",
    "- В данном случае стандартное отклонение 4.6 среднее. Данные имеют некоторый разброс, но не слишком большой.\n",
    "\n",
    "Можно построить гистограмму распределения возраста и ящик с усами, чтобы увидеть более подробную информацию о столбце:"
   ]
  },
  {
   "cell_type": "code",
   "execution_count": 17,
   "id": "9b0d30e8-6502-44d8-b653-7c24103c22c8",
   "metadata": {},
   "outputs": [
    {
     "data": {
      "image/png": "[encoded data removed]",
      "text/plain": [
       "<Figure size 500x300 with 1 Axes>"
      ]
     },
     "metadata": {},
     "output_type": "display_data"
    },
    {
     "data": {
      "image/png": "[encoded data removed]",
      "text/plain": [
       "<Figure size 500x300 with 1 Axes>"
      ]
     },
     "metadata": {},
     "output_type": "display_data"
    }
   ],
   "source": [
    "# Гистограмма распределения возраста\n",
    "plt.figure(figsize=(5, 3))\n",
    "plt.hist(users_go['age'], bins=30, color='orange', edgecolor='black', alpha=0.7)\n",
    "plt.xlabel('Возраст')\n",
    "plt.ylabel('Частота')\n",
    "plt.title('Распределение возраста пользователей')\n",
    "plt.show()\n",
    "\n",
    "# Ящик с усами\n",
    "plt.figure(figsize=(5, 3))\n",
    "plt.boxplot(users_go['age'], vert=False)\n",
    "plt.xlabel('Возраст')\n",
    "plt.title('Ящик с усами для возраста пользователей')\n",
    "plt.show()"
   ]
  },
  {
   "cell_type": "markdown",
   "id": "50b4954c-a634-4c9c-b621-5d47dde4276c",
   "metadata": {},
   "source": [
    "Исходя из гистограммы распределения возраста пользователей, можно сделать вывод, что перед нами нормальное распределение данных."
   ]
  },
  {
   "cell_type": "markdown",
   "id": "26a547fa-0d6b-494d-86ca-0e7573aaf428",
   "metadata": {},
   "source": [
    "## 3.2 Датафрейм 'Пользователи' - Частота встречаемости городов"
   ]
  },
  {
   "cell_type": "code",
   "execution_count": 18,
   "id": "30a40365-ed36-4aad-b49e-d5ea9e420c1d",
   "metadata": {},
   "outputs": [
    {
     "data": {
      "image/png": "[encoded data removed]",
      "text/plain": [
       "<Figure size 1400x600 with 1 Axes>"
      ]
     },
     "metadata": {},
     "output_type": "display_data"
    },
    {
     "data": {
      "text/html": [
       "<div>\n",
       "<style scoped>\n",
       "    .dataframe tbody tr th:only-of-type {\n",
       "        vertical-align: middle;\n",
       "    }\n",
       "\n",
       "    .dataframe tbody tr th {\n",
       "        vertical-align: top;\n",
       "    }\n",
       "\n",
       "    .dataframe thead th {\n",
       "        text-align: right;\n",
       "    }\n",
       "</style>\n",
       "<table border=\"1\" class=\"dataframe\">\n",
       "  <thead>\n",
       "    <tr style=\"text-align: right;\">\n",
       "      <th></th>\n",
       "      <th>amount</th>\n",
       "    </tr>\n",
       "    <tr>\n",
       "      <th>city</th>\n",
       "      <th></th>\n",
       "    </tr>\n",
       "  </thead>\n",
       "  <tbody>\n",
       "    <tr>\n",
       "      <th>Пятигорск</th>\n",
       "      <td>219</td>\n",
       "    </tr>\n",
       "    <tr>\n",
       "      <th>Екатеринбург</th>\n",
       "      <td>204</td>\n",
       "    </tr>\n",
       "    <tr>\n",
       "      <th>Ростов-на-Дону</th>\n",
       "      <td>198</td>\n",
       "    </tr>\n",
       "    <tr>\n",
       "      <th>Краснодар</th>\n",
       "      <td>193</td>\n",
       "    </tr>\n",
       "    <tr>\n",
       "      <th>Сочи</th>\n",
       "      <td>189</td>\n",
       "    </tr>\n",
       "    <tr>\n",
       "      <th>Омск</th>\n",
       "      <td>183</td>\n",
       "    </tr>\n",
       "    <tr>\n",
       "      <th>Тюмень</th>\n",
       "      <td>180</td>\n",
       "    </tr>\n",
       "    <tr>\n",
       "      <th>Москва</th>\n",
       "      <td>168</td>\n",
       "    </tr>\n",
       "  </tbody>\n",
       "</table>\n",
       "</div>"
      ],
      "text/plain": [
       "                amount\n",
       "city                  \n",
       "Пятигорск          219\n",
       "Екатеринбург       204\n",
       "Ростов-на-Дону     198\n",
       "Краснодар          193\n",
       "Сочи               189\n",
       "Омск               183\n",
       "Тюмень             180\n",
       "Москва             168"
      ]
     },
     "execution_count": 18,
     "metadata": {},
     "output_type": "execute_result"
    }
   ],
   "source": [
    "# создадим столбчатую диаграмму\n",
    "\n",
    "colors = plt.cm.hot(users_city['amount'] / max(users_city['amount'])/1.3)\n",
    "\n",
    "ax = users_city['amount'].plot(\n",
    "    kind='bar',\n",
    "    figsize=(14, 6),\n",
    "    grid=True,\n",
    "    color=colors\n",
    ")\n",
    "\n",
    "for p in ax.patches:\n",
    "    ax.annotate(str(p.get_height()), (p.get_x() * 1.005, p.get_height() * 1.01))\n",
    "\n",
    "#plt.bar(range(len(users_city['amount'])), users_city['amount'], color=colors)\n",
    "plt.title('Частота встречаемости городов ')\n",
    "plt.xlabel('Города')\n",
    "plt.ylabel('Количество поездок')\n",
    "plt.xticks(range(len(users_city['amount'])), users_city['amount'].index,fontsize=11, rotation=0) \n",
    "plt.show()\n",
    "\n",
    "# выведем таблицу города/частота встречаемости\n",
    "users_city"
   ]
  },
  {
   "cell_type": "markdown",
   "id": "ae77f628-15a3-4000-b43a-9353b3de98b3",
   "metadata": {},
   "source": [
    "Больше всего поездок в Пятигорске, а в Москве меньше всего."
   ]
  },
  {
   "cell_type": "markdown",
   "id": "b2dfddff-cb6a-44f7-92dc-c7baf499f5a4",
   "metadata": {},
   "source": [
    "## 3.3 Датафрейм 'Пользователи' - Соотношение пользователей с подпиской и без подписки"
   ]
  },
  {
   "cell_type": "code",
   "execution_count": 19,
   "id": "cbfeb7c9-f9e1-4c45-85e4-d9e3245f3f6d",
   "metadata": {},
   "outputs": [
    {
     "data": {
      "image/png": "[encoded data removed]",
      "text/plain": [
       "<Figure size 600x600 with 1 Axes>"
      ]
     },
     "metadata": {},
     "output_type": "display_data"
    },
    {
     "data": {
      "text/html": [
       "<div>\n",
       "<style scoped>\n",
       "    .dataframe tbody tr th:only-of-type {\n",
       "        vertical-align: middle;\n",
       "    }\n",
       "\n",
       "    .dataframe tbody tr th {\n",
       "        vertical-align: top;\n",
       "    }\n",
       "\n",
       "    .dataframe thead th {\n",
       "        text-align: right;\n",
       "    }\n",
       "</style>\n",
       "<table border=\"1\" class=\"dataframe\">\n",
       "  <thead>\n",
       "    <tr style=\"text-align: right;\">\n",
       "      <th></th>\n",
       "      <th>type</th>\n",
       "      <th>amount</th>\n",
       "      <th>type_amount</th>\n",
       "      <th>percentage</th>\n",
       "    </tr>\n",
       "  </thead>\n",
       "  <tbody>\n",
       "    <tr>\n",
       "      <th>0</th>\n",
       "      <td>free</td>\n",
       "      <td>835</td>\n",
       "      <td>free = 835</td>\n",
       "      <td>54.4</td>\n",
       "    </tr>\n",
       "    <tr>\n",
       "      <th>1</th>\n",
       "      <td>ultra</td>\n",
       "      <td>699</td>\n",
       "      <td>ultra = 699</td>\n",
       "      <td>45.6</td>\n",
       "    </tr>\n",
       "  </tbody>\n",
       "</table>\n",
       "</div>"
      ],
      "text/plain": [
       "    type  amount  type_amount  percentage\n",
       "0   free     835   free = 835        54.4\n",
       "1  ultra     699  ultra = 699        45.6"
      ]
     },
     "execution_count": 19,
     "metadata": {},
     "output_type": "execute_result"
    }
   ],
   "source": [
    "users_compare = users_go.pivot_table(index = 'subscription_type', values = 'user_id', aggfunc = 'count').reset_index()\n",
    "users_compare['type_amount'] = users_compare['subscription_type'] + ' = ' + users_compare['user_id'].astype(str)\n",
    "users_compare.columns = ['type', 'amount', 'type_amount']\n",
    "users_compare['percentage'] = round(users_compare['amount'] / (users_compare['amount'].sum() / 100), 1)\n",
    "\n",
    "\n",
    "# создание круговой диаграммы с помощью .plot Pandas\n",
    "users_compare['amount'].plot(\n",
    "    kind='pie',\n",
    "    autopct='%1.1f%%',\n",
    "    colors=['orange', 'grey'],\n",
    "    labels=users_compare['type_amount'],\n",
    "    subplots=True,\n",
    "    figsize=(6,6),\n",
    "    fontsize=20\n",
    ")\n",
    "\n",
    "plt.ylabel('')\n",
    "plt.xlabel(f'Круговая диаграмма соотношения пользователей\\n с подпиской \"ultra\" и без неё \"free\"', fontsize=15)\n",
    "plt.show()\n",
    "\n",
    "users_compare"
   ]
  },
  {
   "cell_type": "markdown",
   "id": "0bddc387-017b-4278-b569-e6f639965efd",
   "metadata": {},
   "source": [
    "Пользователей не имеющих подписку больше, чем пользователей Ultra на **8.87%**"
   ]
  },
  {
   "cell_type": "markdown",
   "id": "4c7c68ca-fc87-49d0-98e8-55b2ddd8aa2e",
   "metadata": {},
   "source": [
    "## 3.4 Датафрейм 'Поездки' - Расстояние, которое пользователь преодолел за одну поездку"
   ]
  },
  {
   "cell_type": "code",
   "execution_count": 20,
   "id": "ccdc802e-8a72-45ea-9ba1-b5f060ef11f2",
   "metadata": {
    "scrolled": true
   },
   "outputs": [
    {
     "data": {
      "text/plain": [
       "count    18068.000000\n",
       "mean      3070.659992\n",
       "std       1116.831222\n",
       "min          0.860000\n",
       "25%       2543.227500\n",
       "50%       3133.610000\n",
       "75%       3776.220000\n",
       "max       7211.010000\n",
       "Name: distance, dtype: float64"
      ]
     },
     "execution_count": 20,
     "metadata": {},
     "output_type": "execute_result"
    }
   ],
   "source": [
    "# Рассмотрим столбец 'distance'\n",
    "\n",
    "rides_go['distance'].describe()"
   ]
  },
  {
   "cell_type": "code",
   "execution_count": 21,
   "id": "61c3308a-e835-4305-b891-70ada02e5fd6",
   "metadata": {},
   "outputs": [],
   "source": [
    "# Для более удобной визуализации данных создадим столбец расстояния в км. 'distance_km'\n",
    "\n",
    "rides_go['distance_km'] = round(rides_go['distance']/1000, 3)"
   ]
  },
  {
   "cell_type": "code",
   "execution_count": 22,
   "id": "01c733f9-2ae4-4c0c-9271-d879f7d9d4ef",
   "metadata": {
    "scrolled": true
   },
   "outputs": [
    {
     "data": {
      "image/png": "[encoded data removed]",
      "text/plain": [
       "<Figure size 500x300 with 1 Axes>"
      ]
     },
     "metadata": {},
     "output_type": "display_data"
    }
   ],
   "source": [
    "# Гистограмма распределения расстояния\n",
    "plt.figure(figsize=(5, 3))\n",
    "plt.hist(\n",
    "    rides_go['distance_km'], \n",
    "    bins=30, \n",
    "    color='orange', \n",
    "    edgecolor='black',\n",
    "    alpha=0.7\n",
    ")\n",
    "plt.xlabel('Расстояние в км.')\n",
    "plt.ylabel('Количество поездок')\n",
    "plt.title('Распределение расстояния поездок')\n",
    "plt.show()"
   ]
  },
  {
   "cell_type": "markdown",
   "id": "c062658f",
   "metadata": {},
   "source": []
  },
  {
   "cell_type": "code",
   "execution_count": 23,
   "id": "389254c8",
   "metadata": {},
   "outputs": [
    {
     "data": {
      "image/png": "[encoded data removed]",
      "text/plain": [
       "<Figure size 500x300 with 1 Axes>"
      ]
     },
     "metadata": {},
     "output_type": "display_data"
    }
   ],
   "source": [
    "# Гистограмма распределения расстояния отрезка от 0 до 1.5 км\n",
    "filtered_rides = rides_go[(rides_go['distance_km'] >=0) & (rides_go['distance_km'] <= 1.5)]\n",
    "\n",
    "plt.figure(figsize=(5, 3))\n",
    "plt.hist(\n",
    "    filtered_rides['distance_km'], \n",
    "    bins=10, \n",
    "    color='orange', \n",
    "    edgecolor='black',\n",
    "    alpha=0.7\n",
    ")\n",
    "plt.xlabel('Расстояние в км.')\n",
    "plt.ylabel('Количество поездок')\n",
    "plt.title('Распределение расстояния поездок')\n",
    "plt.show()"
   ]
  },
  {
   "cell_type": "markdown",
   "id": "ca2d914e",
   "metadata": {},
   "source": [
    "Изучив первоначальную гистограмму с неотфильтрованными данными мы видим всплеск в левой её части.\n",
    "Мы создали отфильтрованную таблиццу, в которой учтены поездки расстоянием от 0 по 1.5 км.\n",
    "\n",
    "Перед нам есть отдельное от основного нормальное распределнеие, которое может говорить о том, что некоторые поездки на самокатах брались с немного другой целью - например поездки от офиса до ближайшего магазина/кафе или же до метро. Для таких случаев нет необходимости в длительных поездках.\n"
   ]
  },
  {
   "cell_type": "code",
   "execution_count": 24,
   "id": "cd5e83eb",
   "metadata": {
    "scrolled": true
   },
   "outputs": [
    {
     "data": {
      "text/plain": [
       "count    1796.000000\n",
       "mean      703.889722\n",
       "std       368.353620\n",
       "min         0.860000\n",
       "25%       414.315000\n",
       "50%       687.535000\n",
       "75%       985.435000\n",
       "max      1499.570000\n",
       "Name: distance, dtype: float64"
      ]
     },
     "execution_count": 24,
     "metadata": {},
     "output_type": "execute_result"
    }
   ],
   "source": [
    "filtered_rides['distance'].describe()"
   ]
  },
  {
   "cell_type": "markdown",
   "id": "74e24e7f",
   "metadata": {},
   "source": [
    "Описательная статистика левого распредления говорит о том, что в среднем такие маленькие поездки занимают ~700 метров, а межквантильный размах достигает 571 метр.\n"
   ]
  },
  {
   "cell_type": "markdown",
   "id": "4760722f-1c5c-4ecd-9e9a-2ed4dbb07696",
   "metadata": {},
   "source": [
    "Исходя из первоначальной гистограммы и описательный статистики видно, что в среднем поездка занимает 3 км. Об этом же говорит и медиана распределения.\n",
    "Максимальные поездки достигают 7 км, а минимальная была всего 86 метров."
   ]
  },
  {
   "cell_type": "markdown",
   "id": "d1763a17-446d-405b-8d17-83e5193f1341",
   "metadata": {},
   "source": [
    "## 3.5 Датафрейм 'Поездки' - Продолжительность поездок"
   ]
  },
  {
   "cell_type": "code",
   "execution_count": 25,
   "id": "219571c8-e860-4d8a-907d-868feb092f2c",
   "metadata": {
    "scrolled": true
   },
   "outputs": [
    {
     "data": {
      "text/plain": [
       "duration\n",
       "1       95\n",
       "3       33\n",
       "4       55\n",
       "5       95\n",
       "6      143\n",
       "7      185\n",
       "8      234\n",
       "9      330\n",
       "10     469\n",
       "11     638\n",
       "12     742\n",
       "13     923\n",
       "14     991\n",
       "15    1080\n",
       "16    1119\n",
       "17    1095\n",
       "18    1190\n",
       "19    1198\n",
       "20    1119\n",
       "21    1122\n",
       "22     958\n",
       "23     815\n",
       "24     684\n",
       "25     561\n",
       "26     498\n",
       "27     397\n",
       "28     288\n",
       "29     271\n",
       "30     197\n",
       "31     164\n",
       "32     137\n",
       "33      96\n",
       "34      71\n",
       "35      47\n",
       "36      14\n",
       "37       7\n",
       "38       1\n",
       "39       3\n",
       "40       2\n",
       "41       1\n",
       "Name: user_id, dtype: int64"
      ]
     },
     "execution_count": 25,
     "metadata": {},
     "output_type": "execute_result"
    }
   ],
   "source": [
    "# Рассмотрим столбец 'duration'\n",
    "\n",
    "rides_go.groupby('duration')['user_id'].count()"
   ]
  },
  {
   "cell_type": "code",
   "execution_count": 26,
   "id": "0a246105-c96b-4b2c-98a6-4654966ea432",
   "metadata": {
    "scrolled": true
   },
   "outputs": [
    {
     "data": {
      "image/png": "[encoded data removed]",
      "text/plain": [
       "<Figure size 500x300 with 1 Axes>"
      ]
     },
     "metadata": {},
     "output_type": "display_data"
    }
   ],
   "source": [
    "# Гистограмма распределения длительности\n",
    "plt.figure(figsize=(5, 3))\n",
    "plt.hist(rides_go['duration'], bins=40, color='orange', edgecolor='black', alpha=0.7)\n",
    "plt.xlabel('Длительность в мин.')\n",
    "plt.ylabel('Количество поездок')\n",
    "plt.title('Распределение длительности поездок')\n",
    "plt.show()\n"
   ]
  },
  {
   "cell_type": "code",
   "execution_count": 27,
   "id": "6602fed3-be4d-44eb-8413-e30d0f27abad",
   "metadata": {
    "scrolled": true
   },
   "outputs": [
    {
     "data": {
      "text/plain": [
       "count    18068.000000\n",
       "mean        18.303520\n",
       "std          6.094928\n",
       "min          1.000000\n",
       "25%         14.000000\n",
       "50%         18.000000\n",
       "75%         22.000000\n",
       "max         41.000000\n",
       "Name: duration, dtype: float64"
      ]
     },
     "execution_count": 27,
     "metadata": {},
     "output_type": "execute_result"
    }
   ],
   "source": [
    "rides_go['duration'].describe()"
   ]
  },
  {
   "cell_type": "markdown",
   "id": "2f357200-386a-4072-8238-d0aba86a7912",
   "metadata": {},
   "source": [
    "Исходя из полученной гистограммы, можно подвести итог, что пользователь самоката в среднем тратит на поездку 18 минут. Медиана распределения также находится на значении в 18 минут. Распределение длительности поездок нормальное.\n",
    "Бывают короткие поездки - длиной в минуту, а также поездки длительностью до 41 минуты."
   ]
  },
  {
   "cell_type": "markdown",
   "id": "be525541-c089-4bb0-bfbc-317a82f331ae",
   "metadata": {},
   "source": [
    "## Вывод:"
   ]
  },
  {
   "cell_type": "markdown",
   "id": "bdd88572-db7b-4249-a93b-a90d5ac707c5",
   "metadata": {},
   "source": [
    "Возрастные путешествия:\n",
    " - Средний возраст пассажиров составляет 25 лет. Люди в возрасте, а в данном случае старше 45 лет, предпочитают обходить самокаты стороной.\n",
    " - Стандартное отклонение 4.6 года. Данные разнообразны, но не слишком далеки от среднего. Все в пределах нормы!\n",
    "\n",
    "Города и поездки:\n",
    " - Пятигорск - самый частый по количеству поездок на самокате город. Судя по всему, дороги и тротуары там приведены в порядок, и самокаты GoFast там самые популярные.\n",
    " - В Москве, на удивление, самое маленькое количество поездок. Смею предположить, что в Москве имеется больше фирм-прокатчиков самокатов, из-за этого у людей появляется больше возможности выбора.\n",
    "\n",
    "Подписка против Бесплатной поездки:\n",
    " - Пользователей без подписки больше чем пользователей с подпиской на 8.87%. Вероятно мы скоро узнаем, кто же в итоге затрачивает денег больше, а кто меньше.\n",
    "\n",
    "Путешествия на расстояния:\n",
    " - В среднем поездка составляет 3 км. Это как прогулка до ближайшего кафе – не слишком далеко, но и не на углу.\n",
    " - Максимальные поездки – 7 км. Это как марафон для самоката!\n",
    " - Минимальная поездка – всего 86 метров. Это как перепрыгнуть через большую лужу :)\n",
    "\n",
    "Длительность путешествий:\n",
    " - В среднем пассажир проводит на самокате 18 минут. Медиана говорит о том же. Кстати, это как серия мультфильма - только смотреть его катаясь на самокате я бы не рекомендовал. \n",
    " - Есть и экстремальные поездки – до 41 минуты. Лишь бы голова не закружилась."
   ]
  },
  {
   "cell_type": "markdown",
   "id": "90e5657e-2745-464f-a359-674eaa8ed1a9",
   "metadata": {},
   "source": [
    "# 4. Объединение данных"
   ]
  },
  {
   "cell_type": "markdown",
   "id": "59165038-9d03-4728-92f5-59f76bd21739",
   "metadata": {},
   "source": [
    "## 4.1 Объединим данные о пользователях, поездках и подписках в один датафрейм."
   ]
  },
  {
   "cell_type": "code",
   "execution_count": 28,
   "id": "68fcabb4-4764-4f8d-95d4-b462ed357bae",
   "metadata": {
    "scrolled": true
   },
   "outputs": [
    {
     "data": {
      "text/html": [
       "<div>\n",
       "<style scoped>\n",
       "    .dataframe tbody tr th:only-of-type {\n",
       "        vertical-align: middle;\n",
       "    }\n",
       "\n",
       "    .dataframe tbody tr th {\n",
       "        vertical-align: top;\n",
       "    }\n",
       "\n",
       "    .dataframe thead th {\n",
       "        text-align: right;\n",
       "    }\n",
       "</style>\n",
       "<table border=\"1\" class=\"dataframe\">\n",
       "  <thead>\n",
       "    <tr style=\"text-align: right;\">\n",
       "      <th></th>\n",
       "      <th>user_id</th>\n",
       "      <th>distance</th>\n",
       "      <th>duration</th>\n",
       "      <th>date</th>\n",
       "      <th>month</th>\n",
       "      <th>distance_km</th>\n",
       "      <th>name</th>\n",
       "      <th>age</th>\n",
       "      <th>city</th>\n",
       "      <th>subscription_type</th>\n",
       "      <th>minute_price</th>\n",
       "      <th>start_ride_price</th>\n",
       "      <th>subscription_fee</th>\n",
       "    </tr>\n",
       "  </thead>\n",
       "  <tbody>\n",
       "    <tr>\n",
       "      <th>0</th>\n",
       "      <td>1</td>\n",
       "      <td>4409.92</td>\n",
       "      <td>26</td>\n",
       "      <td>2021-01-01</td>\n",
       "      <td>1</td>\n",
       "      <td>4.410</td>\n",
       "      <td>Кира</td>\n",
       "      <td>22</td>\n",
       "      <td>Тюмень</td>\n",
       "      <td>ultra</td>\n",
       "      <td>6</td>\n",
       "      <td>0</td>\n",
       "      <td>199</td>\n",
       "    </tr>\n",
       "    <tr>\n",
       "      <th>1</th>\n",
       "      <td>1</td>\n",
       "      <td>2617.59</td>\n",
       "      <td>16</td>\n",
       "      <td>2021-01-18</td>\n",
       "      <td>1</td>\n",
       "      <td>2.618</td>\n",
       "      <td>Кира</td>\n",
       "      <td>22</td>\n",
       "      <td>Тюмень</td>\n",
       "      <td>ultra</td>\n",
       "      <td>6</td>\n",
       "      <td>0</td>\n",
       "      <td>199</td>\n",
       "    </tr>\n",
       "    <tr>\n",
       "      <th>2</th>\n",
       "      <td>1</td>\n",
       "      <td>754.16</td>\n",
       "      <td>7</td>\n",
       "      <td>2021-04-20</td>\n",
       "      <td>4</td>\n",
       "      <td>0.754</td>\n",
       "      <td>Кира</td>\n",
       "      <td>22</td>\n",
       "      <td>Тюмень</td>\n",
       "      <td>ultra</td>\n",
       "      <td>6</td>\n",
       "      <td>0</td>\n",
       "      <td>199</td>\n",
       "    </tr>\n",
       "    <tr>\n",
       "      <th>3</th>\n",
       "      <td>1</td>\n",
       "      <td>2694.78</td>\n",
       "      <td>19</td>\n",
       "      <td>2021-08-11</td>\n",
       "      <td>8</td>\n",
       "      <td>2.695</td>\n",
       "      <td>Кира</td>\n",
       "      <td>22</td>\n",
       "      <td>Тюмень</td>\n",
       "      <td>ultra</td>\n",
       "      <td>6</td>\n",
       "      <td>0</td>\n",
       "      <td>199</td>\n",
       "    </tr>\n",
       "    <tr>\n",
       "      <th>4</th>\n",
       "      <td>1</td>\n",
       "      <td>4028.69</td>\n",
       "      <td>27</td>\n",
       "      <td>2021-08-28</td>\n",
       "      <td>8</td>\n",
       "      <td>4.029</td>\n",
       "      <td>Кира</td>\n",
       "      <td>22</td>\n",
       "      <td>Тюмень</td>\n",
       "      <td>ultra</td>\n",
       "      <td>6</td>\n",
       "      <td>0</td>\n",
       "      <td>199</td>\n",
       "    </tr>\n",
       "    <tr>\n",
       "      <th>...</th>\n",
       "      <td>...</td>\n",
       "      <td>...</td>\n",
       "      <td>...</td>\n",
       "      <td>...</td>\n",
       "      <td>...</td>\n",
       "      <td>...</td>\n",
       "      <td>...</td>\n",
       "      <td>...</td>\n",
       "      <td>...</td>\n",
       "      <td>...</td>\n",
       "      <td>...</td>\n",
       "      <td>...</td>\n",
       "      <td>...</td>\n",
       "    </tr>\n",
       "    <tr>\n",
       "      <th>18063</th>\n",
       "      <td>1534</td>\n",
       "      <td>3781.10</td>\n",
       "      <td>20</td>\n",
       "      <td>2021-11-04</td>\n",
       "      <td>11</td>\n",
       "      <td>3.781</td>\n",
       "      <td>Альберт</td>\n",
       "      <td>25</td>\n",
       "      <td>Краснодар</td>\n",
       "      <td>free</td>\n",
       "      <td>8</td>\n",
       "      <td>50</td>\n",
       "      <td>0</td>\n",
       "    </tr>\n",
       "    <tr>\n",
       "      <th>18064</th>\n",
       "      <td>1534</td>\n",
       "      <td>2840.42</td>\n",
       "      <td>22</td>\n",
       "      <td>2021-11-16</td>\n",
       "      <td>11</td>\n",
       "      <td>2.840</td>\n",
       "      <td>Альберт</td>\n",
       "      <td>25</td>\n",
       "      <td>Краснодар</td>\n",
       "      <td>free</td>\n",
       "      <td>8</td>\n",
       "      <td>50</td>\n",
       "      <td>0</td>\n",
       "    </tr>\n",
       "    <tr>\n",
       "      <th>18065</th>\n",
       "      <td>1534</td>\n",
       "      <td>3826.19</td>\n",
       "      <td>19</td>\n",
       "      <td>2021-11-18</td>\n",
       "      <td>11</td>\n",
       "      <td>3.826</td>\n",
       "      <td>Альберт</td>\n",
       "      <td>25</td>\n",
       "      <td>Краснодар</td>\n",
       "      <td>free</td>\n",
       "      <td>8</td>\n",
       "      <td>50</td>\n",
       "      <td>0</td>\n",
       "    </tr>\n",
       "    <tr>\n",
       "      <th>18066</th>\n",
       "      <td>1534</td>\n",
       "      <td>2902.31</td>\n",
       "      <td>17</td>\n",
       "      <td>2021-11-27</td>\n",
       "      <td>11</td>\n",
       "      <td>2.902</td>\n",
       "      <td>Альберт</td>\n",
       "      <td>25</td>\n",
       "      <td>Краснодар</td>\n",
       "      <td>free</td>\n",
       "      <td>8</td>\n",
       "      <td>50</td>\n",
       "      <td>0</td>\n",
       "    </tr>\n",
       "    <tr>\n",
       "      <th>18067</th>\n",
       "      <td>1534</td>\n",
       "      <td>2371.71</td>\n",
       "      <td>16</td>\n",
       "      <td>2021-12-29</td>\n",
       "      <td>12</td>\n",
       "      <td>2.372</td>\n",
       "      <td>Альберт</td>\n",
       "      <td>25</td>\n",
       "      <td>Краснодар</td>\n",
       "      <td>free</td>\n",
       "      <td>8</td>\n",
       "      <td>50</td>\n",
       "      <td>0</td>\n",
       "    </tr>\n",
       "  </tbody>\n",
       "</table>\n",
       "<p>18068 rows × 13 columns</p>\n",
       "</div>"
      ],
      "text/plain": [
       "       user_id  distance  duration       date  month  distance_km     name  \\\n",
       "0            1   4409.92        26 2021-01-01      1        4.410     Кира   \n",
       "1            1   2617.59        16 2021-01-18      1        2.618     Кира   \n",
       "2            1    754.16         7 2021-04-20      4        0.754     Кира   \n",
       "3            1   2694.78        19 2021-08-11      8        2.695     Кира   \n",
       "4            1   4028.69        27 2021-08-28      8        4.029     Кира   \n",
       "...        ...       ...       ...        ...    ...          ...      ...   \n",
       "18063     1534   3781.10        20 2021-11-04     11        3.781  Альберт   \n",
       "18064     1534   2840.42        22 2021-11-16     11        2.840  Альберт   \n",
       "18065     1534   3826.19        19 2021-11-18     11        3.826  Альберт   \n",
       "18066     1534   2902.31        17 2021-11-27     11        2.902  Альберт   \n",
       "18067     1534   2371.71        16 2021-12-29     12        2.372  Альберт   \n",
       "\n",
       "       age       city subscription_type  minute_price  start_ride_price  \\\n",
       "0       22     Тюмень             ultra             6                 0   \n",
       "1       22     Тюмень             ultra             6                 0   \n",
       "2       22     Тюмень             ultra             6                 0   \n",
       "3       22     Тюмень             ultra             6                 0   \n",
       "4       22     Тюмень             ultra             6                 0   \n",
       "...    ...        ...               ...           ...               ...   \n",
       "18063   25  Краснодар              free             8                50   \n",
       "18064   25  Краснодар              free             8                50   \n",
       "18065   25  Краснодар              free             8                50   \n",
       "18066   25  Краснодар              free             8                50   \n",
       "18067   25  Краснодар              free             8                50   \n",
       "\n",
       "       subscription_fee  \n",
       "0                   199  \n",
       "1                   199  \n",
       "2                   199  \n",
       "3                   199  \n",
       "4                   199  \n",
       "...                 ...  \n",
       "18063                 0  \n",
       "18064                 0  \n",
       "18065                 0  \n",
       "18066                 0  \n",
       "18067                 0  \n",
       "\n",
       "[18068 rows x 13 columns]"
      ]
     },
     "metadata": {},
     "output_type": "display_data"
    }
   ],
   "source": [
    "# объединим три таблицы в одну методом 'merge'\n",
    "merged_go = rides_go.copy()\n",
    "merged_go = merged_go.merge(users_go, how = 'left', on = 'user_id' )\n",
    "merged_go = merged_go.merge(subscriptions_go, how = 'left', on='subscription_type')\n",
    "\n",
    "# отображение таблицы\n",
    "display(merged_go)"
   ]
  },
  {
   "cell_type": "code",
   "execution_count": 29,
   "id": "acd9029a-aa51-4e71-8c7a-704b2387e139",
   "metadata": {},
   "outputs": [
    {
     "name": "stdout",
     "output_type": "stream",
     "text": [
      "<class 'pandas.core.frame.DataFrame'>\n",
      "Int64Index: 18068 entries, 0 to 18067\n",
      "Data columns (total 13 columns):\n",
      " #   Column             Non-Null Count  Dtype         \n",
      "---  ------             --------------  -----         \n",
      " 0   user_id            18068 non-null  uint16        \n",
      " 1   distance           18068 non-null  float64       \n",
      " 2   duration           18068 non-null  uint16        \n",
      " 3   date               18068 non-null  datetime64[ns]\n",
      " 4   month              18068 non-null  uint8         \n",
      " 5   distance_km        18068 non-null  float64       \n",
      " 6   name               18068 non-null  object        \n",
      " 7   age                18068 non-null  uint8         \n",
      " 8   city               18068 non-null  object        \n",
      " 9   subscription_type  18068 non-null  object        \n",
      " 10  minute_price       18068 non-null  uint8         \n",
      " 11  start_ride_price   18068 non-null  uint8         \n",
      " 12  subscription_fee   18068 non-null  uint16        \n",
      "dtypes: datetime64[ns](1), float64(2), object(3), uint16(3), uint8(4)\n",
      "memory usage: 1.1+ MB\n"
     ]
    }
   ],
   "source": [
    "# вывод информации о таблице\n",
    "merged_go.info()"
   ]
  },
  {
   "cell_type": "markdown",
   "id": "2b368653",
   "metadata": {},
   "source": [
    "Для того, чтобы удостовериться в корректности объединения данных, необходимо выполнить несколько дополнительных шагов:\n",
    "1. Проверка на потерю данных\n",
    "2. Проверка на появление лишних записей\n",
    "3. Проверка на пропуски\n",
    "4. Проверка на дубликаты"
   ]
  },
  {
   "cell_type": "code",
   "execution_count": 30,
   "id": "b69f29d6",
   "metadata": {},
   "outputs": [
    {
     "name": "stdout",
     "output_type": "stream",
     "text": [
      "1. Потерянные строки отсутствуют\n",
      "2. Лишние строки отсутствуют\n",
      "3. Пропущенные значения отсутствуют\n",
      "4. Явные дубликаты отсутствуют\n"
     ]
    }
   ],
   "source": [
    "# проверка на потерю данных\n",
    "if len(rides_go) != len(merged_go):\n",
    "    print(f'1. Часть строк была пропущена. Количество строк: {len(merged_go) - len(rides_go)}')\n",
    "else:\n",
    "    print('1. Потерянные строки отсутствуют')\n",
    "    \n",
    "# проверка на появление лишних записей\n",
    "if len(rides_go) < len(merged_go):\n",
    "    print(f'2. Лишние строки добавлены в объединенную таблицу. Их количество: {len(merged_go) - len(rides_go)}')\n",
    "else:\n",
    "    print('2. Лишние строки отсутствуют')\n",
    "\n",
    "# проверка на пропуски\n",
    "if np.sum(merged_go.isnull().values) > 0:\n",
    "    print(f'3. Есть пропущенные значения в объединенной таблице. Их количество: {merged_go.isnull()}')\n",
    "else:\n",
    "    print('3. Пропущенные значения отсутствуют')\n",
    "    \n",
    "# проверка на дубликаты\n",
    "if merged_go.duplicated().sum() > 0:\n",
    "    print(f'4. Есть явные дубликаты в объединенной таблице. Их количество: {merged_go.duplicated().sum()}')\n",
    "else:\n",
    "    print('4. Явные дубликаты отсутствуют')"
   ]
  },
  {
   "cell_type": "markdown",
   "id": "949ba1f8-7d27-4688-813d-959ed804bba2",
   "metadata": {},
   "source": [
    "## 4.2 Создание датафреймов с пользователями без подписки, с подпиской."
   ]
  },
  {
   "cell_type": "markdown",
   "id": "afbf9666-40c3-4594-9ee8-555ccc3f11ed",
   "metadata": {},
   "source": [
    "Датафрейм с данными о пользователях без подписки:"
   ]
  },
  {
   "cell_type": "code",
   "execution_count": 31,
   "id": "d5327952-5f97-46f1-9e7a-c3721593f8b9",
   "metadata": {
    "scrolled": true
   },
   "outputs": [
    {
     "data": {
      "text/html": [
       "<div>\n",
       "<style scoped>\n",
       "    .dataframe tbody tr th:only-of-type {\n",
       "        vertical-align: middle;\n",
       "    }\n",
       "\n",
       "    .dataframe tbody tr th {\n",
       "        vertical-align: top;\n",
       "    }\n",
       "\n",
       "    .dataframe thead th {\n",
       "        text-align: right;\n",
       "    }\n",
       "</style>\n",
       "<table border=\"1\" class=\"dataframe\">\n",
       "  <thead>\n",
       "    <tr style=\"text-align: right;\">\n",
       "      <th></th>\n",
       "      <th>user_id</th>\n",
       "      <th>distance</th>\n",
       "      <th>duration</th>\n",
       "      <th>date</th>\n",
       "      <th>month</th>\n",
       "      <th>distance_km</th>\n",
       "      <th>name</th>\n",
       "      <th>age</th>\n",
       "      <th>city</th>\n",
       "      <th>subscription_type</th>\n",
       "      <th>minute_price</th>\n",
       "      <th>start_ride_price</th>\n",
       "      <th>subscription_fee</th>\n",
       "    </tr>\n",
       "  </thead>\n",
       "  <tbody>\n",
       "    <tr>\n",
       "      <th>6500</th>\n",
       "      <td>700</td>\n",
       "      <td>2515.69</td>\n",
       "      <td>15</td>\n",
       "      <td>2021-01-02</td>\n",
       "      <td>1</td>\n",
       "      <td>2.516</td>\n",
       "      <td>Айдар</td>\n",
       "      <td>22</td>\n",
       "      <td>Омск</td>\n",
       "      <td>free</td>\n",
       "      <td>8</td>\n",
       "      <td>50</td>\n",
       "      <td>0</td>\n",
       "    </tr>\n",
       "    <tr>\n",
       "      <th>6501</th>\n",
       "      <td>700</td>\n",
       "      <td>846.93</td>\n",
       "      <td>17</td>\n",
       "      <td>2021-02-01</td>\n",
       "      <td>2</td>\n",
       "      <td>0.847</td>\n",
       "      <td>Айдар</td>\n",
       "      <td>22</td>\n",
       "      <td>Омск</td>\n",
       "      <td>free</td>\n",
       "      <td>8</td>\n",
       "      <td>50</td>\n",
       "      <td>0</td>\n",
       "    </tr>\n",
       "    <tr>\n",
       "      <th>6502</th>\n",
       "      <td>700</td>\n",
       "      <td>4004.43</td>\n",
       "      <td>21</td>\n",
       "      <td>2021-02-04</td>\n",
       "      <td>2</td>\n",
       "      <td>4.004</td>\n",
       "      <td>Айдар</td>\n",
       "      <td>22</td>\n",
       "      <td>Омск</td>\n",
       "      <td>free</td>\n",
       "      <td>8</td>\n",
       "      <td>50</td>\n",
       "      <td>0</td>\n",
       "    </tr>\n",
       "    <tr>\n",
       "      <th>6503</th>\n",
       "      <td>700</td>\n",
       "      <td>1205.91</td>\n",
       "      <td>10</td>\n",
       "      <td>2021-02-10</td>\n",
       "      <td>2</td>\n",
       "      <td>1.206</td>\n",
       "      <td>Айдар</td>\n",
       "      <td>22</td>\n",
       "      <td>Омск</td>\n",
       "      <td>free</td>\n",
       "      <td>8</td>\n",
       "      <td>50</td>\n",
       "      <td>0</td>\n",
       "    </tr>\n",
       "    <tr>\n",
       "      <th>6504</th>\n",
       "      <td>700</td>\n",
       "      <td>3047.38</td>\n",
       "      <td>18</td>\n",
       "      <td>2021-02-14</td>\n",
       "      <td>2</td>\n",
       "      <td>3.047</td>\n",
       "      <td>Айдар</td>\n",
       "      <td>22</td>\n",
       "      <td>Омск</td>\n",
       "      <td>free</td>\n",
       "      <td>8</td>\n",
       "      <td>50</td>\n",
       "      <td>0</td>\n",
       "    </tr>\n",
       "    <tr>\n",
       "      <th>...</th>\n",
       "      <td>...</td>\n",
       "      <td>...</td>\n",
       "      <td>...</td>\n",
       "      <td>...</td>\n",
       "      <td>...</td>\n",
       "      <td>...</td>\n",
       "      <td>...</td>\n",
       "      <td>...</td>\n",
       "      <td>...</td>\n",
       "      <td>...</td>\n",
       "      <td>...</td>\n",
       "      <td>...</td>\n",
       "      <td>...</td>\n",
       "    </tr>\n",
       "    <tr>\n",
       "      <th>18063</th>\n",
       "      <td>1534</td>\n",
       "      <td>3781.10</td>\n",
       "      <td>20</td>\n",
       "      <td>2021-11-04</td>\n",
       "      <td>11</td>\n",
       "      <td>3.781</td>\n",
       "      <td>Альберт</td>\n",
       "      <td>25</td>\n",
       "      <td>Краснодар</td>\n",
       "      <td>free</td>\n",
       "      <td>8</td>\n",
       "      <td>50</td>\n",
       "      <td>0</td>\n",
       "    </tr>\n",
       "    <tr>\n",
       "      <th>18064</th>\n",
       "      <td>1534</td>\n",
       "      <td>2840.42</td>\n",
       "      <td>22</td>\n",
       "      <td>2021-11-16</td>\n",
       "      <td>11</td>\n",
       "      <td>2.840</td>\n",
       "      <td>Альберт</td>\n",
       "      <td>25</td>\n",
       "      <td>Краснодар</td>\n",
       "      <td>free</td>\n",
       "      <td>8</td>\n",
       "      <td>50</td>\n",
       "      <td>0</td>\n",
       "    </tr>\n",
       "    <tr>\n",
       "      <th>18065</th>\n",
       "      <td>1534</td>\n",
       "      <td>3826.19</td>\n",
       "      <td>19</td>\n",
       "      <td>2021-11-18</td>\n",
       "      <td>11</td>\n",
       "      <td>3.826</td>\n",
       "      <td>Альберт</td>\n",
       "      <td>25</td>\n",
       "      <td>Краснодар</td>\n",
       "      <td>free</td>\n",
       "      <td>8</td>\n",
       "      <td>50</td>\n",
       "      <td>0</td>\n",
       "    </tr>\n",
       "    <tr>\n",
       "      <th>18066</th>\n",
       "      <td>1534</td>\n",
       "      <td>2902.31</td>\n",
       "      <td>17</td>\n",
       "      <td>2021-11-27</td>\n",
       "      <td>11</td>\n",
       "      <td>2.902</td>\n",
       "      <td>Альберт</td>\n",
       "      <td>25</td>\n",
       "      <td>Краснодар</td>\n",
       "      <td>free</td>\n",
       "      <td>8</td>\n",
       "      <td>50</td>\n",
       "      <td>0</td>\n",
       "    </tr>\n",
       "    <tr>\n",
       "      <th>18067</th>\n",
       "      <td>1534</td>\n",
       "      <td>2371.71</td>\n",
       "      <td>16</td>\n",
       "      <td>2021-12-29</td>\n",
       "      <td>12</td>\n",
       "      <td>2.372</td>\n",
       "      <td>Альберт</td>\n",
       "      <td>25</td>\n",
       "      <td>Краснодар</td>\n",
       "      <td>free</td>\n",
       "      <td>8</td>\n",
       "      <td>50</td>\n",
       "      <td>0</td>\n",
       "    </tr>\n",
       "  </tbody>\n",
       "</table>\n",
       "<p>11568 rows × 13 columns</p>\n",
       "</div>"
      ],
      "text/plain": [
       "       user_id  distance  duration       date  month  distance_km     name  \\\n",
       "6500       700   2515.69        15 2021-01-02      1        2.516    Айдар   \n",
       "6501       700    846.93        17 2021-02-01      2        0.847    Айдар   \n",
       "6502       700   4004.43        21 2021-02-04      2        4.004    Айдар   \n",
       "6503       700   1205.91        10 2021-02-10      2        1.206    Айдар   \n",
       "6504       700   3047.38        18 2021-02-14      2        3.047    Айдар   \n",
       "...        ...       ...       ...        ...    ...          ...      ...   \n",
       "18063     1534   3781.10        20 2021-11-04     11        3.781  Альберт   \n",
       "18064     1534   2840.42        22 2021-11-16     11        2.840  Альберт   \n",
       "18065     1534   3826.19        19 2021-11-18     11        3.826  Альберт   \n",
       "18066     1534   2902.31        17 2021-11-27     11        2.902  Альберт   \n",
       "18067     1534   2371.71        16 2021-12-29     12        2.372  Альберт   \n",
       "\n",
       "       age       city subscription_type  minute_price  start_ride_price  \\\n",
       "6500    22       Омск              free             8                50   \n",
       "6501    22       Омск              free             8                50   \n",
       "6502    22       Омск              free             8                50   \n",
       "6503    22       Омск              free             8                50   \n",
       "6504    22       Омск              free             8                50   \n",
       "...    ...        ...               ...           ...               ...   \n",
       "18063   25  Краснодар              free             8                50   \n",
       "18064   25  Краснодар              free             8                50   \n",
       "18065   25  Краснодар              free             8                50   \n",
       "18066   25  Краснодар              free             8                50   \n",
       "18067   25  Краснодар              free             8                50   \n",
       "\n",
       "       subscription_fee  \n",
       "6500                  0  \n",
       "6501                  0  \n",
       "6502                  0  \n",
       "6503                  0  \n",
       "6504                  0  \n",
       "...                 ...  \n",
       "18063                 0  \n",
       "18064                 0  \n",
       "18065                 0  \n",
       "18066                 0  \n",
       "18067                 0  \n",
       "\n",
       "[11568 rows x 13 columns]"
      ]
     },
     "metadata": {},
     "output_type": "display_data"
    },
    {
     "name": "stdout",
     "output_type": "stream",
     "text": [
      "Количество строк в датафрейме merged_without: 11568\n"
     ]
    }
   ],
   "source": [
    "# объединение таблиц с помощью поиска по значению 'free'\n",
    "merged_free = merged_go[merged_go['subscription_type'] == 'free']\n",
    "\n",
    "display(merged_free)\n",
    "\n",
    "print('Количество строк в датафрейме merged_without:', merged_free['user_id'].count())"
   ]
  },
  {
   "cell_type": "code",
   "execution_count": 32,
   "id": "6054d196-32c6-46d2-84db-f9be8e63929e",
   "metadata": {},
   "outputs": [
    {
     "data": {
      "text/html": [
       "<div>\n",
       "<style scoped>\n",
       "    .dataframe tbody tr th:only-of-type {\n",
       "        vertical-align: middle;\n",
       "    }\n",
       "\n",
       "    .dataframe tbody tr th {\n",
       "        vertical-align: top;\n",
       "    }\n",
       "\n",
       "    .dataframe thead th {\n",
       "        text-align: right;\n",
       "    }\n",
       "</style>\n",
       "<table border=\"1\" class=\"dataframe\">\n",
       "  <thead>\n",
       "    <tr style=\"text-align: right;\">\n",
       "      <th></th>\n",
       "      <th>user_id</th>\n",
       "      <th>distance</th>\n",
       "      <th>duration</th>\n",
       "      <th>month</th>\n",
       "      <th>distance_km</th>\n",
       "      <th>age</th>\n",
       "      <th>minute_price</th>\n",
       "      <th>start_ride_price</th>\n",
       "      <th>subscription_fee</th>\n",
       "    </tr>\n",
       "  </thead>\n",
       "  <tbody>\n",
       "    <tr>\n",
       "      <th>count</th>\n",
       "      <td>11568.000000</td>\n",
       "      <td>11568.000000</td>\n",
       "      <td>11568.000000</td>\n",
       "      <td>11568.000000</td>\n",
       "      <td>11568.000000</td>\n",
       "      <td>11568.000000</td>\n",
       "      <td>11568.0</td>\n",
       "      <td>11568.0</td>\n",
       "      <td>11568.0</td>\n",
       "    </tr>\n",
       "    <tr>\n",
       "      <th>mean</th>\n",
       "      <td>1120.527230</td>\n",
       "      <td>3045.495284</td>\n",
       "      <td>17.890992</td>\n",
       "      <td>6.522994</td>\n",
       "      <td>3.045496</td>\n",
       "      <td>24.893326</td>\n",
       "      <td>8.0</td>\n",
       "      <td>50.0</td>\n",
       "      <td>0.0</td>\n",
       "    </tr>\n",
       "    <tr>\n",
       "      <th>std</th>\n",
       "      <td>241.165628</td>\n",
       "      <td>1246.173810</td>\n",
       "      <td>6.330250</td>\n",
       "      <td>3.449770</td>\n",
       "      <td>1.246175</td>\n",
       "      <td>4.481100</td>\n",
       "      <td>0.0</td>\n",
       "      <td>0.0</td>\n",
       "      <td>0.0</td>\n",
       "    </tr>\n",
       "    <tr>\n",
       "      <th>min</th>\n",
       "      <td>700.000000</td>\n",
       "      <td>0.860000</td>\n",
       "      <td>1.000000</td>\n",
       "      <td>1.000000</td>\n",
       "      <td>0.001000</td>\n",
       "      <td>12.000000</td>\n",
       "      <td>8.0</td>\n",
       "      <td>50.0</td>\n",
       "      <td>0.0</td>\n",
       "    </tr>\n",
       "    <tr>\n",
       "      <th>25%</th>\n",
       "      <td>915.000000</td>\n",
       "      <td>2366.560000</td>\n",
       "      <td>13.000000</td>\n",
       "      <td>4.000000</td>\n",
       "      <td>2.367000</td>\n",
       "      <td>22.000000</td>\n",
       "      <td>8.0</td>\n",
       "      <td>50.0</td>\n",
       "      <td>0.0</td>\n",
       "    </tr>\n",
       "    <tr>\n",
       "      <th>50%</th>\n",
       "      <td>1123.000000</td>\n",
       "      <td>3114.650000</td>\n",
       "      <td>18.000000</td>\n",
       "      <td>7.000000</td>\n",
       "      <td>3.115000</td>\n",
       "      <td>25.000000</td>\n",
       "      <td>8.0</td>\n",
       "      <td>50.0</td>\n",
       "      <td>0.0</td>\n",
       "    </tr>\n",
       "    <tr>\n",
       "      <th>75%</th>\n",
       "      <td>1328.000000</td>\n",
       "      <td>3905.695000</td>\n",
       "      <td>22.000000</td>\n",
       "      <td>9.000000</td>\n",
       "      <td>3.906000</td>\n",
       "      <td>28.000000</td>\n",
       "      <td>8.0</td>\n",
       "      <td>50.0</td>\n",
       "      <td>0.0</td>\n",
       "    </tr>\n",
       "    <tr>\n",
       "      <th>max</th>\n",
       "      <td>1534.000000</td>\n",
       "      <td>7211.010000</td>\n",
       "      <td>35.000000</td>\n",
       "      <td>12.000000</td>\n",
       "      <td>7.211000</td>\n",
       "      <td>43.000000</td>\n",
       "      <td>8.0</td>\n",
       "      <td>50.0</td>\n",
       "      <td>0.0</td>\n",
       "    </tr>\n",
       "  </tbody>\n",
       "</table>\n",
       "</div>"
      ],
      "text/plain": [
       "            user_id      distance      duration         month   distance_km  \\\n",
       "count  11568.000000  11568.000000  11568.000000  11568.000000  11568.000000   \n",
       "mean    1120.527230   3045.495284     17.890992      6.522994      3.045496   \n",
       "std      241.165628   1246.173810      6.330250      3.449770      1.246175   \n",
       "min      700.000000      0.860000      1.000000      1.000000      0.001000   \n",
       "25%      915.000000   2366.560000     13.000000      4.000000      2.367000   \n",
       "50%     1123.000000   3114.650000     18.000000      7.000000      3.115000   \n",
       "75%     1328.000000   3905.695000     22.000000      9.000000      3.906000   \n",
       "max     1534.000000   7211.010000     35.000000     12.000000      7.211000   \n",
       "\n",
       "                age  minute_price  start_ride_price  subscription_fee  \n",
       "count  11568.000000       11568.0           11568.0           11568.0  \n",
       "mean      24.893326           8.0              50.0               0.0  \n",
       "std        4.481100           0.0               0.0               0.0  \n",
       "min       12.000000           8.0              50.0               0.0  \n",
       "25%       22.000000           8.0              50.0               0.0  \n",
       "50%       25.000000           8.0              50.0               0.0  \n",
       "75%       28.000000           8.0              50.0               0.0  \n",
       "max       43.000000           8.0              50.0               0.0  "
      ]
     },
     "execution_count": 32,
     "metadata": {},
     "output_type": "execute_result"
    }
   ],
   "source": [
    "# рассмотрим статистические данные таблицы free\n",
    "merged_free.describe()"
   ]
  },
  {
   "cell_type": "markdown",
   "id": "9db02b50-492b-49ee-be6a-7601c09ca8f9",
   "metadata": {},
   "source": [
    "Датафрейм с данными о пользователях с подпиской:"
   ]
  },
  {
   "cell_type": "code",
   "execution_count": 33,
   "id": "1402c295-7e10-4335-8065-9b0666496380",
   "metadata": {
    "scrolled": true
   },
   "outputs": [
    {
     "data": {
      "text/html": [
       "<div>\n",
       "<style scoped>\n",
       "    .dataframe tbody tr th:only-of-type {\n",
       "        vertical-align: middle;\n",
       "    }\n",
       "\n",
       "    .dataframe tbody tr th {\n",
       "        vertical-align: top;\n",
       "    }\n",
       "\n",
       "    .dataframe thead th {\n",
       "        text-align: right;\n",
       "    }\n",
       "</style>\n",
       "<table border=\"1\" class=\"dataframe\">\n",
       "  <thead>\n",
       "    <tr style=\"text-align: right;\">\n",
       "      <th></th>\n",
       "      <th>user_id</th>\n",
       "      <th>distance</th>\n",
       "      <th>duration</th>\n",
       "      <th>date</th>\n",
       "      <th>month</th>\n",
       "      <th>distance_km</th>\n",
       "      <th>name</th>\n",
       "      <th>age</th>\n",
       "      <th>city</th>\n",
       "      <th>subscription_type</th>\n",
       "      <th>minute_price</th>\n",
       "      <th>start_ride_price</th>\n",
       "      <th>subscription_fee</th>\n",
       "    </tr>\n",
       "  </thead>\n",
       "  <tbody>\n",
       "    <tr>\n",
       "      <th>0</th>\n",
       "      <td>1</td>\n",
       "      <td>4409.92</td>\n",
       "      <td>26</td>\n",
       "      <td>2021-01-01</td>\n",
       "      <td>1</td>\n",
       "      <td>4.410</td>\n",
       "      <td>Кира</td>\n",
       "      <td>22</td>\n",
       "      <td>Тюмень</td>\n",
       "      <td>ultra</td>\n",
       "      <td>6</td>\n",
       "      <td>0</td>\n",
       "      <td>199</td>\n",
       "    </tr>\n",
       "    <tr>\n",
       "      <th>1</th>\n",
       "      <td>1</td>\n",
       "      <td>2617.59</td>\n",
       "      <td>16</td>\n",
       "      <td>2021-01-18</td>\n",
       "      <td>1</td>\n",
       "      <td>2.618</td>\n",
       "      <td>Кира</td>\n",
       "      <td>22</td>\n",
       "      <td>Тюмень</td>\n",
       "      <td>ultra</td>\n",
       "      <td>6</td>\n",
       "      <td>0</td>\n",
       "      <td>199</td>\n",
       "    </tr>\n",
       "    <tr>\n",
       "      <th>2</th>\n",
       "      <td>1</td>\n",
       "      <td>754.16</td>\n",
       "      <td>7</td>\n",
       "      <td>2021-04-20</td>\n",
       "      <td>4</td>\n",
       "      <td>0.754</td>\n",
       "      <td>Кира</td>\n",
       "      <td>22</td>\n",
       "      <td>Тюмень</td>\n",
       "      <td>ultra</td>\n",
       "      <td>6</td>\n",
       "      <td>0</td>\n",
       "      <td>199</td>\n",
       "    </tr>\n",
       "    <tr>\n",
       "      <th>3</th>\n",
       "      <td>1</td>\n",
       "      <td>2694.78</td>\n",
       "      <td>19</td>\n",
       "      <td>2021-08-11</td>\n",
       "      <td>8</td>\n",
       "      <td>2.695</td>\n",
       "      <td>Кира</td>\n",
       "      <td>22</td>\n",
       "      <td>Тюмень</td>\n",
       "      <td>ultra</td>\n",
       "      <td>6</td>\n",
       "      <td>0</td>\n",
       "      <td>199</td>\n",
       "    </tr>\n",
       "    <tr>\n",
       "      <th>4</th>\n",
       "      <td>1</td>\n",
       "      <td>4028.69</td>\n",
       "      <td>27</td>\n",
       "      <td>2021-08-28</td>\n",
       "      <td>8</td>\n",
       "      <td>4.029</td>\n",
       "      <td>Кира</td>\n",
       "      <td>22</td>\n",
       "      <td>Тюмень</td>\n",
       "      <td>ultra</td>\n",
       "      <td>6</td>\n",
       "      <td>0</td>\n",
       "      <td>199</td>\n",
       "    </tr>\n",
       "    <tr>\n",
       "      <th>...</th>\n",
       "      <td>...</td>\n",
       "      <td>...</td>\n",
       "      <td>...</td>\n",
       "      <td>...</td>\n",
       "      <td>...</td>\n",
       "      <td>...</td>\n",
       "      <td>...</td>\n",
       "      <td>...</td>\n",
       "      <td>...</td>\n",
       "      <td>...</td>\n",
       "      <td>...</td>\n",
       "      <td>...</td>\n",
       "      <td>...</td>\n",
       "    </tr>\n",
       "    <tr>\n",
       "      <th>6495</th>\n",
       "      <td>699</td>\n",
       "      <td>3973.05</td>\n",
       "      <td>25</td>\n",
       "      <td>2021-08-29</td>\n",
       "      <td>8</td>\n",
       "      <td>3.973</td>\n",
       "      <td>Оксана</td>\n",
       "      <td>22</td>\n",
       "      <td>Москва</td>\n",
       "      <td>ultra</td>\n",
       "      <td>6</td>\n",
       "      <td>0</td>\n",
       "      <td>199</td>\n",
       "    </tr>\n",
       "    <tr>\n",
       "      <th>6496</th>\n",
       "      <td>699</td>\n",
       "      <td>3288.70</td>\n",
       "      <td>16</td>\n",
       "      <td>2021-09-12</td>\n",
       "      <td>9</td>\n",
       "      <td>3.289</td>\n",
       "      <td>Оксана</td>\n",
       "      <td>22</td>\n",
       "      <td>Москва</td>\n",
       "      <td>ultra</td>\n",
       "      <td>6</td>\n",
       "      <td>0</td>\n",
       "      <td>199</td>\n",
       "    </tr>\n",
       "    <tr>\n",
       "      <th>6497</th>\n",
       "      <td>699</td>\n",
       "      <td>3076.16</td>\n",
       "      <td>15</td>\n",
       "      <td>2021-09-26</td>\n",
       "      <td>9</td>\n",
       "      <td>3.076</td>\n",
       "      <td>Оксана</td>\n",
       "      <td>22</td>\n",
       "      <td>Москва</td>\n",
       "      <td>ultra</td>\n",
       "      <td>6</td>\n",
       "      <td>0</td>\n",
       "      <td>199</td>\n",
       "    </tr>\n",
       "    <tr>\n",
       "      <th>6498</th>\n",
       "      <td>699</td>\n",
       "      <td>4707.85</td>\n",
       "      <td>16</td>\n",
       "      <td>2021-10-17</td>\n",
       "      <td>10</td>\n",
       "      <td>4.708</td>\n",
       "      <td>Оксана</td>\n",
       "      <td>22</td>\n",
       "      <td>Москва</td>\n",
       "      <td>ultra</td>\n",
       "      <td>6</td>\n",
       "      <td>0</td>\n",
       "      <td>199</td>\n",
       "    </tr>\n",
       "    <tr>\n",
       "      <th>6499</th>\n",
       "      <td>699</td>\n",
       "      <td>3202.89</td>\n",
       "      <td>26</td>\n",
       "      <td>2021-12-03</td>\n",
       "      <td>12</td>\n",
       "      <td>3.203</td>\n",
       "      <td>Оксана</td>\n",
       "      <td>22</td>\n",
       "      <td>Москва</td>\n",
       "      <td>ultra</td>\n",
       "      <td>6</td>\n",
       "      <td>0</td>\n",
       "      <td>199</td>\n",
       "    </tr>\n",
       "  </tbody>\n",
       "</table>\n",
       "<p>6500 rows × 13 columns</p>\n",
       "</div>"
      ],
      "text/plain": [
       "      user_id  distance  duration       date  month  distance_km    name  age  \\\n",
       "0           1   4409.92        26 2021-01-01      1        4.410    Кира   22   \n",
       "1           1   2617.59        16 2021-01-18      1        2.618    Кира   22   \n",
       "2           1    754.16         7 2021-04-20      4        0.754    Кира   22   \n",
       "3           1   2694.78        19 2021-08-11      8        2.695    Кира   22   \n",
       "4           1   4028.69        27 2021-08-28      8        4.029    Кира   22   \n",
       "...       ...       ...       ...        ...    ...          ...     ...  ...   \n",
       "6495      699   3973.05        25 2021-08-29      8        3.973  Оксана   22   \n",
       "6496      699   3288.70        16 2021-09-12      9        3.289  Оксана   22   \n",
       "6497      699   3076.16        15 2021-09-26      9        3.076  Оксана   22   \n",
       "6498      699   4707.85        16 2021-10-17     10        4.708  Оксана   22   \n",
       "6499      699   3202.89        26 2021-12-03     12        3.203  Оксана   22   \n",
       "\n",
       "        city subscription_type  minute_price  start_ride_price  \\\n",
       "0     Тюмень             ultra             6                 0   \n",
       "1     Тюмень             ultra             6                 0   \n",
       "2     Тюмень             ultra             6                 0   \n",
       "3     Тюмень             ultra             6                 0   \n",
       "4     Тюмень             ultra             6                 0   \n",
       "...      ...               ...           ...               ...   \n",
       "6495  Москва             ultra             6                 0   \n",
       "6496  Москва             ultra             6                 0   \n",
       "6497  Москва             ultra             6                 0   \n",
       "6498  Москва             ultra             6                 0   \n",
       "6499  Москва             ultra             6                 0   \n",
       "\n",
       "      subscription_fee  \n",
       "0                  199  \n",
       "1                  199  \n",
       "2                  199  \n",
       "3                  199  \n",
       "4                  199  \n",
       "...                ...  \n",
       "6495               199  \n",
       "6496               199  \n",
       "6497               199  \n",
       "6498               199  \n",
       "6499               199  \n",
       "\n",
       "[6500 rows x 13 columns]"
      ]
     },
     "metadata": {},
     "output_type": "display_data"
    },
    {
     "name": "stdout",
     "output_type": "stream",
     "text": [
      "Количество строк в датафрейме merged_without: 6500\n"
     ]
    }
   ],
   "source": [
    "# объединение таблиц с помощью поиска по значению 'ultra'\n",
    "merged_ultra = merged_go[merged_go['subscription_type'] == 'ultra']\n",
    "\n",
    "# отобразить таблицу\n",
    "display(merged_ultra)\n",
    "\n",
    "print('Количество строк в датафрейме merged_without:', merged_ultra['user_id'].count())"
   ]
  },
  {
   "cell_type": "code",
   "execution_count": 34,
   "id": "3164a4f3-c6a1-4436-8472-7a702e30f1ba",
   "metadata": {
    "scrolled": true
   },
   "outputs": [
    {
     "data": {
      "text/html": [
       "<div>\n",
       "<style scoped>\n",
       "    .dataframe tbody tr th:only-of-type {\n",
       "        vertical-align: middle;\n",
       "    }\n",
       "\n",
       "    .dataframe tbody tr th {\n",
       "        vertical-align: top;\n",
       "    }\n",
       "\n",
       "    .dataframe thead th {\n",
       "        text-align: right;\n",
       "    }\n",
       "</style>\n",
       "<table border=\"1\" class=\"dataframe\">\n",
       "  <thead>\n",
       "    <tr style=\"text-align: right;\">\n",
       "      <th></th>\n",
       "      <th>user_id</th>\n",
       "      <th>distance</th>\n",
       "      <th>duration</th>\n",
       "      <th>month</th>\n",
       "      <th>distance_km</th>\n",
       "      <th>age</th>\n",
       "      <th>minute_price</th>\n",
       "      <th>start_ride_price</th>\n",
       "      <th>subscription_fee</th>\n",
       "    </tr>\n",
       "  </thead>\n",
       "  <tbody>\n",
       "    <tr>\n",
       "      <th>count</th>\n",
       "      <td>6500.000000</td>\n",
       "      <td>6500.000000</td>\n",
       "      <td>6500.000000</td>\n",
       "      <td>6500.000000</td>\n",
       "      <td>6500.000000</td>\n",
       "      <td>6500.000000</td>\n",
       "      <td>6500.0</td>\n",
       "      <td>6500.0</td>\n",
       "      <td>6500.0</td>\n",
       "    </tr>\n",
       "    <tr>\n",
       "      <th>mean</th>\n",
       "      <td>348.725385</td>\n",
       "      <td>3115.445431</td>\n",
       "      <td>19.037692</td>\n",
       "      <td>6.422308</td>\n",
       "      <td>3.115444</td>\n",
       "      <td>24.892615</td>\n",
       "      <td>6.0</td>\n",
       "      <td>0.0</td>\n",
       "      <td>199.0</td>\n",
       "    </tr>\n",
       "    <tr>\n",
       "      <th>std</th>\n",
       "      <td>201.099339</td>\n",
       "      <td>836.895369</td>\n",
       "      <td>5.577439</td>\n",
       "      <td>3.414616</td>\n",
       "      <td>0.836900</td>\n",
       "      <td>4.757208</td>\n",
       "      <td>0.0</td>\n",
       "      <td>0.0</td>\n",
       "      <td>0.0</td>\n",
       "    </tr>\n",
       "    <tr>\n",
       "      <th>min</th>\n",
       "      <td>1.000000</td>\n",
       "      <td>244.210000</td>\n",
       "      <td>4.000000</td>\n",
       "      <td>1.000000</td>\n",
       "      <td>0.244000</td>\n",
       "      <td>12.000000</td>\n",
       "      <td>6.0</td>\n",
       "      <td>0.0</td>\n",
       "      <td>199.0</td>\n",
       "    </tr>\n",
       "    <tr>\n",
       "      <th>25%</th>\n",
       "      <td>175.000000</td>\n",
       "      <td>2785.447500</td>\n",
       "      <td>15.000000</td>\n",
       "      <td>4.000000</td>\n",
       "      <td>2.785000</td>\n",
       "      <td>22.000000</td>\n",
       "      <td>6.0</td>\n",
       "      <td>0.0</td>\n",
       "      <td>199.0</td>\n",
       "    </tr>\n",
       "    <tr>\n",
       "      <th>50%</th>\n",
       "      <td>351.000000</td>\n",
       "      <td>3148.640000</td>\n",
       "      <td>19.000000</td>\n",
       "      <td>6.000000</td>\n",
       "      <td>3.149000</td>\n",
       "      <td>25.000000</td>\n",
       "      <td>6.0</td>\n",
       "      <td>0.0</td>\n",
       "      <td>199.0</td>\n",
       "    </tr>\n",
       "    <tr>\n",
       "      <th>75%</th>\n",
       "      <td>525.000000</td>\n",
       "      <td>3560.577500</td>\n",
       "      <td>22.000000</td>\n",
       "      <td>9.000000</td>\n",
       "      <td>3.561000</td>\n",
       "      <td>28.000000</td>\n",
       "      <td>6.0</td>\n",
       "      <td>0.0</td>\n",
       "      <td>199.0</td>\n",
       "    </tr>\n",
       "    <tr>\n",
       "      <th>max</th>\n",
       "      <td>699.000000</td>\n",
       "      <td>5699.770000</td>\n",
       "      <td>41.000000</td>\n",
       "      <td>12.000000</td>\n",
       "      <td>5.700000</td>\n",
       "      <td>38.000000</td>\n",
       "      <td>6.0</td>\n",
       "      <td>0.0</td>\n",
       "      <td>199.0</td>\n",
       "    </tr>\n",
       "  </tbody>\n",
       "</table>\n",
       "</div>"
      ],
      "text/plain": [
       "           user_id     distance     duration        month  distance_km  \\\n",
       "count  6500.000000  6500.000000  6500.000000  6500.000000  6500.000000   \n",
       "mean    348.725385  3115.445431    19.037692     6.422308     3.115444   \n",
       "std     201.099339   836.895369     5.577439     3.414616     0.836900   \n",
       "min       1.000000   244.210000     4.000000     1.000000     0.244000   \n",
       "25%     175.000000  2785.447500    15.000000     4.000000     2.785000   \n",
       "50%     351.000000  3148.640000    19.000000     6.000000     3.149000   \n",
       "75%     525.000000  3560.577500    22.000000     9.000000     3.561000   \n",
       "max     699.000000  5699.770000    41.000000    12.000000     5.700000   \n",
       "\n",
       "               age  minute_price  start_ride_price  subscription_fee  \n",
       "count  6500.000000        6500.0            6500.0            6500.0  \n",
       "mean     24.892615           6.0               0.0             199.0  \n",
       "std       4.757208           0.0               0.0               0.0  \n",
       "min      12.000000           6.0               0.0             199.0  \n",
       "25%      22.000000           6.0               0.0             199.0  \n",
       "50%      25.000000           6.0               0.0             199.0  \n",
       "75%      28.000000           6.0               0.0             199.0  \n",
       "max      38.000000           6.0               0.0             199.0  "
      ]
     },
     "execution_count": 34,
     "metadata": {},
     "output_type": "execute_result"
    }
   ],
   "source": [
    "# рассмотрим статистические данные таблицы ultra\n",
    "\n",
    "merged_ultra.describe()"
   ]
  },
  {
   "cell_type": "markdown",
   "id": "0653006a-76c8-4efe-9551-73e3b05379c3",
   "metadata": {},
   "source": [
    "1. Дистанция.\n",
    "   - Среднее и медианное значение по пользователям без подписки - 3.0 км и 3.1 км\n",
    "   - Среднее и медианной значение по пользователям с подпиской - 3.1 км и 3.1 км\n",
    "   - Можно сказать, что в среднем пользователи и с подпиской и без подписки ездят одинаково\n",
    "   - Межквантильный размах по пользователям без подписки - (3560 - 2785) = 775 метров\n",
    "   - Межквантильный размах по пользователям с подпиской - (3905 - 2366) = 1539 метров\n",
    "   - Разница в 764 метра в размахе указывает на более разнообразные поездки среди пользователей с подпиской. Также на это влияет меньшая стоимость минут поездки.\n",
    "   - Максимальное расстояние по пользователям без подписки - 5.7 км\n",
    "   - Максимальное расстояние по пользователям с подпиской - 7.2 км\n",
    "   - Эта информация снова может говорить о том, что причиной большего растояния может быть меньшая стоимость поездки за минуту.\n",
    "2. Длительность.\n",
    "   - Среднее и медианное значение по пользователям без подписки - 18 минут\n",
    "   - Среднее и медианной значение по пользователям с подпиской - 19 минут\n",
    "   - В среднем пользователи с подпиской ездят больше на минуту, чем пользователи без подписки\n",
    "   - Межквантильный размах по пользователям без подписки - (22 - 13) = 9 минут\n",
    "   - Межквантильный размах по пользователям с подпиской - (22 - 15) = 7 минут\n",
    "   - Эта информация говорит о том, что пользователи с подпиской проводят на самокате больше времени (при первом квантиле в 15 минут в сравнении с 13 минутами) чем пользователи без подписки.\n",
    "   - Максимальная длительность поездки пользователей без подписки - 35 км\n",
    "   - Максимальная длительность поездки пользователей с подпиской - 41 км\n",
    "   - Пользователи с подпиской любят более длительные поездки\n",
    "   "
   ]
  },
  {
   "cell_type": "markdown",
   "id": "a7469557-07b4-4f49-a69f-28b88ce992ed",
   "metadata": {},
   "source": [
    "## Визуализация информации о расстоянии и времени поездок для пользователей обеих категорий"
   ]
  },
  {
   "cell_type": "code",
   "execution_count": 35,
   "id": "1b0a0504-fab4-44a1-90ea-8e2152a1af6a",
   "metadata": {
    "scrolled": true
   },
   "outputs": [
    {
     "data": {
      "image/png": "[encoded data removed]",
      "text/plain": [
       "<Figure size 800x500 with 1 Axes>"
      ]
     },
     "metadata": {},
     "output_type": "display_data"
    }
   ],
   "source": [
    "x1 = merged_free['distance'].plot(\n",
    "    kind = 'hist', \n",
    "    figsize = (8,5), \n",
    "    bins = 30, \n",
    "    label='Free',\n",
    "    color='Black',\n",
    "    edgecolor='orange',\n",
    "    alpha=0.5\n",
    ")\n",
    "\n",
    "x2 = merged_ultra['distance'].plot(\n",
    "    kind = 'hist', \n",
    "    figsize = (8,5), \n",
    "    bins = 30, \n",
    "    label='Ultra',\n",
    "    color='orange',\n",
    "    edgecolor='Black',\n",
    "    alpha=0.9\n",
    ")\n",
    "plt.grid(True)\n",
    "plt.title('Расстояние одной поездки для пользователей с подпиской и без')\n",
    "plt.xlabel('расстояние, м')\n",
    "plt.ylabel('количество пользователей')\n",
    "plt.legend(loc='upper right')\n",
    "plt.show()"
   ]
  },
  {
   "cell_type": "code",
   "execution_count": 36,
   "id": "40c5015e-ab3c-4c4f-bdad-338f872fcb9f",
   "metadata": {},
   "outputs": [
    {
     "data": {
      "image/png": "[encoded data removed]",
      "text/plain": [
       "<Figure size 800x500 with 1 Axes>"
      ]
     },
     "metadata": {},
     "output_type": "display_data"
    }
   ],
   "source": [
    "x1 = merged_free['duration'].plot(\n",
    "    kind = 'hist', \n",
    "    figsize = (8,5), \n",
    "    bins = 30, \n",
    "    label='Free',\n",
    "    color='Black',\n",
    "    edgecolor='orange',\n",
    "    alpha=0.5\n",
    ")\n",
    "\n",
    "x2 = merged_ultra['duration'].plot(\n",
    "    kind = 'hist', \n",
    "    figsize = (8,5), \n",
    "    bins = 30, \n",
    "    label='Ultra',\n",
    "    color='orange',\n",
    "    edgecolor='Black',\n",
    "    alpha=0.9\n",
    ")\n",
    "plt.grid(True)\n",
    "plt.title('Длительность одной поездки для пользователей с подпиской и без')\n",
    "plt.xlabel('длительность, мин.')\n",
    "plt.ylabel('количество пользователей')\n",
    "plt.legend(loc='upper right')\n",
    "plt.show()"
   ]
  },
  {
   "cell_type": "markdown",
   "id": "4948a535-a933-4a68-b924-91f4be732534",
   "metadata": {},
   "source": [
    "## Вывод:\n",
    "\n",
    "Обе гистограммы нам говорят о том, что в обоих таблицах с данными с подпиской и без подписки, распределения в данных о дистанции и длительности близки к нормальным.\n",
    "\n",
    "Поездок с использованием подписки 'ultra' на 5068 больше, чем поездок без использования подписки. 11568 против 6500.\n",
    "\n",
    "Также мы выяснили, что пользователи с подпиской в среднем ездят на большие растояния, чем пользователи без подписки, и проводят больше времени в среднем на самокате. \n",
    "\n",
    "Стандартное отклонение при поездках с подпиской выше на 409 метров. Это свидетельствует о том, что дистанция поездок с подпиской более разнообразна.\n",
    "\n",
    "В целом, различия могут быть связаны с ценовой политикой и индивидуальными предпочтениями пользователей"
   ]
  },
  {
   "cell_type": "markdown",
   "id": "44f68569-de44-4151-8394-abc34508b885",
   "metadata": {},
   "source": [
    "# 5. Подсчёт выручки"
   ]
  },
  {
   "cell_type": "markdown",
   "id": "28ea4347-852d-46b1-b627-3fd961191863",
   "metadata": {},
   "source": [
    "## Создание датафрейма с агрегированными данными о поездках на основе датафрейма из шага 4"
   ]
  },
  {
   "cell_type": "markdown",
   "id": "dc8ffa3b-273f-442d-8f25-65772da8d45e",
   "metadata": {},
   "source": [
    "Необходимо найти для каждого пользователя, за каждый месяц:\n",
    "- суммарное расстояние - sum_distance\n",
    "- количество поездок - count_rides\n",
    "- суммарное время - sum_duration"
   ]
  },
  {
   "cell_type": "code",
   "execution_count": 37,
   "id": "8dd73dbf-32a4-41f2-800e-7fdda365759d",
   "metadata": {},
   "outputs": [
    {
     "data": {
      "text/html": [
       "<div>\n",
       "<style scoped>\n",
       "    .dataframe tbody tr th:only-of-type {\n",
       "        vertical-align: middle;\n",
       "    }\n",
       "\n",
       "    .dataframe tbody tr th {\n",
       "        vertical-align: top;\n",
       "    }\n",
       "\n",
       "    .dataframe thead th {\n",
       "        text-align: right;\n",
       "    }\n",
       "</style>\n",
       "<table border=\"1\" class=\"dataframe\">\n",
       "  <thead>\n",
       "    <tr style=\"text-align: right;\">\n",
       "      <th></th>\n",
       "      <th>user_id</th>\n",
       "      <th>month</th>\n",
       "      <th>count_rides</th>\n",
       "      <th>sum_distance</th>\n",
       "      <th>sum_duration</th>\n",
       "      <th>minute_price</th>\n",
       "      <th>start_ride_price</th>\n",
       "      <th>subscription_fee</th>\n",
       "    </tr>\n",
       "  </thead>\n",
       "  <tbody>\n",
       "    <tr>\n",
       "      <th>0</th>\n",
       "      <td>1</td>\n",
       "      <td>1</td>\n",
       "      <td>2</td>\n",
       "      <td>7.028</td>\n",
       "      <td>42</td>\n",
       "      <td>6</td>\n",
       "      <td>0</td>\n",
       "      <td>199</td>\n",
       "    </tr>\n",
       "    <tr>\n",
       "      <th>1</th>\n",
       "      <td>1</td>\n",
       "      <td>4</td>\n",
       "      <td>1</td>\n",
       "      <td>0.754</td>\n",
       "      <td>7</td>\n",
       "      <td>6</td>\n",
       "      <td>0</td>\n",
       "      <td>199</td>\n",
       "    </tr>\n",
       "    <tr>\n",
       "      <th>2</th>\n",
       "      <td>1</td>\n",
       "      <td>8</td>\n",
       "      <td>2</td>\n",
       "      <td>6.724</td>\n",
       "      <td>46</td>\n",
       "      <td>6</td>\n",
       "      <td>0</td>\n",
       "      <td>199</td>\n",
       "    </tr>\n",
       "    <tr>\n",
       "      <th>3</th>\n",
       "      <td>1</td>\n",
       "      <td>10</td>\n",
       "      <td>2</td>\n",
       "      <td>5.810</td>\n",
       "      <td>32</td>\n",
       "      <td>6</td>\n",
       "      <td>0</td>\n",
       "      <td>199</td>\n",
       "    </tr>\n",
       "    <tr>\n",
       "      <th>4</th>\n",
       "      <td>1</td>\n",
       "      <td>11</td>\n",
       "      <td>3</td>\n",
       "      <td>7.004</td>\n",
       "      <td>56</td>\n",
       "      <td>6</td>\n",
       "      <td>0</td>\n",
       "      <td>199</td>\n",
       "    </tr>\n",
       "    <tr>\n",
       "      <th>...</th>\n",
       "      <td>...</td>\n",
       "      <td>...</td>\n",
       "      <td>...</td>\n",
       "      <td>...</td>\n",
       "      <td>...</td>\n",
       "      <td>...</td>\n",
       "      <td>...</td>\n",
       "      <td>...</td>\n",
       "    </tr>\n",
       "    <tr>\n",
       "      <th>11326</th>\n",
       "      <td>1534</td>\n",
       "      <td>4</td>\n",
       "      <td>1</td>\n",
       "      <td>3.434</td>\n",
       "      <td>15</td>\n",
       "      <td>8</td>\n",
       "      <td>50</td>\n",
       "      <td>0</td>\n",
       "    </tr>\n",
       "    <tr>\n",
       "      <th>11327</th>\n",
       "      <td>1534</td>\n",
       "      <td>6</td>\n",
       "      <td>2</td>\n",
       "      <td>3.409</td>\n",
       "      <td>26</td>\n",
       "      <td>8</td>\n",
       "      <td>50</td>\n",
       "      <td>0</td>\n",
       "    </tr>\n",
       "    <tr>\n",
       "      <th>11328</th>\n",
       "      <td>1534</td>\n",
       "      <td>8</td>\n",
       "      <td>2</td>\n",
       "      <td>7.623</td>\n",
       "      <td>48</td>\n",
       "      <td>8</td>\n",
       "      <td>50</td>\n",
       "      <td>0</td>\n",
       "    </tr>\n",
       "    <tr>\n",
       "      <th>11329</th>\n",
       "      <td>1534</td>\n",
       "      <td>9</td>\n",
       "      <td>1</td>\n",
       "      <td>4.928</td>\n",
       "      <td>23</td>\n",
       "      <td>8</td>\n",
       "      <td>50</td>\n",
       "      <td>0</td>\n",
       "    </tr>\n",
       "    <tr>\n",
       "      <th>11330</th>\n",
       "      <td>1534</td>\n",
       "      <td>12</td>\n",
       "      <td>1</td>\n",
       "      <td>2.372</td>\n",
       "      <td>16</td>\n",
       "      <td>8</td>\n",
       "      <td>50</td>\n",
       "      <td>0</td>\n",
       "    </tr>\n",
       "  </tbody>\n",
       "</table>\n",
       "<p>11331 rows × 8 columns</p>\n",
       "</div>"
      ],
      "text/plain": [
       "       user_id  month  count_rides  sum_distance  sum_duration  minute_price  \\\n",
       "0            1      1            2         7.028            42             6   \n",
       "1            1      4            1         0.754             7             6   \n",
       "2            1      8            2         6.724            46             6   \n",
       "3            1     10            2         5.810            32             6   \n",
       "4            1     11            3         7.004            56             6   \n",
       "...        ...    ...          ...           ...           ...           ...   \n",
       "11326     1534      4            1         3.434            15             8   \n",
       "11327     1534      6            2         3.409            26             8   \n",
       "11328     1534      8            2         7.623            48             8   \n",
       "11329     1534      9            1         4.928            23             8   \n",
       "11330     1534     12            1         2.372            16             8   \n",
       "\n",
       "       start_ride_price  subscription_fee  \n",
       "0                     0               199  \n",
       "1                     0               199  \n",
       "2                     0               199  \n",
       "3                     0               199  \n",
       "4                     0               199  \n",
       "...                 ...               ...  \n",
       "11326                50                 0  \n",
       "11327                50                 0  \n",
       "11328                50                 0  \n",
       "11329                50                 0  \n",
       "11330                50                 0  \n",
       "\n",
       "[11331 rows x 8 columns]"
      ]
     },
     "execution_count": 37,
     "metadata": {},
     "output_type": "execute_result"
    }
   ],
   "source": [
    "per_month_go = merged_go.pivot_table(\n",
    "    index=('user_id', 'month'),\n",
    "    values=(\n",
    "        'distance_km',\n",
    "        'duration',\n",
    "        'minute_price', \n",
    "        'start_ride_price', \n",
    "        'subscription_fee'\n",
    "    ),aggfunc={'distance_km':{'count', 'sum'}, \n",
    "             'duration':'sum',\n",
    "             'minute_price': 'mean',\n",
    "             'start_ride_price':'mean',\n",
    "             'subscription_fee':'mean',}).sort_values(by='user_id').reset_index()\n",
    "per_month_go.columns = ['user_id', 'month', 'count_rides', 'sum_distance', 'sum_duration', 'minute_price', 'start_ride_price', 'subscription_fee']\n",
    "    \n",
    "per_month_go"
   ]
  },
  {
   "cell_type": "markdown",
   "id": "021d48d7-b95d-4f7d-a600-b54b64986fb0",
   "metadata": {},
   "source": [
    "## Добавления столбца с помесячной выручкой"
   ]
  },
  {
   "cell_type": "code",
   "execution_count": 38,
   "id": "565fbd03-2358-4127-9d47-c5aa52ce92ac",
   "metadata": {
    "scrolled": true
   },
   "outputs": [
    {
     "data": {
      "text/html": [
       "<div>\n",
       "<style scoped>\n",
       "    .dataframe tbody tr th:only-of-type {\n",
       "        vertical-align: middle;\n",
       "    }\n",
       "\n",
       "    .dataframe tbody tr th {\n",
       "        vertical-align: top;\n",
       "    }\n",
       "\n",
       "    .dataframe thead th {\n",
       "        text-align: right;\n",
       "    }\n",
       "</style>\n",
       "<table border=\"1\" class=\"dataframe\">\n",
       "  <thead>\n",
       "    <tr style=\"text-align: right;\">\n",
       "      <th></th>\n",
       "      <th>user_id</th>\n",
       "      <th>month</th>\n",
       "      <th>count_rides</th>\n",
       "      <th>sum_distance</th>\n",
       "      <th>sum_duration</th>\n",
       "      <th>minute_price</th>\n",
       "      <th>start_ride_price</th>\n",
       "      <th>subscription_fee</th>\n",
       "      <th>revenue</th>\n",
       "    </tr>\n",
       "  </thead>\n",
       "  <tbody>\n",
       "    <tr>\n",
       "      <th>0</th>\n",
       "      <td>1</td>\n",
       "      <td>1</td>\n",
       "      <td>2</td>\n",
       "      <td>7.028</td>\n",
       "      <td>42</td>\n",
       "      <td>6</td>\n",
       "      <td>0</td>\n",
       "      <td>199</td>\n",
       "      <td>451</td>\n",
       "    </tr>\n",
       "    <tr>\n",
       "      <th>1</th>\n",
       "      <td>1</td>\n",
       "      <td>4</td>\n",
       "      <td>1</td>\n",
       "      <td>0.754</td>\n",
       "      <td>7</td>\n",
       "      <td>6</td>\n",
       "      <td>0</td>\n",
       "      <td>199</td>\n",
       "      <td>241</td>\n",
       "    </tr>\n",
       "    <tr>\n",
       "      <th>2</th>\n",
       "      <td>1</td>\n",
       "      <td>8</td>\n",
       "      <td>2</td>\n",
       "      <td>6.724</td>\n",
       "      <td>46</td>\n",
       "      <td>6</td>\n",
       "      <td>0</td>\n",
       "      <td>199</td>\n",
       "      <td>475</td>\n",
       "    </tr>\n",
       "    <tr>\n",
       "      <th>3</th>\n",
       "      <td>1</td>\n",
       "      <td>10</td>\n",
       "      <td>2</td>\n",
       "      <td>5.810</td>\n",
       "      <td>32</td>\n",
       "      <td>6</td>\n",
       "      <td>0</td>\n",
       "      <td>199</td>\n",
       "      <td>391</td>\n",
       "    </tr>\n",
       "    <tr>\n",
       "      <th>4</th>\n",
       "      <td>1</td>\n",
       "      <td>11</td>\n",
       "      <td>3</td>\n",
       "      <td>7.004</td>\n",
       "      <td>56</td>\n",
       "      <td>6</td>\n",
       "      <td>0</td>\n",
       "      <td>199</td>\n",
       "      <td>535</td>\n",
       "    </tr>\n",
       "    <tr>\n",
       "      <th>...</th>\n",
       "      <td>...</td>\n",
       "      <td>...</td>\n",
       "      <td>...</td>\n",
       "      <td>...</td>\n",
       "      <td>...</td>\n",
       "      <td>...</td>\n",
       "      <td>...</td>\n",
       "      <td>...</td>\n",
       "      <td>...</td>\n",
       "    </tr>\n",
       "    <tr>\n",
       "      <th>11326</th>\n",
       "      <td>1534</td>\n",
       "      <td>4</td>\n",
       "      <td>1</td>\n",
       "      <td>3.434</td>\n",
       "      <td>15</td>\n",
       "      <td>8</td>\n",
       "      <td>50</td>\n",
       "      <td>0</td>\n",
       "      <td>170</td>\n",
       "    </tr>\n",
       "    <tr>\n",
       "      <th>11327</th>\n",
       "      <td>1534</td>\n",
       "      <td>6</td>\n",
       "      <td>2</td>\n",
       "      <td>3.409</td>\n",
       "      <td>26</td>\n",
       "      <td>8</td>\n",
       "      <td>50</td>\n",
       "      <td>0</td>\n",
       "      <td>308</td>\n",
       "    </tr>\n",
       "    <tr>\n",
       "      <th>11328</th>\n",
       "      <td>1534</td>\n",
       "      <td>8</td>\n",
       "      <td>2</td>\n",
       "      <td>7.623</td>\n",
       "      <td>48</td>\n",
       "      <td>8</td>\n",
       "      <td>50</td>\n",
       "      <td>0</td>\n",
       "      <td>484</td>\n",
       "    </tr>\n",
       "    <tr>\n",
       "      <th>11329</th>\n",
       "      <td>1534</td>\n",
       "      <td>9</td>\n",
       "      <td>1</td>\n",
       "      <td>4.928</td>\n",
       "      <td>23</td>\n",
       "      <td>8</td>\n",
       "      <td>50</td>\n",
       "      <td>0</td>\n",
       "      <td>234</td>\n",
       "    </tr>\n",
       "    <tr>\n",
       "      <th>11330</th>\n",
       "      <td>1534</td>\n",
       "      <td>12</td>\n",
       "      <td>1</td>\n",
       "      <td>2.372</td>\n",
       "      <td>16</td>\n",
       "      <td>8</td>\n",
       "      <td>50</td>\n",
       "      <td>0</td>\n",
       "      <td>178</td>\n",
       "    </tr>\n",
       "  </tbody>\n",
       "</table>\n",
       "<p>11331 rows × 9 columns</p>\n",
       "</div>"
      ],
      "text/plain": [
       "       user_id  month  count_rides  sum_distance  sum_duration  minute_price  \\\n",
       "0            1      1            2         7.028            42             6   \n",
       "1            1      4            1         0.754             7             6   \n",
       "2            1      8            2         6.724            46             6   \n",
       "3            1     10            2         5.810            32             6   \n",
       "4            1     11            3         7.004            56             6   \n",
       "...        ...    ...          ...           ...           ...           ...   \n",
       "11326     1534      4            1         3.434            15             8   \n",
       "11327     1534      6            2         3.409            26             8   \n",
       "11328     1534      8            2         7.623            48             8   \n",
       "11329     1534      9            1         4.928            23             8   \n",
       "11330     1534     12            1         2.372            16             8   \n",
       "\n",
       "       start_ride_price  subscription_fee  revenue  \n",
       "0                     0               199      451  \n",
       "1                     0               199      241  \n",
       "2                     0               199      475  \n",
       "3                     0               199      391  \n",
       "4                     0               199      535  \n",
       "...                 ...               ...      ...  \n",
       "11326                50                 0      170  \n",
       "11327                50                 0      308  \n",
       "11328                50                 0      484  \n",
       "11329                50                 0      234  \n",
       "11330                50                 0      178  \n",
       "\n",
       "[11331 rows x 9 columns]"
      ]
     },
     "execution_count": 38,
     "metadata": {},
     "output_type": "execute_result"
    }
   ],
   "source": [
    "per_month_go['revenue'] = (per_month_go['start_ride_price'] * per_month_go['count_rides'] +\n",
    "                           per_month_go['minute_price'] * \n",
    "                           per_month_go['sum_duration'] +\n",
    "                           per_month_go['subscription_fee']\n",
    "                          )\n",
    "per_month_go"
   ]
  },
  {
   "cell_type": "code",
   "execution_count": 39,
   "id": "545cd469-0115-46b8-be84-4eea4eace13f",
   "metadata": {
    "scrolled": true
   },
   "outputs": [
    {
     "name": "stdout",
     "output_type": "stream",
     "text": [
      "Помесячная прибыль с поездок составляет:\n"
     ]
    },
    {
     "data": {
      "text/html": [
       "<div>\n",
       "<style scoped>\n",
       "    .dataframe tbody tr th:only-of-type {\n",
       "        vertical-align: middle;\n",
       "    }\n",
       "\n",
       "    .dataframe tbody tr th {\n",
       "        vertical-align: top;\n",
       "    }\n",
       "\n",
       "    .dataframe thead th {\n",
       "        text-align: right;\n",
       "    }\n",
       "</style>\n",
       "<table border=\"1\" class=\"dataframe\">\n",
       "  <thead>\n",
       "    <tr style=\"text-align: right;\">\n",
       "      <th></th>\n",
       "      <th>revenue</th>\n",
       "      <th>ultra</th>\n",
       "      <th>free</th>\n",
       "    </tr>\n",
       "    <tr>\n",
       "      <th>month</th>\n",
       "      <th></th>\n",
       "      <th></th>\n",
       "      <th></th>\n",
       "    </tr>\n",
       "  </thead>\n",
       "  <tbody>\n",
       "    <tr>\n",
       "      <th>Январь</th>\n",
       "      <td>337958</td>\n",
       "      <td>144108</td>\n",
       "      <td>193850</td>\n",
       "    </tr>\n",
       "    <tr>\n",
       "      <th>Май</th>\n",
       "      <td>337265</td>\n",
       "      <td>149235</td>\n",
       "      <td>188030</td>\n",
       "    </tr>\n",
       "    <tr>\n",
       "      <th>Июнь</th>\n",
       "      <td>335978</td>\n",
       "      <td>143834</td>\n",
       "      <td>192144</td>\n",
       "    </tr>\n",
       "    <tr>\n",
       "      <th>Март</th>\n",
       "      <td>329822</td>\n",
       "      <td>142608</td>\n",
       "      <td>187214</td>\n",
       "    </tr>\n",
       "    <tr>\n",
       "      <th>Июль</th>\n",
       "      <td>328504</td>\n",
       "      <td>143466</td>\n",
       "      <td>185038</td>\n",
       "    </tr>\n",
       "    <tr>\n",
       "      <th>Декабрь</th>\n",
       "      <td>326101</td>\n",
       "      <td>131047</td>\n",
       "      <td>195054</td>\n",
       "    </tr>\n",
       "    <tr>\n",
       "      <th>Август</th>\n",
       "      <td>325650</td>\n",
       "      <td>138534</td>\n",
       "      <td>187116</td>\n",
       "    </tr>\n",
       "    <tr>\n",
       "      <th>Сентябрь</th>\n",
       "      <td>323037</td>\n",
       "      <td>129337</td>\n",
       "      <td>193700</td>\n",
       "    </tr>\n",
       "    <tr>\n",
       "      <th>Апрель</th>\n",
       "      <td>322916</td>\n",
       "      <td>137318</td>\n",
       "      <td>185598</td>\n",
       "    </tr>\n",
       "    <tr>\n",
       "      <th>Октябрь</th>\n",
       "      <td>315360</td>\n",
       "      <td>133932</td>\n",
       "      <td>181428</td>\n",
       "    </tr>\n",
       "    <tr>\n",
       "      <th>Ноябрь</th>\n",
       "      <td>305622</td>\n",
       "      <td>126546</td>\n",
       "      <td>179076</td>\n",
       "    </tr>\n",
       "    <tr>\n",
       "      <th>Февраль</th>\n",
       "      <td>290428</td>\n",
       "      <td>124572</td>\n",
       "      <td>165856</td>\n",
       "    </tr>\n",
       "  </tbody>\n",
       "</table>\n",
       "</div>"
      ],
      "text/plain": [
       "          revenue   ultra    free\n",
       "month                            \n",
       "Январь     337958  144108  193850\n",
       "Май        337265  149235  188030\n",
       "Июнь       335978  143834  192144\n",
       "Март       329822  142608  187214\n",
       "Июль       328504  143466  185038\n",
       "Декабрь    326101  131047  195054\n",
       "Август     325650  138534  187116\n",
       "Сентябрь   323037  129337  193700\n",
       "Апрель     322916  137318  185598\n",
       "Октябрь    315360  133932  181428\n",
       "Ноябрь     305622  126546  179076\n",
       "Февраль    290428  124572  165856"
      ]
     },
     "execution_count": 39,
     "metadata": {},
     "output_type": "execute_result"
    }
   ],
   "source": [
    "# Группировка данных по месяцам, подсчёт общего дохода\n",
    "\n",
    "per_month_m_go = per_month_go.groupby('month')['revenue'].sum().reset_index()\n",
    "per_month_m_go.columns= ['month','revenue']\n",
    "\n",
    "# Расчет дохода от подписки ultra\n",
    "ultra_revenue = per_month_go.loc[per_month_go['subscription_fee'] == 199, 'revenue'].groupby(\n",
    "    per_month_go['month']).sum().reset_index()['revenue']\n",
    "\n",
    "per_month_m_go['ultra'] = ultra_revenue\n",
    "\n",
    "# Расчет дохода от бесплатной подписки (free)\n",
    "free_revenue = per_month_go.loc[per_month_go['subscription_fee'] == 0, 'revenue'].groupby(\n",
    "    per_month_go['month']).sum().reset_index()['revenue'] \n",
    "\n",
    "per_month_m_go['free'] = free_revenue\n",
    "\n",
    "# Создадим словарь месяцев\n",
    "months = {\n",
    "    1: 'Январь',\n",
    "    2: 'Февраль',\n",
    "    3: 'Март',\n",
    "    4: 'Апрель',\n",
    "    5: 'Май', \n",
    "    6: 'Июнь',\n",
    "    7: 'Июль', \n",
    "    8: 'Август', \n",
    "    9: 'Сентябрь', \n",
    "    10: 'Октябрь', \n",
    "    11: 'Ноябрь', \n",
    "    12: 'Декабрь'\n",
    "}\n",
    "\n",
    "# Заменяем числовые значения месяцев на текстовые\n",
    "per_month_m_go['month'] = per_month_m_go['month'].replace(months)\n",
    "per_month_m_go = per_month_m_go.set_index('month').sort_values('revenue', ascending=False)\n",
    "print('Помесячная прибыль с поездок составляет:') \n",
    "per_month_m_go"
   ]
  },
  {
   "cell_type": "code",
   "execution_count": 40,
   "id": "84a97eb8-57c8-46a7-babd-3b03781e1581",
   "metadata": {},
   "outputs": [
    {
     "data": {
      "image/png": "[encoded data removed]",
      "text/plain": [
       "<Figure size 1300x800 with 1 Axes>"
      ]
     },
     "metadata": {},
     "output_type": "display_data"
    }
   ],
   "source": [
    "# создадим столбчатую диаграмму\n",
    "\n",
    "per_month_m_go.plot(\n",
    "    kind='bar',\n",
    "    figsize=(13,8),\n",
    "    grid=True,\n",
    "    width=0.9,\n",
    "    color= ['orange', 'black', 'white'],\n",
    "    alpha=0.7,\n",
    "    edgecolor='black'\n",
    ")\n",
    "plt.title(f'Распределение выручки за год: Общая, \"ultra\", \"free\"')\n",
    "plt.xticks(rotation = 0)\n",
    "plt.xlabel('')\n",
    "plt.ylabel('Количество объявлений')\n",
    "plt.show()\n",
    "\n",
    "plt.show()"
   ]
  },
  {
   "cell_type": "code",
   "execution_count": 41,
   "id": "976139f4-03a7-4a68-bf39-d8094a94772d",
   "metadata": {},
   "outputs": [
    {
     "name": "stdout",
     "output_type": "stream",
     "text": [
      "Общая прибыль за год составляет: 3878641\n",
      "\n"
     ]
    }
   ],
   "source": [
    "print('Общая прибыль за год составляет:', per_month_go.groupby('month')['revenue'].sum().sum())\n",
    "print()"
   ]
  },
  {
   "cell_type": "markdown",
   "id": "a648e067-1ee8-4645-907a-e0ce79348b72",
   "metadata": {},
   "source": [
    "Вывод: \n",
    "\n",
    "Большая часть выручки приходится на пользователей, не использующих подписку 'ultra'. \n",
    "\n",
    "Самые прибыльные месяцы оказались: Январь, Май, Июнь\n",
    "\n",
    "Самые слабые месяцы по доходам оказались: Октябрь, Ноябрь и Февраль."
   ]
  },
  {
   "cell_type": "markdown",
   "id": "f8bb86c0-ff83-46fb-871d-b45689c76d28",
   "metadata": {},
   "source": [
    "# 6. Проверка гипотез\n",
    "\n",
    "Продакт-менеджеры сервиса хотят увеличить количество пользователей с подпиской. Для этого они будут проводить различные акции, но сначала нужно выяснить несколько важных моментов."
   ]
  },
  {
   "cell_type": "markdown",
   "id": "750f0529-6eaf-4350-8d15-333d93813de4",
   "metadata": {},
   "source": [
    "## 6.1 Тратят ли пользователи с подпиской больше времени на поездки? "
   ]
  },
  {
   "cell_type": "markdown",
   "id": "dd8c1793-cbec-4a3d-9b98-f48b1a5a0a2e",
   "metadata": {},
   "source": [
    "Если да, то пользователи с подпиской могут быть «выгоднее» для компании. Проверим гипотезу используя исходные данные о продолжительности каждой сессии — отдельно для подписчиков и тех, у кого нет подписки."
   ]
  },
  {
   "cell_type": "markdown",
   "id": "3dd2d66c-4be5-48c7-9a1b-2f32fa4e5864",
   "metadata": {},
   "source": [
    "Воспользуемся исходными данными и составим нулевую и альтернативную гипотезы:\n",
    "1. **Нулевая гипотеза H0**. Среднее время поездок с подпиской `ultra` и без подписки равны.\n",
    "2. **Альтернативная гипотеза H1**. Среднее время поездок с подпиской `ultra` выше, чем без подписки.\n",
    "\n",
    "Проверим гипотезы:"
   ]
  },
  {
   "cell_type": "code",
   "execution_count": 42,
   "id": "b3f95138",
   "metadata": {
    "scrolled": true
   },
   "outputs": [
    {
     "name": "stdout",
     "output_type": "stream",
     "text": [
      " Дисперсия времени поездок с подпиской \"ultra\" = 31.103\n",
      " Дисперсия времени поездок без подписки \"free\" = 40.069\n",
      " Количество поездок с подпиской \"ultra\" = 6500\n",
      " Количество поездок без подписки \"free\" = 11568\n"
     ]
    }
   ],
   "source": [
    "# расчитаем дисперсии времени поездок с подпиской и без\n",
    "mean_duration_ultra = merged_ultra['duration'].mean()\n",
    "variance_ultra = ((merged_ultra['duration'] - mean_duration_ultra) ** 2).mean()\n",
    "\n",
    "ultra_var = ((merged_ultra['duration'] - merged_ultra['duration'].mean()) **2).mean()\n",
    "\n",
    "free_var = ((merged_free['duration'] - merged_free['duration'].mean()) **2).mean()\n",
    "\n",
    "print(f' Дисперсия времени поездок с подпиской \"ultra\" = {ultra_var.round(3)}')\n",
    "print(f' Дисперсия времени поездок без подписки \"free\" = {free_var.round(3)}')\n",
    "print(f' Количество поездок с подпиской \"ultra\" = {merged_ultra.shape[0]}')\n",
    "print(f' Количество поездок без подписки \"free\" = {merged_free.shape[0]}')"
   ]
  },
  {
   "cell_type": "markdown",
   "id": "510d0726",
   "metadata": {},
   "source": [
    "По-моему мнению, разница в количестве поездок, а также дисперсии длительности поездок между двумя видами подписок отличаются достаточно, чтобы применить дополнительный параметр `equal_var=False`"
   ]
  },
  {
   "cell_type": "code",
   "execution_count": 43,
   "id": "ec0e22d2-2208-4b04-b798-424963a53968",
   "metadata": {
    "scrolled": true
   },
   "outputs": [
    {
     "name": "stdout",
     "output_type": "stream",
     "text": [
      "1.1814679253701353e-36\n",
      "Отвергаем нулевую гипотезу\n"
     ]
    }
   ],
   "source": [
    "# задаём уровень статистической значимости\n",
    "alpha = 0.05\n",
    "\n",
    "# проведем статистический тест\n",
    "results = st.ttest_ind(merged_ultra['duration'], \n",
    "                     merged_free['duration'], \n",
    "                     equal_var=False, \n",
    "                     alternative='greater'\n",
    ")\n",
    "\n",
    "# выведем на экран получившееся p-значение\n",
    "print(results.pvalue)\n",
    "\n",
    "# сравним получившееся p-значение с уровнем стат. значимости\n",
    "if results.pvalue < alpha:\n",
    "    print('Отвергаем нулевую гипотезу')\n",
    "else:\n",
    "    print('Не получилось отвергнуть нулевую гипотезу')"
   ]
  },
  {
   "cell_type": "markdown",
   "id": "a9f4d718-3b32-499c-a95d-37839245910e",
   "metadata": {},
   "source": [
    "Вывод: \n",
    "\n",
    "При проверке гипотезы мы нашли p-значение, которое оказалось очень мало. В таком случае мы можем сказать, что нулевая гипотеза должна быть отклонена. Вероятно, что среднее время поездок с подпиской `ultra` выше, чем в поездках без подписки."
   ]
  },
  {
   "cell_type": "markdown",
   "id": "42d31a91-235e-4da3-8cfe-70ce04e6ca1b",
   "metadata": {},
   "source": [
    "## 6.2 Можно ли сказать, что среднее расстояние, которое проезжают пользователи с подпиской за одну поездку, не превышает 3130 метров? "
   ]
  },
  {
   "cell_type": "markdown",
   "id": "92eb949f-8f4d-40d6-b079-18cac4d17de8",
   "metadata": {},
   "source": [
    "Расстояние одной поездки в 3130 метров — оптимальное с точки зрения износа самоката. Проверим гипотезу и сделаем выводы."
   ]
  },
  {
   "cell_type": "markdown",
   "id": "94c5a51e-393f-47c3-8639-e025d7a96607",
   "metadata": {},
   "source": [
    "Воспользуемся исходными данными и составим нулевую и альтернативную гипотезы:\n",
    "\n",
    "1. **Нулевая гипотеза H0**. Среднее расстояние поездок с подпиской ultra равно 3130 метрам.\n",
    "2. **Альтернативная гипотеза H1**. Среднее расстояние поездок с подпиской ultra более 3130 метров.\n",
    "\n",
    "Проверим гипотезы:"
   ]
  },
  {
   "cell_type": "code",
   "execution_count": 44,
   "id": "ca95765b-eade-4e31-ad14-20cd2e5d5756",
   "metadata": {
    "scrolled": true
   },
   "outputs": [
    {
     "name": "stdout",
     "output_type": "stream",
     "text": [
      "0.9195362605842414\n",
      "Не получилось отвергнуть нулевую гипотезу\n"
     ]
    }
   ],
   "source": [
    "# задаём уровень статистической значимости\n",
    "alpha = 0.05\n",
    "distance = 3130\n",
    "\n",
    "# проведем статистический тест\n",
    "results = st.ttest_1samp(merged_ultra['distance'], \n",
    "                     distance, \n",
    "                     alternative='greater'\n",
    ")\n",
    "\n",
    "# выведем на экран получившееся p-значение\n",
    "print(results.pvalue)\n",
    "\n",
    "# сравним получившееся p-значение с уровнем стат. значимости\n",
    "if results.pvalue < alpha:\n",
    "    print('Отвергаем нулевую гипотезу')\n",
    "else:\n",
    "    print('Не получилось отвергнуть нулевую гипотезу')"
   ]
  },
  {
   "cell_type": "markdown",
   "id": "14af9a15-e4f1-4529-bcb4-da9813694e88",
   "metadata": {},
   "source": [
    "Вывод:\n",
    "\n",
    "Найденое p-значение оказалось выше, чем уровень статистической значимости. Среднее расстояние, которое проезжают пользователи с подпиской `ultra` за одну поездку, вероятно, не превышает 3130 метров. "
   ]
  },
  {
   "cell_type": "markdown",
   "id": "9012b1e3-331f-4e64-a20e-2d9a1a91d0d0",
   "metadata": {},
   "source": [
    "## 6.3 Гипотеза о том, будет ли помесячная выручка от пользователей с подпиской по месяцам выше, чем выручка от пользователей без подписки."
   ]
  },
  {
   "cell_type": "markdown",
   "id": "80998515-2280-4f89-a10d-5247861e042b",
   "metadata": {},
   "source": [
    "Проверим гипотезу о том, будет ли помесячная выручка от пользователей с подпиской по месяцам выше, чем выручка от пользователей без подписки."
   ]
  },
  {
   "cell_type": "markdown",
   "id": "5959153c-093b-4908-893c-e91ac9c9d021",
   "metadata": {},
   "source": [
    "Воспользуемся исходными данными и составим нулевую и альтернативную гипотезы:\n",
    "\n",
    "1. **Нулевая гипотеза H0**. Помесячная выручка от пользователей с подпиской равна выручке от пользователей без подписки.\n",
    "2. **Альтернативная гипотеза H1**. Помесячная выручка от пользователей с подпиской `ultra` выше выручки от пользователей без подписки.\n",
    "\n",
    "Проверим гипотезы:"
   ]
  },
  {
   "cell_type": "code",
   "execution_count": 45,
   "id": "d6e4ebf2-25b6-4efc-aba8-d9136f82bde8",
   "metadata": {},
   "outputs": [
    {
     "name": "stdout",
     "output_type": "stream",
     "text": [
      "1.8850394384715216e-31\n",
      "Отвергаем нулевую гипотезу\n"
     ]
    }
   ],
   "source": [
    "# подсчитаем помесячную выручку \n",
    "ultra_users = per_month_go[per_month_go['subscription_fee'] > 0]['revenue']\n",
    "free_users = per_month_go[per_month_go['subscription_fee'] == 0]['revenue']\n",
    "\n",
    "# задаём уровень статистической значимости\n",
    "alpha = 0.05\n",
    "\n",
    "# проведем статистический тест\n",
    "results = st.ttest_ind(ultra_users, free_users, alternative = 'greater')\n",
    "\n",
    "# выведем на экран получившееся p-значение\n",
    "print(results.pvalue)\n",
    "\n",
    "# сравним получившееся p-значение с уровнем стат. значимости\n",
    "if results.pvalue < alpha:\n",
    "    print('Отвергаем нулевую гипотезу')\n",
    "else:\n",
    "    print('Не получилось отвергнуть нулевую гипотезу')"
   ]
  },
  {
   "cell_type": "markdown",
   "id": "be9efc63-4d27-40d5-8d4e-08fe30104739",
   "metadata": {},
   "source": [
    "Вывод:\n",
    "\n",
    "Полученое p-значение оказалось ниже, чем уровень стат. значимости. В таком случае мы отвергаем нулевую гипотезу о том, что помесячная выручка от пользователей с подпиской равна выручке от пользователей без подписки. Вероятно выручка от пользователей с подпиской больше, чем от пользователей без подписки.\n"
   ]
  },
  {
   "cell_type": "markdown",
   "id": "7dfb9859-3526-4a8d-8f7c-59251cc0d54b",
   "metadata": {},
   "source": [
    "## 6.4 Проверка гипотезы о снижении количества обращений в техподдержку."
   ]
  },
  {
   "cell_type": "markdown",
   "id": "ab0b3212-a534-4909-9749-ed3f43aed0c1",
   "metadata": {},
   "source": [
    "Представьте ситуацию: техническая команда сервиса обновила сервера, с которыми взаимодействует мобильное приложение. Она надеется, что из-за этого количество обращений в техподдержку значимо снизилось. Некоторый файл содержит для каждого пользователя данные о количестве обращений до обновления и после него. \n",
    "\n",
    "Какой тест вам понадобился бы для проверки этой гипотезы?"
   ]
  },
  {
   "cell_type": "markdown",
   "id": "2e3e50f6-666b-4685-9de7-9ded0a3630fb",
   "metadata": {},
   "source": [
    "В данном случае, мы имеем дело с парными выборками - количество обращений в техподдержку для пользователя до и после обновления серверов. Для проверки гипотезы о том, что обновление серверов привело к снижению количества обращений, мы можем использовать t-тест для зависимых(парных) выборок.\n",
    "\n",
    "В библиотеке scipy соответствующая функция называется `scipy.stats.ttest_rel()`.\n",
    "\n",
    "Вот как можно было бы сформулировать нулевую и альтернативную гипотезы:\n",
    "\n",
    "1. **Нулевая гипотеза H0**: Среднее количество обращений в техподдержку до и после обновления серверов одинаково.\n",
    "2. **Альтернативная гипотеза H1**: Среднее количество обращений в техподдержку после обновления серверов меньше, чем до обновления.\n",
    "\n",
    "\n",
    "Код для проведения t-теста может выглядеть следующим образом:"
   ]
  },
  {
   "cell_type": "code",
   "execution_count": 46,
   "id": "2beffa88-932d-4654-a0a2-ced078ea4a92",
   "metadata": {
    "scrolled": true
   },
   "outputs": [
    {
     "ename": "UFuncTypeError",
     "evalue": "ufunc 'subtract' did not contain a loop with signature matching types (dtype('<U26'), dtype('<U26')) -> dtype('<U26')",
     "output_type": "error",
     "traceback": [
      "\u001b[1;31m---------------------------------------------------------------------------\u001b[0m",
      "\u001b[1;31mUFuncTypeError\u001b[0m                            Traceback (most recent call last)",
      "Cell \u001b[1;32mIn[46], line 8\u001b[0m\n\u001b[0;32m      5\u001b[0m alpha \u001b[38;5;241m=\u001b[39m \u001b[38;5;241m0.05\u001b[39m\n\u001b[0;32m      7\u001b[0m \u001b[38;5;66;03m# проведение t-теста\u001b[39;00m\n\u001b[1;32m----> 8\u001b[0m results \u001b[38;5;241m=\u001b[39m \u001b[43mst\u001b[49m\u001b[38;5;241;43m.\u001b[39;49m\u001b[43mttest_rel\u001b[49m\u001b[43m(\u001b[49m\u001b[43mbefore\u001b[49m\u001b[43m,\u001b[49m\u001b[43m \u001b[49m\u001b[43mafter\u001b[49m\u001b[43m)\u001b[49m \n\u001b[0;32m     10\u001b[0m \u001b[38;5;66;03m# выведем полученное p-значение\u001b[39;00m\n\u001b[0;32m     11\u001b[0m \u001b[38;5;28mprint\u001b[39m(\u001b[38;5;124m'\u001b[39m\u001b[38;5;124mp-значение:\u001b[39m\u001b[38;5;124m'\u001b[39m, results\u001b[38;5;241m.\u001b[39mpvalue)\n",
      "File \u001b[1;32m~\\miniconda3\\envs\\practicum\\lib\\site-packages\\scipy\\stats\\_stats_py.py:6509\u001b[0m, in \u001b[0;36mttest_rel\u001b[1;34m(a, b, axis, nan_policy, alternative)\u001b[0m\n\u001b[0;32m   6506\u001b[0m n \u001b[38;5;241m=\u001b[39m a\u001b[38;5;241m.\u001b[39mshape[axis]\n\u001b[0;32m   6507\u001b[0m df \u001b[38;5;241m=\u001b[39m n \u001b[38;5;241m-\u001b[39m \u001b[38;5;241m1\u001b[39m\n\u001b[1;32m-> 6509\u001b[0m d \u001b[38;5;241m=\u001b[39m (\u001b[43ma\u001b[49m\u001b[43m \u001b[49m\u001b[38;5;241;43m-\u001b[39;49m\u001b[43m \u001b[49m\u001b[43mb\u001b[49m)\u001b[38;5;241m.\u001b[39mastype(np\u001b[38;5;241m.\u001b[39mfloat64)\n\u001b[0;32m   6510\u001b[0m v \u001b[38;5;241m=\u001b[39m np\u001b[38;5;241m.\u001b[39mvar(d, axis, ddof\u001b[38;5;241m=\u001b[39m\u001b[38;5;241m1\u001b[39m)\n\u001b[0;32m   6511\u001b[0m dm \u001b[38;5;241m=\u001b[39m np\u001b[38;5;241m.\u001b[39mmean(d, axis)\n",
      "\u001b[1;31mUFuncTypeError\u001b[0m: ufunc 'subtract' did not contain a loop with signature matching types (dtype('<U26'), dtype('<U26')) -> dtype('<U26')"
     ]
    }
   ],
   "source": [
    "before = \"количество обращений до\"\n",
    "after = \"количество обращений после\"\n",
    "\n",
    "# зададим уровень стат. значимости\n",
    "alpha = 0.05\n",
    "\n",
    "# проведение t-теста\n",
    "results = st.ttest_rel(before, after) \n",
    "\n",
    "# выведем полученное p-значение\n",
    "print('p-значение:', results.pvalue)\n",
    "\n",
    "# проверим p-value\n",
    "alpha = 0.05  # задаем уровень значимости\n",
    "\n",
    "if p_value < alpha:\n",
    "    print('Отвергаем нулевую гипотезу')\n",
    "else:\n",
    "    print('Не получилось отвергнуть нулевую гипотезу')"
   ]
  },
  {
   "cell_type": "markdown",
   "id": "7ffd4e9a",
   "metadata": {},
   "source": [
    "Общий вывод:\n",
    " \n",
    " 1. На первом шаге: \n",
    " - Загрузили все .csv файлы с данными\n",
    " - Подключили все необходимые библиотеки Python'a\n",
    " - Была выведена информация касательно каждой из таблиц, базовые гистаграммы и описательная статистика.\n",
    " - Таким образом мы ознакомились с данными, которые нам предстоит обработать и изучить\n",
    " 2. На предобработке данных:\n",
    " - Проверили датафреймы на наличие дубликатов, и удалили их.\n",
    " - Привели столбцы в корректные форматы, а также привели числовые столбцы в более компактные с точки зрения памяти виды.\n",
    " - Там, где необходимо, значения столбцов были округлены.\n",
    " 3. Исследовательский анализ данных показал нам:\n",
    " - Средний возраст пользователя - 25 лет\n",
    " - Стандартное отклонение пользователей - 4.6, разброс небольшой.\n",
    " - Больше всего путешествуют на самокатах в Пятигорске, тогда как в Москве - меньше всего\n",
    " - Пользователей с подпиской - 699, что 45.6% от общего числа пользователей. Тогда как пользователей без подписки - 835, что есть 54.4% от общего числа пользователей.\n",
    " - В среднем пользователь проезжает 3 километра за поездку. Но есть и отдельное небольшое распределение для коротких поездок - в среднем в таких поездках расстояние лишь 700 метров.\n",
    " - Самые короткие поездки занимают около минуты, тогда как самые долгие поездки достигают 41 минуты. А в среднем на самокате проезжают по 18 минут.\n",
    " 4. В объединении данных:\n",
    " - Объединили данные о пользователях, поездках и подписках в один датафрейм, а также провели различного типа проверки для того, чтобы удостовериться в корректности новых данных.\n",
    " - Были созданы отдельные датафреймы - для пользователей с подпиской и без\n",
    " - Пользователи без подписки любят менее длительные поездки, чем пользователи с подпиской\n",
    " - В среднем пользователя с подпиской и без подписки проезжают 3.1 и 3 км соответственно. Наличие подписки практически не влияет на среднее значение.\n",
    " - Визуализировали информацию о расстоянии и длительности поездок для пользователей с подпиской и без.\n",
    " 5. В подсчёте выручки:\n",
    " - Создали сводную таблицу, в которой содержится информация о суммарном растоянии, количестве поездок и суммарном времени. В неё же добавили столбец с помесячной выручкой.\n",
    " - Была создана таблица с помесячной прибылью с поездок в зависимости от типа подписки - а также выведена общая прибыль за год - 3,878,641.00 рублей\n",
    " - Большая часть выручки приходится на пользователей, не использующих подписку 'ultra'.\n",
    " - Самые прибыльные месяцы оказались: Январь, Май, Июнь\n",
    " - Самые низкие месяцы по доходам оказались: Октябрь, Ноябрь и Февраль.\n",
    " 6. Были проверены гипотезы:\n",
    " - О том, тратят ли пользователя с подпиской больше времени на поездки - при уровне статистической значимости в 5% нулевая гипотеза о том, что средние равны отвергнута. Среднее время поездок с подпиской выше, чем без подписки, хотя и незначительно, судя по гистограммам.\n",
    " - О том, что среднее расстояние за одну поездку не превышает 3130 метров - нулевую гипотезу не получилось отвергнуть. Это говорит о том, что есть вероятность, что среднее расстояние действительно не превышает 3130 метров, при статистической значимости в 5%\n",
    " - О том, что помесячная выручка от пользователей с подпиской по месяцам выше, чем без - нулевая гипотеза отвергнута. Средняя месячная выручка от пользователей с подпиской больше средней месячной выручки от пользователей без подписки, но при установленном уровне значимости в 5%. Гистограмма в пункте 5 говорит об обратном. \n",
    " - О нахождении корректного теста для проверки гипотезы о снижении количества обращений в техподдержку - поскольку речь идет о парных выборках, мы можем использовать t-тест для парных выборок. В библиотеке scipy есть соответствующая функция под названием scipy.stats.ttest_rel(). Был написан код, который может решить подобную гипотезу, если будут необходимые данные."
   ]
  }
 ],
 "metadata": {
  "ExecuteTimeLog": [
   {
    "duration": 1108,
    "start_time": "2024-07-21T09:34:51.436Z"
   },
   {
    "duration": 369,
    "start_time": "2024-07-21T09:34:52.546Z"
   },
   {
    "duration": 5,
    "start_time": "2024-07-21T09:34:52.917Z"
   },
   {
    "duration": 328,
    "start_time": "2024-07-21T09:34:52.924Z"
   },
   {
    "duration": 361,
    "start_time": "2024-07-21T09:34:53.253Z"
   },
   {
    "duration": 335,
    "start_time": "2024-07-21T09:34:53.616Z"
   },
   {
    "duration": 14,
    "start_time": "2024-07-21T09:34:53.952Z"
   },
   {
    "duration": 6,
    "start_time": "2024-07-21T09:34:53.968Z"
   },
   {
    "duration": 19,
    "start_time": "2024-07-21T09:34:53.975Z"
   },
   {
    "duration": 40,
    "start_time": "2024-07-21T09:34:53.997Z"
   },
   {
    "duration": 23,
    "start_time": "2024-07-21T09:34:54.038Z"
   },
   {
    "duration": 4,
    "start_time": "2024-07-21T09:34:54.063Z"
   },
   {
    "duration": 16,
    "start_time": "2024-07-21T09:34:54.068Z"
   },
   {
    "duration": 15,
    "start_time": "2024-07-21T09:34:54.086Z"
   },
   {
    "duration": 25,
    "start_time": "2024-07-21T09:34:54.103Z"
   },
   {
    "duration": 8,
    "start_time": "2024-07-21T09:34:54.129Z"
   },
   {
    "duration": 286,
    "start_time": "2024-07-21T09:34:54.138Z"
   },
   {
    "duration": 243,
    "start_time": "2024-07-21T09:34:54.426Z"
   },
   {
    "duration": 134,
    "start_time": "2024-07-21T09:34:54.671Z"
   },
   {
    "duration": 20,
    "start_time": "2024-07-21T09:34:54.807Z"
   },
   {
    "duration": 4,
    "start_time": "2024-07-21T09:34:54.829Z"
   },
   {
    "duration": 166,
    "start_time": "2024-07-21T09:34:54.834Z"
   },
   {
    "duration": 6,
    "start_time": "2024-07-21T09:34:55.001Z"
   },
   {
    "duration": 205,
    "start_time": "2024-07-21T09:34:55.009Z"
   },
   {
    "duration": 12,
    "start_time": "2024-07-21T09:34:55.216Z"
   },
   {
    "duration": 35,
    "start_time": "2024-07-21T09:34:55.230Z"
   },
   {
    "duration": 15,
    "start_time": "2024-07-21T09:34:55.267Z"
   },
   {
    "duration": 52,
    "start_time": "2024-07-21T09:34:55.285Z"
   },
   {
    "duration": 35,
    "start_time": "2024-07-21T09:34:55.339Z"
   },
   {
    "duration": 28,
    "start_time": "2024-07-21T09:34:55.375Z"
   },
   {
    "duration": 34,
    "start_time": "2024-07-21T09:34:55.424Z"
   },
   {
    "duration": 272,
    "start_time": "2024-07-21T09:34:55.460Z"
   },
   {
    "duration": 276,
    "start_time": "2024-07-21T09:34:55.734Z"
   },
   {
    "duration": 60,
    "start_time": "2024-07-21T09:34:56.011Z"
   },
   {
    "duration": 41,
    "start_time": "2024-07-21T09:34:56.073Z"
   },
   {
    "duration": 25,
    "start_time": "2024-07-21T09:34:56.115Z"
   },
   {
    "duration": 293,
    "start_time": "2024-07-21T09:34:56.141Z"
   },
   {
    "duration": 6,
    "start_time": "2024-07-21T09:34:56.435Z"
   },
   {
    "duration": 10,
    "start_time": "2024-07-21T09:34:56.442Z"
   },
   {
    "duration": 94,
    "start_time": "2024-07-21T09:34:56.453Z"
   },
   {
    "duration": 6,
    "start_time": "2024-07-21T09:34:56.548Z"
   },
   {
    "duration": 104,
    "start_time": "2024-07-21T09:34:56.555Z"
   },
   {
    "duration": 17,
    "start_time": "2024-07-21T09:46:14.848Z"
   },
   {
    "duration": 10,
    "start_time": "2024-07-21T09:46:24.845Z"
   },
   {
    "duration": 9,
    "start_time": "2024-07-21T09:46:38.440Z"
   },
   {
    "duration": 6,
    "start_time": "2024-07-21T09:47:26.592Z"
   },
   {
    "duration": 5,
    "start_time": "2024-07-21T09:49:10.939Z"
   },
   {
    "duration": 1211,
    "start_time": "2024-07-21T09:51:20.820Z"
   },
   {
    "duration": 75,
    "start_time": "2024-07-21T09:51:22.033Z"
   },
   {
    "duration": 5,
    "start_time": "2024-07-21T09:51:22.109Z"
   },
   {
    "duration": 311,
    "start_time": "2024-07-21T09:51:22.117Z"
   },
   {
    "duration": 367,
    "start_time": "2024-07-21T09:51:22.429Z"
   },
   {
    "duration": 349,
    "start_time": "2024-07-21T09:51:22.797Z"
   },
   {
    "duration": 15,
    "start_time": "2024-07-21T09:51:23.147Z"
   },
   {
    "duration": 7,
    "start_time": "2024-07-21T09:51:23.163Z"
   },
   {
    "duration": 19,
    "start_time": "2024-07-21T09:51:23.171Z"
   },
   {
    "duration": 46,
    "start_time": "2024-07-21T09:51:23.192Z"
   },
   {
    "duration": 13,
    "start_time": "2024-07-21T09:51:23.239Z"
   },
   {
    "duration": 5,
    "start_time": "2024-07-21T09:51:23.253Z"
   },
   {
    "duration": 17,
    "start_time": "2024-07-21T09:51:23.259Z"
   },
   {
    "duration": 49,
    "start_time": "2024-07-21T09:51:23.278Z"
   },
   {
    "duration": 5,
    "start_time": "2024-07-21T09:51:23.329Z"
   },
   {
    "duration": 7,
    "start_time": "2024-07-21T09:51:23.336Z"
   },
   {
    "duration": 271,
    "start_time": "2024-07-21T09:51:23.344Z"
   },
   {
    "duration": 244,
    "start_time": "2024-07-21T09:51:23.616Z"
   },
   {
    "duration": 138,
    "start_time": "2024-07-21T09:51:23.862Z"
   },
   {
    "duration": 8,
    "start_time": "2024-07-21T09:51:24.001Z"
   },
   {
    "duration": 14,
    "start_time": "2024-07-21T09:51:24.011Z"
   },
   {
    "duration": 159,
    "start_time": "2024-07-21T09:51:24.027Z"
   },
   {
    "duration": 6,
    "start_time": "2024-07-21T09:51:24.188Z"
   },
   {
    "duration": 193,
    "start_time": "2024-07-21T09:51:24.195Z"
   },
   {
    "duration": 7,
    "start_time": "2024-07-21T09:51:24.390Z"
   },
   {
    "duration": 44,
    "start_time": "2024-07-21T09:51:24.399Z"
   },
   {
    "duration": 45,
    "start_time": "2024-07-21T09:51:24.444Z"
   },
   {
    "duration": 25,
    "start_time": "2024-07-21T09:51:24.492Z"
   },
   {
    "duration": 83,
    "start_time": "2024-07-21T09:51:24.518Z"
   },
   {
    "duration": 22,
    "start_time": "2024-07-21T09:51:24.602Z"
   },
   {
    "duration": 31,
    "start_time": "2024-07-21T09:51:24.626Z"
   },
   {
    "duration": 268,
    "start_time": "2024-07-21T09:51:24.659Z"
   },
   {
    "duration": 263,
    "start_time": "2024-07-21T09:51:24.929Z"
   },
   {
    "duration": 62,
    "start_time": "2024-07-21T09:51:25.193Z"
   },
   {
    "duration": 16,
    "start_time": "2024-07-21T09:51:25.256Z"
   },
   {
    "duration": 23,
    "start_time": "2024-07-21T09:51:25.274Z"
   },
   {
    "duration": 310,
    "start_time": "2024-07-21T09:51:25.299Z"
   },
   {
    "duration": 6,
    "start_time": "2024-07-21T09:51:25.610Z"
   },
   {
    "duration": 6,
    "start_time": "2024-07-21T09:51:25.624Z"
   },
   {
    "duration": 12,
    "start_time": "2024-07-21T09:51:25.631Z"
   },
   {
    "duration": 10,
    "start_time": "2024-07-21T09:51:25.645Z"
   },
   {
    "duration": 110,
    "start_time": "2024-07-21T09:51:25.657Z"
   },
   {
    "duration": 9,
    "start_time": "2024-07-22T10:47:07.974Z"
   },
   {
    "duration": 4,
    "start_time": "2024-07-22T10:47:19.970Z"
   },
   {
    "duration": 4,
    "start_time": "2024-07-22T10:47:59.966Z"
   },
   {
    "duration": 4,
    "start_time": "2024-07-22T10:48:15.901Z"
   },
   {
    "duration": 5,
    "start_time": "2024-07-22T10:48:17.552Z"
   },
   {
    "duration": 43,
    "start_time": "2024-07-22T10:48:18.245Z"
   },
   {
    "duration": 6,
    "start_time": "2024-07-22T10:48:18.940Z"
   },
   {
    "duration": 1283,
    "start_time": "2024-07-22T10:48:25.276Z"
   },
   {
    "duration": 391,
    "start_time": "2024-07-22T10:48:27.660Z"
   },
   {
    "duration": 4,
    "start_time": "2024-07-22T10:48:28.388Z"
   },
   {
    "duration": 302,
    "start_time": "2024-07-22T10:48:29.796Z"
   },
   {
    "duration": 307,
    "start_time": "2024-07-22T10:48:32.724Z"
   },
   {
    "duration": 344,
    "start_time": "2024-07-22T10:48:34.573Z"
   },
   {
    "duration": 64,
    "start_time": "2024-07-22T10:52:47.231Z"
   },
   {
    "duration": 1113,
    "start_time": "2024-07-22T10:52:58.242Z"
   },
   {
    "duration": 76,
    "start_time": "2024-07-22T10:52:59.357Z"
   },
   {
    "duration": 5,
    "start_time": "2024-07-22T10:52:59.435Z"
   },
   {
    "duration": 330,
    "start_time": "2024-07-22T10:52:59.442Z"
   },
   {
    "duration": 361,
    "start_time": "2024-07-22T10:52:59.774Z"
   },
   {
    "duration": 369,
    "start_time": "2024-07-22T10:53:00.137Z"
   },
   {
    "duration": 24,
    "start_time": "2024-07-22T10:53:00.508Z"
   },
   {
    "duration": 8,
    "start_time": "2024-07-22T10:53:00.534Z"
   },
   {
    "duration": 31,
    "start_time": "2024-07-22T10:53:00.543Z"
   },
   {
    "duration": 26,
    "start_time": "2024-07-22T10:53:00.578Z"
   },
   {
    "duration": 27,
    "start_time": "2024-07-22T10:53:00.606Z"
   },
   {
    "duration": 12,
    "start_time": "2024-07-22T10:53:00.635Z"
   },
   {
    "duration": 30,
    "start_time": "2024-07-22T10:53:00.649Z"
   },
   {
    "duration": 19,
    "start_time": "2024-07-22T10:53:00.681Z"
   },
   {
    "duration": 72,
    "start_time": "2024-07-22T10:53:00.702Z"
   },
   {
    "duration": 24,
    "start_time": "2024-07-22T10:53:00.776Z"
   },
   {
    "duration": 287,
    "start_time": "2024-07-22T10:53:00.802Z"
   },
   {
    "duration": 341,
    "start_time": "2024-07-22T10:53:01.091Z"
   },
   {
    "duration": 0,
    "start_time": "2024-07-22T10:53:01.434Z"
   },
   {
    "duration": 0,
    "start_time": "2024-07-22T10:53:01.435Z"
   },
   {
    "duration": 0,
    "start_time": "2024-07-22T10:53:01.436Z"
   },
   {
    "duration": 0,
    "start_time": "2024-07-22T10:53:01.437Z"
   },
   {
    "duration": 0,
    "start_time": "2024-07-22T10:53:01.438Z"
   },
   {
    "duration": 0,
    "start_time": "2024-07-22T10:53:01.439Z"
   },
   {
    "duration": 0,
    "start_time": "2024-07-22T10:53:01.440Z"
   },
   {
    "duration": 0,
    "start_time": "2024-07-22T10:53:01.441Z"
   },
   {
    "duration": 0,
    "start_time": "2024-07-22T10:53:01.442Z"
   },
   {
    "duration": 0,
    "start_time": "2024-07-22T10:53:01.443Z"
   },
   {
    "duration": 0,
    "start_time": "2024-07-22T10:53:01.444Z"
   },
   {
    "duration": 0,
    "start_time": "2024-07-22T10:53:01.445Z"
   },
   {
    "duration": 0,
    "start_time": "2024-07-22T10:53:01.446Z"
   },
   {
    "duration": 0,
    "start_time": "2024-07-22T10:53:01.447Z"
   },
   {
    "duration": 0,
    "start_time": "2024-07-22T10:53:01.448Z"
   },
   {
    "duration": 0,
    "start_time": "2024-07-22T10:53:01.449Z"
   },
   {
    "duration": 0,
    "start_time": "2024-07-22T10:53:01.450Z"
   },
   {
    "duration": 0,
    "start_time": "2024-07-22T10:53:01.451Z"
   },
   {
    "duration": 0,
    "start_time": "2024-07-22T10:53:01.452Z"
   },
   {
    "duration": 0,
    "start_time": "2024-07-22T10:53:01.453Z"
   },
   {
    "duration": 0,
    "start_time": "2024-07-22T10:53:01.454Z"
   },
   {
    "duration": 0,
    "start_time": "2024-07-22T10:53:01.455Z"
   },
   {
    "duration": 0,
    "start_time": "2024-07-22T10:53:01.456Z"
   },
   {
    "duration": 0,
    "start_time": "2024-07-22T10:53:01.457Z"
   },
   {
    "duration": 187,
    "start_time": "2024-07-22T10:54:34.595Z"
   },
   {
    "duration": 187,
    "start_time": "2024-07-22T10:54:43.658Z"
   },
   {
    "duration": 182,
    "start_time": "2024-07-22T10:54:46.219Z"
   },
   {
    "duration": 180,
    "start_time": "2024-07-22T10:54:51.296Z"
   },
   {
    "duration": 185,
    "start_time": "2024-07-22T10:55:00.552Z"
   },
   {
    "duration": 182,
    "start_time": "2024-07-22T10:55:03.481Z"
   },
   {
    "duration": 189,
    "start_time": "2024-07-22T10:55:06.737Z"
   },
   {
    "duration": 183,
    "start_time": "2024-07-22T10:55:10.505Z"
   },
   {
    "duration": 188,
    "start_time": "2024-07-22T10:55:17.737Z"
   },
   {
    "duration": 184,
    "start_time": "2024-07-22T10:55:22.066Z"
   },
   {
    "duration": 255,
    "start_time": "2024-07-22T10:55:24.192Z"
   },
   {
    "duration": 188,
    "start_time": "2024-07-22T10:55:27.577Z"
   },
   {
    "duration": 125,
    "start_time": "2024-07-22T10:56:45.221Z"
   },
   {
    "duration": 16,
    "start_time": "2024-07-22T11:00:04.851Z"
   },
   {
    "duration": 17,
    "start_time": "2024-07-22T11:00:09.131Z"
   },
   {
    "duration": 18,
    "start_time": "2024-07-22T11:00:17.132Z"
   },
   {
    "duration": 131,
    "start_time": "2024-07-22T11:00:34.229Z"
   },
   {
    "duration": 130,
    "start_time": "2024-07-22T11:00:40.919Z"
   },
   {
    "duration": 132,
    "start_time": "2024-07-22T11:00:47.286Z"
   },
   {
    "duration": 133,
    "start_time": "2024-07-22T11:01:39.773Z"
   },
   {
    "duration": 128,
    "start_time": "2024-07-22T11:01:45.556Z"
   },
   {
    "duration": 137,
    "start_time": "2024-07-22T11:02:07.350Z"
   },
   {
    "duration": 135,
    "start_time": "2024-07-22T11:02:22.262Z"
   },
   {
    "duration": 137,
    "start_time": "2024-07-22T11:02:25.901Z"
   },
   {
    "duration": 142,
    "start_time": "2024-07-22T11:02:29.991Z"
   },
   {
    "duration": 147,
    "start_time": "2024-07-22T11:02:39.181Z"
   },
   {
    "duration": 216,
    "start_time": "2024-07-22T11:02:48.102Z"
   },
   {
    "duration": 155,
    "start_time": "2024-07-22T11:03:51.554Z"
   },
   {
    "duration": 146,
    "start_time": "2024-07-22T11:04:02.054Z"
   },
   {
    "duration": 176,
    "start_time": "2024-07-22T11:04:29.534Z"
   },
   {
    "duration": 162,
    "start_time": "2024-07-22T11:04:32.182Z"
   },
   {
    "duration": 148,
    "start_time": "2024-07-22T11:05:07.046Z"
   },
   {
    "duration": 6,
    "start_time": "2024-07-22T11:05:17.818Z"
   },
   {
    "duration": 207,
    "start_time": "2024-07-22T11:05:41.256Z"
   },
   {
    "duration": 151,
    "start_time": "2024-07-22T11:06:15.736Z"
   },
   {
    "duration": 16,
    "start_time": "2024-07-22T11:06:48.599Z"
   },
   {
    "duration": 219,
    "start_time": "2024-07-22T11:06:51.520Z"
   },
   {
    "duration": 6,
    "start_time": "2024-07-22T11:07:09.782Z"
   },
   {
    "duration": 793,
    "start_time": "2024-07-22T11:08:07.048Z"
   },
   {
    "duration": 6,
    "start_time": "2024-07-22T11:08:09.231Z"
   },
   {
    "duration": 102,
    "start_time": "2024-07-22T11:08:16.400Z"
   },
   {
    "duration": 715,
    "start_time": "2024-07-22T11:08:23.547Z"
   },
   {
    "duration": 60,
    "start_time": "2024-07-22T11:08:28.440Z"
   },
   {
    "duration": 15,
    "start_time": "2024-07-22T11:08:32.089Z"
   },
   {
    "duration": 209,
    "start_time": "2024-07-22T11:08:34.600Z"
   },
   {
    "duration": 98,
    "start_time": "2024-07-22T11:09:45.753Z"
   },
   {
    "duration": 99,
    "start_time": "2024-07-22T11:10:14.089Z"
   },
   {
    "duration": 706,
    "start_time": "2024-07-22T11:18:14.021Z"
   },
   {
    "duration": 6,
    "start_time": "2024-07-22T11:18:16.757Z"
   },
   {
    "duration": 727,
    "start_time": "2024-07-22T11:19:40.166Z"
   },
   {
    "duration": 6,
    "start_time": "2024-07-22T11:19:46.765Z"
   },
   {
    "duration": 815,
    "start_time": "2024-07-22T11:19:55.327Z"
   },
   {
    "duration": 6,
    "start_time": "2024-07-22T11:19:57.702Z"
   },
   {
    "duration": 107,
    "start_time": "2024-07-22T11:20:16.049Z"
   },
   {
    "duration": 7,
    "start_time": "2024-07-22T11:20:18.909Z"
   },
   {
    "duration": 100,
    "start_time": "2024-07-22T11:20:28.427Z"
   },
   {
    "duration": 7,
    "start_time": "2024-07-22T11:20:31.509Z"
   },
   {
    "duration": 102,
    "start_time": "2024-07-22T11:20:37.830Z"
   },
   {
    "duration": 7,
    "start_time": "2024-07-22T11:20:40.583Z"
   },
   {
    "duration": 100,
    "start_time": "2024-07-22T11:20:48.423Z"
   },
   {
    "duration": 109,
    "start_time": "2024-07-22T11:24:06.192Z"
   },
   {
    "duration": 7,
    "start_time": "2024-07-22T11:24:08.311Z"
   },
   {
    "duration": 198,
    "start_time": "2024-07-22T11:24:18.914Z"
   },
   {
    "duration": 7,
    "start_time": "2024-07-22T11:24:20.841Z"
   },
   {
    "duration": 105,
    "start_time": "2024-07-22T11:24:44.042Z"
   },
   {
    "duration": 7,
    "start_time": "2024-07-22T11:24:47.177Z"
   },
   {
    "duration": 106,
    "start_time": "2024-07-22T11:24:55.857Z"
   },
   {
    "duration": 8,
    "start_time": "2024-07-22T11:24:58.008Z"
   },
   {
    "duration": 107,
    "start_time": "2024-07-22T11:25:13.338Z"
   },
   {
    "duration": 8,
    "start_time": "2024-07-22T11:25:15.225Z"
   },
   {
    "duration": 106,
    "start_time": "2024-07-22T11:25:19.131Z"
   },
   {
    "duration": 8,
    "start_time": "2024-07-22T11:25:21.129Z"
   },
   {
    "duration": 1129,
    "start_time": "2024-07-22T11:25:35.817Z"
   },
   {
    "duration": 105,
    "start_time": "2024-07-22T11:25:48.266Z"
   },
   {
    "duration": 789,
    "start_time": "2024-07-22T11:25:59.994Z"
   },
   {
    "duration": 212,
    "start_time": "2024-07-22T11:26:10.626Z"
   },
   {
    "duration": 8,
    "start_time": "2024-07-22T11:26:12.616Z"
   },
   {
    "duration": 105,
    "start_time": "2024-07-22T11:26:15.946Z"
   },
   {
    "duration": 7,
    "start_time": "2024-07-22T11:26:18.082Z"
   },
   {
    "duration": 107,
    "start_time": "2024-07-22T11:27:11.986Z"
   },
   {
    "duration": 9,
    "start_time": "2024-07-22T11:27:13.836Z"
   },
   {
    "duration": 106,
    "start_time": "2024-07-22T11:27:28.348Z"
   },
   {
    "duration": 9,
    "start_time": "2024-07-22T11:27:31.130Z"
   },
   {
    "duration": 100,
    "start_time": "2024-07-22T11:29:06.012Z"
   },
   {
    "duration": 110,
    "start_time": "2024-07-22T11:29:17.059Z"
   },
   {
    "duration": 10,
    "start_time": "2024-07-22T11:29:34.127Z"
   },
   {
    "duration": 4,
    "start_time": "2024-07-22T11:29:34.339Z"
   },
   {
    "duration": 160,
    "start_time": "2024-07-22T11:29:34.636Z"
   },
   {
    "duration": 6,
    "start_time": "2024-07-22T11:30:50.332Z"
   },
   {
    "duration": 192,
    "start_time": "2024-07-22T11:30:50.723Z"
   },
   {
    "duration": 9,
    "start_time": "2024-07-22T11:30:51.163Z"
   },
   {
    "duration": 4,
    "start_time": "2024-07-22T11:32:00.561Z"
   },
   {
    "duration": 211,
    "start_time": "2024-07-22T11:32:07.917Z"
   },
   {
    "duration": 164,
    "start_time": "2024-07-22T11:32:43.527Z"
   },
   {
    "duration": 146,
    "start_time": "2024-07-22T11:32:53.329Z"
   },
   {
    "duration": 157,
    "start_time": "2024-07-22T11:32:59.192Z"
   },
   {
    "duration": 159,
    "start_time": "2024-07-22T11:33:04.170Z"
   },
   {
    "duration": 442,
    "start_time": "2024-07-22T11:33:09.818Z"
   },
   {
    "duration": 235,
    "start_time": "2024-07-22T11:33:18.062Z"
   },
   {
    "duration": 398,
    "start_time": "2024-07-22T11:33:20.398Z"
   },
   {
    "duration": 5,
    "start_time": "2024-07-22T11:35:17.047Z"
   },
   {
    "duration": 176,
    "start_time": "2024-07-22T11:35:22.553Z"
   },
   {
    "duration": 172,
    "start_time": "2024-07-22T11:35:33.127Z"
   },
   {
    "duration": 178,
    "start_time": "2024-07-22T11:35:38.514Z"
   },
   {
    "duration": 156,
    "start_time": "2024-07-22T11:35:54.831Z"
   },
   {
    "duration": 197,
    "start_time": "2024-07-22T11:35:57.167Z"
   },
   {
    "duration": 151,
    "start_time": "2024-07-22T11:35:59.278Z"
   },
   {
    "duration": 256,
    "start_time": "2024-07-22T11:37:15.964Z"
   },
   {
    "duration": 179,
    "start_time": "2024-07-22T11:37:21.150Z"
   },
   {
    "duration": 140,
    "start_time": "2024-07-22T11:39:14.307Z"
   },
   {
    "duration": 23,
    "start_time": "2024-07-22T11:39:43.777Z"
   },
   {
    "duration": 8,
    "start_time": "2024-07-22T11:39:51.801Z"
   },
   {
    "duration": 1191,
    "start_time": "2024-07-22T11:45:33.933Z"
   },
   {
    "duration": 79,
    "start_time": "2024-07-22T11:45:35.125Z"
   },
   {
    "duration": 5,
    "start_time": "2024-07-22T11:45:35.205Z"
   },
   {
    "duration": 309,
    "start_time": "2024-07-22T11:45:35.212Z"
   },
   {
    "duration": 346,
    "start_time": "2024-07-22T11:45:35.524Z"
   },
   {
    "duration": 347,
    "start_time": "2024-07-22T11:45:35.871Z"
   },
   {
    "duration": 16,
    "start_time": "2024-07-22T11:45:36.219Z"
   },
   {
    "duration": 6,
    "start_time": "2024-07-22T11:45:36.237Z"
   },
   {
    "duration": 19,
    "start_time": "2024-07-22T11:45:36.244Z"
   },
   {
    "duration": 16,
    "start_time": "2024-07-22T11:45:36.266Z"
   },
   {
    "duration": 45,
    "start_time": "2024-07-22T11:45:36.283Z"
   },
   {
    "duration": 4,
    "start_time": "2024-07-22T11:45:36.330Z"
   },
   {
    "duration": 32,
    "start_time": "2024-07-22T11:45:36.335Z"
   },
   {
    "duration": 17,
    "start_time": "2024-07-22T11:45:36.369Z"
   },
   {
    "duration": 6,
    "start_time": "2024-07-22T11:45:36.388Z"
   },
   {
    "duration": 10,
    "start_time": "2024-07-22T11:45:36.396Z"
   },
   {
    "duration": 263,
    "start_time": "2024-07-22T11:45:36.424Z"
   },
   {
    "duration": 272,
    "start_time": "2024-07-22T11:45:36.689Z"
   },
   {
    "duration": 119,
    "start_time": "2024-07-22T11:45:36.962Z"
   },
   {
    "duration": 9,
    "start_time": "2024-07-22T11:45:37.082Z"
   },
   {
    "duration": 4,
    "start_time": "2024-07-22T11:45:37.092Z"
   },
   {
    "duration": 179,
    "start_time": "2024-07-22T11:45:37.097Z"
   },
   {
    "duration": 149,
    "start_time": "2024-07-22T11:45:37.277Z"
   },
   {
    "duration": 7,
    "start_time": "2024-07-22T11:45:37.428Z"
   },
   {
    "duration": 19,
    "start_time": "2024-07-22T11:45:37.437Z"
   },
   {
    "duration": 185,
    "start_time": "2024-07-22T11:45:37.457Z"
   },
   {
    "duration": 8,
    "start_time": "2024-07-22T11:45:37.644Z"
   },
   {
    "duration": 34,
    "start_time": "2024-07-22T11:45:37.655Z"
   },
   {
    "duration": 34,
    "start_time": "2024-07-22T11:45:37.691Z"
   },
   {
    "duration": 109,
    "start_time": "2024-07-22T11:45:37.727Z"
   },
   {
    "duration": 34,
    "start_time": "2024-07-22T11:45:37.837Z"
   },
   {
    "duration": 22,
    "start_time": "2024-07-22T11:45:37.873Z"
   },
   {
    "duration": 55,
    "start_time": "2024-07-22T11:45:37.897Z"
   },
   {
    "duration": 259,
    "start_time": "2024-07-22T11:45:37.954Z"
   },
   {
    "duration": 273,
    "start_time": "2024-07-22T11:45:38.214Z"
   },
   {
    "duration": 60,
    "start_time": "2024-07-22T11:45:38.489Z"
   },
   {
    "duration": 17,
    "start_time": "2024-07-22T11:45:38.550Z"
   },
   {
    "duration": 26,
    "start_time": "2024-07-22T11:45:38.569Z"
   },
   {
    "duration": 314,
    "start_time": "2024-07-22T11:45:38.597Z"
   },
   {
    "duration": 11,
    "start_time": "2024-07-22T11:45:38.913Z"
   },
   {
    "duration": 5,
    "start_time": "2024-07-22T11:45:38.925Z"
   },
   {
    "duration": 5,
    "start_time": "2024-07-22T11:45:38.931Z"
   },
   {
    "duration": 5,
    "start_time": "2024-07-22T11:45:38.937Z"
   },
   {
    "duration": 121,
    "start_time": "2024-07-22T11:45:38.943Z"
   },
   {
    "duration": 269,
    "start_time": "2024-07-22T11:46:02.661Z"
   },
   {
    "duration": 197,
    "start_time": "2024-07-22T11:46:14.869Z"
   },
   {
    "duration": 205,
    "start_time": "2024-07-22T11:46:24.702Z"
   },
   {
    "duration": 201,
    "start_time": "2024-07-22T11:46:36.894Z"
   },
   {
    "duration": 197,
    "start_time": "2024-07-22T11:46:42.532Z"
   },
   {
    "duration": 205,
    "start_time": "2024-07-22T11:46:48.752Z"
   },
   {
    "duration": 187,
    "start_time": "2024-07-22T11:46:52.638Z"
   },
   {
    "duration": 202,
    "start_time": "2024-07-22T11:46:57.926Z"
   },
   {
    "duration": 186,
    "start_time": "2024-07-22T11:47:25.863Z"
   },
   {
    "duration": 188,
    "start_time": "2024-07-22T11:47:41.750Z"
   },
   {
    "duration": 13,
    "start_time": "2024-07-22T11:49:14.486Z"
   },
   {
    "duration": 250,
    "start_time": "2024-07-22T11:51:32.288Z"
   },
   {
    "duration": 3,
    "start_time": "2024-07-22T11:51:36.176Z"
   },
   {
    "duration": 3,
    "start_time": "2024-07-22T11:52:52.481Z"
   },
   {
    "duration": 4,
    "start_time": "2024-07-22T11:52:56.119Z"
   },
   {
    "duration": 3,
    "start_time": "2024-07-22T11:53:07.617Z"
   },
   {
    "duration": 2,
    "start_time": "2024-07-22T11:53:10.041Z"
   },
   {
    "duration": 147,
    "start_time": "2024-07-22T11:53:31.556Z"
   },
   {
    "duration": 158,
    "start_time": "2024-07-22T11:53:33.417Z"
   },
   {
    "duration": 4,
    "start_time": "2024-07-22T11:53:38.723Z"
   },
   {
    "duration": 3,
    "start_time": "2024-07-22T11:53:42.945Z"
   },
   {
    "duration": 4,
    "start_time": "2024-07-22T11:53:44.600Z"
   },
   {
    "duration": 3,
    "start_time": "2024-07-22T11:53:47.120Z"
   },
   {
    "duration": 4,
    "start_time": "2024-07-22T11:53:52.865Z"
   },
   {
    "duration": 4,
    "start_time": "2024-07-22T11:54:02.464Z"
   },
   {
    "duration": 9,
    "start_time": "2024-07-22T11:54:29.321Z"
   },
   {
    "duration": 8,
    "start_time": "2024-07-22T11:56:31.506Z"
   },
   {
    "duration": 9,
    "start_time": "2024-07-22T11:56:48.018Z"
   },
   {
    "duration": 19,
    "start_time": "2024-07-22T11:57:51.523Z"
   },
   {
    "duration": 18,
    "start_time": "2024-07-22T11:58:21.747Z"
   },
   {
    "duration": 19,
    "start_time": "2024-07-22T11:58:33.666Z"
   },
   {
    "duration": 20,
    "start_time": "2024-07-22T11:59:28.756Z"
   },
   {
    "duration": 20,
    "start_time": "2024-07-22T12:00:08.445Z"
   },
   {
    "duration": 19,
    "start_time": "2024-07-22T12:00:15.436Z"
   },
   {
    "duration": 5,
    "start_time": "2024-07-22T12:01:38.454Z"
   },
   {
    "duration": 5,
    "start_time": "2024-07-22T12:01:39.931Z"
   },
   {
    "duration": 6,
    "start_time": "2024-07-22T12:05:18.254Z"
   },
   {
    "duration": 4,
    "start_time": "2024-07-22T12:06:29.054Z"
   },
   {
    "duration": 4,
    "start_time": "2024-07-22T12:06:39.166Z"
   },
   {
    "duration": 67,
    "start_time": "2024-07-22T12:06:49.942Z"
   },
   {
    "duration": 4,
    "start_time": "2024-07-22T12:06:58.151Z"
   },
   {
    "duration": 4,
    "start_time": "2024-07-22T12:09:05.636Z"
   },
   {
    "duration": 6,
    "start_time": "2024-07-22T12:09:15.393Z"
   },
   {
    "duration": 7,
    "start_time": "2024-07-22T12:09:34.716Z"
   },
   {
    "duration": 584,
    "start_time": "2024-07-22T12:09:48.837Z"
   },
   {
    "duration": 81,
    "start_time": "2024-07-22T12:09:53.208Z"
   },
   {
    "duration": 8,
    "start_time": "2024-07-22T12:10:05.929Z"
   },
   {
    "duration": 57,
    "start_time": "2024-07-22T12:10:54.867Z"
   },
   {
    "duration": 74,
    "start_time": "2024-07-22T12:11:01.385Z"
   },
   {
    "duration": 80,
    "start_time": "2024-07-22T12:11:03.665Z"
   },
   {
    "duration": 10,
    "start_time": "2024-07-22T12:11:13.984Z"
   },
   {
    "duration": 7,
    "start_time": "2024-07-22T12:11:23.506Z"
   },
   {
    "duration": 70,
    "start_time": "2024-07-22T12:12:09.018Z"
   },
   {
    "duration": 8,
    "start_time": "2024-07-22T12:12:11.834Z"
   },
   {
    "duration": 8,
    "start_time": "2024-07-22T12:12:28.721Z"
   },
   {
    "duration": 9,
    "start_time": "2024-07-22T12:12:37.497Z"
   },
   {
    "duration": 8,
    "start_time": "2024-07-22T12:12:40.244Z"
   },
   {
    "duration": 8,
    "start_time": "2024-07-22T12:12:42.082Z"
   },
   {
    "duration": 8,
    "start_time": "2024-07-22T12:12:53.107Z"
   },
   {
    "duration": 3,
    "start_time": "2024-07-22T12:13:18.294Z"
   },
   {
    "duration": 3,
    "start_time": "2024-07-22T12:13:39.922Z"
   },
   {
    "duration": 3,
    "start_time": "2024-07-22T12:13:58.731Z"
   },
   {
    "duration": 3,
    "start_time": "2024-07-22T12:14:02.539Z"
   },
   {
    "duration": 3,
    "start_time": "2024-07-22T12:14:09.291Z"
   },
   {
    "duration": 4,
    "start_time": "2024-07-22T12:14:20.226Z"
   },
   {
    "duration": 70,
    "start_time": "2024-07-22T12:18:39.629Z"
   },
   {
    "duration": 58,
    "start_time": "2024-07-22T12:18:43.476Z"
   },
   {
    "duration": 12,
    "start_time": "2024-07-22T12:18:45.844Z"
   },
   {
    "duration": 11,
    "start_time": "2024-07-22T12:18:51.037Z"
   },
   {
    "duration": 60,
    "start_time": "2024-07-22T12:19:02.320Z"
   },
   {
    "duration": 4,
    "start_time": "2024-07-22T12:19:27.269Z"
   },
   {
    "duration": 14,
    "start_time": "2024-07-22T12:19:29.909Z"
   },
   {
    "duration": 21,
    "start_time": "2024-07-22T12:19:40.942Z"
   },
   {
    "duration": 7,
    "start_time": "2024-07-22T12:19:44.756Z"
   },
   {
    "duration": 62,
    "start_time": "2024-07-22T12:19:46.801Z"
   },
   {
    "duration": 62,
    "start_time": "2024-07-22T12:20:59.583Z"
   },
   {
    "duration": 8,
    "start_time": "2024-07-22T12:21:03.741Z"
   },
   {
    "duration": 9,
    "start_time": "2024-07-22T12:21:18.774Z"
   },
   {
    "duration": 7,
    "start_time": "2024-07-22T12:28:59.964Z"
   },
   {
    "duration": 768,
    "start_time": "2024-07-22T12:31:49.949Z"
   },
   {
    "duration": 5,
    "start_time": "2024-07-22T12:32:13.915Z"
   },
   {
    "duration": 743,
    "start_time": "2024-07-22T12:33:01.700Z"
   },
   {
    "duration": 16,
    "start_time": "2024-07-22T12:33:30.645Z"
   },
   {
    "duration": 704,
    "start_time": "2024-07-22T12:34:06.581Z"
   },
   {
    "duration": 5,
    "start_time": "2024-07-22T12:34:12.557Z"
   },
   {
    "duration": 17,
    "start_time": "2024-07-22T12:34:18.181Z"
   },
   {
    "duration": 17,
    "start_time": "2024-07-22T12:34:23.204Z"
   },
   {
    "duration": 742,
    "start_time": "2024-07-22T12:34:28.953Z"
   },
   {
    "duration": 4,
    "start_time": "2024-07-22T12:34:50.054Z"
   },
   {
    "duration": 1221,
    "start_time": "2024-07-22T13:26:19.631Z"
   },
   {
    "duration": 79,
    "start_time": "2024-07-22T13:26:20.854Z"
   },
   {
    "duration": 5,
    "start_time": "2024-07-22T13:26:20.935Z"
   },
   {
    "duration": 328,
    "start_time": "2024-07-22T13:26:20.942Z"
   },
   {
    "duration": 389,
    "start_time": "2024-07-22T13:26:21.271Z"
   },
   {
    "duration": 354,
    "start_time": "2024-07-22T13:26:21.661Z"
   },
   {
    "duration": 16,
    "start_time": "2024-07-22T13:26:22.023Z"
   },
   {
    "duration": 7,
    "start_time": "2024-07-22T13:26:22.040Z"
   },
   {
    "duration": 22,
    "start_time": "2024-07-22T13:26:22.048Z"
   },
   {
    "duration": 16,
    "start_time": "2024-07-22T13:26:22.072Z"
   },
   {
    "duration": 13,
    "start_time": "2024-07-22T13:26:22.123Z"
   },
   {
    "duration": 3,
    "start_time": "2024-07-22T13:26:22.138Z"
   },
   {
    "duration": 18,
    "start_time": "2024-07-22T13:26:22.143Z"
   },
   {
    "duration": 17,
    "start_time": "2024-07-22T13:26:22.162Z"
   },
   {
    "duration": 69,
    "start_time": "2024-07-22T13:26:22.181Z"
   },
   {
    "duration": 7,
    "start_time": "2024-07-22T13:26:22.252Z"
   },
   {
    "duration": 270,
    "start_time": "2024-07-22T13:26:22.260Z"
   },
   {
    "duration": 284,
    "start_time": "2024-07-22T13:26:22.532Z"
   },
   {
    "duration": 125,
    "start_time": "2024-07-22T13:26:22.818Z"
   },
   {
    "duration": 8,
    "start_time": "2024-07-22T13:26:22.944Z"
   },
   {
    "duration": 3,
    "start_time": "2024-07-22T13:26:22.954Z"
   },
   {
    "duration": 197,
    "start_time": "2024-07-22T13:26:22.959Z"
   },
   {
    "duration": 152,
    "start_time": "2024-07-22T13:26:23.157Z"
   },
   {
    "duration": 16,
    "start_time": "2024-07-22T13:26:23.310Z"
   },
   {
    "duration": 6,
    "start_time": "2024-07-22T13:26:23.328Z"
   },
   {
    "duration": 203,
    "start_time": "2024-07-22T13:26:23.335Z"
   },
   {
    "duration": 7,
    "start_time": "2024-07-22T13:26:23.540Z"
   },
   {
    "duration": 36,
    "start_time": "2024-07-22T13:26:23.550Z"
   },
   {
    "duration": 43,
    "start_time": "2024-07-22T13:26:23.587Z"
   },
   {
    "duration": 22,
    "start_time": "2024-07-22T13:26:23.632Z"
   },
   {
    "duration": 68,
    "start_time": "2024-07-22T13:26:23.655Z"
   },
   {
    "duration": 35,
    "start_time": "2024-07-22T13:26:23.725Z"
   },
   {
    "duration": 61,
    "start_time": "2024-07-22T13:26:23.762Z"
   },
   {
    "duration": 35,
    "start_time": "2024-07-22T13:26:23.824Z"
   },
   {
    "duration": 275,
    "start_time": "2024-07-22T13:26:23.860Z"
   },
   {
    "duration": 278,
    "start_time": "2024-07-22T13:26:24.136Z"
   },
   {
    "duration": 58,
    "start_time": "2024-07-22T13:26:24.424Z"
   },
   {
    "duration": 17,
    "start_time": "2024-07-22T13:26:24.483Z"
   },
   {
    "duration": 45,
    "start_time": "2024-07-22T13:26:24.501Z"
   },
   {
    "duration": 310,
    "start_time": "2024-07-22T13:26:24.547Z"
   },
   {
    "duration": 5,
    "start_time": "2024-07-22T13:26:24.859Z"
   },
   {
    "duration": 9,
    "start_time": "2024-07-22T13:26:24.866Z"
   },
   {
    "duration": 11,
    "start_time": "2024-07-22T13:26:24.876Z"
   },
   {
    "duration": 37,
    "start_time": "2024-07-22T13:26:24.888Z"
   },
   {
    "duration": 5,
    "start_time": "2024-07-22T13:26:24.927Z"
   },
   {
    "duration": 122,
    "start_time": "2024-07-22T13:26:24.933Z"
   },
   {
    "duration": 100,
    "start_time": "2024-07-22T13:28:55.875Z"
   },
   {
    "duration": 1190,
    "start_time": "2024-07-22T13:29:02.038Z"
   },
   {
    "duration": 77,
    "start_time": "2024-07-22T13:29:03.230Z"
   },
   {
    "duration": 5,
    "start_time": "2024-07-22T13:29:03.308Z"
   },
   {
    "duration": 313,
    "start_time": "2024-07-22T13:29:03.315Z"
   },
   {
    "duration": 368,
    "start_time": "2024-07-22T13:29:03.629Z"
   },
   {
    "duration": 333,
    "start_time": "2024-07-22T13:29:03.999Z"
   },
   {
    "duration": 14,
    "start_time": "2024-07-22T13:29:04.334Z"
   },
   {
    "duration": 6,
    "start_time": "2024-07-22T13:29:04.349Z"
   },
   {
    "duration": 17,
    "start_time": "2024-07-22T13:29:04.357Z"
   },
   {
    "duration": 53,
    "start_time": "2024-07-22T13:29:04.376Z"
   },
   {
    "duration": 12,
    "start_time": "2024-07-22T13:29:04.430Z"
   },
   {
    "duration": 4,
    "start_time": "2024-07-22T13:29:04.444Z"
   },
   {
    "duration": 17,
    "start_time": "2024-07-22T13:29:04.449Z"
   },
   {
    "duration": 18,
    "start_time": "2024-07-22T13:29:04.467Z"
   },
   {
    "duration": 43,
    "start_time": "2024-07-22T13:29:04.486Z"
   },
   {
    "duration": 8,
    "start_time": "2024-07-22T13:29:04.530Z"
   },
   {
    "duration": 288,
    "start_time": "2024-07-22T13:29:04.540Z"
   },
   {
    "duration": 271,
    "start_time": "2024-07-22T13:29:04.829Z"
   },
   {
    "duration": 120,
    "start_time": "2024-07-22T13:29:05.101Z"
   },
   {
    "duration": 8,
    "start_time": "2024-07-22T13:29:05.224Z"
   },
   {
    "duration": 9,
    "start_time": "2024-07-22T13:29:05.233Z"
   },
   {
    "duration": 180,
    "start_time": "2024-07-22T13:29:05.244Z"
   },
   {
    "duration": 148,
    "start_time": "2024-07-22T13:29:05.425Z"
   },
   {
    "duration": 8,
    "start_time": "2024-07-22T13:29:05.574Z"
   },
   {
    "duration": 8,
    "start_time": "2024-07-22T13:29:05.583Z"
   },
   {
    "duration": 205,
    "start_time": "2024-07-22T13:29:05.592Z"
   },
   {
    "duration": 8,
    "start_time": "2024-07-22T13:29:05.798Z"
   },
   {
    "duration": 35,
    "start_time": "2024-07-22T13:29:05.823Z"
   },
   {
    "duration": 14,
    "start_time": "2024-07-22T13:29:05.860Z"
   },
   {
    "duration": 20,
    "start_time": "2024-07-22T13:29:05.875Z"
   },
   {
    "duration": 48,
    "start_time": "2024-07-22T13:29:05.896Z"
   },
   {
    "duration": 34,
    "start_time": "2024-07-22T13:29:05.945Z"
   },
   {
    "duration": 72,
    "start_time": "2024-07-22T13:29:05.980Z"
   },
   {
    "duration": 38,
    "start_time": "2024-07-22T13:29:06.053Z"
   },
   {
    "duration": 247,
    "start_time": "2024-07-22T13:29:06.092Z"
   },
   {
    "duration": 273,
    "start_time": "2024-07-22T13:29:06.340Z"
   },
   {
    "duration": 52,
    "start_time": "2024-07-22T13:29:06.623Z"
   },
   {
    "duration": 15,
    "start_time": "2024-07-22T13:29:06.676Z"
   },
   {
    "duration": 48,
    "start_time": "2024-07-22T13:29:06.692Z"
   },
   {
    "duration": 292,
    "start_time": "2024-07-22T13:29:06.741Z"
   },
   {
    "duration": 5,
    "start_time": "2024-07-22T13:29:07.034Z"
   },
   {
    "duration": 7,
    "start_time": "2024-07-22T13:29:07.041Z"
   },
   {
    "duration": 5,
    "start_time": "2024-07-22T13:29:07.049Z"
   },
   {
    "duration": 4,
    "start_time": "2024-07-22T13:29:07.056Z"
   },
   {
    "duration": 5,
    "start_time": "2024-07-22T13:29:07.061Z"
   },
   {
    "duration": 147,
    "start_time": "2024-07-22T13:29:07.067Z"
   },
   {
    "duration": 1350,
    "start_time": "2024-07-22T20:21:58.403Z"
   },
   {
    "duration": 393,
    "start_time": "2024-07-22T20:21:59.755Z"
   },
   {
    "duration": 5,
    "start_time": "2024-07-22T20:22:00.150Z"
   },
   {
    "duration": 356,
    "start_time": "2024-07-22T20:22:00.157Z"
   },
   {
    "duration": 378,
    "start_time": "2024-07-22T20:22:00.515Z"
   },
   {
    "duration": 377,
    "start_time": "2024-07-22T20:22:00.895Z"
   },
   {
    "duration": 15,
    "start_time": "2024-07-22T20:22:01.273Z"
   },
   {
    "duration": 40,
    "start_time": "2024-07-22T20:22:01.290Z"
   },
   {
    "duration": 84,
    "start_time": "2024-07-22T20:22:01.332Z"
   },
   {
    "duration": 63,
    "start_time": "2024-07-22T20:22:01.418Z"
   },
   {
    "duration": 42,
    "start_time": "2024-07-22T20:22:01.483Z"
   },
   {
    "duration": 30,
    "start_time": "2024-07-22T20:22:01.527Z"
   },
   {
    "duration": 34,
    "start_time": "2024-07-22T20:22:01.558Z"
   },
   {
    "duration": 42,
    "start_time": "2024-07-22T20:22:01.594Z"
   },
   {
    "duration": 32,
    "start_time": "2024-07-22T20:22:01.637Z"
   },
   {
    "duration": 11,
    "start_time": "2024-07-22T20:22:01.671Z"
   },
   {
    "duration": 282,
    "start_time": "2024-07-22T20:22:01.684Z"
   },
   {
    "duration": 290,
    "start_time": "2024-07-22T20:22:01.968Z"
   },
   {
    "duration": 145,
    "start_time": "2024-07-22T20:22:02.260Z"
   },
   {
    "duration": 10,
    "start_time": "2024-07-22T20:22:02.408Z"
   },
   {
    "duration": 4,
    "start_time": "2024-07-22T20:22:02.420Z"
   },
   {
    "duration": 187,
    "start_time": "2024-07-22T20:22:02.426Z"
   },
   {
    "duration": 149,
    "start_time": "2024-07-22T20:22:02.615Z"
   },
   {
    "duration": 9,
    "start_time": "2024-07-22T20:22:02.766Z"
   },
   {
    "duration": 5,
    "start_time": "2024-07-22T20:22:02.776Z"
   },
   {
    "duration": 237,
    "start_time": "2024-07-22T20:22:02.783Z"
   },
   {
    "duration": 8,
    "start_time": "2024-07-22T20:22:03.021Z"
   },
   {
    "duration": 37,
    "start_time": "2024-07-22T20:22:03.033Z"
   },
   {
    "duration": 37,
    "start_time": "2024-07-22T20:22:03.071Z"
   },
   {
    "duration": 21,
    "start_time": "2024-07-22T20:22:03.110Z"
   },
   {
    "duration": 26,
    "start_time": "2024-07-22T20:22:03.133Z"
   },
   {
    "duration": 60,
    "start_time": "2024-07-22T20:22:03.160Z"
   },
   {
    "duration": 25,
    "start_time": "2024-07-22T20:22:03.222Z"
   },
   {
    "duration": 35,
    "start_time": "2024-07-22T20:22:03.248Z"
   },
   {
    "duration": 283,
    "start_time": "2024-07-22T20:22:03.285Z"
   },
   {
    "duration": 269,
    "start_time": "2024-07-22T20:22:03.570Z"
   },
   {
    "duration": 57,
    "start_time": "2024-07-22T20:22:03.840Z"
   },
   {
    "duration": 17,
    "start_time": "2024-07-22T20:22:03.908Z"
   },
   {
    "duration": 23,
    "start_time": "2024-07-22T20:22:03.927Z"
   },
   {
    "duration": 304,
    "start_time": "2024-07-22T20:22:03.951Z"
   },
   {
    "duration": 7,
    "start_time": "2024-07-22T20:22:04.257Z"
   },
   {
    "duration": 24,
    "start_time": "2024-07-22T20:22:04.265Z"
   },
   {
    "duration": 16,
    "start_time": "2024-07-22T20:22:04.291Z"
   },
   {
    "duration": 39,
    "start_time": "2024-07-22T20:22:04.309Z"
   },
   {
    "duration": 9,
    "start_time": "2024-07-22T20:22:04.350Z"
   },
   {
    "duration": 111,
    "start_time": "2024-07-22T20:22:04.361Z"
   },
   {
    "duration": 6,
    "start_time": "2024-07-22T21:04:17.630Z"
   },
   {
    "duration": 5,
    "start_time": "2024-07-22T21:06:50.446Z"
   },
   {
    "duration": 1233,
    "start_time": "2024-07-22T21:07:29.319Z"
   },
   {
    "duration": 85,
    "start_time": "2024-07-22T21:07:30.554Z"
   },
   {
    "duration": 5,
    "start_time": "2024-07-22T21:07:30.640Z"
   },
   {
    "duration": 383,
    "start_time": "2024-07-22T21:07:30.647Z"
   },
   {
    "duration": 391,
    "start_time": "2024-07-22T21:07:31.032Z"
   },
   {
    "duration": 359,
    "start_time": "2024-07-22T21:07:31.425Z"
   },
   {
    "duration": 29,
    "start_time": "2024-07-22T21:07:31.786Z"
   },
   {
    "duration": 11,
    "start_time": "2024-07-22T21:07:31.822Z"
   },
   {
    "duration": 32,
    "start_time": "2024-07-22T21:07:31.835Z"
   },
   {
    "duration": 16,
    "start_time": "2024-07-22T21:07:31.869Z"
   },
   {
    "duration": 33,
    "start_time": "2024-07-22T21:07:31.887Z"
   },
   {
    "duration": 5,
    "start_time": "2024-07-22T21:07:31.921Z"
   },
   {
    "duration": 23,
    "start_time": "2024-07-22T21:07:31.927Z"
   },
   {
    "duration": 16,
    "start_time": "2024-07-22T21:07:31.953Z"
   },
   {
    "duration": 15,
    "start_time": "2024-07-22T21:07:31.971Z"
   },
   {
    "duration": 27,
    "start_time": "2024-07-22T21:07:31.988Z"
   },
   {
    "duration": 280,
    "start_time": "2024-07-22T21:07:32.018Z"
   },
   {
    "duration": 307,
    "start_time": "2024-07-22T21:07:32.299Z"
   },
   {
    "duration": 128,
    "start_time": "2024-07-22T21:07:32.608Z"
   },
   {
    "duration": 8,
    "start_time": "2024-07-22T21:07:32.738Z"
   },
   {
    "duration": 5,
    "start_time": "2024-07-22T21:07:32.747Z"
   },
   {
    "duration": 211,
    "start_time": "2024-07-22T21:07:32.753Z"
   },
   {
    "duration": 162,
    "start_time": "2024-07-22T21:07:32.966Z"
   },
   {
    "duration": 8,
    "start_time": "2024-07-22T21:07:33.129Z"
   },
   {
    "duration": 18,
    "start_time": "2024-07-22T21:07:33.138Z"
   },
   {
    "duration": 196,
    "start_time": "2024-07-22T21:07:33.157Z"
   },
   {
    "duration": 7,
    "start_time": "2024-07-22T21:07:33.355Z"
   },
   {
    "duration": 59,
    "start_time": "2024-07-22T21:07:33.364Z"
   },
   {
    "duration": 14,
    "start_time": "2024-07-22T21:07:33.425Z"
   },
   {
    "duration": 20,
    "start_time": "2024-07-22T21:07:33.441Z"
   },
   {
    "duration": 48,
    "start_time": "2024-07-22T21:07:33.462Z"
   },
   {
    "duration": 36,
    "start_time": "2024-07-22T21:07:33.511Z"
   },
   {
    "duration": 23,
    "start_time": "2024-07-22T21:07:33.548Z"
   },
   {
    "duration": 58,
    "start_time": "2024-07-22T21:07:33.573Z"
   },
   {
    "duration": 267,
    "start_time": "2024-07-22T21:07:33.632Z"
   },
   {
    "duration": 289,
    "start_time": "2024-07-22T21:07:33.901Z"
   },
   {
    "duration": 65,
    "start_time": "2024-07-22T21:07:34.192Z"
   },
   {
    "duration": 17,
    "start_time": "2024-07-22T21:07:34.258Z"
   },
   {
    "duration": 53,
    "start_time": "2024-07-22T21:07:34.276Z"
   },
   {
    "duration": 301,
    "start_time": "2024-07-22T21:07:34.331Z"
   },
   {
    "duration": 6,
    "start_time": "2024-07-22T21:07:34.636Z"
   },
   {
    "duration": 13,
    "start_time": "2024-07-22T21:07:34.643Z"
   },
   {
    "duration": 5,
    "start_time": "2024-07-22T21:07:34.658Z"
   },
   {
    "duration": 5,
    "start_time": "2024-07-22T21:07:34.665Z"
   },
   {
    "duration": 42,
    "start_time": "2024-07-22T21:07:34.672Z"
   },
   {
    "duration": 112,
    "start_time": "2024-07-22T21:07:34.718Z"
   },
   {
    "duration": 52,
    "start_time": "2024-07-23T07:41:59.590Z"
   },
   {
    "duration": 1480,
    "start_time": "2024-07-23T07:42:06.298Z"
   },
   {
    "duration": 407,
    "start_time": "2024-07-23T07:42:07.781Z"
   },
   {
    "duration": 6,
    "start_time": "2024-07-23T07:42:08.190Z"
   },
   {
    "duration": 342,
    "start_time": "2024-07-23T07:42:08.197Z"
   },
   {
    "duration": 428,
    "start_time": "2024-07-23T07:42:08.541Z"
   },
   {
    "duration": 356,
    "start_time": "2024-07-23T07:42:08.970Z"
   },
   {
    "duration": 13,
    "start_time": "2024-07-23T07:42:09.328Z"
   },
   {
    "duration": 7,
    "start_time": "2024-07-23T07:42:09.343Z"
   },
   {
    "duration": 18,
    "start_time": "2024-07-23T07:42:09.352Z"
   },
   {
    "duration": 18,
    "start_time": "2024-07-23T07:42:09.406Z"
   },
   {
    "duration": 13,
    "start_time": "2024-07-23T07:42:09.425Z"
   },
   {
    "duration": 4,
    "start_time": "2024-07-23T07:42:09.439Z"
   },
   {
    "duration": 20,
    "start_time": "2024-07-23T07:42:09.445Z"
   },
   {
    "duration": 54,
    "start_time": "2024-07-23T07:42:09.466Z"
   },
   {
    "duration": 5,
    "start_time": "2024-07-23T07:42:09.521Z"
   },
   {
    "duration": 8,
    "start_time": "2024-07-23T07:42:09.528Z"
   },
   {
    "duration": 299,
    "start_time": "2024-07-23T07:42:09.537Z"
   },
   {
    "duration": 304,
    "start_time": "2024-07-23T07:42:09.838Z"
   },
   {
    "duration": 133,
    "start_time": "2024-07-23T07:42:10.144Z"
   },
   {
    "duration": 30,
    "start_time": "2024-07-23T07:42:10.279Z"
   },
   {
    "duration": 7,
    "start_time": "2024-07-23T07:42:10.311Z"
   },
   {
    "duration": 216,
    "start_time": "2024-07-23T07:42:10.322Z"
   },
   {
    "duration": 156,
    "start_time": "2024-07-23T07:42:10.540Z"
   },
   {
    "duration": 16,
    "start_time": "2024-07-23T07:42:10.698Z"
   },
   {
    "duration": 8,
    "start_time": "2024-07-23T07:42:10.716Z"
   },
   {
    "duration": 218,
    "start_time": "2024-07-23T07:42:10.725Z"
   },
   {
    "duration": 10,
    "start_time": "2024-07-23T07:42:10.945Z"
   },
   {
    "duration": 62,
    "start_time": "2024-07-23T07:42:10.959Z"
   },
   {
    "duration": 17,
    "start_time": "2024-07-23T07:42:11.023Z"
   },
   {
    "duration": 20,
    "start_time": "2024-07-23T07:42:11.042Z"
   },
   {
    "duration": 55,
    "start_time": "2024-07-23T07:42:11.063Z"
   },
   {
    "duration": 44,
    "start_time": "2024-07-23T07:42:11.120Z"
   },
   {
    "duration": 56,
    "start_time": "2024-07-23T07:42:11.167Z"
   },
   {
    "duration": 37,
    "start_time": "2024-07-23T07:42:11.225Z"
   },
   {
    "duration": 299,
    "start_time": "2024-07-23T07:42:11.263Z"
   },
   {
    "duration": 294,
    "start_time": "2024-07-23T07:42:11.564Z"
   },
   {
    "duration": 72,
    "start_time": "2024-07-23T07:42:11.860Z"
   },
   {
    "duration": 19,
    "start_time": "2024-07-23T07:42:11.933Z"
   },
   {
    "duration": 25,
    "start_time": "2024-07-23T07:42:11.953Z"
   },
   {
    "duration": 308,
    "start_time": "2024-07-23T07:42:12.008Z"
   },
   {
    "duration": 6,
    "start_time": "2024-07-23T07:42:12.318Z"
   },
   {
    "duration": 8,
    "start_time": "2024-07-23T07:42:12.325Z"
   },
   {
    "duration": 13,
    "start_time": "2024-07-23T07:42:12.335Z"
   },
   {
    "duration": 7,
    "start_time": "2024-07-23T07:42:12.350Z"
   },
   {
    "duration": 52,
    "start_time": "2024-07-23T07:42:12.359Z"
   },
   {
    "duration": 128,
    "start_time": "2024-07-23T07:42:12.413Z"
   },
   {
    "duration": 12,
    "start_time": "2024-07-23T07:42:32.532Z"
   },
   {
    "duration": 1166,
    "start_time": "2024-07-23T07:44:54.049Z"
   },
   {
    "duration": 81,
    "start_time": "2024-07-23T07:44:55.217Z"
   },
   {
    "duration": 6,
    "start_time": "2024-07-23T07:44:55.299Z"
   },
   {
    "duration": 328,
    "start_time": "2024-07-23T07:44:55.307Z"
   },
   {
    "duration": 362,
    "start_time": "2024-07-23T07:44:55.637Z"
   },
   {
    "duration": 364,
    "start_time": "2024-07-23T07:44:56.002Z"
   },
   {
    "duration": 14,
    "start_time": "2024-07-23T07:44:56.368Z"
   },
   {
    "duration": 26,
    "start_time": "2024-07-23T07:44:56.384Z"
   },
   {
    "duration": 19,
    "start_time": "2024-07-23T07:44:56.411Z"
   },
   {
    "duration": 17,
    "start_time": "2024-07-23T07:44:56.432Z"
   },
   {
    "duration": 12,
    "start_time": "2024-07-23T07:44:56.450Z"
   },
   {
    "duration": 4,
    "start_time": "2024-07-23T07:44:56.464Z"
   },
   {
    "duration": 19,
    "start_time": "2024-07-23T07:44:56.506Z"
   },
   {
    "duration": 16,
    "start_time": "2024-07-23T07:44:56.526Z"
   },
   {
    "duration": 21,
    "start_time": "2024-07-23T07:44:56.543Z"
   },
   {
    "duration": 28,
    "start_time": "2024-07-23T07:44:56.565Z"
   },
   {
    "duration": 280,
    "start_time": "2024-07-23T07:44:56.595Z"
   },
   {
    "duration": 291,
    "start_time": "2024-07-23T07:44:56.877Z"
   },
   {
    "duration": 136,
    "start_time": "2024-07-23T07:44:57.170Z"
   },
   {
    "duration": 11,
    "start_time": "2024-07-23T07:44:57.310Z"
   },
   {
    "duration": 14,
    "start_time": "2024-07-23T07:44:57.324Z"
   },
   {
    "duration": 217,
    "start_time": "2024-07-23T07:44:57.341Z"
   },
   {
    "duration": 171,
    "start_time": "2024-07-23T07:44:57.560Z"
   },
   {
    "duration": 9,
    "start_time": "2024-07-23T07:44:57.732Z"
   },
   {
    "duration": 40,
    "start_time": "2024-07-23T07:44:57.742Z"
   },
   {
    "duration": 205,
    "start_time": "2024-07-23T07:44:57.784Z"
   },
   {
    "duration": 16,
    "start_time": "2024-07-23T07:44:57.991Z"
   },
   {
    "duration": 51,
    "start_time": "2024-07-23T07:44:58.011Z"
   },
   {
    "duration": 16,
    "start_time": "2024-07-23T07:44:58.065Z"
   },
   {
    "duration": 34,
    "start_time": "2024-07-23T07:44:58.083Z"
   },
   {
    "duration": 27,
    "start_time": "2024-07-23T07:44:58.119Z"
   },
   {
    "duration": 61,
    "start_time": "2024-07-23T07:44:58.148Z"
   },
   {
    "duration": 25,
    "start_time": "2024-07-23T07:44:58.211Z"
   },
   {
    "duration": 37,
    "start_time": "2024-07-23T07:44:58.237Z"
   },
   {
    "duration": 307,
    "start_time": "2024-07-23T07:44:58.277Z"
   },
   {
    "duration": 285,
    "start_time": "2024-07-23T07:44:58.587Z"
   },
   {
    "duration": 64,
    "start_time": "2024-07-23T07:44:58.873Z"
   },
   {
    "duration": 16,
    "start_time": "2024-07-23T07:44:58.939Z"
   },
   {
    "duration": 25,
    "start_time": "2024-07-23T07:44:58.957Z"
   },
   {
    "duration": 295,
    "start_time": "2024-07-23T07:44:59.008Z"
   },
   {
    "duration": 6,
    "start_time": "2024-07-23T07:44:59.306Z"
   },
   {
    "duration": 8,
    "start_time": "2024-07-23T07:44:59.313Z"
   },
   {
    "duration": 6,
    "start_time": "2024-07-23T07:44:59.322Z"
   },
   {
    "duration": 5,
    "start_time": "2024-07-23T07:44:59.329Z"
   },
   {
    "duration": 8,
    "start_time": "2024-07-23T07:44:59.335Z"
   },
   {
    "duration": 149,
    "start_time": "2024-07-23T07:44:59.344Z"
   },
   {
    "duration": 1309,
    "start_time": "2024-07-23T09:28:28.918Z"
   },
   {
    "duration": 72,
    "start_time": "2024-07-23T09:28:30.229Z"
   },
   {
    "duration": 54,
    "start_time": "2024-07-23T09:28:30.302Z"
   },
   {
    "duration": 705,
    "start_time": "2024-07-23T09:28:30.358Z"
   },
   {
    "duration": 424,
    "start_time": "2024-07-23T09:28:31.065Z"
   },
   {
    "duration": 375,
    "start_time": "2024-07-23T09:28:31.490Z"
   },
   {
    "duration": 28,
    "start_time": "2024-07-23T09:28:31.866Z"
   },
   {
    "duration": 97,
    "start_time": "2024-07-23T09:28:31.897Z"
   },
   {
    "duration": 64,
    "start_time": "2024-07-23T09:28:31.996Z"
   },
   {
    "duration": 142,
    "start_time": "2024-07-23T09:28:32.062Z"
   },
   {
    "duration": 100,
    "start_time": "2024-07-23T09:28:32.206Z"
   },
   {
    "duration": 20,
    "start_time": "2024-07-23T09:28:32.308Z"
   },
   {
    "duration": 27,
    "start_time": "2024-07-23T09:28:32.330Z"
   },
   {
    "duration": 17,
    "start_time": "2024-07-23T09:28:32.359Z"
   },
   {
    "duration": 54,
    "start_time": "2024-07-23T09:28:32.378Z"
   },
   {
    "duration": 42,
    "start_time": "2024-07-23T09:28:32.434Z"
   },
   {
    "duration": 297,
    "start_time": "2024-07-23T09:28:32.478Z"
   },
   {
    "duration": 289,
    "start_time": "2024-07-23T09:28:32.783Z"
   },
   {
    "duration": 132,
    "start_time": "2024-07-23T09:28:33.074Z"
   },
   {
    "duration": 14,
    "start_time": "2024-07-23T09:28:33.208Z"
   },
   {
    "duration": 4,
    "start_time": "2024-07-23T09:28:33.224Z"
   },
   {
    "duration": 196,
    "start_time": "2024-07-23T09:28:33.230Z"
   },
   {
    "duration": 158,
    "start_time": "2024-07-23T09:28:33.427Z"
   },
   {
    "duration": 9,
    "start_time": "2024-07-23T09:28:33.587Z"
   },
   {
    "duration": 42,
    "start_time": "2024-07-23T09:28:33.598Z"
   },
   {
    "duration": 194,
    "start_time": "2024-07-23T09:28:33.641Z"
   },
   {
    "duration": 10,
    "start_time": "2024-07-23T09:28:33.837Z"
   },
   {
    "duration": 84,
    "start_time": "2024-07-23T09:28:33.851Z"
   },
   {
    "duration": 19,
    "start_time": "2024-07-23T09:28:33.937Z"
   },
   {
    "duration": 41,
    "start_time": "2024-07-23T09:28:33.957Z"
   },
   {
    "duration": 26,
    "start_time": "2024-07-23T09:28:34.000Z"
   },
   {
    "duration": 54,
    "start_time": "2024-07-23T09:28:34.028Z"
   },
   {
    "duration": 26,
    "start_time": "2024-07-23T09:28:34.084Z"
   },
   {
    "duration": 36,
    "start_time": "2024-07-23T09:28:34.113Z"
   },
   {
    "duration": 299,
    "start_time": "2024-07-23T09:28:34.151Z"
   },
   {
    "duration": 310,
    "start_time": "2024-07-23T09:28:34.452Z"
   },
   {
    "duration": 71,
    "start_time": "2024-07-23T09:28:34.764Z"
   },
   {
    "duration": 18,
    "start_time": "2024-07-23T09:28:34.837Z"
   },
   {
    "duration": 42,
    "start_time": "2024-07-23T09:28:34.857Z"
   },
   {
    "duration": 348,
    "start_time": "2024-07-23T09:28:34.901Z"
   },
   {
    "duration": 6,
    "start_time": "2024-07-23T09:28:35.252Z"
   },
   {
    "duration": 24,
    "start_time": "2024-07-23T09:28:35.260Z"
   },
   {
    "duration": 9,
    "start_time": "2024-07-23T09:28:35.285Z"
   },
   {
    "duration": 5,
    "start_time": "2024-07-23T09:28:35.296Z"
   },
   {
    "duration": 11,
    "start_time": "2024-07-23T09:28:35.302Z"
   },
   {
    "duration": 139,
    "start_time": "2024-07-23T09:28:35.315Z"
   }
  ],
  "kernelspec": {
   "display_name": "Python 3 (ipykernel)",
   "language": "python",
   "name": "python3"
  },
  "language_info": {
   "codemirror_mode": {
    "name": "ipython",
    "version": 3
   },
   "file_extension": ".py",
   "mimetype": "text/x-python",
   "name": "python",
   "nbconvert_exporter": "python",
   "pygments_lexer": "ipython3",
   "version": "3.9.19"
  },
  "toc": {
   "base_numbering": 1,
   "nav_menu": {},
   "number_sections": true,
   "sideBar": true,
   "skip_h1_title": true,
   "title_cell": "Table of Contents",
   "title_sidebar": "Contents",
   "toc_cell": false,
   "toc_position": {},
   "toc_section_display": true,
   "toc_window_display": false
  }
 },
 "nbformat": 4,
 "nbformat_minor": 5
}
