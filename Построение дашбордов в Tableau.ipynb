{
 "cells": [
  {
   "cell_type": "markdown",
   "id": "2c672e9a-7103-47ce-9015-945503dfde24",
   "metadata": {},
   "source": [
    "# Проект: Построение дашбордов в Tableau"
   ]
  },
  {
   "cell_type": "markdown",
   "id": "9f8989d9-28d1-4e7b-b155-87dfa68545bf",
   "metadata": {},
   "source": [
    "# Описание проекта"
   ]
  },
  {
   "cell_type": "markdown",
   "id": "89344a10-6f6a-44a9-9488-5ce7883c73e3",
   "metadata": {},
   "source": [
    "**TED** — это некоммерческий фонд, проводящий конференции на темы технологий, образования и дизайна. На них выступают специалисты из разных областей и делятся актуальными идеями. Среди известных спикеров были Бенуа Мандельброт, Марвин Минский, Дана Ньяд и Ларри Пейдж. Однако история TED включает и неоднозначные моменты: в 2010 году Рэнди Пауэлл представил псевдонаучную «вихревую математику», а в 2014 году на конференции участвовала основательница скандального стартапа Theranos — Элизабет Холмс. В этом проекте предстоит исследовать историю TED с помощью Tableau."
   ]
  },
  {
   "cell_type": "markdown",
   "id": "e416b7b1-31cc-4dba-b766-6537f6861ce8",
   "metadata": {},
   "source": [
    "Датасеты, используемые для работы в Tableau\n",
    "\n",
    "1. `tableau_project_data_1.csv`\n",
    "2. `tableau_project_data_2.csv`\n",
    "3. `tableau_project_data_3.csv`\n",
    "4. `tableau_project_event_dict.csv`\n",
    "5. `tableau_project_speakers_dict.csv`\n",
    "\n",
    "Файлы:\n",
    "- `tableau_project_data_1.csv`,\n",
    "- `tableau_project_data_2.csv`, \n",
    "- `tableau_project_data_3.csv`\n",
    "\n",
    "хранят данные выступлений. У них одинаковая структура.\n",
    "\n",
    "1. `talk_id` — идентификатор выступления;\n",
    "2. `url` — ссылка на запись выступления;\n",
    "3. `title` — название выступления;\n",
    "4. `description` — краткое описание;\n",
    "5. `film_date` — дата записи выступления;\n",
    "6. `duration` — длительность в секундах;\n",
    "7. `views` — количество просмотров;\n",
    "8. `main_tag` — основная категория, к которой относится выступление;\n",
    "9. `speaker_id` — уникальный идентификатор автора выступления;\n",
    "10. `laughter_count` — количество раз, когда аудитория смеялась в ходе выступления;\n",
    "11. `applause_count` — количество раз, когда аудитория аплодировала в ходе выступления;\n",
    "12. `language` — язык, на котором велось выступление;\n",
    "13. `event_id` — уникальный идентификатор конференции.\n",
    "\n",
    "---\n",
    "Файл `tableau_project_event_dict.csv` — справочник конференций. Описание таблицы:\n",
    "\n",
    "1. `conf_id` — уникальный идентификатор конференции;\n",
    "2. `event` — название конференции;\n",
    "3. `country` — страна проведения конференции.\n",
    "\n",
    "---\n",
    "\n",
    "Файл tableau_project_speakers_dict.csv — справочник авторов выступления. Описание таблицы:\n",
    "\n",
    "1. `author_id` — уникальный идентификатор автора выступления;\n",
    "2. `speaker_name` — имя автора;\n",
    "3. `speaker_occupation` — профессиональная область автора;\n",
    "4. `speaker_description` — описание профессиональной деятельности автора."
   ]
  },
  {
   "cell_type": "markdown",
   "id": "20c0ea1c",
   "metadata": {},
   "source": [
    "Ссылка на **Tableau**.\n",
    "\n",
    "https://public.tableau.com/app/profile/mikhael.nazlukhanyan/viz/ProjectPracticum_17276322123180/TED?publish=yes"
   ]
  }
 ],
 "metadata": {
  "kernelspec": {
   "display_name": "Python 3 (ipykernel)",
   "language": "python",
   "name": "python3"
  },
  "language_info": {
   "codemirror_mode": {
    "name": "ipython",
    "version": 3
   },
   "file_extension": ".py",
   "mimetype": "text/x-python",
   "name": "python",
   "nbconvert_exporter": "python",
   "pygments_lexer": "ipython3",
   "version": "3.9.19"
  },
  "toc": {
   "base_numbering": 1,
   "nav_menu": {},
   "number_sections": true,
   "sideBar": true,
   "skip_h1_title": true,
   "title_cell": "Table of Contents",
   "title_sidebar": "Contents",
   "toc_cell": false,
   "toc_position": {},
   "toc_section_display": true,
   "toc_window_display": false
  }
 },
 "nbformat": 4,
 "nbformat_minor": 5
}
