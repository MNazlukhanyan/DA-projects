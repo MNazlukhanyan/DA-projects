{
 "cells": [
  {
   "cell_type": "markdown",
   "id": "3c3b0138-8fa8-4f0e-b1c4-fb88831606be",
   "metadata": {},
   "source": [
    "# Принятие решений в бизнесе"
   ]
  },
  {
   "cell_type": "markdown",
   "id": "c6513fd8-d179-4a68-a2ef-9011d2a874d7",
   "metadata": {},
   "source": [
    "## Описание проекта"
   ]
  },
  {
   "cell_type": "markdown",
   "id": "9ec2b377-afa4-451a-bf9c-f71ef47adc3f",
   "metadata": {},
   "source": [
    "Данный проект является аналитикой крупного интернет-магазина. Вместе с отделом маркетинга мы проводим исследование на базе подготовленных гипотез для увеличения выручки.\n",
    "\n",
    "Для проведения аналитики будут использованы такие данные, как гипотезы, информация о заказах и посетителях интернет-магазина."
   ]
  },
  {
   "cell_type": "markdown",
   "id": "2152c60f-d7ef-4563-afe8-d71fdd01cd07",
   "metadata": {},
   "source": [
    "## Цель проекта"
   ]
  },
  {
   "cell_type": "markdown",
   "id": "0c32e8fd-6199-494e-ae53-f296e322c170",
   "metadata": {},
   "source": [
    "Цель данной проектной работы заключается в следующем:\n",
    "\n",
    "1. Приоритизация подготовленных гипотез для увеличения выручки;\n",
    "2. Полноценное проведение A/B-теста с анализом данных и построением различных графиков;\n",
    "3. Итоговый анализ результатов."
   ]
  },
  {
   "cell_type": "markdown",
   "id": "e2796c61-e65b-4b17-a760-1dd143d0903f",
   "metadata": {},
   "source": [
    "## Описание данных"
   ]
  },
  {
   "cell_type": "markdown",
   "id": "498e16fd-113c-4ea3-87a5-d8e0174a35a7",
   "metadata": {},
   "source": [
    "Для работы над проектом в распоряжении находятся три датасета.\n",
    "\n",
    "1. `hypothesis.csv` - хранит информацию о составленных гипотезах;\n",
    "2. `orders.csv` — хранит информацию о заказах;\n",
    "3. `visitors.csv` — хранит информацию о посетителях."
   ]
  },
  {
   "cell_type": "markdown",
   "id": "4fb2897a-863f-4f4f-99cd-e1d0799716d4",
   "metadata": {},
   "source": [
    "### hypothesis.csv"
   ]
  },
  {
   "cell_type": "markdown",
   "id": "09925b84-ba7a-4a4e-ad87-1b0a1fa4d40a",
   "metadata": {},
   "source": [
    "- `Hypothesis` — краткое описание гипотезы;\n",
    "- `Reach` — охват пользователей по 10-балльной шкале;\n",
    "- `Impact` — влияние на пользователей по 10-балльной шкале;\n",
    "- `Confidence` — уверенность в гипотезе по 10-балльной шкале;\n",
    "- `Efforts` — затраты ресурсов на проверку гипотезы по 10-балльной шкале. Чем больше значение Efforts, тем дороже проверка гипотезы."
   ]
  },
  {
   "cell_type": "markdown",
   "id": "47939fb1-de7b-4873-8547-2da4cda1b7c8",
   "metadata": {},
   "source": [
    "### orders.csv"
   ]
  },
  {
   "cell_type": "markdown",
   "id": "0abc45c2-4915-492d-8e62-65bb624bc336",
   "metadata": {},
   "source": [
    "- `transactionId` — идентификатор заказа;\n",
    "- `visitorId` — идентификатор пользователя, совершившего заказ;\n",
    "- `date` — дата, когда был совершён заказ;\n",
    "- `revenue` — выручка заказа;\n",
    "- `group` — группа A/B-теста, в которую попал заказ."
   ]
  },
  {
   "cell_type": "markdown",
   "id": "e96b2dc9-2c21-4db0-943a-91348a47145a",
   "metadata": {},
   "source": [
    "### costs_info_short"
   ]
  },
  {
   "cell_type": "markdown",
   "id": "5bd3ab4e-90cc-4076-a205-8ce182f28487",
   "metadata": {},
   "source": [
    "- `date` — дата;\n",
    "- `group` — группа A/B-теста;\n",
    "- `visitors` — количество пользователей в указанную дату в указанной группе A/B-теста"
   ]
  },
  {
   "cell_type": "markdown",
   "id": "b2c60beb-74fb-40bb-932b-388d610698bf",
   "metadata": {},
   "source": [
    "# Загрузка и изучение данных"
   ]
  },
  {
   "cell_type": "markdown",
   "id": "6b1ce0f8-fa06-4ad5-a667-985476ccf8a2",
   "metadata": {},
   "source": [
    "## Импортирование библиотек и загрузка датасетов"
   ]
  },
  {
   "cell_type": "markdown",
   "id": "dd7dcf12-1270-4121-abc6-5108827b339a",
   "metadata": {},
   "source": [
    "Импортируем все необходимые для анализа данных библиотеки:"
   ]
  },
  {
   "cell_type": "code",
   "execution_count": 1,
   "id": "950668b6-e2c2-4b74-851a-baa256e45536",
   "metadata": {},
   "outputs": [],
   "source": [
    "# библиотеки для работы с таблицам данных, массивами чисел и числами\n",
    "import pandas as pd # для работы с таблицами данных\n",
    "import numpy as np # для работы с массивами чисел\n",
    "import math # для работы с числами\n",
    "import scipy.stats as stats\n",
    "\n",
    "# для работы с форматами даты \n",
    "from datetime import date, datetime, timedelta\n",
    "\n",
    "# для визуализации данных\n",
    "from matplotlib import pyplot as plt\n",
    "import matplotlib.cm as cm\n",
    "import seaborn as sns"
   ]
  },
  {
   "cell_type": "markdown",
   "id": "2e9255ce-df0f-48ad-b5d2-c861a89ff26c",
   "metadata": {},
   "source": [
    "Загрузим наши датасеты и переведем их в датафреймы pandas.\n",
    "\n",
    "В случае, если датасет недоступен по ссылке - он может быть загружен с локального диска."
   ]
  },
  {
   "cell_type": "code",
   "execution_count": 2,
   "id": "b0244dd8-c48c-4c56-a472-05442ca68750",
   "metadata": {},
   "outputs": [],
   "source": [
    "try:\n",
    "    hypothesis = pd.read_csv('https://code.s3.yandex.net/datasets/hypothesis.csv')\n",
    "    orders = pd.read_csv('https://code.s3.yandex.net/datasets/orders.csv')\n",
    "    visitors = pd.read_csv('https://code.s3.yandex.net/datasets/visitors.csv')\n",
    "except:\n",
    "    hypothesis = pd.read_csv('datasets/hypothesis.csv')\n",
    "    orders = pd.read_csv('datasets/orders.csv')\n",
    "    visitors = pd.read_csv('datasets/visitors.csv')  "
   ]
  },
  {
   "cell_type": "markdown",
   "id": "12e56554-a299-4807-b6d0-f6fd38f0ab50",
   "metadata": {},
   "source": [
    "Настройка вывода данных"
   ]
  },
  {
   "cell_type": "code",
   "execution_count": 3,
   "id": "a679792e-1bcf-45cf-80b6-a2886b15854d",
   "metadata": {},
   "outputs": [],
   "source": [
    "pd.options.display.max_columns = None\n",
    "pd.options.display.max_colwidth = None\n",
    "pd.options.display.float_format = '{:.2f}'.format"
   ]
  },
  {
   "cell_type": "markdown",
   "id": "3f388559-a852-49e5-9308-f0d9640badf9",
   "metadata": {},
   "source": [
    "## Изучение данных"
   ]
  },
  {
   "cell_type": "markdown",
   "id": "f491e1d7-d398-4514-9e98-17eaa6bf75a7",
   "metadata": {},
   "source": [
    "Рассмотрим имеющиеся данные. Изучим доступные нам три датасета.\n",
    "\n",
    "Воспользуемся функцией с выводом общей информации о датасете, и применим ее к каждому из датасетов."
   ]
  },
  {
   "cell_type": "code",
   "execution_count": 4,
   "id": "f53795cf-9a3d-45d9-a2d0-4fe4970c3a4d",
   "metadata": {},
   "outputs": [],
   "source": [
    "# Функция вывода информации о датафрейме\n",
    "def df_information(df):\n",
    "    print('\\033[1m' + 'Общая информация о датафрейме' + '\\033[0m')\n",
    "    print(df.info())\n",
    "    print()\n",
    "    print('\\033[1m' + 'Рандомные 5 строк датафрейма' + '\\033[0m')\n",
    "    pd.set_option('display.max_columns', None)\n",
    "    display(df.sample(5))\n",
    "    print('\\033[1m' + 'Вывод статистики по датафрейму' + '\\033[0m')\n",
    "    print(df.describe().applymap(lambda x: f'{x:,.2f}'))\n",
    "    print('\\033[1m' + 'Проверка датафрейма на наличие явных дубликатов. Их количество:' + '\\033[0m')\n",
    "    display(df.duplicated().sum())\n",
    "    print()\n",
    "    print('\\033[1m' + 'Доля пропущенных значений среди всех данных:' + '\\033[0m')\n",
    "    display(df.isna().mean())\n",
    "    print()\n",
    "    print('\\033[1m' + 'Количество пропущенных значений среди всех данных:' + '\\033[0m')\n",
    "    display(df.isnull().sum())"
   ]
  },
  {
   "cell_type": "markdown",
   "id": "fb4619a8-745a-4ea5-8f88-de202129979d",
   "metadata": {},
   "source": [
    "### Датасет 'hypothesis'"
   ]
  },
  {
   "cell_type": "code",
   "execution_count": 5,
   "id": "f4cb2d17-1054-4cc8-9d88-53709996befc",
   "metadata": {},
   "outputs": [
    {
     "name": "stdout",
     "output_type": "stream",
     "text": [
      "\u001b[1mОбщая информация о датафрейме\u001b[0m\n",
      "<class 'pandas.core.frame.DataFrame'>\n",
      "RangeIndex: 9 entries, 0 to 8\n",
      "Data columns (total 5 columns):\n",
      " #   Column      Non-Null Count  Dtype \n",
      "---  ------      --------------  ----- \n",
      " 0   Hypothesis  9 non-null      object\n",
      " 1   Reach       9 non-null      int64 \n",
      " 2   Impact      9 non-null      int64 \n",
      " 3   Confidence  9 non-null      int64 \n",
      " 4   Efforts     9 non-null      int64 \n",
      "dtypes: int64(4), object(1)\n",
      "memory usage: 488.0+ bytes\n",
      "None\n",
      "\n",
      "\u001b[1mРандомные 5 строк датафрейма\u001b[0m\n"
     ]
    },
    {
     "data": {
      "text/html": [
       "<div>\n",
       "<style scoped>\n",
       "    .dataframe tbody tr th:only-of-type {\n",
       "        vertical-align: middle;\n",
       "    }\n",
       "\n",
       "    .dataframe tbody tr th {\n",
       "        vertical-align: top;\n",
       "    }\n",
       "\n",
       "    .dataframe thead th {\n",
       "        text-align: right;\n",
       "    }\n",
       "</style>\n",
       "<table border=\"1\" class=\"dataframe\">\n",
       "  <thead>\n",
       "    <tr style=\"text-align: right;\">\n",
       "      <th></th>\n",
       "      <th>Hypothesis</th>\n",
       "      <th>Reach</th>\n",
       "      <th>Impact</th>\n",
       "      <th>Confidence</th>\n",
       "      <th>Efforts</th>\n",
       "    </tr>\n",
       "  </thead>\n",
       "  <tbody>\n",
       "    <tr>\n",
       "      <th>2</th>\n",
       "      <td>Добавить блоки рекомендаций товаров на сайт интернет магазина, чтобы повысить конверсию и средний чек заказа</td>\n",
       "      <td>8</td>\n",
       "      <td>3</td>\n",
       "      <td>7</td>\n",
       "      <td>3</td>\n",
       "    </tr>\n",
       "    <tr>\n",
       "      <th>4</th>\n",
       "      <td>Изменить цвет фона главной страницы, чтобы увеличить вовлеченность пользователей</td>\n",
       "      <td>3</td>\n",
       "      <td>1</td>\n",
       "      <td>1</td>\n",
       "      <td>1</td>\n",
       "    </tr>\n",
       "    <tr>\n",
       "      <th>1</th>\n",
       "      <td>Запустить собственную службу доставки, что сократит срок доставки заказов</td>\n",
       "      <td>2</td>\n",
       "      <td>5</td>\n",
       "      <td>4</td>\n",
       "      <td>10</td>\n",
       "    </tr>\n",
       "    <tr>\n",
       "      <th>8</th>\n",
       "      <td>Запустить акцию, дающую скидку на товар в день рождения</td>\n",
       "      <td>1</td>\n",
       "      <td>9</td>\n",
       "      <td>9</td>\n",
       "      <td>5</td>\n",
       "    </tr>\n",
       "    <tr>\n",
       "      <th>0</th>\n",
       "      <td>Добавить два новых канала привлечения трафика, что позволит привлекать на 30% больше пользователей</td>\n",
       "      <td>3</td>\n",
       "      <td>10</td>\n",
       "      <td>8</td>\n",
       "      <td>6</td>\n",
       "    </tr>\n",
       "  </tbody>\n",
       "</table>\n",
       "</div>"
      ],
      "text/plain": [
       "                                                                                                     Hypothesis  \\\n",
       "2  Добавить блоки рекомендаций товаров на сайт интернет магазина, чтобы повысить конверсию и средний чек заказа   \n",
       "4                              Изменить цвет фона главной страницы, чтобы увеличить вовлеченность пользователей   \n",
       "1                                     Запустить собственную службу доставки, что сократит срок доставки заказов   \n",
       "8                                                       Запустить акцию, дающую скидку на товар в день рождения   \n",
       "0            Добавить два новых канала привлечения трафика, что позволит привлекать на 30% больше пользователей   \n",
       "\n",
       "   Reach  Impact  Confidence  Efforts  \n",
       "2      8       3           7        3  \n",
       "4      3       1           1        1  \n",
       "1      2       5           4       10  \n",
       "8      1       9           9        5  \n",
       "0      3      10           8        6  "
      ]
     },
     "metadata": {},
     "output_type": "display_data"
    },
    {
     "name": "stdout",
     "output_type": "stream",
     "text": [
      "\u001b[1mВывод статистики по датафрейму\u001b[0m\n",
      "       Reach Impact Confidence Efforts\n",
      "count   9.00   9.00       9.00    9.00\n",
      "mean    4.78   4.78       5.56    4.89\n",
      "std     3.15   3.19       3.05    2.80\n",
      "min     1.00   1.00       1.00    1.00\n",
      "25%     3.00   3.00       3.00    3.00\n",
      "50%     3.00   3.00       7.00    5.00\n",
      "75%     8.00   7.00       8.00    6.00\n",
      "max    10.00  10.00       9.00   10.00\n",
      "\u001b[1mПроверка датафрейма на наличие явных дубликатов. Их количество:\u001b[0m\n"
     ]
    },
    {
     "data": {
      "text/plain": [
       "0"
      ]
     },
     "metadata": {},
     "output_type": "display_data"
    },
    {
     "name": "stdout",
     "output_type": "stream",
     "text": [
      "\n",
      "\u001b[1mДоля пропущенных значений среди всех данных:\u001b[0m\n"
     ]
    },
    {
     "data": {
      "text/plain": [
       "Hypothesis   0.00\n",
       "Reach        0.00\n",
       "Impact       0.00\n",
       "Confidence   0.00\n",
       "Efforts      0.00\n",
       "dtype: float64"
      ]
     },
     "metadata": {},
     "output_type": "display_data"
    },
    {
     "name": "stdout",
     "output_type": "stream",
     "text": [
      "\n",
      "\u001b[1mКоличество пропущенных значений среди всех данных:\u001b[0m\n"
     ]
    },
    {
     "data": {
      "text/plain": [
       "Hypothesis    0\n",
       "Reach         0\n",
       "Impact        0\n",
       "Confidence    0\n",
       "Efforts       0\n",
       "dtype: int64"
      ]
     },
     "metadata": {},
     "output_type": "display_data"
    }
   ],
   "source": [
    "# применение функции к датафрейму 'hypothesis'\n",
    "\n",
    "df_information(hypothesis)"
   ]
  },
  {
   "cell_type": "markdown",
   "id": "be2d2212-7819-4f94-be82-cf06cb974ce0",
   "metadata": {},
   "source": [
    "### Датасет 'orders'"
   ]
  },
  {
   "cell_type": "code",
   "execution_count": 6,
   "id": "2fb2dfbd-cfd2-4e42-82b4-010afa012e8b",
   "metadata": {},
   "outputs": [
    {
     "name": "stdout",
     "output_type": "stream",
     "text": [
      "\u001b[1mОбщая информация о датафрейме\u001b[0m\n",
      "<class 'pandas.core.frame.DataFrame'>\n",
      "RangeIndex: 1197 entries, 0 to 1196\n",
      "Data columns (total 5 columns):\n",
      " #   Column         Non-Null Count  Dtype \n",
      "---  ------         --------------  ----- \n",
      " 0   transactionId  1197 non-null   int64 \n",
      " 1   visitorId      1197 non-null   int64 \n",
      " 2   date           1197 non-null   object\n",
      " 3   revenue        1197 non-null   int64 \n",
      " 4   group          1197 non-null   object\n",
      "dtypes: int64(3), object(2)\n",
      "memory usage: 46.9+ KB\n",
      "None\n",
      "\n",
      "\u001b[1mРандомные 5 строк датафрейма\u001b[0m\n"
     ]
    },
    {
     "data": {
      "text/html": [
       "<div>\n",
       "<style scoped>\n",
       "    .dataframe tbody tr th:only-of-type {\n",
       "        vertical-align: middle;\n",
       "    }\n",
       "\n",
       "    .dataframe tbody tr th {\n",
       "        vertical-align: top;\n",
       "    }\n",
       "\n",
       "    .dataframe thead th {\n",
       "        text-align: right;\n",
       "    }\n",
       "</style>\n",
       "<table border=\"1\" class=\"dataframe\">\n",
       "  <thead>\n",
       "    <tr style=\"text-align: right;\">\n",
       "      <th></th>\n",
       "      <th>transactionId</th>\n",
       "      <th>visitorId</th>\n",
       "      <th>date</th>\n",
       "      <th>revenue</th>\n",
       "      <th>group</th>\n",
       "    </tr>\n",
       "  </thead>\n",
       "  <tbody>\n",
       "    <tr>\n",
       "      <th>722</th>\n",
       "      <td>3517061727</td>\n",
       "      <td>4062055840</td>\n",
       "      <td>2019-08-05</td>\n",
       "      <td>6990</td>\n",
       "      <td>A</td>\n",
       "    </tr>\n",
       "    <tr>\n",
       "      <th>484</th>\n",
       "      <td>2631228632</td>\n",
       "      <td>1772171838</td>\n",
       "      <td>2019-08-06</td>\n",
       "      <td>6260</td>\n",
       "      <td>A</td>\n",
       "    </tr>\n",
       "    <tr>\n",
       "      <th>14</th>\n",
       "      <td>3859315276</td>\n",
       "      <td>1565034404</td>\n",
       "      <td>2019-08-15</td>\n",
       "      <td>10980</td>\n",
       "      <td>A</td>\n",
       "    </tr>\n",
       "    <tr>\n",
       "      <th>160</th>\n",
       "      <td>1941376795</td>\n",
       "      <td>4012829377</td>\n",
       "      <td>2019-08-22</td>\n",
       "      <td>18900</td>\n",
       "      <td>B</td>\n",
       "    </tr>\n",
       "    <tr>\n",
       "      <th>191</th>\n",
       "      <td>2361024027</td>\n",
       "      <td>3967698036</td>\n",
       "      <td>2019-08-02</td>\n",
       "      <td>1690</td>\n",
       "      <td>A</td>\n",
       "    </tr>\n",
       "  </tbody>\n",
       "</table>\n",
       "</div>"
      ],
      "text/plain": [
       "     transactionId   visitorId        date  revenue group\n",
       "722     3517061727  4062055840  2019-08-05     6990     A\n",
       "484     2631228632  1772171838  2019-08-06     6260     A\n",
       "14      3859315276  1565034404  2019-08-15    10980     A\n",
       "160     1941376795  4012829377  2019-08-22    18900     B\n",
       "191     2361024027  3967698036  2019-08-02     1690     A"
      ]
     },
     "metadata": {},
     "output_type": "display_data"
    },
    {
     "name": "stdout",
     "output_type": "stream",
     "text": [
      "\u001b[1mВывод статистики по датафрейму\u001b[0m\n",
      "          transactionId         visitorId       revenue\n",
      "count          1,197.00          1,197.00      1,197.00\n",
      "mean   2,155,621,385.53  2,165,960,143.10      8,348.01\n",
      "std    1,229,084,904.76  1,236,014,192.15     39,191.13\n",
      "min        1,062,393.00      5,114,589.00         50.00\n",
      "25%    1,166,775,572.00  1,111,826,046.00      1,220.00\n",
      "50%    2,145,193,898.00  2,217,984,702.00      2,978.00\n",
      "75%    3,237,740,112.00  3,177,606,451.00      8,290.00\n",
      "max    4,293,855,558.00  4,283,872,382.00  1,294,500.00\n",
      "\u001b[1mПроверка датафрейма на наличие явных дубликатов. Их количество:\u001b[0m\n"
     ]
    },
    {
     "data": {
      "text/plain": [
       "0"
      ]
     },
     "metadata": {},
     "output_type": "display_data"
    },
    {
     "name": "stdout",
     "output_type": "stream",
     "text": [
      "\n",
      "\u001b[1mДоля пропущенных значений среди всех данных:\u001b[0m\n"
     ]
    },
    {
     "data": {
      "text/plain": [
       "transactionId   0.00\n",
       "visitorId       0.00\n",
       "date            0.00\n",
       "revenue         0.00\n",
       "group           0.00\n",
       "dtype: float64"
      ]
     },
     "metadata": {},
     "output_type": "display_data"
    },
    {
     "name": "stdout",
     "output_type": "stream",
     "text": [
      "\n",
      "\u001b[1mКоличество пропущенных значений среди всех данных:\u001b[0m\n"
     ]
    },
    {
     "data": {
      "text/plain": [
       "transactionId    0\n",
       "visitorId        0\n",
       "date             0\n",
       "revenue          0\n",
       "group            0\n",
       "dtype: int64"
      ]
     },
     "metadata": {},
     "output_type": "display_data"
    }
   ],
   "source": [
    "# применение функции к датафрейму 'orders'\n",
    "\n",
    "df_information(orders)"
   ]
  },
  {
   "cell_type": "markdown",
   "id": "d2e1ea00-d374-4d5b-a8a1-c37ad937a05f",
   "metadata": {},
   "source": [
    "### Датасет 'visitors'"
   ]
  },
  {
   "cell_type": "code",
   "execution_count": 7,
   "id": "209c6ec0-7a83-4340-b2b5-203d76946732",
   "metadata": {},
   "outputs": [
    {
     "name": "stdout",
     "output_type": "stream",
     "text": [
      "\u001b[1mОбщая информация о датафрейме\u001b[0m\n",
      "<class 'pandas.core.frame.DataFrame'>\n",
      "RangeIndex: 62 entries, 0 to 61\n",
      "Data columns (total 3 columns):\n",
      " #   Column    Non-Null Count  Dtype \n",
      "---  ------    --------------  ----- \n",
      " 0   date      62 non-null     object\n",
      " 1   group     62 non-null     object\n",
      " 2   visitors  62 non-null     int64 \n",
      "dtypes: int64(1), object(2)\n",
      "memory usage: 1.6+ KB\n",
      "None\n",
      "\n",
      "\u001b[1mРандомные 5 строк датафрейма\u001b[0m\n"
     ]
    },
    {
     "data": {
      "text/html": [
       "<div>\n",
       "<style scoped>\n",
       "    .dataframe tbody tr th:only-of-type {\n",
       "        vertical-align: middle;\n",
       "    }\n",
       "\n",
       "    .dataframe tbody tr th {\n",
       "        vertical-align: top;\n",
       "    }\n",
       "\n",
       "    .dataframe thead th {\n",
       "        text-align: right;\n",
       "    }\n",
       "</style>\n",
       "<table border=\"1\" class=\"dataframe\">\n",
       "  <thead>\n",
       "    <tr style=\"text-align: right;\">\n",
       "      <th></th>\n",
       "      <th>date</th>\n",
       "      <th>group</th>\n",
       "      <th>visitors</th>\n",
       "    </tr>\n",
       "  </thead>\n",
       "  <tbody>\n",
       "    <tr>\n",
       "      <th>57</th>\n",
       "      <td>2019-08-27</td>\n",
       "      <td>B</td>\n",
       "      <td>720</td>\n",
       "    </tr>\n",
       "    <tr>\n",
       "      <th>40</th>\n",
       "      <td>2019-08-10</td>\n",
       "      <td>B</td>\n",
       "      <td>369</td>\n",
       "    </tr>\n",
       "    <tr>\n",
       "      <th>33</th>\n",
       "      <td>2019-08-03</td>\n",
       "      <td>B</td>\n",
       "      <td>509</td>\n",
       "    </tr>\n",
       "    <tr>\n",
       "      <th>44</th>\n",
       "      <td>2019-08-14</td>\n",
       "      <td>B</td>\n",
       "      <td>746</td>\n",
       "    </tr>\n",
       "    <tr>\n",
       "      <th>60</th>\n",
       "      <td>2019-08-30</td>\n",
       "      <td>B</td>\n",
       "      <td>490</td>\n",
       "    </tr>\n",
       "  </tbody>\n",
       "</table>\n",
       "</div>"
      ],
      "text/plain": [
       "          date group  visitors\n",
       "57  2019-08-27     B       720\n",
       "40  2019-08-10     B       369\n",
       "33  2019-08-03     B       509\n",
       "44  2019-08-14     B       746\n",
       "60  2019-08-30     B       490"
      ]
     },
     "metadata": {},
     "output_type": "display_data"
    },
    {
     "name": "stdout",
     "output_type": "stream",
     "text": [
      "\u001b[1mВывод статистики по датафрейму\u001b[0m\n",
      "      visitors\n",
      "count    62.00\n",
      "mean    607.29\n",
      "std     114.40\n",
      "min     361.00\n",
      "25%     534.00\n",
      "50%     624.50\n",
      "75%     710.50\n",
      "max     770.00\n",
      "\u001b[1mПроверка датафрейма на наличие явных дубликатов. Их количество:\u001b[0m\n"
     ]
    },
    {
     "data": {
      "text/plain": [
       "0"
      ]
     },
     "metadata": {},
     "output_type": "display_data"
    },
    {
     "name": "stdout",
     "output_type": "stream",
     "text": [
      "\n",
      "\u001b[1mДоля пропущенных значений среди всех данных:\u001b[0m\n"
     ]
    },
    {
     "data": {
      "text/plain": [
       "date       0.00\n",
       "group      0.00\n",
       "visitors   0.00\n",
       "dtype: float64"
      ]
     },
     "metadata": {},
     "output_type": "display_data"
    },
    {
     "name": "stdout",
     "output_type": "stream",
     "text": [
      "\n",
      "\u001b[1mКоличество пропущенных значений среди всех данных:\u001b[0m\n"
     ]
    },
    {
     "data": {
      "text/plain": [
       "date        0\n",
       "group       0\n",
       "visitors    0\n",
       "dtype: int64"
      ]
     },
     "metadata": {},
     "output_type": "display_data"
    }
   ],
   "source": [
    "# применение функции к датафрейму 'visitors'\n",
    "\n",
    "df_information(visitors)"
   ]
  },
  {
   "cell_type": "markdown",
   "id": "f5c8740a-6e98-4b8b-8326-97ad8bd2cd02",
   "metadata": {},
   "source": [
    "---\n",
    "\n",
    "Рассмотрим отдельно столбцы `group` в двух датафреймах:"
   ]
  },
  {
   "cell_type": "code",
   "execution_count": 8,
   "id": "a6731f0f-d134-4209-b05f-c4ef7ed0d566",
   "metadata": {},
   "outputs": [
    {
     "name": "stdout",
     "output_type": "stream",
     "text": [
      "B    640\n",
      "A    557\n",
      "Name: group, dtype: int64\n",
      "B    31\n",
      "A    31\n",
      "Name: group, dtype: int64\n"
     ]
    }
   ],
   "source": [
    "print(orders['group'].value_counts())\n",
    "print(visitors['group'].value_counts())"
   ]
  },
  {
   "cell_type": "markdown",
   "id": "07b607c9-efeb-4652-9f6d-ce9c16485c63",
   "metadata": {},
   "source": [
    "### Промежуточный вывод"
   ]
  },
  {
   "cell_type": "markdown",
   "id": "5e3879c6-4e92-4135-b46a-b40b40ce43fc",
   "metadata": {},
   "source": [
    "1. Датафрейм `hypothesis`\n",
    "- Во всех столбцах кроме `Hypothesis` находятся положительные числа от 1 до 10, что позволяет перевести тип данных на `uint8`.\n",
    "- Все столбцы имеют некорректные с точки зрения оформления названия.\n",
    "- Явные дубликаты отсутствуют.\n",
    "- Пропуски отсутствуют.\n",
    "\n",
    "2. Датафрейм `orders`\n",
    "- Столбец `date` имеет некорректный тип данных.\n",
    "- Имеются столбцы с некорректными с точки зрения оформления, названиями.\n",
    "- Явные дубликаты отсутствуют.\n",
    "- Пропуски отсутствуют.\n",
    "\n",
    "3. Датафрейм `visitors`\n",
    "- Столбец `date` имеет некорректный тип данных.\n",
    "- Явные дубликаты отсутствуют.\n",
    "- Пропуски отсутствуют."
   ]
  },
  {
   "cell_type": "markdown",
   "id": "65cd2a47-5da0-431d-9628-79bea1f2713e",
   "metadata": {},
   "source": [
    "# Предобработка данных"
   ]
  },
  {
   "cell_type": "markdown",
   "id": "0e2e25bd-4f7f-4b96-b47f-8fd601a71b70",
   "metadata": {},
   "source": [
    "## Наименования столбцов"
   ]
  },
  {
   "cell_type": "markdown",
   "id": "278f7e5d-b7e2-48f3-bae0-ef81dabd0bfa",
   "metadata": {},
   "source": [
    "Приведем столбцы в датафреймах в корректный с точки зрения оформления вид.\n",
    "\n",
    "Приведем стиль именования столбцов в \"змеиный регистр\" - `snake_case`"
   ]
  },
  {
   "cell_type": "code",
   "execution_count": 9,
   "id": "404750c1-8171-4f22-839f-c46e421d3d37",
   "metadata": {},
   "outputs": [],
   "source": [
    "# змеиный регистр\n",
    "hypothesis.columns = hypothesis.columns.str.strip().str.lower().str.replace(' ','_')\n",
    "orders.columns = orders.columns.str.strip().str.lower().str.replace(' ','_')"
   ]
  },
  {
   "cell_type": "code",
   "execution_count": 10,
   "id": "e4d04267-c3d0-41e1-80ea-63cc0c1c4e05",
   "metadata": {},
   "outputs": [
    {
     "name": "stdout",
     "output_type": "stream",
     "text": [
      "<class 'pandas.core.frame.DataFrame'>\n",
      "RangeIndex: 9 entries, 0 to 8\n",
      "Data columns (total 5 columns):\n",
      " #   Column      Non-Null Count  Dtype \n",
      "---  ------      --------------  ----- \n",
      " 0   hypothesis  9 non-null      object\n",
      " 1   reach       9 non-null      int64 \n",
      " 2   impact      9 non-null      int64 \n",
      " 3   confidence  9 non-null      int64 \n",
      " 4   efforts     9 non-null      int64 \n",
      "dtypes: int64(4), object(1)\n",
      "memory usage: 488.0+ bytes\n",
      "None\n",
      "<class 'pandas.core.frame.DataFrame'>\n",
      "RangeIndex: 1197 entries, 0 to 1196\n",
      "Data columns (total 5 columns):\n",
      " #   Column         Non-Null Count  Dtype \n",
      "---  ------         --------------  ----- \n",
      " 0   transactionid  1197 non-null   int64 \n",
      " 1   visitorid      1197 non-null   int64 \n",
      " 2   date           1197 non-null   object\n",
      " 3   revenue        1197 non-null   int64 \n",
      " 4   group          1197 non-null   object\n",
      "dtypes: int64(3), object(2)\n",
      "memory usage: 46.9+ KB\n",
      "None\n"
     ]
    }
   ],
   "source": [
    "print(hypothesis.info())\n",
    "print(orders.info())"
   ]
  },
  {
   "cell_type": "markdown",
   "id": "eaa3770a-fc2b-48bd-91ec-bee94932f9ba",
   "metadata": {},
   "source": [
    "## Типы столбцов"
   ]
  },
  {
   "cell_type": "markdown",
   "id": "cfb61210-f62a-40ef-9827-4e1fea7306c3",
   "metadata": {},
   "source": [
    "Приведем типы столбцов в датафреймах в более корректные:"
   ]
  },
  {
   "cell_type": "code",
   "execution_count": 11,
   "id": "bdef777d-f45f-4ead-82a6-d7bac12dcb4f",
   "metadata": {},
   "outputs": [],
   "source": [
    "# hypothesis\n",
    "\n",
    "hypothesis['reach'] = hypothesis['reach'].astype('uint8')\n",
    "hypothesis['impact'] = hypothesis['impact'].astype('uint8')\n",
    "hypothesis['confidence'] = hypothesis['confidence'].astype('uint8')\n",
    "hypothesis['efforts'] = hypothesis['efforts'].astype('uint8')\n",
    "\n",
    "# orders\n",
    "orders['date'] = pd.to_datetime(orders['date'])\n",
    "\n",
    "# visits\n",
    "visitors['date'] = pd.to_datetime(visitors['date'])\n",
    "visitors['visitors'] = visitors['visitors'].astype('uint16')"
   ]
  },
  {
   "cell_type": "code",
   "execution_count": 12,
   "id": "60b9c170-c572-41ec-8bd5-501a71a75366",
   "metadata": {},
   "outputs": [
    {
     "name": "stdout",
     "output_type": "stream",
     "text": [
      "<class 'pandas.core.frame.DataFrame'>\n",
      "RangeIndex: 9 entries, 0 to 8\n",
      "Data columns (total 5 columns):\n",
      " #   Column      Non-Null Count  Dtype \n",
      "---  ------      --------------  ----- \n",
      " 0   hypothesis  9 non-null      object\n",
      " 1   reach       9 non-null      uint8 \n",
      " 2   impact      9 non-null      uint8 \n",
      " 3   confidence  9 non-null      uint8 \n",
      " 4   efforts     9 non-null      uint8 \n",
      "dtypes: object(1), uint8(4)\n",
      "memory usage: 236.0+ bytes\n",
      "None\n",
      "<class 'pandas.core.frame.DataFrame'>\n",
      "RangeIndex: 1197 entries, 0 to 1196\n",
      "Data columns (total 5 columns):\n",
      " #   Column         Non-Null Count  Dtype         \n",
      "---  ------         --------------  -----         \n",
      " 0   transactionid  1197 non-null   int64         \n",
      " 1   visitorid      1197 non-null   int64         \n",
      " 2   date           1197 non-null   datetime64[ns]\n",
      " 3   revenue        1197 non-null   int64         \n",
      " 4   group          1197 non-null   object        \n",
      "dtypes: datetime64[ns](1), int64(3), object(1)\n",
      "memory usage: 46.9+ KB\n",
      "None\n",
      "<class 'pandas.core.frame.DataFrame'>\n",
      "RangeIndex: 62 entries, 0 to 61\n",
      "Data columns (total 3 columns):\n",
      " #   Column    Non-Null Count  Dtype         \n",
      "---  ------    --------------  -----         \n",
      " 0   date      62 non-null     datetime64[ns]\n",
      " 1   group     62 non-null     object        \n",
      " 2   visitors  62 non-null     uint16        \n",
      "dtypes: datetime64[ns](1), object(1), uint16(1)\n",
      "memory usage: 1.2+ KB\n",
      "None\n"
     ]
    }
   ],
   "source": [
    "print(hypothesis.info())\n",
    "print(orders.info())\n",
    "print(visitors.info())"
   ]
  },
  {
   "cell_type": "markdown",
   "id": "8bc6f155-df39-4c23-bd30-f56581155468",
   "metadata": {},
   "source": [
    "# Приоритизация гипотез"
   ]
  },
  {
   "cell_type": "markdown",
   "id": "e7869321-9a95-47d8-bfd0-169e0e04bff8",
   "metadata": {},
   "source": [
    "В датафрейме `hypothesis` находятся 9 гипотез по увеличению выручки интернет-магазина с указанными параметрами:\n",
    "- reach\n",
    "- impact\n",
    "- confidence\n",
    "- effort"
   ]
  },
  {
   "cell_type": "code",
   "execution_count": 13,
   "id": "9a996a83-e43a-4bc3-83f2-b5716655f7b5",
   "metadata": {},
   "outputs": [
    {
     "data": {
      "text/html": [
       "<div>\n",
       "<style scoped>\n",
       "    .dataframe tbody tr th:only-of-type {\n",
       "        vertical-align: middle;\n",
       "    }\n",
       "\n",
       "    .dataframe tbody tr th {\n",
       "        vertical-align: top;\n",
       "    }\n",
       "\n",
       "    .dataframe thead th {\n",
       "        text-align: right;\n",
       "    }\n",
       "</style>\n",
       "<table border=\"1\" class=\"dataframe\">\n",
       "  <thead>\n",
       "    <tr style=\"text-align: right;\">\n",
       "      <th></th>\n",
       "      <th>hypothesis</th>\n",
       "      <th>reach</th>\n",
       "      <th>impact</th>\n",
       "      <th>confidence</th>\n",
       "      <th>efforts</th>\n",
       "    </tr>\n",
       "  </thead>\n",
       "  <tbody>\n",
       "    <tr>\n",
       "      <th>0</th>\n",
       "      <td>Добавить два новых канала привлечения трафика, что позволит привлекать на 30% больше пользователей</td>\n",
       "      <td>3</td>\n",
       "      <td>10</td>\n",
       "      <td>8</td>\n",
       "      <td>6</td>\n",
       "    </tr>\n",
       "    <tr>\n",
       "      <th>1</th>\n",
       "      <td>Запустить собственную службу доставки, что сократит срок доставки заказов</td>\n",
       "      <td>2</td>\n",
       "      <td>5</td>\n",
       "      <td>4</td>\n",
       "      <td>10</td>\n",
       "    </tr>\n",
       "    <tr>\n",
       "      <th>2</th>\n",
       "      <td>Добавить блоки рекомендаций товаров на сайт интернет магазина, чтобы повысить конверсию и средний чек заказа</td>\n",
       "      <td>8</td>\n",
       "      <td>3</td>\n",
       "      <td>7</td>\n",
       "      <td>3</td>\n",
       "    </tr>\n",
       "    <tr>\n",
       "      <th>3</th>\n",
       "      <td>Изменить структура категорий, что увеличит конверсию, т.к. пользователи быстрее найдут нужный товар</td>\n",
       "      <td>8</td>\n",
       "      <td>3</td>\n",
       "      <td>3</td>\n",
       "      <td>8</td>\n",
       "    </tr>\n",
       "    <tr>\n",
       "      <th>4</th>\n",
       "      <td>Изменить цвет фона главной страницы, чтобы увеличить вовлеченность пользователей</td>\n",
       "      <td>3</td>\n",
       "      <td>1</td>\n",
       "      <td>1</td>\n",
       "      <td>1</td>\n",
       "    </tr>\n",
       "    <tr>\n",
       "      <th>5</th>\n",
       "      <td>Добавить страницу отзывов клиентов о магазине, что позволит увеличить количество заказов</td>\n",
       "      <td>3</td>\n",
       "      <td>2</td>\n",
       "      <td>2</td>\n",
       "      <td>3</td>\n",
       "    </tr>\n",
       "    <tr>\n",
       "      <th>6</th>\n",
       "      <td>Показать на главной странице баннеры с актуальными акциями и распродажами, чтобы увеличить конверсию</td>\n",
       "      <td>5</td>\n",
       "      <td>3</td>\n",
       "      <td>8</td>\n",
       "      <td>3</td>\n",
       "    </tr>\n",
       "    <tr>\n",
       "      <th>7</th>\n",
       "      <td>Добавить форму подписки на все основные страницы, чтобы собрать базу клиентов для email-рассылок</td>\n",
       "      <td>10</td>\n",
       "      <td>7</td>\n",
       "      <td>8</td>\n",
       "      <td>5</td>\n",
       "    </tr>\n",
       "    <tr>\n",
       "      <th>8</th>\n",
       "      <td>Запустить акцию, дающую скидку на товар в день рождения</td>\n",
       "      <td>1</td>\n",
       "      <td>9</td>\n",
       "      <td>9</td>\n",
       "      <td>5</td>\n",
       "    </tr>\n",
       "  </tbody>\n",
       "</table>\n",
       "</div>"
      ],
      "text/plain": [
       "                                                                                                     hypothesis  \\\n",
       "0            Добавить два новых канала привлечения трафика, что позволит привлекать на 30% больше пользователей   \n",
       "1                                     Запустить собственную службу доставки, что сократит срок доставки заказов   \n",
       "2  Добавить блоки рекомендаций товаров на сайт интернет магазина, чтобы повысить конверсию и средний чек заказа   \n",
       "3           Изменить структура категорий, что увеличит конверсию, т.к. пользователи быстрее найдут нужный товар   \n",
       "4                              Изменить цвет фона главной страницы, чтобы увеличить вовлеченность пользователей   \n",
       "5                      Добавить страницу отзывов клиентов о магазине, что позволит увеличить количество заказов   \n",
       "6          Показать на главной странице баннеры с актуальными акциями и распродажами, чтобы увеличить конверсию   \n",
       "7              Добавить форму подписки на все основные страницы, чтобы собрать базу клиентов для email-рассылок   \n",
       "8                                                       Запустить акцию, дающую скидку на товар в день рождения   \n",
       "\n",
       "   reach  impact  confidence  efforts  \n",
       "0      3      10           8        6  \n",
       "1      2       5           4       10  \n",
       "2      8       3           7        3  \n",
       "3      8       3           3        8  \n",
       "4      3       1           1        1  \n",
       "5      3       2           2        3  \n",
       "6      5       3           8        3  \n",
       "7     10       7           8        5  \n",
       "8      1       9           9        5  "
      ]
     },
     "metadata": {},
     "output_type": "display_data"
    }
   ],
   "source": [
    "display(hypothesis)"
   ]
  },
  {
   "cell_type": "markdown",
   "id": "4c74818c-353f-4213-bb58-ccd5b6795ffd",
   "metadata": {},
   "source": [
    "## Применение фреймворка ICE"
   ]
  },
  {
   "cell_type": "markdown",
   "id": "c189859f-9714-4ff1-8edf-be21a32b3b8e",
   "metadata": {},
   "source": [
    "Фреймворк ICE используется для приоритизации гипотез на основе трех факторов:\n",
    "\n",
    "- **Impact (влияние)**: ожидаемый эффект на бизнес.\n",
    "- **Confidence (уверенность)**: уверенность в том, что гипотеза принесет результаты.\n",
    "- **Effort (усилия)**: ресурсы, необходимые для проверки гипотезы.\n",
    "\n",
    "Формула расчёта - **(Impact * Confidence) / Efforts**"
   ]
  },
  {
   "cell_type": "code",
   "execution_count": 14,
   "id": "e04e47ec-4feb-4e63-981f-f830e15620cb",
   "metadata": {},
   "outputs": [
    {
     "data": {
      "text/html": [
       "<div>\n",
       "<style scoped>\n",
       "    .dataframe tbody tr th:only-of-type {\n",
       "        vertical-align: middle;\n",
       "    }\n",
       "\n",
       "    .dataframe tbody tr th {\n",
       "        vertical-align: top;\n",
       "    }\n",
       "\n",
       "    .dataframe thead th {\n",
       "        text-align: right;\n",
       "    }\n",
       "</style>\n",
       "<table border=\"1\" class=\"dataframe\">\n",
       "  <thead>\n",
       "    <tr style=\"text-align: right;\">\n",
       "      <th></th>\n",
       "      <th>hypothesis</th>\n",
       "      <th>reach</th>\n",
       "      <th>impact</th>\n",
       "      <th>confidence</th>\n",
       "      <th>efforts</th>\n",
       "      <th>ICE</th>\n",
       "    </tr>\n",
       "  </thead>\n",
       "  <tbody>\n",
       "    <tr>\n",
       "      <th>8</th>\n",
       "      <td>Запустить акцию, дающую скидку на товар в день рождения</td>\n",
       "      <td>1</td>\n",
       "      <td>9</td>\n",
       "      <td>9</td>\n",
       "      <td>5</td>\n",
       "      <td>16.20</td>\n",
       "    </tr>\n",
       "    <tr>\n",
       "      <th>0</th>\n",
       "      <td>Добавить два новых канала привлечения трафика, что позволит привлекать на 30% больше пользователей</td>\n",
       "      <td>3</td>\n",
       "      <td>10</td>\n",
       "      <td>8</td>\n",
       "      <td>6</td>\n",
       "      <td>13.33</td>\n",
       "    </tr>\n",
       "    <tr>\n",
       "      <th>7</th>\n",
       "      <td>Добавить форму подписки на все основные страницы, чтобы собрать базу клиентов для email-рассылок</td>\n",
       "      <td>10</td>\n",
       "      <td>7</td>\n",
       "      <td>8</td>\n",
       "      <td>5</td>\n",
       "      <td>11.20</td>\n",
       "    </tr>\n",
       "    <tr>\n",
       "      <th>6</th>\n",
       "      <td>Показать на главной странице баннеры с актуальными акциями и распродажами, чтобы увеличить конверсию</td>\n",
       "      <td>5</td>\n",
       "      <td>3</td>\n",
       "      <td>8</td>\n",
       "      <td>3</td>\n",
       "      <td>8.00</td>\n",
       "    </tr>\n",
       "    <tr>\n",
       "      <th>2</th>\n",
       "      <td>Добавить блоки рекомендаций товаров на сайт интернет магазина, чтобы повысить конверсию и средний чек заказа</td>\n",
       "      <td>8</td>\n",
       "      <td>3</td>\n",
       "      <td>7</td>\n",
       "      <td>3</td>\n",
       "      <td>7.00</td>\n",
       "    </tr>\n",
       "    <tr>\n",
       "      <th>1</th>\n",
       "      <td>Запустить собственную службу доставки, что сократит срок доставки заказов</td>\n",
       "      <td>2</td>\n",
       "      <td>5</td>\n",
       "      <td>4</td>\n",
       "      <td>10</td>\n",
       "      <td>2.00</td>\n",
       "    </tr>\n",
       "    <tr>\n",
       "      <th>5</th>\n",
       "      <td>Добавить страницу отзывов клиентов о магазине, что позволит увеличить количество заказов</td>\n",
       "      <td>3</td>\n",
       "      <td>2</td>\n",
       "      <td>2</td>\n",
       "      <td>3</td>\n",
       "      <td>1.33</td>\n",
       "    </tr>\n",
       "    <tr>\n",
       "      <th>3</th>\n",
       "      <td>Изменить структура категорий, что увеличит конверсию, т.к. пользователи быстрее найдут нужный товар</td>\n",
       "      <td>8</td>\n",
       "      <td>3</td>\n",
       "      <td>3</td>\n",
       "      <td>8</td>\n",
       "      <td>1.12</td>\n",
       "    </tr>\n",
       "    <tr>\n",
       "      <th>4</th>\n",
       "      <td>Изменить цвет фона главной страницы, чтобы увеличить вовлеченность пользователей</td>\n",
       "      <td>3</td>\n",
       "      <td>1</td>\n",
       "      <td>1</td>\n",
       "      <td>1</td>\n",
       "      <td>1.00</td>\n",
       "    </tr>\n",
       "  </tbody>\n",
       "</table>\n",
       "</div>"
      ],
      "text/plain": [
       "                                                                                                     hypothesis  \\\n",
       "8                                                       Запустить акцию, дающую скидку на товар в день рождения   \n",
       "0            Добавить два новых канала привлечения трафика, что позволит привлекать на 30% больше пользователей   \n",
       "7              Добавить форму подписки на все основные страницы, чтобы собрать базу клиентов для email-рассылок   \n",
       "6          Показать на главной странице баннеры с актуальными акциями и распродажами, чтобы увеличить конверсию   \n",
       "2  Добавить блоки рекомендаций товаров на сайт интернет магазина, чтобы повысить конверсию и средний чек заказа   \n",
       "1                                     Запустить собственную службу доставки, что сократит срок доставки заказов   \n",
       "5                      Добавить страницу отзывов клиентов о магазине, что позволит увеличить количество заказов   \n",
       "3           Изменить структура категорий, что увеличит конверсию, т.к. пользователи быстрее найдут нужный товар   \n",
       "4                              Изменить цвет фона главной страницы, чтобы увеличить вовлеченность пользователей   \n",
       "\n",
       "   reach  impact  confidence  efforts   ICE  \n",
       "8      1       9           9        5 16.20  \n",
       "0      3      10           8        6 13.33  \n",
       "7     10       7           8        5 11.20  \n",
       "6      5       3           8        3  8.00  \n",
       "2      8       3           7        3  7.00  \n",
       "1      2       5           4       10  2.00  \n",
       "5      3       2           2        3  1.33  \n",
       "3      8       3           3        8  1.12  \n",
       "4      3       1           1        1  1.00  "
      ]
     },
     "execution_count": 14,
     "metadata": {},
     "output_type": "execute_result"
    }
   ],
   "source": [
    "# расчет ICE Score\n",
    "hypothesis['ICE'] = (hypothesis['impact'] * hypothesis['confidence']) / hypothesis['efforts']\n",
    "\n",
    "# сортировка по убыванию\n",
    "hypothesis.sort_values(by='ICE', ascending=False)"
   ]
  },
  {
   "cell_type": "markdown",
   "id": "618d1edc-fb77-4d4c-98d7-05c9f7b3f08b",
   "metadata": {},
   "source": [
    "Лидирующими гипотезами являются:\n",
    "1. **Гипотеза 8** - показатель `ICE` **16.20**\n",
    "2. **Гипотеза 0** - показатель `ICE` **13.33**\n",
    "3. **Гипотеза 7** - показатель `ICE` **11.20** "
   ]
  },
  {
   "cell_type": "markdown",
   "id": "bd91584d-aba8-4c1a-adec-d7dc4ff9bf7e",
   "metadata": {},
   "source": [
    "## Применение фреймворка RICE"
   ]
  },
  {
   "cell_type": "markdown",
   "id": "fea61ee9-278d-4772-a637-cbb427e3c280",
   "metadata": {},
   "source": [
    "Фреймворк RICE добавляет четвертый фактор:\n",
    "\n",
    "- **Reach (охват)**: количество пользователей, которых затронет гипотеза.\n",
    "\n",
    "Формула расчёта - **(Reach * Impact * Confidence ) / Efforts**"
   ]
  },
  {
   "cell_type": "code",
   "execution_count": 15,
   "id": "3ab5b745-3634-45aa-a71b-2e0eb0e306fb",
   "metadata": {},
   "outputs": [
    {
     "data": {
      "text/html": [
       "<div>\n",
       "<style scoped>\n",
       "    .dataframe tbody tr th:only-of-type {\n",
       "        vertical-align: middle;\n",
       "    }\n",
       "\n",
       "    .dataframe tbody tr th {\n",
       "        vertical-align: top;\n",
       "    }\n",
       "\n",
       "    .dataframe thead th {\n",
       "        text-align: right;\n",
       "    }\n",
       "</style>\n",
       "<table border=\"1\" class=\"dataframe\">\n",
       "  <thead>\n",
       "    <tr style=\"text-align: right;\">\n",
       "      <th></th>\n",
       "      <th>hypothesis</th>\n",
       "      <th>reach</th>\n",
       "      <th>impact</th>\n",
       "      <th>confidence</th>\n",
       "      <th>efforts</th>\n",
       "      <th>ICE</th>\n",
       "      <th>RICE</th>\n",
       "    </tr>\n",
       "  </thead>\n",
       "  <tbody>\n",
       "    <tr>\n",
       "      <th>2</th>\n",
       "      <td>Добавить блоки рекомендаций товаров на сайт интернет магазина, чтобы повысить конверсию и средний чек заказа</td>\n",
       "      <td>8</td>\n",
       "      <td>3</td>\n",
       "      <td>7</td>\n",
       "      <td>3</td>\n",
       "      <td>7.00</td>\n",
       "      <td>56.00</td>\n",
       "    </tr>\n",
       "    <tr>\n",
       "      <th>0</th>\n",
       "      <td>Добавить два новых канала привлечения трафика, что позволит привлекать на 30% больше пользователей</td>\n",
       "      <td>3</td>\n",
       "      <td>10</td>\n",
       "      <td>8</td>\n",
       "      <td>6</td>\n",
       "      <td>13.33</td>\n",
       "      <td>40.00</td>\n",
       "    </tr>\n",
       "    <tr>\n",
       "      <th>6</th>\n",
       "      <td>Показать на главной странице баннеры с актуальными акциями и распродажами, чтобы увеличить конверсию</td>\n",
       "      <td>5</td>\n",
       "      <td>3</td>\n",
       "      <td>8</td>\n",
       "      <td>3</td>\n",
       "      <td>8.00</td>\n",
       "      <td>40.00</td>\n",
       "    </tr>\n",
       "    <tr>\n",
       "      <th>8</th>\n",
       "      <td>Запустить акцию, дающую скидку на товар в день рождения</td>\n",
       "      <td>1</td>\n",
       "      <td>9</td>\n",
       "      <td>9</td>\n",
       "      <td>5</td>\n",
       "      <td>16.20</td>\n",
       "      <td>16.20</td>\n",
       "    </tr>\n",
       "    <tr>\n",
       "      <th>7</th>\n",
       "      <td>Добавить форму подписки на все основные страницы, чтобы собрать базу клиентов для email-рассылок</td>\n",
       "      <td>10</td>\n",
       "      <td>7</td>\n",
       "      <td>8</td>\n",
       "      <td>5</td>\n",
       "      <td>11.20</td>\n",
       "      <td>9.60</td>\n",
       "    </tr>\n",
       "    <tr>\n",
       "      <th>3</th>\n",
       "      <td>Изменить структура категорий, что увеличит конверсию, т.к. пользователи быстрее найдут нужный товар</td>\n",
       "      <td>8</td>\n",
       "      <td>3</td>\n",
       "      <td>3</td>\n",
       "      <td>8</td>\n",
       "      <td>1.12</td>\n",
       "      <td>9.00</td>\n",
       "    </tr>\n",
       "    <tr>\n",
       "      <th>1</th>\n",
       "      <td>Запустить собственную службу доставки, что сократит срок доставки заказов</td>\n",
       "      <td>2</td>\n",
       "      <td>5</td>\n",
       "      <td>4</td>\n",
       "      <td>10</td>\n",
       "      <td>2.00</td>\n",
       "      <td>4.00</td>\n",
       "    </tr>\n",
       "    <tr>\n",
       "      <th>5</th>\n",
       "      <td>Добавить страницу отзывов клиентов о магазине, что позволит увеличить количество заказов</td>\n",
       "      <td>3</td>\n",
       "      <td>2</td>\n",
       "      <td>2</td>\n",
       "      <td>3</td>\n",
       "      <td>1.33</td>\n",
       "      <td>4.00</td>\n",
       "    </tr>\n",
       "    <tr>\n",
       "      <th>4</th>\n",
       "      <td>Изменить цвет фона главной страницы, чтобы увеличить вовлеченность пользователей</td>\n",
       "      <td>3</td>\n",
       "      <td>1</td>\n",
       "      <td>1</td>\n",
       "      <td>1</td>\n",
       "      <td>1.00</td>\n",
       "      <td>3.00</td>\n",
       "    </tr>\n",
       "  </tbody>\n",
       "</table>\n",
       "</div>"
      ],
      "text/plain": [
       "                                                                                                     hypothesis  \\\n",
       "2  Добавить блоки рекомендаций товаров на сайт интернет магазина, чтобы повысить конверсию и средний чек заказа   \n",
       "0            Добавить два новых канала привлечения трафика, что позволит привлекать на 30% больше пользователей   \n",
       "6          Показать на главной странице баннеры с актуальными акциями и распродажами, чтобы увеличить конверсию   \n",
       "8                                                       Запустить акцию, дающую скидку на товар в день рождения   \n",
       "7              Добавить форму подписки на все основные страницы, чтобы собрать базу клиентов для email-рассылок   \n",
       "3           Изменить структура категорий, что увеличит конверсию, т.к. пользователи быстрее найдут нужный товар   \n",
       "1                                     Запустить собственную службу доставки, что сократит срок доставки заказов   \n",
       "5                      Добавить страницу отзывов клиентов о магазине, что позволит увеличить количество заказов   \n",
       "4                              Изменить цвет фона главной страницы, чтобы увеличить вовлеченность пользователей   \n",
       "\n",
       "   reach  impact  confidence  efforts   ICE  RICE  \n",
       "2      8       3           7        3  7.00 56.00  \n",
       "0      3      10           8        6 13.33 40.00  \n",
       "6      5       3           8        3  8.00 40.00  \n",
       "8      1       9           9        5 16.20 16.20  \n",
       "7     10       7           8        5 11.20  9.60  \n",
       "3      8       3           3        8  1.12  9.00  \n",
       "1      2       5           4       10  2.00  4.00  \n",
       "5      3       2           2        3  1.33  4.00  \n",
       "4      3       1           1        1  1.00  3.00  "
      ]
     },
     "execution_count": 15,
     "metadata": {},
     "output_type": "execute_result"
    }
   ],
   "source": [
    "# расчет RICE Score\n",
    "hypothesis['RICE'] = (hypothesis['reach'] * hypothesis['impact'] * hypothesis['confidence']) / hypothesis['efforts']\n",
    "\n",
    "# сортировка по убыванию\n",
    "hypothesis.sort_values(by='RICE', ascending=False)"
   ]
  },
  {
   "cell_type": "markdown",
   "id": "c04912e3-865d-4570-b084-19e895d23870",
   "metadata": {},
   "source": [
    "Лидирующими гипотезами являются:\n",
    "1. **Гипотеза 2** - показатель `RICE` **56.00**\n",
    "2. **Гипотеза 0** - показатель `RICE` **40.00**\n",
    "3. **Гипотеза 6** - показатель `RICE` **40.00** "
   ]
  },
  {
   "cell_type": "markdown",
   "id": "dc5dd48c-fb52-4839-8af5-3fde5723b169",
   "metadata": {},
   "source": [
    "## Изменение приоритизации гипотез"
   ]
  },
  {
   "cell_type": "markdown",
   "id": "0e64dc1d-8642-45cd-81f3-b51da6d4591d",
   "metadata": {},
   "source": [
    "Приоритизация гипотез при применении `RICE` вместо `ICE` изменила порядок значимости.\n",
    "\n",
    "Это произошло по причине добавления четвертого фактора, ведь гипотезы с высоким охватом поднимаются в приоритете при использовании `RICE`. Это логично, так как гипотеза, которая затронет большее количество пользователей, имеет большее влияние на выручку.\n",
    "\n",
    "Поскольку лидирующие гипотезы при проведении тестов оказались разные, приоритетной среди них будет гипотеза выявленная методов `RICE` - **Гипотеза 2** - \"Добавить блоки рекомендаций товаров на сайт интернет магазина, чтобы повысить конверсию и средний чек заказа\"\t"
   ]
  },
  {
   "cell_type": "markdown",
   "id": "6a8ae289-f60a-4cea-be75-037f89f13fca",
   "metadata": {},
   "source": [
    "# Анализ A/B-теста"
   ]
  },
  {
   "cell_type": "markdown",
   "id": "27bbba14-2438-4599-b9b7-b8fbe1864eb7",
   "metadata": {},
   "source": [
    "Изучим период изучаемых данных в A/B-тесте:"
   ]
  },
  {
   "cell_type": "code",
   "execution_count": 16,
   "id": "676c96d9-cd23-4f85-a261-e9254d2e6b66",
   "metadata": {},
   "outputs": [
    {
     "name": "stdout",
     "output_type": "stream",
     "text": [
      "Даты датафрейма \"orders\"\n",
      "\n",
      "- Дата начала периода: 2019-08-01 00:00:00\n",
      "- Дата окончания периода:2019-08-31 00:00:00\n",
      "\n",
      "Сравним даты с датафреймом \"visitors\"\n",
      "\n",
      "- Дата начала периода: 2019-08-01 00:00:00\n",
      "- Дата окончания периода: 2019-08-31 00:00:00\n"
     ]
    }
   ],
   "source": [
    "print('Даты датафрейма \"orders\"\\n')\n",
    "print(f'- Дата начала периода: {orders[\"date\"].min()}')\n",
    "print(f'- Дата окончания периода:{orders[\"date\"].max()}')\n",
    "print('\\nСравним даты с датафреймом \"visitors\"\\n')\n",
    "print(f'- Дата начала периода: {visitors[\"date\"].min()}')\n",
    "print(f'- Дата окончания периода: {visitors[\"date\"].max()}')"
   ]
  },
  {
   "cell_type": "markdown",
   "id": "6f84d8ae-076c-4ada-a3d5-3ccf8b21f42b",
   "metadata": {},
   "source": [
    "Даты начала и окончания в обоих таблицах одинаковые. Период исследуемых данных с **1 августа 2019** года по **31 августа 2019** года"
   ]
  },
  {
   "cell_type": "markdown",
   "id": "bd209e4f-42f5-4902-aa59-2dd985d17e9f",
   "metadata": {},
   "source": [
    "Создадим список дней для дальнейшей визуализации:"
   ]
  },
  {
   "cell_type": "code",
   "execution_count": 17,
   "id": "de5ec7f2-bcd4-498b-9714-f2bd21a64605",
   "metadata": {},
   "outputs": [],
   "source": [
    "orders_copy = pd.DataFrame()\n",
    "orders_copy = orders\n",
    "\n",
    "# Преобразование столбца 'date' в формат дат\n",
    "orders_copy['date'] = pd.to_datetime(orders_copy['date'])\n",
    "\n",
    "# Получение списка уникальных значений из столбца 'date' в формате \"YYYY-MM-DD\"\n",
    "unique_dates = orders_copy['date'].dt.strftime('%Y-%m-%d').unique().tolist()\n",
    "\n",
    "unique_dates = sorted(unique_dates)"
   ]
  },
  {
   "cell_type": "markdown",
   "id": "75c417c3-d31a-4fcb-b2de-afde4de80d54",
   "metadata": {},
   "source": [
    "Изучим подробнее данные касательно покупателей по группам A и B:"
   ]
  },
  {
   "cell_type": "code",
   "execution_count": 18,
   "id": "960c1a84-4e10-4b0f-9dff-fa60f5951521",
   "metadata": {},
   "outputs": [
    {
     "name": "stdout",
     "output_type": "stream",
     "text": [
      "B    640\n",
      "A    557\n",
      "Name: group, dtype: int64\n"
     ]
    }
   ],
   "source": [
    "print(orders['group'].value_counts())"
   ]
  },
  {
   "cell_type": "markdown",
   "id": "1847ff0b-a227-4561-8370-962bd6bd926d",
   "metadata": {},
   "source": [
    "## График кумулятивной выручки по группам"
   ]
  },
  {
   "cell_type": "markdown",
   "id": "9193c91b-7a25-455e-aeba-f0a82839bbab",
   "metadata": {},
   "source": [
    "Кумулятивная выручка поможет увидеть динамику выручки в каждой группе с течением времени."
   ]
  },
  {
   "cell_type": "code",
   "execution_count": 19,
   "id": "67924657-d45b-4fa0-b299-9ecfae71cb18",
   "metadata": {},
   "outputs": [],
   "source": [
    "datesGroups = orders[['date', 'group']].drop_duplicates()"
   ]
  },
  {
   "cell_type": "code",
   "execution_count": 20,
   "id": "fab783eb-6e5f-4369-81ee-860894345ae3",
   "metadata": {},
   "outputs": [
    {
     "data": {
      "text/html": [
       "<div>\n",
       "<style scoped>\n",
       "    .dataframe tbody tr th:only-of-type {\n",
       "        vertical-align: middle;\n",
       "    }\n",
       "\n",
       "    .dataframe tbody tr th {\n",
       "        vertical-align: top;\n",
       "    }\n",
       "\n",
       "    .dataframe thead th {\n",
       "        text-align: right;\n",
       "    }\n",
       "</style>\n",
       "<table border=\"1\" class=\"dataframe\">\n",
       "  <thead>\n",
       "    <tr style=\"text-align: right;\">\n",
       "      <th></th>\n",
       "      <th>date</th>\n",
       "      <th>group</th>\n",
       "      <th>visitorid</th>\n",
       "      <th>transactionid</th>\n",
       "      <th>revenue</th>\n",
       "    </tr>\n",
       "  </thead>\n",
       "  <tbody>\n",
       "    <tr>\n",
       "      <th>55</th>\n",
       "      <td>2019-08-01</td>\n",
       "      <td>A</td>\n",
       "      <td>20</td>\n",
       "      <td>24</td>\n",
       "      <td>148579</td>\n",
       "    </tr>\n",
       "    <tr>\n",
       "      <th>66</th>\n",
       "      <td>2019-08-01</td>\n",
       "      <td>B</td>\n",
       "      <td>20</td>\n",
       "      <td>21</td>\n",
       "      <td>101217</td>\n",
       "    </tr>\n",
       "    <tr>\n",
       "      <th>175</th>\n",
       "      <td>2019-08-02</td>\n",
       "      <td>A</td>\n",
       "      <td>38</td>\n",
       "      <td>44</td>\n",
       "      <td>242401</td>\n",
       "    </tr>\n",
       "    <tr>\n",
       "      <th>173</th>\n",
       "      <td>2019-08-02</td>\n",
       "      <td>B</td>\n",
       "      <td>43</td>\n",
       "      <td>45</td>\n",
       "      <td>266748</td>\n",
       "    </tr>\n",
       "    <tr>\n",
       "      <th>291</th>\n",
       "      <td>2019-08-03</td>\n",
       "      <td>A</td>\n",
       "      <td>62</td>\n",
       "      <td>68</td>\n",
       "      <td>354874</td>\n",
       "    </tr>\n",
       "    <tr>\n",
       "      <th>...</th>\n",
       "      <td>...</td>\n",
       "      <td>...</td>\n",
       "      <td>...</td>\n",
       "      <td>...</td>\n",
       "      <td>...</td>\n",
       "    </tr>\n",
       "    <tr>\n",
       "      <th>496</th>\n",
       "      <td>2019-08-29</td>\n",
       "      <td>B</td>\n",
       "      <td>544</td>\n",
       "      <td>596</td>\n",
       "      <td>5559398</td>\n",
       "    </tr>\n",
       "    <tr>\n",
       "      <th>730</th>\n",
       "      <td>2019-08-30</td>\n",
       "      <td>A</td>\n",
       "      <td>493</td>\n",
       "      <td>545</td>\n",
       "      <td>4022970</td>\n",
       "    </tr>\n",
       "    <tr>\n",
       "      <th>690</th>\n",
       "      <td>2019-08-30</td>\n",
       "      <td>B</td>\n",
       "      <td>567</td>\n",
       "      <td>620</td>\n",
       "      <td>5774631</td>\n",
       "    </tr>\n",
       "    <tr>\n",
       "      <th>958</th>\n",
       "      <td>2019-08-31</td>\n",
       "      <td>A</td>\n",
       "      <td>503</td>\n",
       "      <td>557</td>\n",
       "      <td>4084803</td>\n",
       "    </tr>\n",
       "    <tr>\n",
       "      <th>930</th>\n",
       "      <td>2019-08-31</td>\n",
       "      <td>B</td>\n",
       "      <td>586</td>\n",
       "      <td>640</td>\n",
       "      <td>5907760</td>\n",
       "    </tr>\n",
       "  </tbody>\n",
       "</table>\n",
       "<p>62 rows × 5 columns</p>\n",
       "</div>"
      ],
      "text/plain": [
       "          date group  visitorid  transactionid  revenue\n",
       "55  2019-08-01     A         20             24   148579\n",
       "66  2019-08-01     B         20             21   101217\n",
       "175 2019-08-02     A         38             44   242401\n",
       "173 2019-08-02     B         43             45   266748\n",
       "291 2019-08-03     A         62             68   354874\n",
       "..         ...   ...        ...            ...      ...\n",
       "496 2019-08-29     B        544            596  5559398\n",
       "730 2019-08-30     A        493            545  4022970\n",
       "690 2019-08-30     B        567            620  5774631\n",
       "958 2019-08-31     A        503            557  4084803\n",
       "930 2019-08-31     B        586            640  5907760\n",
       "\n",
       "[62 rows x 5 columns]"
      ]
     },
     "execution_count": 20,
     "metadata": {},
     "output_type": "execute_result"
    }
   ],
   "source": [
    "ordersAggregated = datesGroups.apply(\n",
    "    lambda x: orders[np.logical_and(orders['date'] <= x['date'], orders['group'] == x['group'])]\\\n",
    "    .agg({'date': 'max',\n",
    "          'group': 'max',\n",
    "          'visitorid': 'nunique',\n",
    "          'transactionid': 'nunique',\n",
    "          'revenue': 'sum'\n",
    "         }),axis=1).sort_values(by=['date', 'group'])\n",
    "\n",
    "ordersAggregated"
   ]
  },
  {
   "cell_type": "code",
   "execution_count": 21,
   "id": "4683dd2c-c50f-4c9c-962b-f518904ee78d",
   "metadata": {},
   "outputs": [
    {
     "data": {
      "text/html": [
       "<div>\n",
       "<style scoped>\n",
       "    .dataframe tbody tr th:only-of-type {\n",
       "        vertical-align: middle;\n",
       "    }\n",
       "\n",
       "    .dataframe tbody tr th {\n",
       "        vertical-align: top;\n",
       "    }\n",
       "\n",
       "    .dataframe thead th {\n",
       "        text-align: right;\n",
       "    }\n",
       "</style>\n",
       "<table border=\"1\" class=\"dataframe\">\n",
       "  <thead>\n",
       "    <tr style=\"text-align: right;\">\n",
       "      <th></th>\n",
       "      <th>date</th>\n",
       "      <th>group</th>\n",
       "      <th>visitors</th>\n",
       "    </tr>\n",
       "  </thead>\n",
       "  <tbody>\n",
       "    <tr>\n",
       "      <th>55</th>\n",
       "      <td>2019-08-01</td>\n",
       "      <td>A</td>\n",
       "      <td>719</td>\n",
       "    </tr>\n",
       "    <tr>\n",
       "      <th>66</th>\n",
       "      <td>2019-08-01</td>\n",
       "      <td>B</td>\n",
       "      <td>713</td>\n",
       "    </tr>\n",
       "    <tr>\n",
       "      <th>175</th>\n",
       "      <td>2019-08-02</td>\n",
       "      <td>A</td>\n",
       "      <td>1338</td>\n",
       "    </tr>\n",
       "    <tr>\n",
       "      <th>173</th>\n",
       "      <td>2019-08-02</td>\n",
       "      <td>B</td>\n",
       "      <td>1294</td>\n",
       "    </tr>\n",
       "    <tr>\n",
       "      <th>291</th>\n",
       "      <td>2019-08-03</td>\n",
       "      <td>A</td>\n",
       "      <td>1845</td>\n",
       "    </tr>\n",
       "    <tr>\n",
       "      <th>...</th>\n",
       "      <td>...</td>\n",
       "      <td>...</td>\n",
       "      <td>...</td>\n",
       "    </tr>\n",
       "    <tr>\n",
       "      <th>496</th>\n",
       "      <td>2019-08-29</td>\n",
       "      <td>B</td>\n",
       "      <td>17708</td>\n",
       "    </tr>\n",
       "    <tr>\n",
       "      <th>730</th>\n",
       "      <td>2019-08-30</td>\n",
       "      <td>A</td>\n",
       "      <td>18037</td>\n",
       "    </tr>\n",
       "    <tr>\n",
       "      <th>690</th>\n",
       "      <td>2019-08-30</td>\n",
       "      <td>B</td>\n",
       "      <td>18198</td>\n",
       "    </tr>\n",
       "    <tr>\n",
       "      <th>958</th>\n",
       "      <td>2019-08-31</td>\n",
       "      <td>A</td>\n",
       "      <td>18736</td>\n",
       "    </tr>\n",
       "    <tr>\n",
       "      <th>930</th>\n",
       "      <td>2019-08-31</td>\n",
       "      <td>B</td>\n",
       "      <td>18916</td>\n",
       "    </tr>\n",
       "  </tbody>\n",
       "</table>\n",
       "<p>62 rows × 3 columns</p>\n",
       "</div>"
      ],
      "text/plain": [
       "          date group  visitors\n",
       "55  2019-08-01     A       719\n",
       "66  2019-08-01     B       713\n",
       "175 2019-08-02     A      1338\n",
       "173 2019-08-02     B      1294\n",
       "291 2019-08-03     A      1845\n",
       "..         ...   ...       ...\n",
       "496 2019-08-29     B     17708\n",
       "730 2019-08-30     A     18037\n",
       "690 2019-08-30     B     18198\n",
       "958 2019-08-31     A     18736\n",
       "930 2019-08-31     B     18916\n",
       "\n",
       "[62 rows x 3 columns]"
      ]
     },
     "execution_count": 21,
     "metadata": {},
     "output_type": "execute_result"
    }
   ],
   "source": [
    "visitorsAggregated = datesGroups.apply(\n",
    "    lambda x: visitors[np.logical_and(visitors['date'] <= x['date'], visitors['group'] == x['group'])]\\\n",
    "    .agg({'date': 'max',\n",
    "          'group': 'max',\n",
    "          'visitors': 'sum'\n",
    "         }),axis=1).sort_values(by=['date', 'group'])\n",
    "\n",
    "visitorsAggregated"
   ]
  },
  {
   "cell_type": "code",
   "execution_count": 22,
   "id": "2a27f243-4534-479c-829c-16fbdcec375d",
   "metadata": {},
   "outputs": [
    {
     "data": {
      "text/html": [
       "<div>\n",
       "<style scoped>\n",
       "    .dataframe tbody tr th:only-of-type {\n",
       "        vertical-align: middle;\n",
       "    }\n",
       "\n",
       "    .dataframe tbody tr th {\n",
       "        vertical-align: top;\n",
       "    }\n",
       "\n",
       "    .dataframe thead th {\n",
       "        text-align: right;\n",
       "    }\n",
       "</style>\n",
       "<table border=\"1\" class=\"dataframe\">\n",
       "  <thead>\n",
       "    <tr style=\"text-align: right;\">\n",
       "      <th></th>\n",
       "      <th>date</th>\n",
       "      <th>group</th>\n",
       "      <th>buyers</th>\n",
       "      <th>orders</th>\n",
       "      <th>revenue</th>\n",
       "      <th>visitors</th>\n",
       "    </tr>\n",
       "  </thead>\n",
       "  <tbody>\n",
       "    <tr>\n",
       "      <th>0</th>\n",
       "      <td>2019-08-01</td>\n",
       "      <td>A</td>\n",
       "      <td>20</td>\n",
       "      <td>24</td>\n",
       "      <td>148579</td>\n",
       "      <td>719</td>\n",
       "    </tr>\n",
       "    <tr>\n",
       "      <th>1</th>\n",
       "      <td>2019-08-01</td>\n",
       "      <td>B</td>\n",
       "      <td>20</td>\n",
       "      <td>21</td>\n",
       "      <td>101217</td>\n",
       "      <td>713</td>\n",
       "    </tr>\n",
       "    <tr>\n",
       "      <th>2</th>\n",
       "      <td>2019-08-02</td>\n",
       "      <td>A</td>\n",
       "      <td>38</td>\n",
       "      <td>44</td>\n",
       "      <td>242401</td>\n",
       "      <td>1338</td>\n",
       "    </tr>\n",
       "    <tr>\n",
       "      <th>3</th>\n",
       "      <td>2019-08-02</td>\n",
       "      <td>B</td>\n",
       "      <td>43</td>\n",
       "      <td>45</td>\n",
       "      <td>266748</td>\n",
       "      <td>1294</td>\n",
       "    </tr>\n",
       "    <tr>\n",
       "      <th>4</th>\n",
       "      <td>2019-08-03</td>\n",
       "      <td>A</td>\n",
       "      <td>62</td>\n",
       "      <td>68</td>\n",
       "      <td>354874</td>\n",
       "      <td>1845</td>\n",
       "    </tr>\n",
       "    <tr>\n",
       "      <th>...</th>\n",
       "      <td>...</td>\n",
       "      <td>...</td>\n",
       "      <td>...</td>\n",
       "      <td>...</td>\n",
       "      <td>...</td>\n",
       "      <td>...</td>\n",
       "    </tr>\n",
       "    <tr>\n",
       "      <th>57</th>\n",
       "      <td>2019-08-29</td>\n",
       "      <td>B</td>\n",
       "      <td>544</td>\n",
       "      <td>596</td>\n",
       "      <td>5559398</td>\n",
       "      <td>17708</td>\n",
       "    </tr>\n",
       "    <tr>\n",
       "      <th>58</th>\n",
       "      <td>2019-08-30</td>\n",
       "      <td>A</td>\n",
       "      <td>493</td>\n",
       "      <td>545</td>\n",
       "      <td>4022970</td>\n",
       "      <td>18037</td>\n",
       "    </tr>\n",
       "    <tr>\n",
       "      <th>59</th>\n",
       "      <td>2019-08-30</td>\n",
       "      <td>B</td>\n",
       "      <td>567</td>\n",
       "      <td>620</td>\n",
       "      <td>5774631</td>\n",
       "      <td>18198</td>\n",
       "    </tr>\n",
       "    <tr>\n",
       "      <th>60</th>\n",
       "      <td>2019-08-31</td>\n",
       "      <td>A</td>\n",
       "      <td>503</td>\n",
       "      <td>557</td>\n",
       "      <td>4084803</td>\n",
       "      <td>18736</td>\n",
       "    </tr>\n",
       "    <tr>\n",
       "      <th>61</th>\n",
       "      <td>2019-08-31</td>\n",
       "      <td>B</td>\n",
       "      <td>586</td>\n",
       "      <td>640</td>\n",
       "      <td>5907760</td>\n",
       "      <td>18916</td>\n",
       "    </tr>\n",
       "  </tbody>\n",
       "</table>\n",
       "<p>62 rows × 6 columns</p>\n",
       "</div>"
      ],
      "text/plain": [
       "         date group  buyers  orders  revenue  visitors\n",
       "0  2019-08-01     A      20      24   148579       719\n",
       "1  2019-08-01     B      20      21   101217       713\n",
       "2  2019-08-02     A      38      44   242401      1338\n",
       "3  2019-08-02     B      43      45   266748      1294\n",
       "4  2019-08-03     A      62      68   354874      1845\n",
       "..        ...   ...     ...     ...      ...       ...\n",
       "57 2019-08-29     B     544     596  5559398     17708\n",
       "58 2019-08-30     A     493     545  4022970     18037\n",
       "59 2019-08-30     B     567     620  5774631     18198\n",
       "60 2019-08-31     A     503     557  4084803     18736\n",
       "61 2019-08-31     B     586     640  5907760     18916\n",
       "\n",
       "[62 rows x 6 columns]"
      ]
     },
     "execution_count": 22,
     "metadata": {},
     "output_type": "execute_result"
    }
   ],
   "source": [
    "cumulativeData = ordersAggregated.merge(visitorsAggregated, left_on=['date', 'group'], right_on=['date', 'group'])\n",
    "cumulativeData.columns = ['date', 'group', 'buyers', 'orders', 'revenue', 'visitors']\n",
    "\n",
    "cumulativeData"
   ]
  },
  {
   "cell_type": "markdown",
   "id": "c9222bb0",
   "metadata": {},
   "source": [
    "Проверим, корректно ли создан датафрейм cummulativeData сравнив даты с исходными:"
   ]
  },
  {
   "cell_type": "code",
   "execution_count": 23,
   "id": "a901117b",
   "metadata": {},
   "outputs": [
    {
     "data": {
      "text/plain": [
       "Timestamp('2019-08-01 00:00:00')"
      ]
     },
     "metadata": {},
     "output_type": "display_data"
    },
    {
     "data": {
      "text/plain": [
       "Timestamp('2019-08-31 00:00:00')"
      ]
     },
     "execution_count": 23,
     "metadata": {},
     "output_type": "execute_result"
    }
   ],
   "source": [
    "display(cumulativeData['date'].min())\n",
    "cumulativeData['date'].max()"
   ]
  },
  {
   "cell_type": "markdown",
   "id": "e3ac3997",
   "metadata": {},
   "source": [
    "Даты совпадают с датами в исходных данных"
   ]
  },
  {
   "cell_type": "code",
   "execution_count": 24,
   "id": "2a1e631f-585a-4add-a795-30cb4f3c0869",
   "metadata": {},
   "outputs": [],
   "source": [
    "cumulativeRevenueA = cumulativeData[cumulativeData['group'] == 'A'][['date', 'revenue', 'orders']]\n",
    "cumulativeRevenueB = cumulativeData[cumulativeData['group'] == 'B'][['date', 'revenue', 'orders']]"
   ]
  },
  {
   "cell_type": "code",
   "execution_count": 25,
   "id": "32fd2b75-a780-4645-86c5-8b3a91739404",
   "metadata": {},
   "outputs": [
    {
     "data": {
      "image/png": "[encoded data removed]",
      "text/plain": [
       "<Figure size 1200x400 with 1 Axes>"
      ]
     },
     "metadata": {},
     "output_type": "display_data"
    }
   ],
   "source": [
    "# составление данных для визуализации\n",
    "plt.figure(figsize=(12,4))\n",
    "plt.plot(cumulativeRevenueA['date'], cumulativeRevenueA['revenue'], label='A', marker='o')\n",
    "plt.plot(cumulativeRevenueB['date'], cumulativeRevenueB['revenue'], label='B', marker='o')\n",
    "plt.legend()\n",
    "plt.grid(True)\n",
    "\n",
    "# получение текущей оси x\n",
    "ax = plt.gca()\n",
    "\n",
    "# сдвиг оси x \n",
    "plt.setp(ax.xaxis.get_majorticklabels(), rotation=45, ha='right')\n",
    "\n",
    "# настройки меток оси x\n",
    "plt.xticks(unique_dates)\n",
    "\n",
    "plt.title('График кумулятивной выручки по группам')\n",
    "plt.xlabel('Дата')\n",
    "plt.ylabel('Выручка в миллионах у.е.');"
   ]
  },
  {
   "cell_type": "markdown",
   "id": "4bb28a5a-b43c-483f-92f0-bd424501b9ec",
   "metadata": {},
   "source": [
    "Разобьём график кумулятивной выручки на периоды:\n",
    "\n",
    "1. **Период 1: 2019-08-01 — 2019-08-05**:\n",
    "\n",
    "- В этот период кумулятивная выручка групп A и B демонстрирует практически идентичные значения. Различия настолько незначительны, что их трудно визуально различить на графике.\n",
    "\n",
    "2. **Период 2: 2019-08-05 — 2019-08-18**:\n",
    "\n",
    "- В течение этого времени кумулятивная выручка группы B начинает опережать группу A. За исключением кратковременного выравнивания значений 13 августа 2019 года, группа B остаётся лидером. Это говорит о том, что группа B демонстрирует лучшие результаты, возможно, за счёт более успешных действий или факторов.\n",
    "\n",
    "3. **Период 3: 2019-08-18 — до конца исследуемого периода**:\n",
    "\n",
    "- C 18 по 19 августа 2019 года наблюдается резкий скачок кумулятивной выручки группы B. Причина может быть связана с проведением акции или другим значимым событием, которое повлияло на выручку. С этого момента кумулятивная выручка группы B продолжает значительно превышать результаты группы A.\n",
    "\n",
    "**Вывод**:\n",
    "\n",
    "Кумулятивная выручка обеих групп продолжает расти на протяжении всего исследуемого периода, что является ожидаемым результатом.\n",
    "\n",
    "Группа B показала лучшие результаты по сравнению с группой A. Эти результаты свидетельствуют о том, что условия теста, применённые к группе B, оказали более положительное влияние на пользователей, что со временем привело к значительному увеличению выручки."
   ]
  },
  {
   "cell_type": "markdown",
   "id": "fe9ec049-d588-477c-a582-97d8c647534e",
   "metadata": {},
   "source": [
    "## График кумулятивного среднего чека по группам"
   ]
  },
  {
   "cell_type": "code",
   "execution_count": 26,
   "id": "18c3026e-7d79-4a76-a2de-a6014e30c1ff",
   "metadata": {},
   "outputs": [
    {
     "data": {
      "image/png": "[encoded data removed]",
      "text/plain": [
       "<Figure size 1200x400 with 1 Axes>"
      ]
     },
     "metadata": {},
     "output_type": "display_data"
    }
   ],
   "source": [
    "# составление данных для визуализации\n",
    "plt.figure(figsize=(12,4))\n",
    "plt.plot(cumulativeRevenueA['date'], cumulativeRevenueA['revenue']/cumulativeRevenueA['orders'], label='A', marker='o')\n",
    "plt.plot(cumulativeRevenueB['date'], cumulativeRevenueB['revenue']/cumulativeRevenueB['orders'], label='B', marker='o')\n",
    "plt.legend()\n",
    "plt.grid(True)\n",
    "\n",
    "# получение текущей оси x\n",
    "ax = plt.gca()\n",
    "\n",
    "# сдвиг оси x \n",
    "plt.setp(ax.xaxis.get_majorticklabels(), rotation=45, ha='right')\n",
    "\n",
    "# настройки меток оси x\n",
    "plt.xticks(unique_dates)\n",
    "\n",
    "plt.title('График кумулятивного среднего чека по группам')\n",
    "plt.xlabel('Дата')\n",
    "plt.ylabel('Средний чек');"
   ]
  },
  {
   "cell_type": "markdown",
   "id": "a30d7952-e523-4848-afa3-71edee5f4367",
   "metadata": {},
   "source": [
    "Разобьём график кумулятивной выручки на периоды:\n",
    "\n",
    "1. **Период 1: 2019-08-01 — 2019-08-18**:\n",
    "\n",
    "- В группе A наблюдается начальное снижение среднего чека с 1 по 6 августа 2019 года, за которым следует постепенный рост, который достиг пикового значения 12 августа 2019 года. С 12 по 18 августа средний чек снижается незначительно.\n",
    "- В этот период кумулятивный средний чек группы B имеет нестабильные показатели - в первые дни чек растет, но в дальнейшем остаётся примерно на одном уровне. Скачки могут связаны с большими покупками в определенные дни.\n",
    "\n",
    "3. **Период 3: 2019-08-18 — до конца исследуемого периода**:\n",
    "\n",
    "- С 18 августа по конец исследуемого периода средний чек группы А находится на одном уровне\n",
    "- 18 августа 2019 года наблюдается такой же резкий скачок среднего чека группы B. Возможные причины всё те же - возможное проведение акции или значимого события. Средний чек группы B немного уменьшается с 19 августа 2019 года, что может говорить о том, что покупателей по акции становится меньше. Покупатели, наиболее заинтересованные в предложении, сделали свои покупки в первый дни.\n",
    "\n",
    "\n",
    "**Вывод**:\n",
    "\n",
    "\n",
    "Средний чек в группе A сначала снизился, а затем начал расти, что может указывать на постепенную адаптацию пользователей к изменениям. В группе B чек сначала рос стабильно, затем резко увеличился и после этого начал снижаться, что может свидетельствовать о краткосрочном эффекте, например, от акции."
   ]
  },
  {
   "cell_type": "code",
   "execution_count": 27,
   "id": "a1cb58de-e9c0-4532-bd58-22b8ea794fe8",
   "metadata": {},
   "outputs": [
    {
     "data": {
      "text/html": [
       "<div>\n",
       "<style scoped>\n",
       "    .dataframe tbody tr th:only-of-type {\n",
       "        vertical-align: middle;\n",
       "    }\n",
       "\n",
       "    .dataframe tbody tr th {\n",
       "        vertical-align: top;\n",
       "    }\n",
       "\n",
       "    .dataframe thead th {\n",
       "        text-align: right;\n",
       "    }\n",
       "</style>\n",
       "<table border=\"1\" class=\"dataframe\">\n",
       "  <thead>\n",
       "    <tr style=\"text-align: right;\">\n",
       "      <th></th>\n",
       "      <th>date</th>\n",
       "      <th>group</th>\n",
       "      <th>revenue</th>\n",
       "    </tr>\n",
       "  </thead>\n",
       "  <tbody>\n",
       "    <tr>\n",
       "      <th>0</th>\n",
       "      <td>2019-08-01</td>\n",
       "      <td>A</td>\n",
       "      <td>148579</td>\n",
       "    </tr>\n",
       "    <tr>\n",
       "      <th>1</th>\n",
       "      <td>2019-08-01</td>\n",
       "      <td>B</td>\n",
       "      <td>101217</td>\n",
       "    </tr>\n",
       "    <tr>\n",
       "      <th>2</th>\n",
       "      <td>2019-08-02</td>\n",
       "      <td>A</td>\n",
       "      <td>242401</td>\n",
       "    </tr>\n",
       "    <tr>\n",
       "      <th>3</th>\n",
       "      <td>2019-08-02</td>\n",
       "      <td>B</td>\n",
       "      <td>266748</td>\n",
       "    </tr>\n",
       "    <tr>\n",
       "      <th>4</th>\n",
       "      <td>2019-08-03</td>\n",
       "      <td>A</td>\n",
       "      <td>354874</td>\n",
       "    </tr>\n",
       "    <tr>\n",
       "      <th>...</th>\n",
       "      <td>...</td>\n",
       "      <td>...</td>\n",
       "      <td>...</td>\n",
       "    </tr>\n",
       "    <tr>\n",
       "      <th>57</th>\n",
       "      <td>2019-08-29</td>\n",
       "      <td>B</td>\n",
       "      <td>5559398</td>\n",
       "    </tr>\n",
       "    <tr>\n",
       "      <th>58</th>\n",
       "      <td>2019-08-30</td>\n",
       "      <td>A</td>\n",
       "      <td>4022970</td>\n",
       "    </tr>\n",
       "    <tr>\n",
       "      <th>59</th>\n",
       "      <td>2019-08-30</td>\n",
       "      <td>B</td>\n",
       "      <td>5774631</td>\n",
       "    </tr>\n",
       "    <tr>\n",
       "      <th>60</th>\n",
       "      <td>2019-08-31</td>\n",
       "      <td>A</td>\n",
       "      <td>4084803</td>\n",
       "    </tr>\n",
       "    <tr>\n",
       "      <th>61</th>\n",
       "      <td>2019-08-31</td>\n",
       "      <td>B</td>\n",
       "      <td>5907760</td>\n",
       "    </tr>\n",
       "  </tbody>\n",
       "</table>\n",
       "<p>62 rows × 3 columns</p>\n",
       "</div>"
      ],
      "text/plain": [
       "         date group  revenue\n",
       "0  2019-08-01     A   148579\n",
       "1  2019-08-01     B   101217\n",
       "2  2019-08-02     A   242401\n",
       "3  2019-08-02     B   266748\n",
       "4  2019-08-03     A   354874\n",
       "..        ...   ...      ...\n",
       "57 2019-08-29     B  5559398\n",
       "58 2019-08-30     A  4022970\n",
       "59 2019-08-30     B  5774631\n",
       "60 2019-08-31     A  4084803\n",
       "61 2019-08-31     B  5907760\n",
       "\n",
       "[62 rows x 3 columns]"
      ]
     },
     "execution_count": 27,
     "metadata": {},
     "output_type": "execute_result"
    }
   ],
   "source": [
    "# кумулятивная выручка\n",
    "cumulative_revenue = orders.groupby(['date', 'group'])\\\n",
    ".agg({'revenue': 'sum'}).groupby('group').cumsum().reset_index()\n",
    "\n",
    "cumulative_revenue"
   ]
  },
  {
   "cell_type": "markdown",
   "id": "2774bcab-b65a-4bde-9756-89d9a606ea27",
   "metadata": {},
   "source": [
    "## График относительного изменения кумулятивного среднего чека (группа B к группе A)"
   ]
  },
  {
   "cell_type": "code",
   "execution_count": 28,
   "id": "364526a8-75ad-41d7-91a3-85b19863db6c",
   "metadata": {},
   "outputs": [
    {
     "data": {
      "text/html": [
       "<div>\n",
       "<style scoped>\n",
       "    .dataframe tbody tr th:only-of-type {\n",
       "        vertical-align: middle;\n",
       "    }\n",
       "\n",
       "    .dataframe tbody tr th {\n",
       "        vertical-align: top;\n",
       "    }\n",
       "\n",
       "    .dataframe thead th {\n",
       "        text-align: right;\n",
       "    }\n",
       "</style>\n",
       "<table border=\"1\" class=\"dataframe\">\n",
       "  <thead>\n",
       "    <tr style=\"text-align: right;\">\n",
       "      <th></th>\n",
       "      <th>date</th>\n",
       "      <th>revenueA</th>\n",
       "      <th>ordersA</th>\n",
       "      <th>revenueB</th>\n",
       "      <th>ordersB</th>\n",
       "    </tr>\n",
       "  </thead>\n",
       "  <tbody>\n",
       "    <tr>\n",
       "      <th>0</th>\n",
       "      <td>2019-08-01</td>\n",
       "      <td>148579</td>\n",
       "      <td>24</td>\n",
       "      <td>101217</td>\n",
       "      <td>21</td>\n",
       "    </tr>\n",
       "    <tr>\n",
       "      <th>1</th>\n",
       "      <td>2019-08-02</td>\n",
       "      <td>242401</td>\n",
       "      <td>44</td>\n",
       "      <td>266748</td>\n",
       "      <td>45</td>\n",
       "    </tr>\n",
       "    <tr>\n",
       "      <th>2</th>\n",
       "      <td>2019-08-03</td>\n",
       "      <td>354874</td>\n",
       "      <td>68</td>\n",
       "      <td>380996</td>\n",
       "      <td>61</td>\n",
       "    </tr>\n",
       "    <tr>\n",
       "      <th>3</th>\n",
       "      <td>2019-08-04</td>\n",
       "      <td>425699</td>\n",
       "      <td>84</td>\n",
       "      <td>489567</td>\n",
       "      <td>78</td>\n",
       "    </tr>\n",
       "    <tr>\n",
       "      <th>4</th>\n",
       "      <td>2019-08-05</td>\n",
       "      <td>549917</td>\n",
       "      <td>109</td>\n",
       "      <td>581995</td>\n",
       "      <td>101</td>\n",
       "    </tr>\n",
       "  </tbody>\n",
       "</table>\n",
       "</div>"
      ],
      "text/plain": [
       "        date  revenueA  ordersA  revenueB  ordersB\n",
       "0 2019-08-01    148579       24    101217       21\n",
       "1 2019-08-02    242401       44    266748       45\n",
       "2 2019-08-03    354874       68    380996       61\n",
       "3 2019-08-04    425699       84    489567       78\n",
       "4 2019-08-05    549917      109    581995      101"
      ]
     },
     "execution_count": 28,
     "metadata": {},
     "output_type": "execute_result"
    }
   ],
   "source": [
    "# составление данных для визуализации\n",
    "mergedCumulativeRevenue = cumulativeRevenueA.merge(cumulativeRevenueB, left_on='date', right_on='date', how='left', suffixes=['A', 'B'])\n",
    "\n",
    "mergedCumulativeRevenue.head()"
   ]
  },
  {
   "cell_type": "code",
   "execution_count": 29,
   "id": "e9f4f68a-b448-441f-8021-5fab720c3123",
   "metadata": {},
   "outputs": [
    {
     "data": {
      "image/png": "[encoded data removed]",
      "text/plain": [
       "<Figure size 1200x400 with 1 Axes>"
      ]
     },
     "metadata": {},
     "output_type": "display_data"
    }
   ],
   "source": [
    "# построение графика\n",
    "plt.figure(figsize=(12,4))\n",
    "plt.plot(mergedCumulativeRevenue['date'], (mergedCumulativeRevenue['revenueB']/mergedCumulativeRevenue['ordersB'])/(mergedCumulativeRevenue['revenueA']/mergedCumulativeRevenue['ordersA'])-1, marker='o')\n",
    "plt.grid(True)\n",
    "\n",
    "plt.axhline(y=0, color='black', linestyle='--')\n",
    "\n",
    "# получение текущей оси x\n",
    "ax = plt.gca()\n",
    "\n",
    "# сдвиг оси x \n",
    "plt.setp(ax.xaxis.get_majorticklabels(), rotation=45, ha='right')\n",
    "\n",
    "# настройки меток оси x\n",
    "plt.xticks(unique_dates)\n",
    "\n",
    "# именование графика и осей\n",
    "plt.title('График относительного изменения кумулятивного среднего чека:\\n группа В к группе А')\n",
    "plt.xlabel('Дата')\n",
    "plt.ylabel('Изменение среднего чека');"
   ]
  },
  {
   "cell_type": "markdown",
   "id": "6182548f-e6ef-4834-afa9-0a2949e64357",
   "metadata": {},
   "source": [
    "На полученом графике относительного изменения кумулятивного срднего чека показано сравнение групп с 1 по 31 августа.\n",
    "\n",
    "- Начало периода - наблюдается резкий рост среднего чека группы B, в сравнении с группой A\n",
    "- Середина периода - происходит значительное падение, где на небольшой промежуток времени группа A превосходит группу B\n",
    "- Конец периода - наблюдается резкий скачок среднего чека группы B, где на протяжении всего оставшегося времени группа B является лидирующей, относительно группы A"
   ]
  },
  {
   "cell_type": "markdown",
   "id": "5a8a8be2-9fe5-4252-8c8d-5a258501c943",
   "metadata": {},
   "source": [
    "## График кумулятивного среднего количества заказов на посетителя по группам"
   ]
  },
  {
   "cell_type": "code",
   "execution_count": 30,
   "id": "05e7d2a0-f45d-4166-a81f-bd7180713c6c",
   "metadata": {},
   "outputs": [
    {
     "data": {
      "text/html": [
       "<div>\n",
       "<style scoped>\n",
       "    .dataframe tbody tr th:only-of-type {\n",
       "        vertical-align: middle;\n",
       "    }\n",
       "\n",
       "    .dataframe tbody tr th {\n",
       "        vertical-align: top;\n",
       "    }\n",
       "\n",
       "    .dataframe thead th {\n",
       "        text-align: right;\n",
       "    }\n",
       "</style>\n",
       "<table border=\"1\" class=\"dataframe\">\n",
       "  <thead>\n",
       "    <tr style=\"text-align: right;\">\n",
       "      <th></th>\n",
       "      <th>date</th>\n",
       "      <th>group</th>\n",
       "      <th>buyers</th>\n",
       "      <th>orders</th>\n",
       "      <th>revenue</th>\n",
       "      <th>visitors</th>\n",
       "      <th>orderspervisitor</th>\n",
       "    </tr>\n",
       "  </thead>\n",
       "  <tbody>\n",
       "    <tr>\n",
       "      <th>0</th>\n",
       "      <td>2019-08-01</td>\n",
       "      <td>A</td>\n",
       "      <td>20</td>\n",
       "      <td>24</td>\n",
       "      <td>148579</td>\n",
       "      <td>719</td>\n",
       "      <td>0.03</td>\n",
       "    </tr>\n",
       "    <tr>\n",
       "      <th>2</th>\n",
       "      <td>2019-08-02</td>\n",
       "      <td>A</td>\n",
       "      <td>38</td>\n",
       "      <td>44</td>\n",
       "      <td>242401</td>\n",
       "      <td>1338</td>\n",
       "      <td>0.03</td>\n",
       "    </tr>\n",
       "    <tr>\n",
       "      <th>4</th>\n",
       "      <td>2019-08-03</td>\n",
       "      <td>A</td>\n",
       "      <td>62</td>\n",
       "      <td>68</td>\n",
       "      <td>354874</td>\n",
       "      <td>1845</td>\n",
       "      <td>0.04</td>\n",
       "    </tr>\n",
       "    <tr>\n",
       "      <th>6</th>\n",
       "      <td>2019-08-04</td>\n",
       "      <td>A</td>\n",
       "      <td>77</td>\n",
       "      <td>84</td>\n",
       "      <td>425699</td>\n",
       "      <td>2562</td>\n",
       "      <td>0.03</td>\n",
       "    </tr>\n",
       "    <tr>\n",
       "      <th>8</th>\n",
       "      <td>2019-08-05</td>\n",
       "      <td>A</td>\n",
       "      <td>100</td>\n",
       "      <td>109</td>\n",
       "      <td>549917</td>\n",
       "      <td>3318</td>\n",
       "      <td>0.03</td>\n",
       "    </tr>\n",
       "  </tbody>\n",
       "</table>\n",
       "</div>"
      ],
      "text/plain": [
       "        date group  buyers  orders  revenue  visitors  orderspervisitor\n",
       "0 2019-08-01     A      20      24   148579       719              0.03\n",
       "2 2019-08-02     A      38      44   242401      1338              0.03\n",
       "4 2019-08-03     A      62      68   354874      1845              0.04\n",
       "6 2019-08-04     A      77      84   425699      2562              0.03\n",
       "8 2019-08-05     A     100     109   549917      3318              0.03"
      ]
     },
     "metadata": {},
     "output_type": "display_data"
    },
    {
     "data": {
      "text/html": [
       "<div>\n",
       "<style scoped>\n",
       "    .dataframe tbody tr th:only-of-type {\n",
       "        vertical-align: middle;\n",
       "    }\n",
       "\n",
       "    .dataframe tbody tr th {\n",
       "        vertical-align: top;\n",
       "    }\n",
       "\n",
       "    .dataframe thead th {\n",
       "        text-align: right;\n",
       "    }\n",
       "</style>\n",
       "<table border=\"1\" class=\"dataframe\">\n",
       "  <thead>\n",
       "    <tr style=\"text-align: right;\">\n",
       "      <th></th>\n",
       "      <th>date</th>\n",
       "      <th>group</th>\n",
       "      <th>buyers</th>\n",
       "      <th>orders</th>\n",
       "      <th>revenue</th>\n",
       "      <th>visitors</th>\n",
       "      <th>orderspervisitor</th>\n",
       "    </tr>\n",
       "  </thead>\n",
       "  <tbody>\n",
       "    <tr>\n",
       "      <th>1</th>\n",
       "      <td>2019-08-01</td>\n",
       "      <td>B</td>\n",
       "      <td>20</td>\n",
       "      <td>21</td>\n",
       "      <td>101217</td>\n",
       "      <td>713</td>\n",
       "      <td>0.03</td>\n",
       "    </tr>\n",
       "    <tr>\n",
       "      <th>3</th>\n",
       "      <td>2019-08-02</td>\n",
       "      <td>B</td>\n",
       "      <td>43</td>\n",
       "      <td>45</td>\n",
       "      <td>266748</td>\n",
       "      <td>1294</td>\n",
       "      <td>0.03</td>\n",
       "    </tr>\n",
       "    <tr>\n",
       "      <th>5</th>\n",
       "      <td>2019-08-03</td>\n",
       "      <td>B</td>\n",
       "      <td>59</td>\n",
       "      <td>61</td>\n",
       "      <td>380996</td>\n",
       "      <td>1803</td>\n",
       "      <td>0.03</td>\n",
       "    </tr>\n",
       "    <tr>\n",
       "      <th>7</th>\n",
       "      <td>2019-08-04</td>\n",
       "      <td>B</td>\n",
       "      <td>75</td>\n",
       "      <td>78</td>\n",
       "      <td>489567</td>\n",
       "      <td>2573</td>\n",
       "      <td>0.03</td>\n",
       "    </tr>\n",
       "    <tr>\n",
       "      <th>9</th>\n",
       "      <td>2019-08-05</td>\n",
       "      <td>B</td>\n",
       "      <td>98</td>\n",
       "      <td>101</td>\n",
       "      <td>581995</td>\n",
       "      <td>3280</td>\n",
       "      <td>0.03</td>\n",
       "    </tr>\n",
       "  </tbody>\n",
       "</table>\n",
       "</div>"
      ],
      "text/plain": [
       "        date group  buyers  orders  revenue  visitors  orderspervisitor\n",
       "1 2019-08-01     B      20      21   101217       713              0.03\n",
       "3 2019-08-02     B      43      45   266748      1294              0.03\n",
       "5 2019-08-03     B      59      61   380996      1803              0.03\n",
       "7 2019-08-04     B      75      78   489567      2573              0.03\n",
       "9 2019-08-05     B      98     101   581995      3280              0.03"
      ]
     },
     "execution_count": 30,
     "metadata": {},
     "output_type": "execute_result"
    }
   ],
   "source": [
    "# считаем среднее количество заказов на посетителя\n",
    "cumulativeData['orderspervisitor'] = cumulativeData['orders']/cumulativeData['visitors']\n",
    "\n",
    "# отделяем данные по группе A\n",
    "cumulativeDataA = cumulativeData[cumulativeData['group']=='A']\n",
    "\n",
    "# отделяем данные по группе B\n",
    "cumulativeDataB = cumulativeData[cumulativeData['group']=='B']\n",
    "\n",
    "# выводим данные по группам\n",
    "display(cumulativeDataA.head())\n",
    "cumulativeDataB.head()"
   ]
  },
  {
   "cell_type": "code",
   "execution_count": 31,
   "id": "425877dc-83e0-4b02-b7a9-05349595b64d",
   "metadata": {},
   "outputs": [
    {
     "data": {
      "image/png": "[encoded data removed]",
      "text/plain": [
       "<Figure size 1200x400 with 1 Axes>"
      ]
     },
     "metadata": {},
     "output_type": "display_data"
    }
   ],
   "source": [
    "# построение графика\n",
    "plt.figure(figsize=(12,4))\n",
    "plt.plot(cumulativeDataA['date'], cumulativeDataA['orderspervisitor'], label='A', marker='o')\n",
    "plt.plot(cumulativeDataB['date'], cumulativeDataB['orderspervisitor'], label='B', marker='o')\n",
    "plt.legend()\n",
    "plt.grid(True)\n",
    "\n",
    "# получение текущей оси x\n",
    "ax = plt.gca()\n",
    "\n",
    "# сдвиг оси x \n",
    "plt.setp(ax.xaxis.get_majorticklabels(), rotation=45, ha='right')\n",
    "\n",
    "# настройки меток оси x\n",
    "plt.xticks(unique_dates);\n",
    "\n",
    "# именование графика и осей\n",
    "plt.title('График кумулятивного среднего количества заказов на посетителя по группам')\n",
    "plt.xlabel('Дата')\n",
    "plt.ylabel('Среднее кол-во заказов на посетителя');"
   ]
  },
  {
   "cell_type": "markdown",
   "id": "92da18ca-29f6-4c44-afe2-9f247260f79d",
   "metadata": {},
   "source": [
    "Полученный нами график кумулятивного среднего количества заказов по группам можно поделить на два периода:\n",
    "- Начало периода - у обеих групп происходят скачки среднего количества заказов, и в определенный момент группа A становится лидерам по этому значению\n",
    "- Середина периода - к 6 августа лидером становится группа B и набирает явное преимущество, относительно группы A, которая демонстрирует снижение значения.\n",
    "- Конец периода - с середины и по конец изучаемого периода среднее количество заказов в обоих группах остаётся примерно на одном и том же уровне.\n",
    "\n",
    "Вероятно все эти скачки связаны с выбросами в исследуемых данных, но общая картина видна в любом случае - группа B является несомненным лидером."
   ]
  },
  {
   "cell_type": "markdown",
   "id": "6202fb96-b4c2-4b3f-b32a-25a38048814a",
   "metadata": {},
   "source": [
    "## График относительного изменения кумулятивного среднего количества заказов на посетителя (группа B к группе A)"
   ]
  },
  {
   "cell_type": "code",
   "execution_count": 32,
   "id": "1a5f083d-91c1-4dbf-b025-adeb3870b95b",
   "metadata": {},
   "outputs": [
    {
     "data": {
      "text/html": [
       "<div>\n",
       "<style scoped>\n",
       "    .dataframe tbody tr th:only-of-type {\n",
       "        vertical-align: middle;\n",
       "    }\n",
       "\n",
       "    .dataframe tbody tr th {\n",
       "        vertical-align: top;\n",
       "    }\n",
       "\n",
       "    .dataframe thead th {\n",
       "        text-align: right;\n",
       "    }\n",
       "</style>\n",
       "<table border=\"1\" class=\"dataframe\">\n",
       "  <thead>\n",
       "    <tr style=\"text-align: right;\">\n",
       "      <th></th>\n",
       "      <th>date</th>\n",
       "      <th>groupA</th>\n",
       "      <th>buyersA</th>\n",
       "      <th>ordersA</th>\n",
       "      <th>revenueA</th>\n",
       "      <th>visitorsA</th>\n",
       "      <th>orderspervisitorA</th>\n",
       "      <th>groupB</th>\n",
       "      <th>buyersB</th>\n",
       "      <th>ordersB</th>\n",
       "      <th>revenueB</th>\n",
       "      <th>visitorsB</th>\n",
       "      <th>orderspervisitorB</th>\n",
       "    </tr>\n",
       "  </thead>\n",
       "  <tbody>\n",
       "    <tr>\n",
       "      <th>0</th>\n",
       "      <td>2019-08-01</td>\n",
       "      <td>A</td>\n",
       "      <td>20</td>\n",
       "      <td>24</td>\n",
       "      <td>148579</td>\n",
       "      <td>719</td>\n",
       "      <td>0.03</td>\n",
       "      <td>B</td>\n",
       "      <td>20</td>\n",
       "      <td>21</td>\n",
       "      <td>101217</td>\n",
       "      <td>713</td>\n",
       "      <td>0.03</td>\n",
       "    </tr>\n",
       "    <tr>\n",
       "      <th>1</th>\n",
       "      <td>2019-08-02</td>\n",
       "      <td>A</td>\n",
       "      <td>38</td>\n",
       "      <td>44</td>\n",
       "      <td>242401</td>\n",
       "      <td>1338</td>\n",
       "      <td>0.03</td>\n",
       "      <td>B</td>\n",
       "      <td>43</td>\n",
       "      <td>45</td>\n",
       "      <td>266748</td>\n",
       "      <td>1294</td>\n",
       "      <td>0.03</td>\n",
       "    </tr>\n",
       "    <tr>\n",
       "      <th>2</th>\n",
       "      <td>2019-08-03</td>\n",
       "      <td>A</td>\n",
       "      <td>62</td>\n",
       "      <td>68</td>\n",
       "      <td>354874</td>\n",
       "      <td>1845</td>\n",
       "      <td>0.04</td>\n",
       "      <td>B</td>\n",
       "      <td>59</td>\n",
       "      <td>61</td>\n",
       "      <td>380996</td>\n",
       "      <td>1803</td>\n",
       "      <td>0.03</td>\n",
       "    </tr>\n",
       "    <tr>\n",
       "      <th>3</th>\n",
       "      <td>2019-08-04</td>\n",
       "      <td>A</td>\n",
       "      <td>77</td>\n",
       "      <td>84</td>\n",
       "      <td>425699</td>\n",
       "      <td>2562</td>\n",
       "      <td>0.03</td>\n",
       "      <td>B</td>\n",
       "      <td>75</td>\n",
       "      <td>78</td>\n",
       "      <td>489567</td>\n",
       "      <td>2573</td>\n",
       "      <td>0.03</td>\n",
       "    </tr>\n",
       "    <tr>\n",
       "      <th>4</th>\n",
       "      <td>2019-08-05</td>\n",
       "      <td>A</td>\n",
       "      <td>100</td>\n",
       "      <td>109</td>\n",
       "      <td>549917</td>\n",
       "      <td>3318</td>\n",
       "      <td>0.03</td>\n",
       "      <td>B</td>\n",
       "      <td>98</td>\n",
       "      <td>101</td>\n",
       "      <td>581995</td>\n",
       "      <td>3280</td>\n",
       "      <td>0.03</td>\n",
       "    </tr>\n",
       "  </tbody>\n",
       "</table>\n",
       "</div>"
      ],
      "text/plain": [
       "        date groupA  buyersA  ordersA  revenueA  visitorsA  orderspervisitorA  \\\n",
       "0 2019-08-01      A       20       24    148579        719               0.03   \n",
       "1 2019-08-02      A       38       44    242401       1338               0.03   \n",
       "2 2019-08-03      A       62       68    354874       1845               0.04   \n",
       "3 2019-08-04      A       77       84    425699       2562               0.03   \n",
       "4 2019-08-05      A      100      109    549917       3318               0.03   \n",
       "\n",
       "  groupB  buyersB  ordersB  revenueB  visitorsB  orderspervisitorB  \n",
       "0      B       20       21    101217        713               0.03  \n",
       "1      B       43       45    266748       1294               0.03  \n",
       "2      B       59       61    380996       1803               0.03  \n",
       "3      B       75       78    489567       2573               0.03  \n",
       "4      B       98      101    581995       3280               0.03  "
      ]
     },
     "execution_count": 32,
     "metadata": {},
     "output_type": "execute_result"
    }
   ],
   "source": [
    "# объединим таблицы cumulativeDataA и cumulativeDataB\n",
    "mergedCumulativeConversions = cumulativeDataA.merge(cumulativeDataB, left_on='date', right_on='date', how='left', suffixes=['A', 'B'])\n",
    "\n",
    "# вывод данных\n",
    "mergedCumulativeConversions.head()"
   ]
  },
  {
   "cell_type": "code",
   "execution_count": 33,
   "id": "50dd1d9e-e9c7-4cbf-a079-5e0c9dc511a7",
   "metadata": {},
   "outputs": [
    {
     "data": {
      "image/png": "[encoded data removed]",
      "text/plain": [
       "<Figure size 1200x500 with 1 Axes>"
      ]
     },
     "metadata": {},
     "output_type": "display_data"
    }
   ],
   "source": [
    "# визуализация данных\n",
    "plt.figure(figsize=(12,5))\n",
    "plt.plot(mergedCumulativeConversions['date'], mergedCumulativeConversions['orderspervisitorB']/mergedCumulativeConversions['orderspervisitorA'] -1, marker='o')\n",
    "plt.axhline(y=0, color='pink', linestyle='--')\n",
    "plt.axhline(y=-0.1, color='grey', linestyle='--')\n",
    "plt.grid(True)\n",
    "\n",
    "# получение текущей оси x\n",
    "ax = plt.gca()\n",
    "\n",
    "# сдвиг оси x \n",
    "plt.setp(ax.xaxis.get_majorticklabels(), rotation=45, ha='right')\n",
    "\n",
    "# настройки меток оси x\n",
    "plt.xticks(unique_dates)\n",
    "\n",
    "# именование графика и осей\n",
    "plt.title('График относительного изменения кумулятивного среднего количества заказов на посетителя:\\nгруппа B к группе A')\n",
    "plt.xlabel('Дата')\n",
    "plt.ylabel('Изменения ср. кол-ва заказов на посетителя');"
   ]
  },
  {
   "cell_type": "markdown",
   "id": "7601e2fb-ae8e-406d-8ae5-da3dbb3c8ae5",
   "metadata": {},
   "source": [
    "Рассмотрев график относительного изменения кумулятивного среднего количества заказов можно заметить, как в начале периода имеется резкий скачок среднего количества заказов с -0.1 до 0.05, таких скачков на графике больше нет. Сложно сказать, чем конкретно обусловлен так скачок, вероятно при фильтрации данных мы сможем визуализировать картину более точно. Если же рассматривать данные в следующие дни, то можно с уверенностью сказать, что с начала до середины изучаемого периода средний чек группы B растёт по отношению к группе A. С середины по конец изучаемого периода средний чек остаётся примерно на одном и том же уровне разницы с группой A."
   ]
  },
  {
   "cell_type": "markdown",
   "id": "4c954b12-2e2c-4234-951e-4debb0e307d5",
   "metadata": {},
   "source": [
    "## Точечный график количества заказов по пользователям"
   ]
  },
  {
   "cell_type": "code",
   "execution_count": 34,
   "id": "f650a4c8-94f4-41b4-9270-a07b52b59462",
   "metadata": {},
   "outputs": [
    {
     "data": {
      "image/png": "[encoded data removed]",
      "text/plain": [
       "<Figure size 600x500 with 1 Axes>"
      ]
     },
     "metadata": {},
     "output_type": "display_data"
    }
   ],
   "source": [
    "# подготовка данных\n",
    "data = orders.groupby('visitorid', as_index=False)['transactionid'].nunique()\n",
    "data.columns=['users', 'orders']\n",
    "\n",
    "# построение диаграммы рассеяния\n",
    "plt.figure(figsize=(6,5))\n",
    "plt.scatter(data['users'], data['orders'], marker='.')\n",
    "plt.grid(True)\n",
    "\n",
    "# настройки меток оси y\n",
    "plt.yticks(np.arange(0, 12, step=1))\n",
    "\n",
    "# именование диаграммы рассеяния и ее осей\n",
    "plt.title('Точечный график количества заказов по пользователям')\n",
    "plt.xlabel('Пользователи')\n",
    "plt.ylabel('Количество заказов');"
   ]
  },
  {
   "cell_type": "markdown",
   "id": "bc4a7db5-a459-4fb7-b0ab-b777bec49573",
   "metadata": {},
   "source": [
    "Выведем информацию о процентном соотношении количества покупок к общему числу покупок."
   ]
  },
  {
   "cell_type": "code",
   "execution_count": 35,
   "id": "a465c17b-ae2b-496b-9650-7052c16d2448",
   "metadata": {},
   "outputs": [
    {
     "data": {
      "text/html": [
       "<div>\n",
       "<style scoped>\n",
       "    .dataframe tbody tr th:only-of-type {\n",
       "        vertical-align: middle;\n",
       "    }\n",
       "\n",
       "    .dataframe tbody tr th {\n",
       "        vertical-align: top;\n",
       "    }\n",
       "\n",
       "    .dataframe thead th {\n",
       "        text-align: right;\n",
       "    }\n",
       "</style>\n",
       "<table border=\"1\" class=\"dataframe\">\n",
       "  <thead>\n",
       "    <tr style=\"text-align: right;\">\n",
       "      <th></th>\n",
       "      <th>orders</th>\n",
       "      <th>users</th>\n",
       "      <th>percentage</th>\n",
       "    </tr>\n",
       "  </thead>\n",
       "  <tbody>\n",
       "    <tr>\n",
       "      <th>0</th>\n",
       "      <td>1</td>\n",
       "      <td>937</td>\n",
       "      <td>90.88</td>\n",
       "    </tr>\n",
       "    <tr>\n",
       "      <th>1</th>\n",
       "      <td>2</td>\n",
       "      <td>64</td>\n",
       "      <td>6.21</td>\n",
       "    </tr>\n",
       "    <tr>\n",
       "      <th>2</th>\n",
       "      <td>3</td>\n",
       "      <td>17</td>\n",
       "      <td>1.65</td>\n",
       "    </tr>\n",
       "    <tr>\n",
       "      <th>3</th>\n",
       "      <td>4</td>\n",
       "      <td>3</td>\n",
       "      <td>0.29</td>\n",
       "    </tr>\n",
       "    <tr>\n",
       "      <th>4</th>\n",
       "      <td>5</td>\n",
       "      <td>6</td>\n",
       "      <td>0.58</td>\n",
       "    </tr>\n",
       "    <tr>\n",
       "      <th>5</th>\n",
       "      <td>8</td>\n",
       "      <td>1</td>\n",
       "      <td>0.10</td>\n",
       "    </tr>\n",
       "    <tr>\n",
       "      <th>6</th>\n",
       "      <td>9</td>\n",
       "      <td>1</td>\n",
       "      <td>0.10</td>\n",
       "    </tr>\n",
       "    <tr>\n",
       "      <th>7</th>\n",
       "      <td>11</td>\n",
       "      <td>2</td>\n",
       "      <td>0.19</td>\n",
       "    </tr>\n",
       "  </tbody>\n",
       "</table>\n",
       "</div>"
      ],
      "text/plain": [
       "   orders  users  percentage\n",
       "0       1    937       90.88\n",
       "1       2     64        6.21\n",
       "2       3     17        1.65\n",
       "3       4      3        0.29\n",
       "4       5      6        0.58\n",
       "5       8      1        0.10\n",
       "6       9      1        0.10\n",
       "7      11      2        0.19"
      ]
     },
     "execution_count": 35,
     "metadata": {},
     "output_type": "execute_result"
    }
   ],
   "source": [
    "# создание сводной таблицы\n",
    "grouped_data = data.pivot_table(\n",
    "    index='orders',\n",
    "    values='users',\n",
    "    aggfunc='count'\n",
    ").reset_index()\n",
    "\n",
    "# добавление столбца процентного соотношения\n",
    "grouped_data['percentage'] = round(grouped_data['users'] / grouped_data['users'].sum() * 100, 2)\n",
    "grouped_data"
   ]
  },
  {
   "cell_type": "markdown",
   "id": "5356a7ac-bd6b-4f45-bc81-3d14ac4ff2f0",
   "metadata": {},
   "source": [
    "На диаграмме рассеяния отчетливо видно, что наибольшая часть пользователей совершает 1 покупку, и значительно меньше 2 покупки.\n",
    "Наименьшая часть покупок приходится на более чем 2 покупки, где максимальным количеством покупок являются рекордные 11."
   ]
  },
  {
   "cell_type": "markdown",
   "id": "b01f3edb-f11c-4445-b6b4-dc5ed0b2cd05",
   "metadata": {},
   "source": [
    "## 95-й и 99-й перцентили количества заказов на пользователя."
   ]
  },
  {
   "cell_type": "code",
   "execution_count": 36,
   "id": "9752380a-63a1-46a7-9443-80d6cff6fefc",
   "metadata": {},
   "outputs": [
    {
     "name": "stdout",
     "output_type": "stream",
     "text": [
      "[2. 4.]\n"
     ]
    }
   ],
   "source": [
    "print(np.percentile(data['orders'], [95, 99]))"
   ]
  },
  {
   "cell_type": "markdown",
   "id": "542f7ffb-e600-4b38-8124-981272b5c2eb",
   "metadata": {},
   "source": [
    "В 95% случаях количество покупок от 1 до 2, и лишь 1% пользователей покупал более 4-ых раз.\n",
    "\n",
    "Пользователей стоит считать аномальными, которые совершали более чем 4 заказа. "
   ]
  },
  {
   "cell_type": "markdown",
   "id": "db7aa6d7-d495-4138-987c-c77566d6f502",
   "metadata": {},
   "source": [
    "## Точечный график стоимостей заказов."
   ]
  },
  {
   "cell_type": "code",
   "execution_count": 37,
   "id": "7e73e60f-6f16-4dd4-8bc5-d39f02e94a4f",
   "metadata": {},
   "outputs": [
    {
     "data": {
      "image/png": "[encoded data removed]",
      "text/plain": [
       "<Figure size 800x500 with 1 Axes>"
      ]
     },
     "metadata": {},
     "output_type": "display_data"
    }
   ],
   "source": [
    "# визуализация данных\n",
    "x_values = pd.Series(range(0, len(orders['revenue'])))\n",
    "plt.figure(figsize=(8,5))\n",
    "plt.scatter(x_values, orders['revenue'], marker='.')\n",
    "plt.grid(True)\n",
    "\n",
    "# именование графика и осей\n",
    "plt.title('Точечный график стоимостей заказов')\n",
    "plt.xlabel('Количество')\n",
    "plt.ylabel('Стоимость заказов в миллионах у.е.');\n",
    "\n",
    "# настройки меток оси x и y\n",
    "plt.yticks(np.arange(0, 1400000, step=100000));\n",
    "plt.xticks(np.arange(0, 1300, step=100));"
   ]
  },
  {
   "cell_type": "markdown",
   "id": "939ac860-c66e-4476-8274-a50d0c189e2a",
   "metadata": {},
   "source": [
    "Точечный график стоимостей заказов показывает, что в данных имеются очевидные два выброса, находящиеся очень далеко от всей \"массы\" стоимостей. Также по этому графику сложно определить"
   ]
  },
  {
   "cell_type": "markdown",
   "id": "a471f892-52ec-4517-8d86-9741c5079f21",
   "metadata": {},
   "source": [
    "## 95-й и 99-й перцентили стоимости заказов"
   ]
  },
  {
   "cell_type": "code",
   "execution_count": 38,
   "id": "b58cd0c8-4283-48de-b87b-ecd18e872d76",
   "metadata": {},
   "outputs": [
    {
     "name": "stdout",
     "output_type": "stream",
     "text": [
      "[28000.  58233.2]\n"
     ]
    }
   ],
   "source": [
    "print(np.percentile(orders['revenue'], [95, 99]))"
   ]
  },
  {
   "cell_type": "markdown",
   "id": "94af8053-4ac9-4fff-869d-cde6640c924c",
   "metadata": {},
   "source": [
    "В 95% случаях стоимость заказа не превышала 28000 у.е., и лишь 1% заказов имело стоимость выше 58233.2 у.е.\n",
    "\n",
    "Определив 95-й и 99-й перцентили стоимости заказов, мы можем подробнее изучить точечный график стоимостей заказов исключив аномалии (возьмём за верхнюю границу значение 95-ого перцентиля):"
   ]
  },
  {
   "cell_type": "code",
   "execution_count": 39,
   "id": "088d38e8-e2b8-48ec-8748-df6ac83770a0",
   "metadata": {},
   "outputs": [
    {
     "data": {
      "image/png": "[encoded data removed]",
      "text/plain": [
       "<Figure size 800x500 with 1 Axes>"
      ]
     },
     "metadata": {},
     "output_type": "display_data"
    }
   ],
   "source": [
    "# фильтрация данных\n",
    "filtered_orders = orders.loc[orders['revenue'] <= 28000]\n",
    "x_filt_values = pd.Series(range(0, len(filtered_orders['revenue'])))\n",
    "\n",
    "# визуализация данных\n",
    "plt.figure(figsize=(8,5))\n",
    "plt.scatter(x_filt_values, filtered_orders['revenue'], marker='.')\n",
    "plt.grid(True)\n",
    "\n",
    "# именование графика и осей\n",
    "plt.title('Точечный график стоимостей заказов')\n",
    "plt.xlabel('Количество заказов')\n",
    "plt.ylabel('Стоимость заказов в у.е.');\n",
    "\n",
    "# настройки меток оси x и y\n",
    "plt.yticks(np.arange(0, 30000, step=2000))\n",
    "plt.xticks(np.arange(0, 1300, step=100));"
   ]
  },
  {
   "cell_type": "markdown",
   "id": "125a3877-da2b-4269-87e3-803424ac3d52",
   "metadata": {},
   "source": [
    "Из полученной диаграммы рассеяния можно сказать, что большая часть заказов приходится на стоимость от 0 до 6000 у.е.\n",
    "\n",
    "Проверим предположение."
   ]
  },
  {
   "cell_type": "code",
   "execution_count": 40,
   "id": "5fe5dd7d-bcfd-4b15-857a-a43b94d4bc49",
   "metadata": {},
   "outputs": [
    {
     "data": {
      "text/plain": [
       "count    1137.00\n",
       "mean     5168.15\n",
       "std      5831.00\n",
       "min        50.00\n",
       "25%      1188.00\n",
       "50%      2750.00\n",
       "75%      6716.00\n",
       "max     27985.00\n",
       "Name: revenue, dtype: float64"
      ]
     },
     "execution_count": 40,
     "metadata": {},
     "output_type": "execute_result"
    }
   ],
   "source": [
    "filtered_orders['revenue'].describe()"
   ]
  },
  {
   "cell_type": "markdown",
   "id": "b3db0f71-cb90-44c4-97d2-1e774e34afdb",
   "metadata": {},
   "source": [
    "Действительно, большая часть заказов находится в промежутке до ~7000 у.е. за единицу. Медианное значение при таком разбросе данных является более точным, в установлении среднего значения, и является ~2750 y.e. за единицу товара."
   ]
  },
  {
   "cell_type": "markdown",
   "id": "d16604b3-470e-4684-8c93-86bf41102330",
   "metadata": {},
   "source": [
    "## Статистическая значимость различий в среднем количестве заказов на посетителя"
   ]
  },
  {
   "cell_type": "markdown",
   "id": "6bd20122-1c89-4aa9-a662-8a4be90d3ade",
   "metadata": {},
   "source": [
    "На основе графиков среднего количества заказов на посетителя видно, что распределения данных не являются нормальными. В таких случаях целесообразно использовать непараметрические методы анализа. Для сравнения двух независимых выборок, когда данные не соответствуют нормальному распределению, применяют тест Манна-Уитни.\n",
    "\n",
    "Непараметрический тест:\n",
    "1. **Тип теста**: Непараметрический\n",
    "2. **Гипотеза**: Двусторонняя (A ≠ B)\n",
    "3. **Тест**: Тест Манна-Уитни\n",
    "\n",
    "На основе исходных данных сформулируем нулевую и альтернативную гипотезы:\n",
    "\n",
    "- **Нулевая гипотеза (H₀)**:  **Нет** статистически значимых различий в среднем количестве заказов на посетителя между группами A и B по «сырым» данным.\n",
    "- **Альтернативная гипотеза (H₁)**:  **Есть** статистически значимые различия в среднем количестве заказов на посетителя между группами A и B по «сырым» данным.\n",
    "\n",
    "Установим критический уровень статистической значимости 5%\n",
    "\n",
    "Теперь проведём проверку гипотез:"
   ]
  },
  {
   "cell_type": "code",
   "execution_count": 41,
   "id": "9b5e7d27-409d-41d6-9a66-bdd5c147a326",
   "metadata": {},
   "outputs": [],
   "source": [
    "# сгруппируем данные по группе A\n",
    "ordersByUsersA = (\n",
    "    orders[orders['group'] == 'A']\n",
    "    .groupby('visitorid', as_index=False)\n",
    "    .agg({'transactionid' : pd.Series.nunique})\n",
    ")\n",
    "ordersByUsersA.columns = ['userid', 'orders']\n",
    "\n",
    "# сгруппируем данные по группе B\n",
    "ordersByUsersB = (\n",
    "    orders[orders['group'] == 'B']\n",
    "    .groupby('visitorid', as_index=False)\n",
    "    .agg({'transactionid' : pd.Series.nunique})\n",
    ")\n",
    "\n",
    "ordersByUsersB.columns = ['userid', 'orders']\n",
    "\n",
    "sampleA = pd.concat([ordersByUsersA['orders'], pd.Series(0, index=np.arange(visitorsAggregated[visitorsAggregated['group']=='A']['visitors'].max() - len(ordersByUsersA['orders'])), name = 'orders')], axis=0)\n",
    "sampleB = pd.concat([ordersByUsersB['orders'], pd.Series(0, index=np.arange(visitorsAggregated[visitorsAggregated['group']=='B']['visitors'].max() - len(ordersByUsersB['orders'])), name = 'orders')], axis=0)"
   ]
  },
  {
   "cell_type": "code",
   "execution_count": 42,
   "id": "77544ae4-643a-4de3-bb9f-054d65d022ee",
   "metadata": {},
   "outputs": [
    {
     "name": "stdout",
     "output_type": "stream",
     "text": [
      "P-значение: 0.016792355056752608\n",
      "\n",
      "Есть статистически значимые различия в среднем количестве заказов на посетителя между группами.\n",
      "\n",
      "Отличие среднего числа заказов по отношению группы B к группе А: 0.138\n"
     ]
    }
   ],
   "source": [
    "# татистическая значимость различий между группами\n",
    "stat, p_value = stats.mannwhitneyu(sampleA, sampleB)\n",
    "print(f'P-значение: {p_value}\\n')\n",
    "\n",
    "# проверка на статистическую значимость\n",
    "if p_value < 0.05:\n",
    "    print('Есть статистически значимые различия в среднем количестве заказов на посетителя между группами.\\n')\n",
    "else:\n",
    "    print('Нет статистически значимых различий в среднем количестве заказов на посетителя между группами.\\n')\n",
    "\n",
    "difference = sampleB.mean()/sampleA.mean() - 1\n",
    "print(f'Отличие среднего числа заказов по отношению группы B к группе А: {round(difference, 3)}')"
   ]
  },
  {
   "cell_type": "markdown",
   "id": "20705bd0-c370-4b82-930c-bd1ea372efa5",
   "metadata": {},
   "source": [
    "1. Полученное p-value **1.6%** меньше уровня статистической значимости **5%**, следовательно нулевая гипотеза должна быть отвергнута. \n",
    "\n",
    "2. Таким образом, мы можем сделать вывод, что существуют статистически значимые различия в среднем количестве заказов на посетителя между группами A и B по \"сырым\" данным.\n",
    "\n",
    "3. Кроме того, анализ показал, что среднее количество заказов на посетителя в группе B на 13.8% выше, чем в группе A. Это свидетельствует о том, что изменения, связанные с группой B, привели к увеличению количества заказов."
   ]
  },
  {
   "cell_type": "markdown",
   "id": "3296285d-247e-4691-9184-ea43b61de954",
   "metadata": {},
   "source": [
    "## Статистическая значимость различий в среднем чеке заказа между группами"
   ]
  },
  {
   "cell_type": "markdown",
   "id": "9e3fde63-b7d9-43f2-8c91-aa59fe43caf6",
   "metadata": {},
   "source": [
    "На основе исходных данных сформулируем нулевую и альтернативную гипотезы:\n",
    "\n",
    "- **Нулевая гипотеза (H₀)**:  **Нет** статистически значимых различий в среднем чеке заказа между группами A и B по «сырым» данным.\n",
    "- **Альтернативная гипотеза (H₁)**:  **Есть** статистически значимые различия в среднем чеке заказа между группами A и B по «сырым» данным.\n",
    "\n",
    "Установим критический уровень статистической значимости на уровне 5% (α = 0.05).\n",
    "\n",
    "Теперь проведём проверку гипотез:"
   ]
  },
  {
   "cell_type": "code",
   "execution_count": 43,
   "id": "55678793-4ff1-44f5-9d7a-effd66324d31",
   "metadata": {},
   "outputs": [
    {
     "name": "stdout",
     "output_type": "stream",
     "text": [
      "p-значение: 0.7292909855432458\n",
      "\n",
      "Нет статистически значимых различий в среднем чеке заказа между группами.\n",
      "\n",
      "Отличие среднего чека заказов по отношению группы B к группе А: 0.259\n"
     ]
    }
   ],
   "source": [
    "# средний чек по группам\n",
    "revenueA = orders[orders['group'] == 'A']['revenue']\n",
    "revenueB = orders[orders['group'] == 'B']['revenue']\n",
    "\n",
    "# статистическая значимость различий среднего чека между группами\n",
    "stat, p_value = stats.mannwhitneyu(revenueA, revenueB)\n",
    "print(f'p-значение: {p_value}\\n')\n",
    "\n",
    "# проверка на статистическую значимость\n",
    "if p_value < 0.05:\n",
    "    print('Есть статистически значимые различия в среднем чеке заказа между группами.\\n')\n",
    "else:\n",
    "    print('Нет статистически значимых различий в среднем чеке заказа между группами.\\n')\n",
    "\n",
    "# относительный прирост среднего чека заказа между группами\n",
    "relative_increase = revenueB.mean() / revenueA.mean() - 1\n",
    "print(f'Отличие среднего чека заказов по отношению группы B к группе А: {round(relative_increase, 3)}')"
   ]
  },
  {
   "cell_type": "markdown",
   "id": "737b5c79-b7bb-4742-9447-b9ec3de57d71",
   "metadata": {},
   "source": [
    "1. Полученное p-value **7.3%** выше уровня статистической значимости **5%**, следовательно нулевая гипотеза не отвергнута, а альтернативная отвергнута.\n",
    "\n",
    "2. Отличие среднего чека заказов по отношению группы B к группе A составляет **25.9%**, но это различие не является статистически значимым."
   ]
  },
  {
   "cell_type": "markdown",
   "id": "c6f33529-1206-47e1-9cc0-d72fa347b80d",
   "metadata": {},
   "source": [
    "## Статистическая значимость различий в среднем количестве заказов на посетителя"
   ]
  },
  {
   "cell_type": "markdown",
   "id": "dd99db7b-a460-47ff-9cb0-791772f8ecff",
   "metadata": {},
   "source": [
    "### Фильтрация данных"
   ]
  },
  {
   "cell_type": "markdown",
   "id": "a3edd754-0890-4e03-8fe4-329248d71816",
   "metadata": {},
   "source": [
    "В предыдущих расчётах были установлены 95-й и 99-й перцентили для среднего чека и среднего количества заказов:\n",
    "\n",
    "1. Средний чек:\n",
    "   - 99-й = 58233.20 y.e.\n",
    "   - 95-й = 28000 y.e.\n",
    "2. Среднего количество заказов:\n",
    "   - 99-й = 4 заказа\n",
    "   - 95-й = 2 заказа\n",
    "  \n",
    "Примем за аномальных пользователей тех, кто совершил выше 4 заказов или совершил заказы выше 28000 у.е.."
   ]
  },
  {
   "cell_type": "code",
   "execution_count": 44,
   "id": "fbf121cc-438f-4e81-810f-a2bea7bfe8b7",
   "metadata": {},
   "outputs": [
    {
     "data": {
      "text/plain": [
       "1099    148427295\n",
       "928     204675465\n",
       "684     358944393\n",
       "648     382846391\n",
       "1189    393266494\n",
       "dtype: int64"
      ]
     },
     "metadata": {},
     "output_type": "display_data"
    },
    {
     "data": {
      "text/plain": [
       "59"
      ]
     },
     "execution_count": 44,
     "metadata": {},
     "output_type": "execute_result"
    }
   ],
   "source": [
    "usersWithManyOrders = pd.concat(\n",
    "    [\n",
    "        ordersByUsersA[ordersByUsersA['orders'] > np.percentile(data['orders'], 99)]['userid'],\n",
    "        ordersByUsersB[ordersByUsersB['orders'] > np.percentile(data['orders'], 99)]['userid']\n",
    "    ],\n",
    "    axis=0)\n",
    "\n",
    "usersWithExpensiveOrders = orders[orders['revenue'] > np.percentile(orders['revenue'], 95)]['visitorid']\n",
    "\n",
    "abnormalUsers = (\n",
    "    pd.concat([usersWithManyOrders, usersWithExpensiveOrders], axis=0)\n",
    "    .drop_duplicates()\n",
    "    .sort_values()\n",
    ")\n",
    "\n",
    "display(abnormalUsers.head(5))\n",
    "abnormalUsers.shape[0]"
   ]
  },
  {
   "cell_type": "markdown",
   "id": "b32ebabf-be8f-453c-8bb4-583219b46177",
   "metadata": {},
   "source": [
    "Всего 59 аномальных пользователей. "
   ]
  },
  {
   "cell_type": "code",
   "execution_count": 45,
   "id": "0507be10-def1-4b2c-96b1-13cf352c330f",
   "metadata": {},
   "outputs": [
    {
     "name": "stdout",
     "output_type": "stream",
     "text": [
      "Процентное соотношение удалённых пользователей от общего количества: 0.057\n"
     ]
    }
   ],
   "source": [
    "uniq = orders['visitorid'].nunique()\n",
    "print(f'Процентное соотношение удалённых пользователей от общего количества: {round(abnormalUsers.shape[0] / uniq, 3)}')"
   ]
  },
  {
   "cell_type": "markdown",
   "id": "c023a667-9164-49a6-8f9c-38ff28147838",
   "metadata": {},
   "source": [
    "При фильтрации данных было удалено примерно 5.7% пользователей."
   ]
  },
  {
   "cell_type": "markdown",
   "id": "1a30a60e-2496-4f24-a2d9-f0fd20af855e",
   "metadata": {},
   "source": [
    "### Формулирование и проверка гипотез"
   ]
  },
  {
   "cell_type": "markdown",
   "id": "90e8e7b1-7723-4959-939f-863f86c4d0e4",
   "metadata": {},
   "source": [
    "На основе обновлённых отфильтрованных данных сформулируем гипотезы:\n",
    "\n",
    "- **Нулевая гипотеза (H₀)**: Нет статистически значимых различий в среднем количестве заказов между группами A и B по отфильтрованным данным.\n",
    "- **Альтернативная гипотеза (H₁)**: Есть статистически значимые различия в среднем количестве заказов между группами A и B по отфильтрованным данным.\n",
    "\n",
    "Установим критический уровень статистической значимости на уровне 5% (α = 0.05).\n",
    "\n",
    "Далее проведём проверку гипотез:"
   ]
  },
  {
   "cell_type": "code",
   "execution_count": 46,
   "id": "2c7bb284-e912-4aee-9ffe-5c0d64e081ce",
   "metadata": {},
   "outputs": [
    {
     "name": "stdout",
     "output_type": "stream",
     "text": [
      "P-значение: 0.018\n",
      "\n",
      "Есть статистически значимые различия в среднем количестве заказов на посетителя между группами.\n",
      "\n",
      "Отличие среднего числа заказов по отношению группы B к группе А: 0.145\n"
     ]
    }
   ],
   "source": [
    "# фильтрация данных группы A\n",
    "sampleA_filtered = pd.concat([\n",
    "    ordersByUsersA[np.logical_not(ordersByUsersA['userid'].isin(abnormalUsers))]['orders'],\n",
    "    pd.Series(0, index=np.arange(visitorsAggregated[visitorsAggregated['group']=='A']['visitors']\n",
    "                                 .max() - len(ordersByUsersA['orders'])), name='orders')\n",
    "], axis=0)\n",
    "\n",
    "# фильтрация данных группы B\n",
    "sampleB_filtered = pd.concat([\n",
    "    ordersByUsersB[np.logical_not(ordersByUsersB['userid'].isin(abnormalUsers))]['orders'],\n",
    "    pd.Series(0, index=np.arange(visitorsAggregated[visitorsAggregated['group']=='B']['visitors']\n",
    "                                 .max() - len(ordersByUsersB['orders'])), name='orders')\n",
    "], axis=0)\n",
    "\n",
    "\n",
    "# статистическая значимость различий между группами\n",
    "stat, p_value = stats.mannwhitneyu(sampleA_filtered, sampleB_filtered)\n",
    "print(f'P-значение: {round(p_value, 3)}\\n')\n",
    "\n",
    "# проверка на статистическую значимость\n",
    "if p_value < 0.05:\n",
    "    print('Есть статистически значимые различия в среднем количестве заказов на посетителя между группами.\\n')\n",
    "else:\n",
    "    print('Нет статистически значимых различий в среднем количестве заказов на посетителя между группами.\\n')\n",
    "\n",
    "print(f'Отличие среднего числа заказов по отношению группы B к группе А: {round((sampleB_filtered.mean()/sampleA_filtered.mean() -1), 3)}')"
   ]
  },
  {
   "cell_type": "markdown",
   "id": "1e3f2bdd-ed03-4c28-be11-bb96867d4c17",
   "metadata": {},
   "source": [
    "1. Полученное p-value **1.8%** меньше уровня статистической значимости **5%**, следовательно нулевая гипотеза говорящая об отсутствии статистически значимых отличий должна быть отвергнута. \n",
    "\n",
    "2. Исходя из полученных данных можно сделать вывод, что **фильтрация данных незначительно повлияла на результат** теста Манна-Уитни, и **статистически значимые различия** в среднем количестве заказов на посетителя между группами **присутствуют**.\n",
    "\n",
    "3. Кроме того, анализ показал, что среднее количество заказов на посетителя в группе B на 14.5% выше, чем в группе A. Процент группы B после фильтрации данных выше, чем до фильтрации, что говорит о большей эффективности группы B не учитывая аномальных пользователей."
   ]
  },
  {
   "cell_type": "markdown",
   "id": "1cf7ad8f-206e-498e-b269-e7811fb0d492",
   "metadata": {},
   "source": [
    "## Cтатистическая значимость различий в среднем чеке заказа"
   ]
  },
  {
   "cell_type": "markdown",
   "id": "64e461e0-47fa-413c-b7c0-4c01b1f81c20",
   "metadata": {},
   "source": [
    "На основе обновлённых отфильтрованных данных сформулируем гипотезы:\n",
    "\n",
    "- **Нулевая гипотеза (H₀)**: Нет статистически значимых различий в среднем чеке заказов между группами A и B по отфильтрованным данным.\n",
    "- **Альтернативная гипотеза (H₁)**: Есть статистически значимые различия в среднем чеке заказов между группами A и B по отфильтрованным данным.\n",
    "\n",
    "Установим критический уровень статистической значимости на уровне 5% (α = 0.05).\n",
    "\n",
    "Далее проведём проверку гипотез:"
   ]
  },
  {
   "cell_type": "code",
   "execution_count": 47,
   "id": "72247381-7bec-4f3c-9b3a-47ac555eb379",
   "metadata": {},
   "outputs": [
    {
     "name": "stdout",
     "output_type": "stream",
     "text": [
      "p-значение: 0.961\n",
      "\n",
      "Нет статистически значимых различий в среднем чеке заказа между группами.\n",
      "\n",
      "Отличие среднего чека заказов по отношению группы B к группе А: -0.014\n"
     ]
    }
   ],
   "source": [
    "# отфильтрованные данные по группам\n",
    "filtered_revenueA = orders[np.logical_and(\n",
    "    orders['group'] == 'A', \n",
    "    np.logical_not(orders['visitorid'].isin(abnormalUsers)))]['revenue']\n",
    "\n",
    "filtered_revenueB = orders[np.logical_and(\n",
    "    orders['group'] == 'B', \n",
    "    np.logical_not(orders['visitorid'].isin(abnormalUsers)))]['revenue']\n",
    "\n",
    "# Статистическая значимость различий среднего чека между группами\n",
    "stat, p_value = stats.mannwhitneyu(filtered_revenueA, filtered_revenueB)\n",
    "print(f'p-значение: {round(p_value, 3)}\\n')\n",
    "\n",
    "# поверка на статистическую значимость\n",
    "if p_value < 0.05:\n",
    "    print('Есть статистически значимые различия в среднем чеке заказа между группами.\\n')\n",
    "else:\n",
    "    print('Нет статистически значимых различий в среднем чеке заказа между группами.\\n')\n",
    "\n",
    "# относительный прирост среднего чека заказа группы B к группе А\n",
    "relative_increase = filtered_revenueB.mean() / filtered_revenueA.mean() - 1\n",
    "print(f'Отличие среднего чека заказов по отношению группы B к группе А: {round(relative_increase, 3)}')"
   ]
  },
  {
   "cell_type": "markdown",
   "id": "581018cb-16cb-446a-bbdb-3595e87e326e",
   "metadata": {},
   "source": [
    "1. Полученное p-value **9.6%** выше уровня статистической значимости **5%**, следовательно альтернативная гипотеза, говорящая о присутствии значимых различий должна быть отвергнута. \n",
    "\n",
    "2. До фильтрации данных p-value равнялось **7.3%**, что говорит о том, что **фильтрация данных незначительно повлияла на результат** теста Манна-Уитни.\n",
    "\n",
    "3. До фильтрации данных отличие среднего заказа между группой B к группе A равнялось **25.9%** в сторону группы B, но после фильтрации составило отрицательное значение - **-1.4%**. В любом случае, это значение не имеет статистической значимости."
   ]
  },
  {
   "cell_type": "markdown",
   "id": "8401e380-3199-4d18-98ba-ef95c80950d8",
   "metadata": {},
   "source": [
    "## Решение по результатам теста"
   ]
  },
  {
   "cell_type": "markdown",
   "id": "bf90f371-a9f5-4119-8295-e43097118e1d",
   "metadata": {},
   "source": [
    "Выводы полученные на основе проверки гипотез:\n",
    "\n",
    "1. **Конверсия** в группе B **выше**, чем в группе A как по сырым, так и по отфильтрованным данным. Фильтрация данных немного увеличила этот прирост, что говорит о большей устойчивости результатов группы B.\n",
    "2. **Средний чек** в группах A и B практически **не изменился** после фильтрации данных. Как по сырым, так и по отфильтрованным данным, статистически значимых различий в среднем чеке между группами нет."
   ]
  },
  {
   "cell_type": "markdown",
   "id": "2c2c8abf-2a3d-4496-8896-6962b135e9b4",
   "metadata": {},
   "source": [
    "# Вывод"
   ]
  },
  {
   "cell_type": "markdown",
   "id": "1d47a7d0-abdb-483f-b7b2-7a030ce580a6",
   "metadata": {},
   "source": [
    "1. Исходя из первой части работы, можно сказать, что лидирующей гипотезой для проведения тестов является гипотеза выявленная методом `RICE` - Гипотеза 2 - **\"Добавить блоки рекомендаций товаров на сайт интернет магазина, чтобы повысить конверсию и средний чек заказа\"**\n",
    "2. Одной из причин роста среднего чека **группы B** является введение **акции**, результатом которой стал резкий скачок выручки. Стоит обратить внимание на результаты этого события и взять во внимание идею о проведении новых значимых событий или акций.\n",
    "3. Фильтрация данных показала, что аномальные заказы могут влиять на результаты анализа, хоть и конкретно данном случае фильтрация не повлияла на исход гипотез.\n",
    "4. В результате анализа среднего чека и конверсии групп A/B-теста было выявлено, что средний чек в группах примерно одинаков, а  конверсия группы B на 17% больше группы A. Таким образом однозначным победителем A/B-теста является **группа B** и проведение теста можно завершать."
   ]
  }
 ],
 "metadata": {
  "ExecuteTimeLog": [
   {
    "duration": 1194,
    "start_time": "2024-09-02T17:46:20.142Z"
   },
   {
    "duration": 233,
    "start_time": "2024-09-02T17:46:21.338Z"
   },
   {
    "duration": 4,
    "start_time": "2024-09-02T17:46:21.572Z"
   },
   {
    "duration": 6,
    "start_time": "2024-09-02T17:46:21.579Z"
   },
   {
    "duration": 55,
    "start_time": "2024-09-02T17:46:21.587Z"
   },
   {
    "duration": 35,
    "start_time": "2024-09-02T17:46:21.643Z"
   },
   {
    "duration": 60,
    "start_time": "2024-09-02T17:46:21.679Z"
   },
   {
    "duration": 8,
    "start_time": "2024-09-02T17:46:21.741Z"
   },
   {
    "duration": 8,
    "start_time": "2024-09-02T17:46:21.751Z"
   },
   {
    "duration": 17,
    "start_time": "2024-09-02T17:46:21.762Z"
   },
   {
    "duration": 15,
    "start_time": "2024-09-02T17:46:21.808Z"
   },
   {
    "duration": 24,
    "start_time": "2024-09-02T17:46:21.825Z"
   },
   {
    "duration": 7,
    "start_time": "2024-09-02T17:46:21.851Z"
   },
   {
    "duration": 17,
    "start_time": "2024-09-02T17:46:21.860Z"
   },
   {
    "duration": 39,
    "start_time": "2024-09-02T17:46:21.878Z"
   },
   {
    "duration": 6,
    "start_time": "2024-09-02T17:46:21.920Z"
   },
   {
    "duration": 20,
    "start_time": "2024-09-02T17:46:21.928Z"
   },
   {
    "duration": 6,
    "start_time": "2024-09-02T17:46:21.950Z"
   },
   {
    "duration": 7,
    "start_time": "2024-09-02T17:46:21.957Z"
   },
   {
    "duration": 207,
    "start_time": "2024-09-02T17:46:21.965Z"
   },
   {
    "duration": 134,
    "start_time": "2024-09-02T17:46:22.174Z"
   },
   {
    "duration": 18,
    "start_time": "2024-09-02T17:46:22.310Z"
   },
   {
    "duration": 6,
    "start_time": "2024-09-02T17:46:22.329Z"
   },
   {
    "duration": 446,
    "start_time": "2024-09-02T17:46:22.337Z"
   },
   {
    "duration": 325,
    "start_time": "2024-09-02T17:46:22.785Z"
   },
   {
    "duration": 16,
    "start_time": "2024-09-02T17:46:23.112Z"
   },
   {
    "duration": 10,
    "start_time": "2024-09-02T17:46:23.130Z"
   },
   {
    "duration": 492,
    "start_time": "2024-09-02T17:46:23.145Z"
   },
   {
    "duration": 25,
    "start_time": "2024-09-02T17:46:23.639Z"
   },
   {
    "duration": 412,
    "start_time": "2024-09-02T17:46:23.666Z"
   },
   {
    "duration": 32,
    "start_time": "2024-09-02T17:46:24.080Z"
   },
   {
    "duration": 464,
    "start_time": "2024-09-02T17:46:24.114Z"
   },
   {
    "duration": 165,
    "start_time": "2024-09-02T17:46:24.579Z"
   },
   {
    "duration": 13,
    "start_time": "2024-09-02T17:46:24.746Z"
   },
   {
    "duration": 4,
    "start_time": "2024-09-02T17:46:24.761Z"
   },
   {
    "duration": 219,
    "start_time": "2024-09-02T17:46:24.766Z"
   },
   {
    "duration": 4,
    "start_time": "2024-09-02T17:46:24.987Z"
   },
   {
    "duration": 320,
    "start_time": "2024-09-02T17:46:24.992Z"
   },
   {
    "duration": 8,
    "start_time": "2024-09-02T17:46:25.313Z"
   },
   {
    "duration": 170,
    "start_time": "2024-09-02T17:46:25.324Z"
   },
   {
    "duration": 27,
    "start_time": "2024-09-02T17:46:25.496Z"
   },
   {
    "duration": 12,
    "start_time": "2024-09-02T17:46:25.525Z"
   },
   {
    "duration": 14,
    "start_time": "2024-09-02T17:46:25.539Z"
   },
   {
    "duration": 4,
    "start_time": "2024-09-02T17:46:25.555Z"
   },
   {
    "duration": 72,
    "start_time": "2024-09-02T17:46:25.561Z"
   },
   {
    "duration": 11,
    "start_time": "2024-09-02T17:46:25.635Z"
   },
   {
    "duration": 28,
    "start_time": "2024-09-02T17:56:20.267Z"
   },
   {
    "duration": 218,
    "start_time": "2024-09-02T17:57:02.216Z"
   },
   {
    "duration": 52,
    "start_time": "2024-09-03T14:35:08.429Z"
   },
   {
    "duration": 1469,
    "start_time": "2024-09-03T14:35:14.183Z"
   },
   {
    "duration": 203,
    "start_time": "2024-09-03T14:35:15.654Z"
   },
   {
    "duration": 3,
    "start_time": "2024-09-03T14:35:15.859Z"
   },
   {
    "duration": 5,
    "start_time": "2024-09-03T14:35:15.864Z"
   },
   {
    "duration": 62,
    "start_time": "2024-09-03T14:35:15.871Z"
   },
   {
    "duration": 72,
    "start_time": "2024-09-03T14:35:15.934Z"
   },
   {
    "duration": 37,
    "start_time": "2024-09-03T14:35:16.008Z"
   },
   {
    "duration": 6,
    "start_time": "2024-09-03T14:35:16.048Z"
   },
   {
    "duration": 12,
    "start_time": "2024-09-03T14:35:16.056Z"
   },
   {
    "duration": 22,
    "start_time": "2024-09-03T14:35:16.107Z"
   },
   {
    "duration": 10,
    "start_time": "2024-09-03T14:35:16.130Z"
   },
   {
    "duration": 48,
    "start_time": "2024-09-03T14:35:16.142Z"
   },
   {
    "duration": 10,
    "start_time": "2024-09-03T14:35:16.192Z"
   },
   {
    "duration": 19,
    "start_time": "2024-09-03T14:35:16.205Z"
   },
   {
    "duration": 13,
    "start_time": "2024-09-03T14:35:16.226Z"
   },
   {
    "duration": 10,
    "start_time": "2024-09-03T14:35:16.241Z"
   },
   {
    "duration": 19,
    "start_time": "2024-09-03T14:35:16.253Z"
   },
   {
    "duration": 32,
    "start_time": "2024-09-03T14:35:16.274Z"
   },
   {
    "duration": 6,
    "start_time": "2024-09-03T14:35:16.307Z"
   },
   {
    "duration": 191,
    "start_time": "2024-09-03T14:35:16.315Z"
   },
   {
    "duration": 141,
    "start_time": "2024-09-03T14:35:16.507Z"
   },
   {
    "duration": 17,
    "start_time": "2024-09-03T14:35:16.649Z"
   },
   {
    "duration": 6,
    "start_time": "2024-09-03T14:35:16.668Z"
   },
   {
    "duration": 481,
    "start_time": "2024-09-03T14:35:16.676Z"
   },
   {
    "duration": 329,
    "start_time": "2024-09-03T14:35:17.159Z"
   },
   {
    "duration": 25,
    "start_time": "2024-09-03T14:35:17.490Z"
   },
   {
    "duration": 11,
    "start_time": "2024-09-03T14:35:17.517Z"
   },
   {
    "duration": 456,
    "start_time": "2024-09-03T14:35:17.533Z"
   },
   {
    "duration": 28,
    "start_time": "2024-09-03T14:35:17.991Z"
   },
   {
    "duration": 368,
    "start_time": "2024-09-03T14:35:18.022Z"
   },
   {
    "duration": 25,
    "start_time": "2024-09-03T14:35:18.392Z"
   },
   {
    "duration": 438,
    "start_time": "2024-09-03T14:35:18.419Z"
   },
   {
    "duration": 172,
    "start_time": "2024-09-03T14:35:18.859Z"
   },
   {
    "duration": 17,
    "start_time": "2024-09-03T14:35:19.033Z"
   },
   {
    "duration": 9,
    "start_time": "2024-09-03T14:35:19.051Z"
   },
   {
    "duration": 245,
    "start_time": "2024-09-03T14:35:19.062Z"
   },
   {
    "duration": 5,
    "start_time": "2024-09-03T14:35:19.309Z"
   },
   {
    "duration": 313,
    "start_time": "2024-09-03T14:35:19.316Z"
   },
   {
    "duration": 8,
    "start_time": "2024-09-03T14:35:19.631Z"
   },
   {
    "duration": 158,
    "start_time": "2024-09-03T14:35:19.641Z"
   },
   {
    "duration": 29,
    "start_time": "2024-09-03T14:35:19.804Z"
   },
   {
    "duration": 11,
    "start_time": "2024-09-03T14:35:19.835Z"
   },
   {
    "duration": 14,
    "start_time": "2024-09-03T14:35:19.848Z"
   },
   {
    "duration": 4,
    "start_time": "2024-09-03T14:35:19.864Z"
   },
   {
    "duration": 32,
    "start_time": "2024-09-03T14:35:19.906Z"
   },
   {
    "duration": 12,
    "start_time": "2024-09-03T14:35:19.940Z"
   },
   {
    "duration": 165,
    "start_time": "2024-09-03T14:35:57.785Z"
   },
   {
    "duration": 70,
    "start_time": "2024-09-03T14:36:07.755Z"
   },
   {
    "duration": 28,
    "start_time": "2024-09-03T14:36:13.753Z"
   },
   {
    "duration": 28,
    "start_time": "2024-09-03T14:36:29.136Z"
   },
   {
    "duration": 78,
    "start_time": "2024-09-03T14:37:00.472Z"
   },
   {
    "duration": 10,
    "start_time": "2024-09-03T14:37:03.569Z"
   },
   {
    "duration": 13,
    "start_time": "2024-09-03T14:37:24.041Z"
   },
   {
    "duration": 4,
    "start_time": "2024-09-03T14:37:34.164Z"
   },
   {
    "duration": 33,
    "start_time": "2024-09-03T14:37:44.025Z"
   },
   {
    "duration": 11,
    "start_time": "2024-09-03T14:37:57.250Z"
   },
   {
    "duration": 6,
    "start_time": "2024-09-03T14:41:08.051Z"
   },
   {
    "duration": 6,
    "start_time": "2024-09-03T14:41:34.625Z"
   },
   {
    "duration": 1204,
    "start_time": "2024-09-03T14:42:18.673Z"
   },
   {
    "duration": 338,
    "start_time": "2024-09-03T14:42:19.879Z"
   },
   {
    "duration": 3,
    "start_time": "2024-09-03T14:42:20.219Z"
   },
   {
    "duration": 14,
    "start_time": "2024-09-03T14:42:20.225Z"
   },
   {
    "duration": 71,
    "start_time": "2024-09-03T14:42:20.240Z"
   },
   {
    "duration": 36,
    "start_time": "2024-09-03T14:42:20.312Z"
   },
   {
    "duration": 92,
    "start_time": "2024-09-03T14:42:20.350Z"
   },
   {
    "duration": 31,
    "start_time": "2024-09-03T14:42:20.444Z"
   },
   {
    "duration": 16,
    "start_time": "2024-09-03T14:42:20.477Z"
   },
   {
    "duration": 23,
    "start_time": "2024-09-03T14:42:20.496Z"
   },
   {
    "duration": 36,
    "start_time": "2024-09-03T14:42:20.520Z"
   },
   {
    "duration": 32,
    "start_time": "2024-09-03T14:42:20.558Z"
   },
   {
    "duration": 9,
    "start_time": "2024-09-03T14:42:20.592Z"
   },
   {
    "duration": 17,
    "start_time": "2024-09-03T14:42:20.603Z"
   },
   {
    "duration": 13,
    "start_time": "2024-09-03T14:42:20.622Z"
   },
   {
    "duration": 19,
    "start_time": "2024-09-03T14:42:20.637Z"
   },
   {
    "duration": 27,
    "start_time": "2024-09-03T14:42:20.658Z"
   },
   {
    "duration": 7,
    "start_time": "2024-09-03T14:42:20.687Z"
   },
   {
    "duration": 16,
    "start_time": "2024-09-03T14:42:20.695Z"
   },
   {
    "duration": 236,
    "start_time": "2024-09-03T14:42:20.713Z"
   },
   {
    "duration": 124,
    "start_time": "2024-09-03T14:42:20.951Z"
   },
   {
    "duration": 16,
    "start_time": "2024-09-03T14:42:21.076Z"
   },
   {
    "duration": 5,
    "start_time": "2024-09-03T14:42:21.106Z"
   },
   {
    "duration": 20,
    "start_time": "2024-09-03T14:42:21.113Z"
   },
   {
    "duration": 423,
    "start_time": "2024-09-03T14:42:21.135Z"
   },
   {
    "duration": 335,
    "start_time": "2024-09-03T14:42:21.560Z"
   },
   {
    "duration": 31,
    "start_time": "2024-09-03T14:42:21.896Z"
   },
   {
    "duration": 14,
    "start_time": "2024-09-03T14:42:21.931Z"
   },
   {
    "duration": 467,
    "start_time": "2024-09-03T14:42:21.947Z"
   },
   {
    "duration": 20,
    "start_time": "2024-09-03T14:42:22.415Z"
   },
   {
    "duration": 381,
    "start_time": "2024-09-03T14:42:22.436Z"
   },
   {
    "duration": 16,
    "start_time": "2024-09-03T14:42:22.819Z"
   },
   {
    "duration": 430,
    "start_time": "2024-09-03T14:42:22.836Z"
   },
   {
    "duration": 172,
    "start_time": "2024-09-03T14:42:23.268Z"
   },
   {
    "duration": 15,
    "start_time": "2024-09-03T14:42:23.441Z"
   },
   {
    "duration": 15,
    "start_time": "2024-09-03T14:42:23.458Z"
   },
   {
    "duration": 237,
    "start_time": "2024-09-03T14:42:23.474Z"
   },
   {
    "duration": 4,
    "start_time": "2024-09-03T14:42:23.712Z"
   },
   {
    "duration": 320,
    "start_time": "2024-09-03T14:42:23.718Z"
   },
   {
    "duration": 10,
    "start_time": "2024-09-03T14:42:24.040Z"
   },
   {
    "duration": 154,
    "start_time": "2024-09-03T14:42:24.052Z"
   },
   {
    "duration": 26,
    "start_time": "2024-09-03T14:42:24.208Z"
   },
   {
    "duration": 11,
    "start_time": "2024-09-03T14:42:24.235Z"
   },
   {
    "duration": 25,
    "start_time": "2024-09-03T14:42:24.247Z"
   },
   {
    "duration": 6,
    "start_time": "2024-09-03T14:42:24.274Z"
   },
   {
    "duration": 52,
    "start_time": "2024-09-03T14:42:24.282Z"
   },
   {
    "duration": 12,
    "start_time": "2024-09-03T14:42:24.335Z"
   },
   {
    "duration": 1383,
    "start_time": "2024-09-03T19:17:13.887Z"
   },
   {
    "duration": 216,
    "start_time": "2024-09-03T19:17:15.272Z"
   },
   {
    "duration": 3,
    "start_time": "2024-09-03T19:17:15.489Z"
   },
   {
    "duration": 14,
    "start_time": "2024-09-03T19:17:15.495Z"
   },
   {
    "duration": 51,
    "start_time": "2024-09-03T19:17:15.510Z"
   },
   {
    "duration": 40,
    "start_time": "2024-09-03T19:17:15.563Z"
   },
   {
    "duration": 67,
    "start_time": "2024-09-03T19:17:15.604Z"
   },
   {
    "duration": 6,
    "start_time": "2024-09-03T19:17:15.673Z"
   },
   {
    "duration": 52,
    "start_time": "2024-09-03T19:17:15.681Z"
   },
   {
    "duration": 24,
    "start_time": "2024-09-03T19:17:15.736Z"
   },
   {
    "duration": 9,
    "start_time": "2024-09-03T19:17:15.762Z"
   },
   {
    "duration": 30,
    "start_time": "2024-09-03T19:17:15.773Z"
   },
   {
    "duration": 9,
    "start_time": "2024-09-03T19:17:15.805Z"
   },
   {
    "duration": 40,
    "start_time": "2024-09-03T19:17:15.816Z"
   },
   {
    "duration": 16,
    "start_time": "2024-09-03T19:17:15.858Z"
   },
   {
    "duration": 37,
    "start_time": "2024-09-03T19:17:15.876Z"
   },
   {
    "duration": 20,
    "start_time": "2024-09-03T19:17:15.915Z"
   },
   {
    "duration": 10,
    "start_time": "2024-09-03T19:17:15.937Z"
   },
   {
    "duration": 6,
    "start_time": "2024-09-03T19:17:15.948Z"
   },
   {
    "duration": 241,
    "start_time": "2024-09-03T19:17:15.955Z"
   },
   {
    "duration": 155,
    "start_time": "2024-09-03T19:17:16.198Z"
   },
   {
    "duration": 16,
    "start_time": "2024-09-03T19:17:16.355Z"
   },
   {
    "duration": 9,
    "start_time": "2024-09-03T19:17:16.372Z"
   },
   {
    "duration": 7,
    "start_time": "2024-09-03T19:17:16.382Z"
   },
   {
    "duration": 438,
    "start_time": "2024-09-03T19:17:16.391Z"
   },
   {
    "duration": 328,
    "start_time": "2024-09-03T19:17:16.831Z"
   },
   {
    "duration": 17,
    "start_time": "2024-09-03T19:17:17.161Z"
   },
   {
    "duration": 11,
    "start_time": "2024-09-03T19:17:17.181Z"
   },
   {
    "duration": 531,
    "start_time": "2024-09-03T19:17:17.194Z"
   },
   {
    "duration": 27,
    "start_time": "2024-09-03T19:17:17.726Z"
   },
   {
    "duration": 356,
    "start_time": "2024-09-03T19:17:17.754Z"
   },
   {
    "duration": 16,
    "start_time": "2024-09-03T19:17:18.112Z"
   },
   {
    "duration": 472,
    "start_time": "2024-09-03T19:17:18.129Z"
   },
   {
    "duration": 166,
    "start_time": "2024-09-03T19:17:18.602Z"
   },
   {
    "duration": 14,
    "start_time": "2024-09-03T19:17:18.770Z"
   },
   {
    "duration": 4,
    "start_time": "2024-09-03T19:17:18.786Z"
   },
   {
    "duration": 243,
    "start_time": "2024-09-03T19:17:18.792Z"
   },
   {
    "duration": 5,
    "start_time": "2024-09-03T19:17:19.036Z"
   },
   {
    "duration": 310,
    "start_time": "2024-09-03T19:17:19.042Z"
   },
   {
    "duration": 8,
    "start_time": "2024-09-03T19:17:19.354Z"
   },
   {
    "duration": 155,
    "start_time": "2024-09-03T19:17:19.363Z"
   },
   {
    "duration": 36,
    "start_time": "2024-09-03T19:17:19.520Z"
   },
   {
    "duration": 10,
    "start_time": "2024-09-03T19:17:19.558Z"
   },
   {
    "duration": 15,
    "start_time": "2024-09-03T19:17:19.569Z"
   },
   {
    "duration": 4,
    "start_time": "2024-09-03T19:17:19.586Z"
   },
   {
    "duration": 32,
    "start_time": "2024-09-03T19:17:19.591Z"
   },
   {
    "duration": 11,
    "start_time": "2024-09-03T19:17:19.653Z"
   }
  ],
  "kernelspec": {
   "display_name": "Python 3 (ipykernel)",
   "language": "python",
   "name": "python3"
  },
  "language_info": {
   "codemirror_mode": {
    "name": "ipython",
    "version": 3
   },
   "file_extension": ".py",
   "mimetype": "text/x-python",
   "name": "python",
   "nbconvert_exporter": "python",
   "pygments_lexer": "ipython3",
   "version": "3.9.19"
  },
  "toc": {
   "base_numbering": 1,
   "nav_menu": {},
   "number_sections": true,
   "sideBar": true,
   "skip_h1_title": true,
   "title_cell": "Table of Contents",
   "title_sidebar": "Contents",
   "toc_cell": false,
   "toc_position": {},
   "toc_section_display": true,
   "toc_window_display": false
  }
 },
 "nbformat": 4,
 "nbformat_minor": 5
}
